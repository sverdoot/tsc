{
 "cells": [
  {
   "cell_type": "code",
   "execution_count": 1,
   "metadata": {
    "executionInfo": {
     "elapsed": 2840,
     "status": "ok",
     "timestamp": 1630512394945,
     "user": {
      "displayName": "Liyi Zhang",
      "photoUrl": "https://lh3.googleusercontent.com/a-/AOh14Gh9V3hIAgWLKOIy-Olktu7QU6Q3a0l2eUzzAf2j=s64",
      "userId": "06658486172350999592"
     },
     "user_tz": -480
    },
    "id": "O_6-e1BylsCI"
   },
   "outputs": [
    {
     "name": "stderr",
     "output_type": "stream",
     "text": [
      "2022-04-22 15:37:11.984887: I tensorflow/core/platform/cpu_feature_guard.cc:142] This TensorFlow binary is optimized with oneAPI Deep Neural Network Library (oneDNN)to use the following CPU instructions in performance-critical operations:  SSE4.1 SSE4.2 AVX AVX2 FMA\n",
      "To enable them in other operations, rebuild TensorFlow with the appropriate compiler flags.\n",
      "2022-04-22 15:37:12.005976: I tensorflow/core/platform/profile_utils/cpu_utils.cc:104] CPU Frequency: 3699850000 Hz\n",
      "2022-04-22 15:37:12.006368: I tensorflow/compiler/xla/service/service.cc:168] XLA service 0x5616cc119120 initialized for platform Host (this does not guarantee that XLA will be used). Devices:\n",
      "2022-04-22 15:37:12.006387: I tensorflow/compiler/xla/service/service.cc:176]   StreamExecutor device (0): Host, Default Version\n"
     ]
    }
   ],
   "source": [
    "%load_ext autoreload\n",
    "%autoreload 2\n",
    "\n",
    "import pandas as pd\n",
    "import numpy as np\n",
    "import tensorflow as tf\n",
    "from tensorflow_probability import distributions as tfd\n",
    "import matplotlib.pyplot as plt\n",
    "import pickle\n",
    "from pathlib import Path\n",
    "\n",
    "import models"
   ]
  },
  {
   "cell_type": "code",
   "execution_count": 2,
   "metadata": {
    "executionInfo": {
     "elapsed": 46,
     "status": "ok",
     "timestamp": 1630512394977,
     "user": {
      "displayName": "Liyi Zhang",
      "photoUrl": "https://lh3.googleusercontent.com/a-/AOh14Gh9V3hIAgWLKOIy-Olktu7QU6Q3a0l2eUzzAf2j=s64",
      "userId": "06658486172350999592"
     },
     "user_tz": -480
    },
    "id": "itTV35fVlZM3"
   },
   "outputs": [],
   "source": [
    "cces = pd.read_csv('data/cces_df.csv', index_col=0)\n",
    "cces_all = pd.read_csv('data/cces_all_df.csv', index_col=0)\n",
    "cces_weighted = pd.read_csv('data/cces_weighted_df.csv', index_col=0)"
   ]
  },
  {
   "cell_type": "code",
   "execution_count": 3,
   "metadata": {
    "colab": {
     "base_uri": "https://localhost:8080/",
     "height": 419
    },
    "executionInfo": {
     "elapsed": 46,
     "status": "ok",
     "timestamp": 1630512394978,
     "user": {
      "displayName": "Liyi Zhang",
      "photoUrl": "https://lh3.googleusercontent.com/a-/AOh14Gh9V3hIAgWLKOIy-Olktu7QU6Q3a0l2eUzzAf2j=s64",
      "userId": "06658486172350999592"
     },
     "user_tz": -480
    },
    "id": "IJxA_kR_lZM5",
    "outputId": "635808a8-f709-4ad9-ac16-e4113830654d"
   },
   "outputs": [
    {
     "data": {
      "text/html": [
       "<div>\n",
       "<style scoped>\n",
       "    .dataframe tbody tr th:only-of-type {\n",
       "        vertical-align: middle;\n",
       "    }\n",
       "\n",
       "    .dataframe tbody tr th {\n",
       "        vertical-align: top;\n",
       "    }\n",
       "\n",
       "    .dataframe thead th {\n",
       "        text-align: right;\n",
       "    }\n",
       "</style>\n",
       "<table border=\"1\" class=\"dataframe\">\n",
       "  <thead>\n",
       "    <tr style=\"text-align: right;\">\n",
       "      <th></th>\n",
       "      <th>abortion</th>\n",
       "      <th>eth</th>\n",
       "      <th>male</th>\n",
       "      <th>age</th>\n",
       "      <th>educ</th>\n",
       "      <th>repvote</th>\n",
       "      <th>region</th>\n",
       "      <th>state</th>\n",
       "    </tr>\n",
       "  </thead>\n",
       "  <tbody>\n",
       "    <tr>\n",
       "      <th>1</th>\n",
       "      <td>1</td>\n",
       "      <td>White</td>\n",
       "      <td>-0.5</td>\n",
       "      <td>60-69</td>\n",
       "      <td>4-Year College</td>\n",
       "      <td>0.504080</td>\n",
       "      <td>North Central</td>\n",
       "      <td>WI</td>\n",
       "    </tr>\n",
       "    <tr>\n",
       "      <th>2</th>\n",
       "      <td>1</td>\n",
       "      <td>White</td>\n",
       "      <td>-0.5</td>\n",
       "      <td>60-69</td>\n",
       "      <td>HS</td>\n",
       "      <td>0.427158</td>\n",
       "      <td>Northeast</td>\n",
       "      <td>NJ</td>\n",
       "    </tr>\n",
       "    <tr>\n",
       "      <th>3</th>\n",
       "      <td>0</td>\n",
       "      <td>White</td>\n",
       "      <td>-0.5</td>\n",
       "      <td>40-49</td>\n",
       "      <td>HS</td>\n",
       "      <td>0.506188</td>\n",
       "      <td>South</td>\n",
       "      <td>FL</td>\n",
       "    </tr>\n",
       "    <tr>\n",
       "      <th>4</th>\n",
       "      <td>1</td>\n",
       "      <td>White</td>\n",
       "      <td>0.5</td>\n",
       "      <td>70+</td>\n",
       "      <td>Some college</td>\n",
       "      <td>0.506188</td>\n",
       "      <td>South</td>\n",
       "      <td>FL</td>\n",
       "    </tr>\n",
       "    <tr>\n",
       "      <th>5</th>\n",
       "      <td>0</td>\n",
       "      <td>White</td>\n",
       "      <td>-0.5</td>\n",
       "      <td>50-59</td>\n",
       "      <td>Some college</td>\n",
       "      <td>0.409799</td>\n",
       "      <td>North Central</td>\n",
       "      <td>IL</td>\n",
       "    </tr>\n",
       "    <tr>\n",
       "      <th>...</th>\n",
       "      <td>...</td>\n",
       "      <td>...</td>\n",
       "      <td>...</td>\n",
       "      <td>...</td>\n",
       "      <td>...</td>\n",
       "      <td>...</td>\n",
       "      <td>...</td>\n",
       "      <td>...</td>\n",
       "    </tr>\n",
       "    <tr>\n",
       "      <th>4996</th>\n",
       "      <td>0</td>\n",
       "      <td>White</td>\n",
       "      <td>0.5</td>\n",
       "      <td>50-59</td>\n",
       "      <td>4-Year College</td>\n",
       "      <td>0.338718</td>\n",
       "      <td>West</td>\n",
       "      <td>CA</td>\n",
       "    </tr>\n",
       "    <tr>\n",
       "      <th>4997</th>\n",
       "      <td>0</td>\n",
       "      <td>White</td>\n",
       "      <td>0.5</td>\n",
       "      <td>18-29</td>\n",
       "      <td>Some college</td>\n",
       "      <td>0.518900</td>\n",
       "      <td>West</td>\n",
       "      <td>AZ</td>\n",
       "    </tr>\n",
       "    <tr>\n",
       "      <th>4998</th>\n",
       "      <td>1</td>\n",
       "      <td>White</td>\n",
       "      <td>0.5</td>\n",
       "      <td>50-59</td>\n",
       "      <td>HS</td>\n",
       "      <td>0.473167</td>\n",
       "      <td>West</td>\n",
       "      <td>CO</td>\n",
       "    </tr>\n",
       "    <tr>\n",
       "      <th>4999</th>\n",
       "      <td>1</td>\n",
       "      <td>White</td>\n",
       "      <td>-0.5</td>\n",
       "      <td>50-59</td>\n",
       "      <td>HS</td>\n",
       "      <td>0.506188</td>\n",
       "      <td>South</td>\n",
       "      <td>FL</td>\n",
       "    </tr>\n",
       "    <tr>\n",
       "      <th>5000</th>\n",
       "      <td>0</td>\n",
       "      <td>White</td>\n",
       "      <td>0.5</td>\n",
       "      <td>30-39</td>\n",
       "      <td>Some college</td>\n",
       "      <td>0.503755</td>\n",
       "      <td>Northeast</td>\n",
       "      <td>PA</td>\n",
       "    </tr>\n",
       "  </tbody>\n",
       "</table>\n",
       "<p>5000 rows × 8 columns</p>\n",
       "</div>"
      ],
      "text/plain": [
       "      abortion    eth  male    age            educ   repvote         region  \\\n",
       "1            1  White  -0.5  60-69  4-Year College  0.504080  North Central   \n",
       "2            1  White  -0.5  60-69              HS  0.427158      Northeast   \n",
       "3            0  White  -0.5  40-49              HS  0.506188          South   \n",
       "4            1  White   0.5    70+    Some college  0.506188          South   \n",
       "5            0  White  -0.5  50-59    Some college  0.409799  North Central   \n",
       "...        ...    ...   ...    ...             ...       ...            ...   \n",
       "4996         0  White   0.5  50-59  4-Year College  0.338718           West   \n",
       "4997         0  White   0.5  18-29    Some college  0.518900           West   \n",
       "4998         1  White   0.5  50-59              HS  0.473167           West   \n",
       "4999         1  White  -0.5  50-59              HS  0.506188          South   \n",
       "5000         0  White   0.5  30-39    Some college  0.503755      Northeast   \n",
       "\n",
       "     state  \n",
       "1       WI  \n",
       "2       NJ  \n",
       "3       FL  \n",
       "4       FL  \n",
       "5       IL  \n",
       "...    ...  \n",
       "4996    CA  \n",
       "4997    AZ  \n",
       "4998    CO  \n",
       "4999    FL  \n",
       "5000    PA  \n",
       "\n",
       "[5000 rows x 8 columns]"
      ]
     },
     "execution_count": 3,
     "metadata": {},
     "output_type": "execute_result"
    }
   ],
   "source": [
    "cces"
   ]
  },
  {
   "cell_type": "markdown",
   "metadata": {
    "id": "n4Ge6jbZlZM6"
   },
   "source": [
    "## Transform data"
   ]
  },
  {
   "cell_type": "code",
   "execution_count": 4,
   "metadata": {
    "executionInfo": {
     "elapsed": 3329,
     "status": "ok",
     "timestamp": 1630512398267,
     "user": {
      "displayName": "Liyi Zhang",
      "photoUrl": "https://lh3.googleusercontent.com/a-/AOh14Gh9V3hIAgWLKOIy-Olktu7QU6Q3a0l2eUzzAf2j=s64",
      "userId": "06658486172350999592"
     },
     "user_tz": -480
    },
    "id": "c_ttv46flZM7"
   },
   "outputs": [],
   "source": [
    "# Fills in the dictionary so that we know which index corresponds to what state / eth / edu etc.\n",
    "\n",
    "data_to_idx = {}\n",
    "list_of_states_and_votes = []\n",
    "list_of_states = []\n",
    "state = 0\n",
    "age = 50\n",
    "eth = 56\n",
    "educ = 60\n",
    "male_eth = 65\n",
    "educ_age = 73\n",
    "educ_eth = 103\n",
    "for i in range(1, len(cces_all)+1):\n",
    "    tup = (cces_all.loc[i,'state'], cces_all.loc[i,'repvote'])\n",
    "    if cces_all.loc[i,'state'] not in data_to_idx:\n",
    "        data_to_idx[cces_all.loc[i,'state']] = state\n",
    "        state += 1\n",
    "    if tup not in list_of_states_and_votes:\n",
    "        list_of_states_and_votes.append(tup)\n",
    "    if cces_all.loc[i,'age'] not in data_to_idx:\n",
    "        data_to_idx[cces_all.loc[i,'age']] = age\n",
    "        age += 1\n",
    "    if cces_all.loc[i,'eth'] not in data_to_idx:\n",
    "        data_to_idx[cces_all.loc[i,'eth']] = eth\n",
    "        eth += 1\n",
    "    if cces_all.loc[i,'educ'] not in data_to_idx:\n",
    "        data_to_idx[cces_all.loc[i,'educ']] = educ\n",
    "        educ += 1\n",
    "list_of_states_and_votes.sort(key=lambda x:x[1])\n",
    "for tup in list_of_states_and_votes:\n",
    "    list_of_states.append(tup[0])"
   ]
  },
  {
   "cell_type": "code",
   "execution_count": 5,
   "metadata": {
    "executionInfo": {
     "elapsed": 8,
     "status": "ok",
     "timestamp": 1630512398268,
     "user": {
      "displayName": "Liyi Zhang",
      "photoUrl": "https://lh3.googleusercontent.com/a-/AOh14Gh9V3hIAgWLKOIy-Olktu7QU6Q3a0l2eUzzAf2j=s64",
      "userId": "06658486172350999592"
     },
     "user_tz": -480
    },
    "id": "NVuSB71glZM8"
   },
   "outputs": [],
   "source": [
    "# Create new representation of data that contains only 0 and 1\n",
    "\n",
    "def transform_raw(cces, data_to_idx, i, \n",
    "                  state=0, age=50, eth=56, educ=60,\n",
    "                  male_eth=65, educ_age=73, educ_eth=103):\n",
    "    x_i = np.zeros(128)\n",
    "    eth_idx = data_to_idx[cces.loc[i,'eth']]\n",
    "    age_idx = data_to_idx[cces.loc[i,'age']]\n",
    "    educ_idx = data_to_idx[cces.loc[i,'educ']]\n",
    "    x_i[data_to_idx[cces.loc[i,'state']]] = 1\n",
    "    x_i[age_idx] = 1\n",
    "    x_i[eth_idx] = 1\n",
    "    x_i[educ_idx] = 1\n",
    "    \n",
    "    is_male = int(cces.loc[i,'male'] + 0.5)\n",
    "    male_eth_idx = male_eth + is_male * 4 + (eth_idx-eth) \n",
    "    educ_age_idx = educ_age + (educ_idx-educ) * 6 + (age_idx-age)\n",
    "    educ_eth_idx = educ_eth + (educ_idx-educ) * 4 + (eth_idx-eth)\n",
    "    x_i[male_eth_idx] = 1\n",
    "    x_i[educ_age_idx] = 1\n",
    "    x_i[educ_eth_idx] = 1\n",
    "    \n",
    "    x_i[123] = is_male\n",
    "    x_i[124] = int(cces.loc[i,'region'] == 'South')\n",
    "    x_i[125] = int(cces.loc[i,'region'] == 'North Central')\n",
    "    x_i[126] = int(cces.loc[i,'region'] == 'West')\n",
    "    x_i[127] = cces.loc[i,'repvote']\n",
    "    \n",
    "    return x_i\n",
    "\n",
    "x = []\n",
    "y = []\n",
    "for i in range(1, len(cces)+1):\n",
    "    x_i = transform_raw(cces, data_to_idx, i)\n",
    "    \n",
    "    x.append(x_i)\n",
    "    y.append(cces.loc[i,'abortion'])\n",
    "\n",
    "x = np.array(x, dtype=np.float32)\n",
    "y = np.array(y, dtype=np.float32)"
   ]
  },
  {
   "cell_type": "markdown",
   "metadata": {
    "id": "kz8sWhkRlZM9"
   },
   "source": [
    "## Variational Inference"
   ]
  },
  {
   "cell_type": "code",
   "execution_count": 6,
   "metadata": {
    "id": "OBzXcLZTlZM9"
   },
   "outputs": [],
   "source": [
    "# model = models.VI_KLqp(dataset='survey', v_fam='flow')\n",
    "# model.x = x\n",
    "# model.y = y\n",
    "# model.train(lr=0.003)"
   ]
  },
  {
   "cell_type": "code",
   "execution_count": 7,
   "metadata": {
    "collapsed": true,
    "id": "Fl3ufkpMlZM-"
   },
   "outputs": [],
   "source": [
    "# model = models.VI_KLqp(dataset='survey', v_fam='gaussian')\n",
    "# model.x = x\n",
    "# model.y = y\n",
    "# model.train(lr=0.01)"
   ]
  },
  {
   "cell_type": "markdown",
   "metadata": {
    "id": "8OxG6HIClZM_"
   },
   "source": [
    "## Hamiltonian Score Climbing"
   ]
  },
  {
   "cell_type": "code",
   "execution_count": 8,
   "metadata": {
    "colab": {
     "base_uri": "https://localhost:8080/"
    },
    "collapsed": true,
    "id": "2n5lAVutlZM_",
    "outputId": "442064c2-5d62-4b02-e2d8-d152c355d0ec"
   },
   "outputs": [],
   "source": [
    "# model = models.VI_KLpq(v_fam='flow', space='warped', dataset='survey', hmc_e=0.03, hmc_L=33, chains=1)\n",
    "# model.x = x\n",
    "# model.y = y\n",
    "# model.train(lr=0.001)"
   ]
  },
  {
   "cell_type": "code",
   "execution_count": 9,
   "metadata": {
    "colab": {
     "base_uri": "https://localhost:8080/"
    },
    "collapsed": true,
    "executionInfo": {
     "elapsed": 2195175,
     "status": "ok",
     "timestamp": 1630546103577,
     "user": {
      "displayName": "Liyi Zhang",
      "photoUrl": "https://lh3.googleusercontent.com/a-/AOh14Gh9V3hIAgWLKOIy-Olktu7QU6Q3a0l2eUzzAf2j=s64",
      "userId": "06658486172350999592"
     },
     "user_tz": -480
    },
    "id": "7AlGvzpolZNI",
    "outputId": "549cc2bb-0b2f-48ed-c260-eb77c9129c68"
   },
   "outputs": [],
   "source": [
    "# model = models.VI_KLpq(v_fam='gaussian', space='eps', dataset='survey', hmc_e=0.05, hmc_L=20, chains=1)\n",
    "# model.x = x\n",
    "# model.y = y\n",
    "# model.train(lr=0.01)"
   ]
  },
  {
   "cell_type": "code",
   "execution_count": 10,
   "metadata": {},
   "outputs": [],
   "source": [
    "# model = models.VI_KLpq(v_fam='gaussian', space='eps', dataset='survey', hmc_e=0.05, hmc_L=20, chains=1)\n",
    "# model.x = x\n",
    "# model.y = y\n",
    "# model.train(lr=0.01, epochs=int(1e4))"
   ]
  },
  {
   "cell_type": "code",
   "execution_count": 11,
   "metadata": {
    "collapsed": true
   },
   "outputs": [],
   "source": [
    "# # MSC\n",
    "# model = models.VI_KLpq(v_fam='gaussian', space='theta', dataset='survey', hmc_e=0.03, hmc_L=33, chains=1)\n",
    "# model.x = x\n",
    "# model.y = y\n",
    "# model.train(lr=0.01)"
   ]
  },
  {
   "cell_type": "markdown",
   "metadata": {},
   "source": [
    "## Real MSC"
   ]
  },
  {
   "cell_type": "code",
   "execution_count": 12,
   "metadata": {},
   "outputs": [],
   "source": [
    "# #MSC, i-SIR\n",
    "\n",
    "# model = models.VI_KLpq(v_fam='gaussian', space='eps', dataset='survey', hmc_e=0.03, hmc_L=33, chains=2, cis=10, eps=0.5, alpha=0.95, rejuvenation=True)\n",
    "# model.x = x\n",
    "# model.y = y\n",
    "# model.train(lr=0.01, epochs=int(1e4))"
   ]
  },
  {
   "cell_type": "markdown",
   "metadata": {
    "id": "06unjCIJlZNJ"
   },
   "source": [
    "## Evaluations"
   ]
  },
  {
   "cell_type": "code",
   "execution_count": 13,
   "metadata": {
    "colab": {
     "base_uri": "https://localhost:8080/",
     "height": 204
    },
    "executionInfo": {
     "elapsed": 11,
     "status": "ok",
     "timestamp": 1630239757176,
     "user": {
      "displayName": "Liyi Zhang",
      "photoUrl": "https://lh3.googleusercontent.com/a-/AOh14Gh9V3hIAgWLKOIy-Olktu7QU6Q3a0l2eUzzAf2j=s64",
      "userId": "06658486172350999592"
     },
     "user_tz": -480
    },
    "id": "ZjQLXnLwlZNJ",
    "outputId": "2fc7a4cd-3967-4a1a-8796-ff77f03429a1"
   },
   "outputs": [
    {
     "data": {
      "text/html": [
       "<div>\n",
       "<style scoped>\n",
       "    .dataframe tbody tr th:only-of-type {\n",
       "        vertical-align: middle;\n",
       "    }\n",
       "\n",
       "    .dataframe tbody tr th {\n",
       "        vertical-align: top;\n",
       "    }\n",
       "\n",
       "    .dataframe thead th {\n",
       "        text-align: right;\n",
       "    }\n",
       "</style>\n",
       "<table border=\"1\" class=\"dataframe\">\n",
       "  <thead>\n",
       "    <tr style=\"text-align: right;\">\n",
       "      <th></th>\n",
       "      <th>state</th>\n",
       "      <th>eth</th>\n",
       "      <th>male</th>\n",
       "      <th>age</th>\n",
       "      <th>educ</th>\n",
       "      <th>n</th>\n",
       "      <th>repvote</th>\n",
       "      <th>region</th>\n",
       "    </tr>\n",
       "  </thead>\n",
       "  <tbody>\n",
       "    <tr>\n",
       "      <th>0</th>\n",
       "      <td>AL</td>\n",
       "      <td>White</td>\n",
       "      <td>-0.5</td>\n",
       "      <td>18-29</td>\n",
       "      <td>No HS</td>\n",
       "      <td>23948</td>\n",
       "      <td>0.643741</td>\n",
       "      <td>South</td>\n",
       "    </tr>\n",
       "    <tr>\n",
       "      <th>1</th>\n",
       "      <td>AL</td>\n",
       "      <td>White</td>\n",
       "      <td>-0.5</td>\n",
       "      <td>18-29</td>\n",
       "      <td>HS</td>\n",
       "      <td>59378</td>\n",
       "      <td>0.643741</td>\n",
       "      <td>South</td>\n",
       "    </tr>\n",
       "    <tr>\n",
       "      <th>2</th>\n",
       "      <td>AL</td>\n",
       "      <td>White</td>\n",
       "      <td>-0.5</td>\n",
       "      <td>18-29</td>\n",
       "      <td>Some college</td>\n",
       "      <td>104855</td>\n",
       "      <td>0.643741</td>\n",
       "      <td>South</td>\n",
       "    </tr>\n",
       "    <tr>\n",
       "      <th>3</th>\n",
       "      <td>AL</td>\n",
       "      <td>White</td>\n",
       "      <td>-0.5</td>\n",
       "      <td>18-29</td>\n",
       "      <td>4-Year College</td>\n",
       "      <td>37066</td>\n",
       "      <td>0.643741</td>\n",
       "      <td>South</td>\n",
       "    </tr>\n",
       "    <tr>\n",
       "      <th>4</th>\n",
       "      <td>AL</td>\n",
       "      <td>White</td>\n",
       "      <td>-0.5</td>\n",
       "      <td>18-29</td>\n",
       "      <td>Post-grad</td>\n",
       "      <td>9378</td>\n",
       "      <td>0.643741</td>\n",
       "      <td>South</td>\n",
       "    </tr>\n",
       "  </tbody>\n",
       "</table>\n",
       "</div>"
      ],
      "text/plain": [
       "  state    eth  male    age            educ       n   repvote region\n",
       "0    AL  White  -0.5  18-29           No HS   23948  0.643741  South\n",
       "1    AL  White  -0.5  18-29              HS   59378  0.643741  South\n",
       "2    AL  White  -0.5  18-29    Some college  104855  0.643741  South\n",
       "3    AL  White  -0.5  18-29  4-Year College   37066  0.643741  South\n",
       "4    AL  White  -0.5  18-29       Post-grad    9378  0.643741  South"
      ]
     },
     "execution_count": 13,
     "metadata": {},
     "output_type": "execute_result"
    }
   ],
   "source": [
    "poststrat_df = pd.read_csv('data/poststrat_df.csv')\n",
    "statelevel_predictors_df = pd.read_csv('data/statelevel_predictors.csv', index_col=0)\n",
    "poststrat_df = poststrat_df.merge(statelevel_predictors_df, how='left', on='state')\n",
    "mrp_states_df = pd.read_csv('data/mrp_states.csv')\n",
    "poststrat_df.head()"
   ]
  },
  {
   "cell_type": "code",
   "execution_count": 14,
   "metadata": {},
   "outputs": [
    {
     "data": {
      "text/plain": [
       "12000"
      ]
     },
     "execution_count": 14,
     "metadata": {},
     "output_type": "execute_result"
    }
   ],
   "source": [
    "len(poststrat_df)"
   ]
  },
  {
   "cell_type": "code",
   "execution_count": 15,
   "metadata": {
    "id": "LWR6SA44lZNK"
   },
   "outputs": [],
   "source": [
    "# Transform raw data into 0-1 vectors:\n",
    "x_poststrat = []\n",
    "for i in range(len(poststrat_df)):\n",
    "    x_i = transform_raw(poststrat_df, data_to_idx, i)\n",
    "    x_poststrat.append(x_i)\n",
    "x_poststrat = np.array(x_poststrat, dtype='float32')"
   ]
  },
  {
   "cell_type": "code",
   "execution_count": 16,
   "metadata": {
    "id": "w7odG1nWlZNK"
   },
   "outputs": [],
   "source": [
    "def estimate_vi_model_rate(x_poststrat, data_to_idx, model):\n",
    "    model.x = x_poststrat\n",
    "    splitted_x = tf.split(model.x, [123, 5], axis=1)\n",
    "    alpha = model.q.sample(10000)\n",
    "    term1 = tf.matmul(splitted_x[0], tf.transpose(alpha))\n",
    "    term2 = model.gamma_0\n",
    "    term3 = tf.matmul(splitted_x[1], tf.reshape(model.gamma, (5, 1)))\n",
    "    post_pred_mat = tf.math.sigmoid(tf.squeeze(term1 + term2 + term3))\n",
    "\n",
    "    return post_pred_mat\n",
    "\n",
    "def get_se_bernoulli(p, n):\n",
    "    return np.sqrt(p*(1-p)/n)"
   ]
  },
  {
   "cell_type": "code",
   "execution_count": 17,
   "metadata": {
    "colab": {
     "base_uri": "https://localhost:8080/"
    },
    "executionInfo": {
     "elapsed": 442,
     "status": "ok",
     "timestamp": 1630239764505,
     "user": {
      "displayName": "Liyi Zhang",
      "photoUrl": "https://lh3.googleusercontent.com/a-/AOh14Gh9V3hIAgWLKOIy-Olktu7QU6Q3a0l2eUzzAf2j=s64",
      "userId": "06658486172350999592"
     },
     "user_tz": -480
    },
    "id": "SSRHcyWtlZNL",
    "outputId": "cf191042-5f24-4b21-8fa0-33f3a3592f49"
   },
   "outputs": [
    {
     "name": "stdout",
     "output_type": "stream",
     "text": [
      "mean 0.4314\n",
      "std 0.007004199311841433\n"
     ]
    }
   ],
   "source": [
    "# 5,000-person unadjusted sample estimate:\n",
    "print('mean', np.mean(cces['abortion']))\n",
    "print('std', get_se_bernoulli(np.mean(cces['abortion']), len(cces)))"
   ]
  },
  {
   "cell_type": "code",
   "execution_count": 18,
   "metadata": {
    "colab": {
     "base_uri": "https://localhost:8080/"
    },
    "executionInfo": {
     "elapsed": 12,
     "status": "ok",
     "timestamp": 1630239765674,
     "user": {
      "displayName": "Liyi Zhang",
      "photoUrl": "https://lh3.googleusercontent.com/a-/AOh14Gh9V3hIAgWLKOIy-Olktu7QU6Q3a0l2eUzzAf2j=s64",
      "userId": "06658486172350999592"
     },
     "user_tz": -480
    },
    "id": "DA5jsvbUlZNN",
    "outputId": "b3c53e0e-c18e-401c-946c-adab4985aabc"
   },
   "outputs": [
    {
     "name": "stdout",
     "output_type": "stream",
     "text": [
      "mean 0.4341581675305133\n",
      "std 0.002026677342749567\n"
     ]
    }
   ],
   "source": [
    "# 60,000-person unadjusted sample estimate:\n",
    "print('mean', np.mean(cces_all['abortion']))\n",
    "print('std', get_se_bernoulli(np.mean(cces_all['abortion']), len(cces_all)))"
   ]
  },
  {
   "cell_type": "code",
   "execution_count": 19,
   "metadata": {},
   "outputs": [],
   "source": [
    "# # load model VI KLqp Gaussian\n",
    "# path = 'results/survey/vi_klqp_gaussian/2021-10-13-172522/'\n",
    "# model_qp = models.VI_KLqp(dataset='survey', v_fam='gaussian')\n",
    "# model_qp.x = x\n",
    "# model_qp.y = y\n",
    "# model_qp.gamma_0 = np.genfromtxt(path + 'gamma_0.csv', dtype='float32')[-1]\n",
    "# model_qp.gamma = np.genfromtxt(path + 'gamma.csv', dtype='float32')[-1,:]\n",
    "# model_qp.phi_m = np.genfromtxt(path + 'phi_m.csv', dtype='float32')[-1,:]\n",
    "# model_qp.phi_s = np.genfromtxt(path + 'phi_s.csv', dtype='float32')[-1,:]\n",
    "# model_qp.sigma = np.genfromtxt(path + 'sigma.csv', dtype='float32')[-1,:]\n",
    "# model_qp.q = tfd.MultivariateNormalDiag(\n",
    "#               loc=model_qp.phi_m, \n",
    "#               scale_diag=model_qp.phi_s)"
   ]
  },
  {
   "cell_type": "code",
   "execution_count": 20,
   "metadata": {},
   "outputs": [],
   "source": [
    "# losses = -np.genfromtxt(path + 'elbo.csv', dtype='float32')\n",
    "# plt.plot(list(range(len(losses))), losses)"
   ]
  },
  {
   "cell_type": "code",
   "execution_count": 39,
   "metadata": {},
   "outputs": [],
   "source": [
    "v_fam = 'gaussian'\n",
    "space = 'warped'\n",
    "\n",
    "tsc_path = sorted(list(Path(f'results/survey/vi_klpq_N0_{space}_{v_fam}').glob('*')))[-1]\n",
    "N = 20\n",
    "ex2_warp_path = sorted(list(Path(f'results/survey/vi_klpq_N{N}_{space}_{v_fam}').glob('*')))[-1]\n",
    "ex2_warp_rao_path = sorted(list(Path(f'results/survey/vi_klpq_N{N}_{space}_{v_fam}_rao').glob('*')))[-1]"
   ]
  },
  {
   "cell_type": "code",
   "execution_count": 22,
   "metadata": {
    "id": "584bcVLblZNO"
   },
   "outputs": [
    {
     "name": "stderr",
     "output_type": "stream",
     "text": [
      "2022-04-22 15:37:36.886904: W tensorflow/python/util/util.cc:348] Sets are not currently considered sequences, but this may change in the future, so consider avoiding using them.\n"
     ]
    }
   ],
   "source": [
    "# load model VI KLpq Gaussian - HSC\n",
    "#path = Path('results/survey/vi_klpq_N0_warped_gaussian/2022-04-18-102854')\n",
    "model_pq = models.VI_KLpq(v_fam=v_fam, space='warped', dataset='survey', hmc_e=0.05, hmc_L=20, chains=1)\n",
    "model_pq.x = x\n",
    "model_pq.y = y\n",
    "model_pq.gamma_0 = np.genfromtxt(tsc_path / 'gamma_0.csv', dtype='float32')[-1]\n",
    "model_pq.gamma = np.genfromtxt(tsc_path / 'gamma.csv', dtype='float32')[-1,:]\n",
    "model_pq.phi_m = np.genfromtxt(tsc_path / 'phi_m.csv', dtype='float32')[-1,:]\n",
    "model_pq.phi_s = np.genfromtxt(tsc_path / 'phi_s.csv', dtype='float32')[-1,:]\n",
    "model_pq.sigma = np.genfromtxt(tsc_path / 'sigma.csv', dtype='float32')[-1,:]\n",
    "model_pq.q = tfd.MultivariateNormalDiag(\n",
    "    loc=model_pq.phi_m, \n",
    "    scale_diag=model_pq.phi_s)"
   ]
  },
  {
   "cell_type": "code",
   "execution_count": 23,
   "metadata": {},
   "outputs": [
    {
     "data": {
      "text/plain": [
       "[<matplotlib.lines.Line2D at 0x7f0fb825dd90>]"
      ]
     },
     "execution_count": 23,
     "metadata": {},
     "output_type": "execute_result"
    },
    {
     "data": {
      "image/png": "[encoded data removed]",
      "text/plain": [
       "<Figure size 432x288 with 1 Axes>"
      ]
     },
     "metadata": {
      "needs_background": "light"
     },
     "output_type": "display_data"
    }
   ],
   "source": [
    "losses_tsc = np.genfromtxt(tsc_path / 'losses.csv', dtype='float32')\n",
    "plt.plot(list(range(len(losses_tsc))), losses_tsc)"
   ]
  },
  {
   "cell_type": "code",
   "execution_count": 24,
   "metadata": {},
   "outputs": [],
   "source": [
    "pass # not in warped space\n",
    "\n",
    "# # load model VI KLpq Gaussian - MSC\n",
    "# path = Path('results/survey/vi_klpq_N10_eps_gaussian/2022-04-14-180124')\n",
    "# model_pq_ex2_eps = models.VI_KLpq(v_fam='gaussian', space='eps', dataset='survey', hmc_e=0.05, hmc_L=20, cis=10, chains=1)\n",
    "# model_pq_ex2_eps.x = x\n",
    "# model_pq_ex2_eps.y = y\n",
    "# model_pq_ex2_eps.gamma_0 = np.genfromtxt(path / 'gamma_0.csv', dtype='float32')[-1]\n",
    "# model_pq_ex2_eps.gamma = np.genfromtxt(path / 'gamma.csv', dtype='float32')[-1,:]\n",
    "# model_pq_ex2_eps.phi_m = np.genfromtxt(path / 'phi_m.csv', dtype='float32')[-1,:]\n",
    "# model_pq_ex2_eps.phi_s = np.genfromtxt(path / 'phi_s.csv', dtype='float32')[-1,:]\n",
    "# model_pq_ex2_eps.sigma = np.genfromtxt(path / 'sigma.csv', dtype='float32')[-1,:]\n",
    "# model_pq_ex2_eps.q = tfd.MultivariateNormalDiag(\n",
    "#     loc=model_pq_ex2_eps.phi_m, \n",
    "#     scale_diag=model_pq_ex2_eps.phi_s)"
   ]
  },
  {
   "cell_type": "code",
   "execution_count": 25,
   "metadata": {},
   "outputs": [],
   "source": [
    "# losses = np.genfromtxt(path / 'losses.csv', dtype='float32')\n",
    "# plt.plot(list(range(len(losses))), losses)"
   ]
  },
  {
   "cell_type": "code",
   "execution_count": 26,
   "metadata": {},
   "outputs": [],
   "source": [
    "# load model VI KLpq Gaussian - MSC\n",
    "\n",
    "model_pq_ex2_warp = models.VI_KLpq(v_fam=v_fam, space='warped', dataset='survey', hmc_e=0.05, hmc_L=20, cis=N, chains=1)\n",
    "model_pq_ex2_warp.x = x\n",
    "model_pq_ex2_warp.y = y\n",
    "model_pq_ex2_warp.gamma_0 = np.genfromtxt(ex2_warp_path / 'gamma_0.csv', dtype='float32')[-1]\n",
    "model_pq_ex2_warp.gamma = np.genfromtxt(ex2_warp_path / 'gamma.csv', dtype='float32')[-1,:]\n",
    "model_pq_ex2_warp.phi_m = np.genfromtxt(ex2_warp_path / 'phi_m.csv', dtype='float32')[-1,:]\n",
    "model_pq_ex2_warp.phi_s = np.genfromtxt(ex2_warp_path / 'phi_s.csv', dtype='float32')[-1,:]\n",
    "model_pq_ex2_warp.sigma = np.genfromtxt(ex2_warp_path / 'sigma.csv', dtype='float32')[-1,:]\n",
    "model_pq_ex2_warp.q = tfd.MultivariateNormalDiag(\n",
    "    loc=model_pq_ex2_warp.phi_m, \n",
    "    scale_diag=model_pq_ex2_warp.phi_s)"
   ]
  },
  {
   "cell_type": "code",
   "execution_count": 27,
   "metadata": {},
   "outputs": [
    {
     "data": {
      "text/plain": [
       "[<matplotlib.lines.Line2D at 0x7f0fa87c8520>]"
      ]
     },
     "execution_count": 27,
     "metadata": {},
     "output_type": "execute_result"
    },
    {
     "data": {
      "image/png": "[encoded data removed]",
      "text/plain": [
       "<Figure size 432x288 with 1 Axes>"
      ]
     },
     "metadata": {
      "needs_background": "light"
     },
     "output_type": "display_data"
    }
   ],
   "source": [
    "losses_ex2_warp = np.genfromtxt(ex2_warp_path / 'losses.csv', dtype='float32')\n",
    "plt.plot(list(range(len(losses_ex2_warp))), losses_ex2_warp)"
   ]
  },
  {
   "cell_type": "code",
   "execution_count": 40,
   "metadata": {},
   "outputs": [],
   "source": [
    "# load model VI KLpq Gaussian - MSC\n",
    "\n",
    "model_pq_ex2_warp_rao = models.VI_KLpq(v_fam=v_fam, space='warped', dataset='survey', hmc_e=0.05, hmc_L=20, cis=N, chains=1)\n",
    "model_pq_ex2_warp_rao.x = x\n",
    "model_pq_ex2_warp_rao.y = y\n",
    "model_pq_ex2_warp_rao.gamma_0 = np.genfromtxt(ex2_warp_rao_path / 'gamma_0.csv', dtype='float32')[-1]\n",
    "model_pq_ex2_warp_rao.gamma = np.genfromtxt(ex2_warp_rao_path / 'gamma.csv', dtype='float32')[-1,:]\n",
    "model_pq_ex2_warp_rao.phi_m = np.genfromtxt(ex2_warp_rao_path / 'phi_m.csv', dtype='float32')[-1,:]\n",
    "model_pq_ex2_warp_rao.phi_s = np.genfromtxt(ex2_warp_rao_path / 'phi_s.csv', dtype='float32')[-1,:]\n",
    "model_pq_ex2_warp_rao.sigma = np.genfromtxt(ex2_warp_rao_path / 'sigma.csv', dtype='float32')[-1,:]\n",
    "model_pq_ex2_warp_rao.q = tfd.MultivariateNormalDiag(\n",
    "    loc=model_pq_ex2_warp_rao.phi_m, \n",
    "    scale_diag=model_pq_ex2_warp_rao.phi_s)"
   ]
  },
  {
   "cell_type": "code",
   "execution_count": 47,
   "metadata": {},
   "outputs": [
    {
     "data": {
      "text/plain": [
       "[<matplotlib.lines.Line2D at 0x7f0f1b8e6430>]"
      ]
     },
     "execution_count": 47,
     "metadata": {},
     "output_type": "execute_result"
    },
    {
     "data": {
      "image/png": "[encoded data removed]",
      "text/plain": [
       "<Figure size 432x288 with 1 Axes>"
      ]
     },
     "metadata": {
      "needs_background": "light"
     },
     "output_type": "display_data"
    }
   ],
   "source": [
    "losses_ex2_warp_rao = np.genfromtxt(ex2_warp_rao_path / 'losses.csv', dtype='float32')\n",
    "plt.plot(list(range(len(losses_ex2_warp_rao))), losses_ex2_warp_rao)"
   ]
  },
  {
   "cell_type": "code",
   "execution_count": 42,
   "metadata": {},
   "outputs": [
    {
     "data": {
      "text/plain": [
       "[<matplotlib.lines.Line2D at 0x7f0f28d434c0>]"
      ]
     },
     "execution_count": 42,
     "metadata": {},
     "output_type": "execute_result"
    },
    {
     "data": {
      "image/png": "[encoded data removed]",
      "text/plain": [
       "<Figure size 432x288 with 1 Axes>"
      ]
     },
     "metadata": {
      "needs_background": "light"
     },
     "output_type": "display_data"
    }
   ],
   "source": [
    "# losses_ex2_warp_rao = np.genfromtxt(ex2_warp_rao_path / 'losses_p.csv', dtype='float32')\n",
    "# plt.plot(list(range(len(losses_ex2_warp_rao))), losses_ex2_warp_rao)"
   ]
  },
  {
   "cell_type": "code",
   "execution_count": 43,
   "metadata": {},
   "outputs": [
    {
     "data": {
      "text/plain": [
       "[<matplotlib.lines.Line2D at 0x7f0f01932670>]"
      ]
     },
     "execution_count": 43,
     "metadata": {},
     "output_type": "execute_result"
    },
    {
     "data": {
      "image/png": "[encoded data removed]",
      "text/plain": [
       "<Figure size 432x288 with 1 Axes>"
      ]
     },
     "metadata": {
      "needs_background": "light"
     },
     "output_type": "display_data"
    }
   ],
   "source": [
    "# losses_ex2_warp_rao = np.genfromtxt(ex2_warp_rao_path / 'losses_q.csv', dtype='float32')\n",
    "# plt.plot(list(range(len(losses_ex2_warp_rao))), losses_ex2_warp_rao)"
   ]
  },
  {
   "cell_type": "code",
   "execution_count": 44,
   "metadata": {},
   "outputs": [],
   "source": [
    "def ema(s, n):\n",
    "    \"\"\"\n",
    "    returns an n period exponential moving average for\n",
    "    the time series s\n",
    "\n",
    "    s is a list ordered from oldest (index 0) to most\n",
    "    recent (index -1)\n",
    "    n is an integer\n",
    "\n",
    "    returns a numeric array of the exponential\n",
    "    moving average\n",
    "    \"\"\"\n",
    "    s = np.array(s)\n",
    "    ema = []\n",
    "    j = 1\n",
    "\n",
    "    #get n sma first and calculate the next n period ema\n",
    "    sma = sum(s[:n]) / n\n",
    "    multiplier = 2 / float(1 + n)\n",
    "    ema.append(sma)\n",
    "\n",
    "    #EMA(current) = ( (Price(current) - EMA(prev) ) x Multiplier) + EMA(prev)\n",
    "    ema.append(( (s[n] - sma) * multiplier) + sma)\n",
    "\n",
    "    #now calculate the rest of the values\n",
    "    for i in s[n+1:]:\n",
    "        tmp = ( (i - ema[j]) * multiplier) + ema[j]\n",
    "        j = j + 1\n",
    "        ema.append(tmp)\n",
    "\n",
    "    return ema"
   ]
  },
  {
   "cell_type": "code",
   "execution_count": 45,
   "metadata": {},
   "outputs": [
    {
     "data": {
      "text/plain": [
       "Text(0, 0.5, '$-\\\\mathbb{E}\\\\log[p(x \\\\mid z)p(z)] - \\\\mathbb{E}\\\\log[\\\\log q(x \\\\mid z)]$')"
      ]
     },
     "execution_count": 45,
     "metadata": {},
     "output_type": "execute_result"
    },
    {
     "data": {
      "image/png": "[encoded data removed]",
      "text/plain": [
       "<Figure size 432x288 with 1 Axes>"
      ]
     },
     "metadata": {
      "needs_background": "light"
     },
     "output_type": "display_data"
    }
   ],
   "source": [
    "arange = np.arange(1, len(losses_ex2_warp_rao)+1)\n",
    "\n",
    "for loss, label in zip([losses_tsc, losses_ex2_warp, losses_ex2_warp_rao], ['TSC', r'Ex$^2$MCMC', r'Ex$^2$MCMC, Rao-Blackwellized']):\n",
    "    n = 100\n",
    "    plt.plot(arange[:-n+1], ema(loss, n), label=label)\n",
    "\n",
    "plt.xscale('log')\n",
    "plt.legend()\n",
    "plt.grid()\n",
    "plt.title('Loss convergence: forward KL with model learning')\n",
    "plt.xlabel('Iteration')\n",
    "plt.ylabel(r'$-\\mathbb{E}\\log[p(x \\mid z)p(z)] - \\mathbb{E}\\log[\\log q(x \\mid z)]$')\n",
    "#plt.savefig(Path('figs', 'survey_data_loss_logscale.png'))"
   ]
  },
  {
   "cell_type": "code",
   "execution_count": 48,
   "metadata": {},
   "outputs": [
    {
     "data": {
      "image/png": "[encoded data removed]",
      "text/plain": [
       "<Figure size 432x288 with 1 Axes>"
      ]
     },
     "metadata": {
      "needs_background": "light"
     },
     "output_type": "display_data"
    }
   ],
   "source": [
    "arange = np.arange(1, len(losses_ex2_warp_rao)+1)\n",
    "\n",
    "for loss, label in zip([losses_tsc, losses_ex2_warp, losses_ex2_warp_rao], ['TSC', r'Ex$^2$MCMC', r'Ex$^2$MCMC, Rao-Blackwellized']):\n",
    "    n = 100\n",
    "    plt.plot(arange[:-n+1], ema(loss, n), label=label)\n",
    "\n",
    "# plt.xscale('log')\n",
    "plt.legend()\n",
    "plt.grid()\n",
    "plt.title('Loss convergence: forward KL with model learning')\n",
    "plt.xlabel('Iteration')\n",
    "plt.ylabel(r'$-\\mathbb{E}\\log[p(x \\mid z)p(z)] - \\mathbb{E}\\log[\\log q(x \\mid z)]$')\n",
    "plt.savefig(Path('figs', 'survey_data_loss.png'))"
   ]
  },
  {
   "cell_type": "code",
   "execution_count": null,
   "metadata": {
    "id": "TG5m0JOplZNP"
   },
   "outputs": [],
   "source": [
    "# # load model VI KLqp Flow\n",
    "# path = 'results/survey/vi_klqp_flow/2021-09-03-223300/'\n",
    "# model_qp_flow = models.VI_KLqp(v_fam='flow', dataset='survey')\n",
    "# model_qp_flow.x = x\n",
    "# model_qp_flow.y = y\n",
    "# model_qp_flow.gamma_0 = np.genfromtxt(path + 'gamma_0.csv', dtype='float32')[-1]\n",
    "# model_qp_flow.gamma = np.genfromtxt(path + 'gamma.csv', dtype='float32')[-1,:]\n",
    "# model_qp_flow.sigma = np.genfromtxt(path + 'sigma.csv', dtype='float32')[-1,:]\n",
    "# model_qp_flow.load_model(path + 'flow_model/model')"
   ]
  },
  {
   "cell_type": "code",
   "execution_count": null,
   "metadata": {},
   "outputs": [],
   "source": [
    "# losses = -np.genfromtxt(path + 'elbo.csv', dtype='float32')\n",
    "# plt.plot(list(range(len(losses))), losses)"
   ]
  },
  {
   "cell_type": "code",
   "execution_count": null,
   "metadata": {},
   "outputs": [],
   "source": []
  },
  {
   "cell_type": "code",
   "execution_count": null,
   "metadata": {
    "id": "zclpjtRelZNP"
   },
   "outputs": [],
   "source": [
    "# # load model VI KLpq Flow\n",
    "#path = Path('results/survey/vi_klpq_N0_warped_flow/2022-04-18-105801')\n",
    "# model_pq_flow = models.VI_KLpq(v_fam='flow', space='warped', dataset='survey', hmc_e=0.03, hmc_L=33, chains=64)\n",
    "# model_pq_flow.x = x\n",
    "# model_pq_flow.y = y\n",
    "# model_pq_flow.gamma_0 = np.genfromtxt(path / 'gamma_0.csv', dtype='float32')[-1]\n",
    "# model_pq_flow.gamma = np.genfromtxt(path / 'gamma.csv', dtype='float32')[-1,:]\n",
    "# model_pq_flow.sigma = np.genfromtxt(path / 'sigma.csv', dtype='float32')[-1,:]\n",
    "# model_pq_flow.load_model(path / 'flow_model/model')"
   ]
  },
  {
   "cell_type": "code",
   "execution_count": null,
   "metadata": {},
   "outputs": [],
   "source": [
    "# losses = np.genfromtxt(path + 'losses.csv', dtype='float32')\n",
    "# plt.plot(list(range(len(losses))), losses)"
   ]
  },
  {
   "cell_type": "code",
   "execution_count": null,
   "metadata": {},
   "outputs": [],
   "source": [
    "# load model VI KLpq Flow - MSC\n",
    "#path = Path('results/survey/vi_klpq_N10_warped_flow/2022-04-15-000944')\n",
    "# model_pq_ex2_flow_warp = models.VI_KLpq(v_fam='flow', space='eps', dataset='survey', hmc_e=0.03, hmc_L=33, cis=10, chains=1)\n",
    "# model_pq_ex2_flow_warp.x = x\n",
    "# model_pq_ex2_flow_warp.y = y\n",
    "# model_pq_ex2_flow_warp.gamma_0 = np.genfromtxt(path / 'gamma_0.csv', dtype='float32')[-1]\n",
    "# model_pq_ex2_flow_warp.gamma = np.genfromtxt(path / 'gamma.csv', dtype='float32')[-1,:]\n",
    "# model_pq_ex2_flow_warp.phi_m = np.genfromtxt(path / 'phi_m.csv', dtype='float32')[-1,:]\n",
    "# model_pq_ex2_flow_warp.phi_s = np.genfromtxt(path / 'phi_s.csv', dtype='float32')[-1,:]\n",
    "# model_pq_ex2_flow_warp.sigma = np.genfromtxt(path / 'sigma.csv', dtype='float32')[-1,:]\n",
    "# model_pq_ex2_flow_warp.q = tfd.MultivariateNormalDiag(\n",
    "#     loc=model_pq_ex2_flow_warp.phi_m, \n",
    "#     scale_diag=model_pq_ex2_flow_warp.phi_s)"
   ]
  },
  {
   "cell_type": "code",
   "execution_count": null,
   "metadata": {},
   "outputs": [],
   "source": [
    "# losses = np.genfromtxt(path + 'losses.csv', dtype='float32')\n",
    "# plt.plot(list(range(len(losses))), losses)"
   ]
  },
  {
   "cell_type": "code",
   "execution_count": null,
   "metadata": {},
   "outputs": [],
   "source": [
    "# load model VI KLpq Flow - MSC\n",
    "#path = Path('results/survey/vi_klpq_N10_warped_flow/2022-04-14-183205')\n",
    "# model_pq_ex2_warp = models.VI_KLpq(v_fam='flow', space='eps', dataset='survey', hmc_e=0.03, hmc_L=33, cis=10, chains=1)\n",
    "# model_pq_ex2_warp.x = x\n",
    "# model_pq_ex2_warp.y = y\n",
    "# model_pq_ex2_warp.gamma_0 = np.genfromtxt(path / 'gamma_0.csv', dtype='float32')[-1]\n",
    "# model_pq_ex2_warp.gamma = np.genfromtxt(path / 'gamma.csv', dtype='float32')[-1,:]\n",
    "# model_pq_ex2_warp.phi_m = np.genfromtxt(path / 'phi_m.csv', dtype='float32')[-1,:]\n",
    "# model_pq_ex2_warp.phi_s = np.genfromtxt(path / 'phi_s.csv', dtype='float32')[-1,:]\n",
    "# model_pq_ex2_warp.sigma = np.genfromtxt(path / 'sigma.csv', dtype='float32')[-1,:]\n",
    "# model_pq_ex2_warp.q = tfd.MultivariateNormalDiag(\n",
    "#     loc=model_pq_ex2_warp.phi_m, \n",
    "#     scale_diag=model_pq_ex2_warp.phi_s)"
   ]
  },
  {
   "cell_type": "code",
   "execution_count": null,
   "metadata": {
    "id": "HxftW4dylZNP"
   },
   "outputs": [],
   "source": [
    "# post_pred_mat_qp = estimate_vi_model_rate(x_poststrat, data_to_idx, model_qp)\n",
    "# estimate = np.dot(np.array([poststrat_df['n']]), \n",
    "#                   np.array(post_pred_mat_qp)) / sum(poststrat_df['n'])\n",
    "# print('mean', np.mean(estimate))\n",
    "# print('std', np.std(estimate))"
   ]
  },
  {
   "cell_type": "code",
   "execution_count": null,
   "metadata": {
    "id": "c90rpfcWlZNQ"
   },
   "outputs": [
    {
     "name": "stdout",
     "output_type": "stream",
     "text": [
      "mean 0.4343460696050466\n",
      "std 0.02296525438953359\n"
     ]
    }
   ],
   "source": [
    "post_pred_mat_pq = estimate_vi_model_rate(x_poststrat, data_to_idx, model_pq)\n",
    "estimate = np.dot(np.array([poststrat_df['n']]), \n",
    "                  np.array(post_pred_mat_pq)) / sum(poststrat_df['n'])\n",
    "print('mean', np.mean(estimate))\n",
    "print('std', np.std(estimate))"
   ]
  },
  {
   "cell_type": "code",
   "execution_count": null,
   "metadata": {},
   "outputs": [],
   "source": [
    "# post_pred_mat_pq_msc = estimate_vi_model_rate(x_poststrat, data_to_idx, model_pq_ex2_eps)\n",
    "# estimate = np.dot(np.array([poststrat_df['n']]), \n",
    "#                   np.array(post_pred_mat_pq_msc)) / sum(poststrat_df['n'])\n",
    "# print('mean', np.mean(estimate))\n",
    "# print('std', np.std(estimate))"
   ]
  },
  {
   "cell_type": "code",
   "execution_count": null,
   "metadata": {
    "colab": {
     "base_uri": "https://localhost:8080/"
    },
    "executionInfo": {
     "elapsed": 5134,
     "status": "ok",
     "timestamp": 1630239802190,
     "user": {
      "displayName": "Liyi Zhang",
      "photoUrl": "https://lh3.googleusercontent.com/a-/AOh14Gh9V3hIAgWLKOIy-Olktu7QU6Q3a0l2eUzzAf2j=s64",
      "userId": "06658486172350999592"
     },
     "user_tz": -480
    },
    "id": "PE-M-KtalZNQ",
    "outputId": "8d55cacb-6a7a-4c9b-97f6-2f1084b940a5"
   },
   "outputs": [],
   "source": [
    "# post_pred_mat_qp_flow = estimate_vi_model_rate(x_poststrat, data_to_idx, model_qp_flow)\n",
    "# estimate = np.dot(np.array([poststrat_df['n']]), \n",
    "#                   np.array(post_pred_mat_qp_flow)) / sum(poststrat_df['n'])\n",
    "# print('mean', np.mean(estimate))\n",
    "# print('std', np.std(estimate))"
   ]
  },
  {
   "cell_type": "code",
   "execution_count": null,
   "metadata": {
    "colab": {
     "base_uri": "https://localhost:8080/"
    },
    "executionInfo": {
     "elapsed": 1099,
     "status": "ok",
     "timestamp": 1630239803259,
     "user": {
      "displayName": "Liyi Zhang",
      "photoUrl": "https://lh3.googleusercontent.com/a-/AOh14Gh9V3hIAgWLKOIy-Olktu7QU6Q3a0l2eUzzAf2j=s64",
      "userId": "06658486172350999592"
     },
     "user_tz": -480
    },
    "id": "CLnGz3lSlZNR",
    "outputId": "421de4c0-5925-4753-a95a-b5cca6a11bef"
   },
   "outputs": [],
   "source": [
    "pass\n",
    "# post_pred_mat_pq_flow = estimate_vi_model_rate(x_poststrat, data_to_idx, model_pq_flow)\n",
    "# estimate = np.dot(np.array([poststrat_df['n']]), \n",
    "#                   np.array(post_pred_mat_pq_flow)) / sum(poststrat_df['n'])\n",
    "# print('mean', np.mean(estimate))\n",
    "# print('std', np.std(estimate))"
   ]
  },
  {
   "cell_type": "markdown",
   "metadata": {
    "id": "wqTZ0Hs-lZNR"
   },
   "source": [
    "Compare parameters under different number of VI samples"
   ]
  },
  {
   "cell_type": "code",
   "execution_count": null,
   "metadata": {
    "colab": {
     "base_uri": "https://localhost:8080/",
     "height": 265
    },
    "collapsed": true,
    "executionInfo": {
     "elapsed": 4267,
     "status": "ok",
     "timestamp": 1628143742224,
     "user": {
      "displayName": "Liyi Zhang",
      "photoUrl": "https://lh3.googleusercontent.com/a-/AOh14Gh9V3hIAgWLKOIy-Olktu7QU6Q3a0l2eUzzAf2j=s64",
      "userId": "06658486172350999592"
     },
     "user_tz": -480
    },
    "id": "GHzTL0MGlZNR",
    "outputId": "0f16d19a-db87-406f-d886-bf784fa62e65"
   },
   "outputs": [],
   "source": [
    "# path = 'results/survey/vi_klpq_gaussian/2021-09-01-162133/'\n",
    "# gamma = np.genfromtxt(path + 'gamma.csv')\n",
    "# plt.plot(gamma[:,0], label='gamma_1')\n",
    "# plt.plot(gamma[:,1], label='gamma_2')\n",
    "# plt.plot(gamma[:,2], label='gamma_3')\n",
    "# plt.plot(gamma[:,3], label='gamma_4')\n",
    "# plt.plot(gamma[:,4], label='gamma_5')\n",
    "# plt.show()"
   ]
  },
  {
   "cell_type": "code",
   "execution_count": null,
   "metadata": {
    "collapsed": true,
    "id": "ksUPfGrElZNS",
    "outputId": "933592ab-a404-4018-abad-c4468ab29cc4"
   },
   "outputs": [],
   "source": [
    "# path = 'results/survey/vi_klpq_gaussian/2021-07-02-164958/'\n",
    "# gamma_1samp = np.genfromtxt(path + 'gamma.csv')\n",
    "# plt.plot(gamma_1samp[:,0], label='gamma_1')\n",
    "# plt.plot(gamma_1samp[:,1], label='gamma_2')\n",
    "# plt.plot(gamma_1samp[:,2], label='gamma_3')\n",
    "# plt.plot(gamma_1samp[:,3], label='gamma_4')\n",
    "# plt.plot(gamma_1samp[:,4], label='gamma_5')\n",
    "# plt.show()"
   ]
  },
  {
   "cell_type": "markdown",
   "metadata": {},
   "source": [
    "### By-state predictions"
   ]
  },
  {
   "cell_type": "markdown",
   "metadata": {
    "id": "nkV4xgCHlZNS"
   },
   "source": [
    "By state"
   ]
  },
  {
   "cell_type": "code",
   "execution_count": null,
   "metadata": {},
   "outputs": [],
   "source": [
    "# post_pred_mat_qp = estimate_vi_model_rate(x_poststrat, data_to_idx, model_qp)\n",
    "# state_means_qp = []\n",
    "# state_stds_qp = []\n",
    "# for state in list_of_states:\n",
    "#     is_state = np.array([poststrat_df['state'] == state])\n",
    "#     estimate = np.dot(np.multiply(np.array([poststrat_df['n']]), is_state), \n",
    "#                       np.array(post_pred_mat_qp)) / np.sum(np.multiply(np.array([poststrat_df['n']]), is_state))\n",
    "#     state_means_qp.append(np.mean(estimate))\n",
    "#     state_stds_qp.append(np.std(estimate))\n",
    "#     print(state)\n",
    "#     print('mean', np.mean(estimate))\n",
    "#     print('std', np.std(estimate))\n",
    "# state_means_qp = np.array(state_means_qp)\n",
    "# state_stds_qp = np.array(state_stds_qp)"
   ]
  },
  {
   "cell_type": "code",
   "execution_count": 55,
   "metadata": {
    "id": "_53LZzJR5VGi"
   },
   "outputs": [
    {
     "name": "stdout",
     "output_type": "stream",
     "text": [
      "HI\n",
      "mean 0.35083895902513423\n",
      "std 0.045514782771735054\n",
      "CA\n",
      "mean 0.3811066971954942\n",
      "std 0.03010147337325628\n",
      "VT\n",
      "mean 0.3973144201114362\n",
      "std 0.04737873200650373\n",
      "MA\n",
      "mean 0.34226028368163913\n",
      "std 0.037229892091678554\n",
      "MD\n",
      "mean 0.3484454241836251\n",
      "std 0.03766045822075124\n",
      "NY\n",
      "mean 0.35192001040465226\n",
      "std 0.031723779542632315\n",
      "IL\n",
      "mean 0.398952076635959\n",
      "std 0.03475328535520485\n",
      "WA\n",
      "mean 0.37651624555728486\n",
      "std 0.03793167222310804\n",
      "RI\n",
      "mean 0.37308226502154057\n",
      "std 0.046451263265959074\n",
      "NJ\n",
      "mean 0.36750558376456466\n",
      "std 0.037268581047846465\n",
      "CT\n",
      "mean 0.3502699591716917\n",
      "std 0.0412128700046722\n",
      "OR\n",
      "mean 0.38626164650561307\n",
      "std 0.04264738931812452\n",
      "DE\n",
      "mean 0.44656129871905187\n",
      "std 0.04566379915928619\n",
      "NM\n",
      "mean 0.39725131222465765\n",
      "std 0.0417116985422804\n",
      "VA\n",
      "mean 0.436291310429568\n",
      "std 0.03695241109055791\n",
      "CO\n",
      "mean 0.40974538888854556\n",
      "std 0.040360882456798336\n",
      "ME\n",
      "mean 0.42641882018250354\n",
      "std 0.04881446888729939\n",
      "NV\n",
      "mean 0.39473753689295665\n",
      "std 0.03969884252070336\n",
      "MN\n",
      "mean 0.4269229083725784\n",
      "std 0.04376134197727272\n",
      "NH\n",
      "mean 0.4098715662390516\n",
      "std 0.045696987611908185\n",
      "MI\n",
      "mean 0.4356517731124821\n",
      "std 0.03855008047045349\n",
      "PA\n",
      "mean 0.4706994736336882\n",
      "std 0.036293511068013616\n",
      "WI\n",
      "mean 0.44284763228960544\n",
      "std 0.041999769260719626\n",
      "FL\n",
      "mean 0.39622387662883257\n",
      "std 0.03129536122524468\n",
      "AZ\n",
      "mean 0.4567840813267653\n",
      "std 0.03839880734568364\n",
      "NC\n",
      "mean 0.4476364337518453\n",
      "std 0.03826211913823713\n",
      "GA\n",
      "mean 0.5162501864478201\n",
      "std 0.03696654455620353\n",
      "OH\n",
      "mean 0.45931585119478796\n",
      "std 0.038361271083736104\n",
      "TX\n",
      "mean 0.5074179592525331\n",
      "std 0.03138989402495014\n",
      "IA\n",
      "mean 0.45471562836934865\n",
      "std 0.046230708973318456\n",
      "SC\n",
      "mean 0.49567336174857235\n",
      "std 0.043077787182026095\n",
      "AK\n",
      "mean 0.4466025277532155\n",
      "std 0.04788282104086409\n",
      "MS\n",
      "mean 0.5294381045988447\n",
      "std 0.0438187262327012\n",
      "MO\n",
      "mean 0.4734738271473201\n",
      "std 0.041715121059045\n",
      "IN\n",
      "mean 0.4438510221002341\n",
      "std 0.04104185061450363\n",
      "LA\n",
      "mean 0.48247489132718785\n",
      "std 0.0421507441929959\n",
      "MT\n",
      "mean 0.47011869056979183\n",
      "std 0.04768208579094062\n",
      "KS\n",
      "mean 0.5021190061505262\n",
      "std 0.045558285182902794\n",
      "UT\n",
      "mean 0.453877790626971\n",
      "std 0.04748060172318722\n",
      "NE\n",
      "mean 0.4937567037058773\n",
      "std 0.04631636236513276\n",
      "TN\n",
      "mean 0.4943280803527745\n",
      "std 0.04081256946754162\n",
      "AR\n",
      "mean 0.5157294463366853\n",
      "std 0.04409280568450128\n",
      "AL\n",
      "mean 0.5084856474606873\n",
      "std 0.041292343486769086\n",
      "KY\n",
      "mean 0.5337785356646572\n",
      "std 0.04304134636056178\n",
      "SD\n",
      "mean 0.5162548663036399\n",
      "std 0.04954284981076513\n",
      "ID\n",
      "mean 0.4499274961589121\n",
      "std 0.04704930304087801\n",
      "OK\n",
      "mean 0.5700926439577293\n",
      "std 0.042712989564444255\n",
      "ND\n",
      "mean 0.5048492354217485\n",
      "std 0.050230365239128195\n",
      "WV\n",
      "mean 0.5467428611508879\n",
      "std 0.04591210026182209\n",
      "WY\n",
      "mean 0.5196104540199061\n",
      "std 0.048610486384842666\n"
     ]
    }
   ],
   "source": [
    "post_pred_mat_pq = estimate_vi_model_rate(x_poststrat, data_to_idx, model_pq)\n",
    "state_means_pq = []\n",
    "state_stds_pq = []\n",
    "for state in list_of_states:\n",
    "    is_state = np.array([poststrat_df['state'] == state])\n",
    "    estimate = np.dot(np.multiply(np.array([poststrat_df['n']]), is_state), \n",
    "                      np.array(post_pred_mat_pq)) / np.sum(np.multiply(np.array([poststrat_df['n']]), is_state))\n",
    "    state_means_pq.append(np.mean(estimate))\n",
    "    state_stds_pq.append(np.std(estimate))\n",
    "    print(state)\n",
    "    print('mean', np.mean(estimate))\n",
    "    print('std', np.std(estimate))\n",
    "state_means_pq = np.array(state_means_pq)\n",
    "state_stds_pq = np.array(state_stds_pq)"
   ]
  },
  {
   "cell_type": "code",
   "execution_count": null,
   "metadata": {},
   "outputs": [],
   "source": [
    "# post_pred_mat_pq_msc = estimate_vi_model_rate(x_poststrat, data_to_idx, model_pq_ex2_eps)\n",
    "# state_means_pq_ex2_eps = []\n",
    "# state_stds_pq_ex2_eps = []\n",
    "# for state in list_of_states:\n",
    "#     is_state = np.array([poststrat_df['state'] == state])\n",
    "#     estimate = np.dot(np.multiply(np.array([poststrat_df['n']]), is_state), \n",
    "#                       np.array(post_pred_mat_pq_msc)) / np.sum(np.multiply(np.array([poststrat_df['n']]), is_state))\n",
    "#     state_means_pq_ex2_eps.append(np.mean(estimate))\n",
    "#     state_stds_pq_ex2_eps.append(np.std(estimate))\n",
    "#     print(state)\n",
    "#     print('mean', np.mean(estimate))\n",
    "#     print('std', np.std(estimate))\n",
    "# state_means_pq_msc = np.array(state_means_pq_ex2_eps)\n",
    "# state_stds_pq_ex2_eps = np.array(state_stds_pq_ex2_eps)"
   ]
  },
  {
   "cell_type": "code",
   "execution_count": null,
   "metadata": {},
   "outputs": [
    {
     "name": "stdout",
     "output_type": "stream",
     "text": [
      "HI\n",
      "mean 0.36020810902384814\n",
      "std 0.03638140730859602\n",
      "CA\n",
      "mean 0.37518992333247286\n",
      "std 0.02301274033618245\n",
      "VT\n",
      "mean 0.38538672732129875\n",
      "std 0.03548017934024563\n",
      "MA\n",
      "mean 0.3433566605364496\n",
      "std 0.028673386369258484\n",
      "MD\n",
      "mean 0.350750077906214\n",
      "std 0.030631656094274186\n",
      "NY\n",
      "mean 0.3542579600052468\n",
      "std 0.024081133523787195\n",
      "IL\n",
      "mean 0.40015848938000514\n",
      "std 0.028026719275279947\n",
      "WA\n",
      "mean 0.38310708005183564\n",
      "std 0.03041410794691814\n",
      "RI\n",
      "mean 0.3700079061625178\n",
      "std 0.03465361023758425\n",
      "NJ\n",
      "mean 0.36868284334838847\n",
      "std 0.028581637490254608\n",
      "CT\n",
      "mean 0.35932695661233255\n",
      "std 0.0328444956315099\n",
      "OR\n",
      "mean 0.39456061165010414\n",
      "std 0.032401949150551376\n",
      "DE\n",
      "mean 0.44190509064181377\n",
      "std 0.03461731556943685\n",
      "NM\n",
      "mean 0.4011525628856792\n",
      "std 0.03329882471476353\n",
      "VA\n",
      "mean 0.43295283367575593\n",
      "std 0.028661368604935716\n",
      "CO\n",
      "mean 0.4133084788124115\n",
      "std 0.032747398840405846\n",
      "ME\n",
      "mean 0.42789511376938383\n",
      "std 0.03541709390031422\n",
      "NV\n",
      "mean 0.3991248952957\n",
      "std 0.031024325308917237\n",
      "MN\n",
      "mean 0.432417289537546\n",
      "std 0.03311185031770461\n",
      "NH\n",
      "mean 0.41887325342400944\n",
      "std 0.035559762557583835\n",
      "MI\n",
      "mean 0.4344248941769447\n",
      "std 0.029828268900280938\n",
      "PA\n",
      "mean 0.46777547481405407\n",
      "std 0.027534132708432888\n",
      "WI\n",
      "mean 0.44399683175409493\n",
      "std 0.0332538622496655\n",
      "FL\n",
      "mean 0.4080879225600338\n",
      "std 0.024614147314682075\n",
      "AZ\n",
      "mean 0.45796699353393344\n",
      "std 0.02967492811110477\n",
      "NC\n",
      "mean 0.45233815146187717\n",
      "std 0.030004135093975016\n",
      "GA\n",
      "mean 0.5123258183267012\n",
      "std 0.029920631544370073\n",
      "OH\n",
      "mean 0.45793222256110167\n",
      "std 0.029791840566722957\n",
      "TX\n",
      "mean 0.5068335601230368\n",
      "std 0.024297972793182902\n",
      "IA\n",
      "mean 0.4539449896594817\n",
      "std 0.03550021269186228\n",
      "SC\n",
      "mean 0.4955066260093466\n",
      "std 0.03232180305769879\n",
      "AK\n",
      "mean 0.45411536943639086\n",
      "std 0.03548421858164175\n",
      "MS\n",
      "mean 0.5134985155266986\n",
      "std 0.0349720392320936\n",
      "MO\n",
      "mean 0.4665993565850435\n",
      "std 0.03149435375743347\n",
      "IN\n",
      "mean 0.45762730504934873\n",
      "std 0.032423019094047496\n",
      "LA\n",
      "mean 0.48624826358929885\n",
      "std 0.033503163570445235\n",
      "MT\n",
      "mean 0.47882565568354785\n",
      "std 0.03696317477440075\n",
      "KS\n",
      "mean 0.49475188542414356\n",
      "std 0.03447052002390584\n",
      "UT\n",
      "mean 0.46200962908972104\n",
      "std 0.034245511996415234\n",
      "NE\n",
      "mean 0.500640674921528\n",
      "std 0.0352255273762771\n",
      "TN\n",
      "mean 0.4975998724798018\n",
      "std 0.031747916007601115\n",
      "AR\n",
      "mean 0.5210393953689029\n",
      "std 0.034215036565102296\n",
      "AL\n",
      "mean 0.5061915808064705\n",
      "std 0.03292556568957759\n",
      "KY\n",
      "mean 0.5368421787713152\n",
      "std 0.033109463854879694\n",
      "SD\n",
      "mean 0.5105194965009396\n",
      "std 0.03730160284828048\n",
      "ID\n",
      "mean 0.46961339855253226\n",
      "std 0.03484177749524251\n",
      "OK\n",
      "mean 0.5655686163936501\n",
      "std 0.033580417394256365\n",
      "ND\n",
      "mean 0.510984314832244\n",
      "std 0.03735339871916472\n",
      "WV\n",
      "mean 0.5526775434459352\n",
      "std 0.0354998608983205\n",
      "WY\n",
      "mean 0.5320339490412976\n",
      "std 0.03807949836681303\n"
     ]
    }
   ],
   "source": [
    "post_pred_mat_pq_msc = estimate_vi_model_rate(x_poststrat, data_to_idx, model_pq_ex2_warp)\n",
    "state_means_pq_ex2_warp = []\n",
    "state_stds_pq_ex2_warp = []\n",
    "for state in list_of_states:\n",
    "    is_state = np.array([poststrat_df['state'] == state])\n",
    "    estimate = np.dot(np.multiply(np.array([poststrat_df['n']]), is_state), \n",
    "                      np.array(post_pred_mat_pq_msc)) / np.sum(np.multiply(np.array([poststrat_df['n']]), is_state))\n",
    "    state_means_pq_ex2_warp.append(np.mean(estimate))\n",
    "    state_stds_pq_ex2_warp.append(np.std(estimate))\n",
    "    print(state)\n",
    "    print('mean', np.mean(estimate))\n",
    "    print('std', np.std(estimate))\n",
    "state_means_pq_ex2_warp = np.array(state_means_pq_ex2_warp)\n",
    "state_stds_pq_ex2_warp = np.array(state_stds_pq_ex2_warp)"
   ]
  },
  {
   "cell_type": "code",
   "execution_count": null,
   "metadata": {},
   "outputs": [
    {
     "data": {
      "text/plain": [
       "1"
      ]
     },
     "execution_count": 51,
     "metadata": {},
     "output_type": "execute_result"
    }
   ],
   "source": [
    "len(estimate)"
   ]
  },
  {
   "cell_type": "code",
   "execution_count": 49,
   "metadata": {},
   "outputs": [
    {
     "name": "stdout",
     "output_type": "stream",
     "text": [
      "HI\n",
      "mean 0.35831790797494134\n",
      "std 0.0447257486264397\n",
      "CA\n",
      "mean 0.3784676879227611\n",
      "std 0.02959880419280698\n",
      "VT\n",
      "mean 0.3908227994405959\n",
      "std 0.04650119327876723\n",
      "MA\n",
      "mean 0.3412874145060871\n",
      "std 0.03640627732457338\n",
      "MD\n",
      "mean 0.3429812627781031\n",
      "std 0.03658183547090757\n",
      "NY\n",
      "mean 0.3533940080753754\n",
      "std 0.030874552343244863\n",
      "IL\n",
      "mean 0.401632634942411\n",
      "std 0.03435117198751584\n",
      "WA\n",
      "mean 0.38054980293251356\n",
      "std 0.03775931374764106\n",
      "RI\n",
      "mean 0.36302595813535954\n",
      "std 0.044931078818322805\n",
      "NJ\n",
      "mean 0.36902550664162453\n",
      "std 0.03596137652137714\n",
      "CT\n",
      "mean 0.3532468215497802\n",
      "std 0.04060624716602864\n",
      "OR\n",
      "mean 0.3906405756061964\n",
      "std 0.04249667126735412\n",
      "DE\n",
      "mean 0.4418084714395136\n",
      "std 0.0457369214263063\n",
      "NM\n",
      "mean 0.4010928386637457\n",
      "std 0.043142420131397886\n",
      "VA\n",
      "mean 0.4273030703810495\n",
      "std 0.03627754350573634\n",
      "CO\n",
      "mean 0.4124834884679728\n",
      "std 0.041250815268291524\n",
      "ME\n",
      "mean 0.4286410786023935\n",
      "std 0.04683305291843891\n",
      "NV\n",
      "mean 0.39387419581632466\n",
      "std 0.03963949149271982\n",
      "MN\n",
      "mean 0.43355989548841556\n",
      "std 0.0426617099596839\n",
      "NH\n",
      "mean 0.4162284432803072\n",
      "std 0.04659609841343457\n",
      "MI\n",
      "mean 0.4353442652038703\n",
      "std 0.038189871463623626\n",
      "PA\n",
      "mean 0.47620323395018715\n",
      "std 0.0350095363115304\n",
      "WI\n",
      "mean 0.4417124617262914\n",
      "std 0.04248942001452598\n",
      "FL\n",
      "mean 0.40149803120596833\n",
      "std 0.030875774664630967\n",
      "AZ\n",
      "mean 0.46231013592720693\n",
      "std 0.03737552668503992\n",
      "NC\n",
      "mean 0.45139835464154787\n",
      "std 0.03722595204985964\n",
      "GA\n",
      "mean 0.5249763396144594\n",
      "std 0.037210784012298236\n",
      "OH\n",
      "mean 0.45671800733278417\n",
      "std 0.03721519035053178\n",
      "TX\n",
      "mean 0.5100491311344134\n",
      "std 0.030873188706226802\n",
      "IA\n",
      "mean 0.4524478507911096\n",
      "std 0.04516614690814359\n",
      "SC\n",
      "mean 0.5009519067255072\n",
      "std 0.041136220078385834\n",
      "AK\n",
      "mean 0.45145158053747664\n",
      "std 0.0468642882200456\n",
      "MS\n",
      "mean 0.521946844858676\n",
      "std 0.044387065218139975\n",
      "MO\n",
      "mean 0.46591797031383364\n",
      "std 0.03973803535661884\n",
      "IN\n",
      "mean 0.4511304759152285\n",
      "std 0.041103075665088924\n",
      "LA\n",
      "mean 0.4860598917218266\n",
      "std 0.04242078850413608\n",
      "MT\n",
      "mean 0.4722595963352097\n",
      "std 0.04667743714706709\n",
      "KS\n",
      "mean 0.5039130130944853\n",
      "std 0.04562067307173438\n",
      "UT\n",
      "mean 0.4599878848070281\n",
      "std 0.046393856868635494\n",
      "NE\n",
      "mean 0.5046723068286916\n",
      "std 0.04713469137867958\n",
      "TN\n",
      "mean 0.4931476678949307\n",
      "std 0.03947862066095128\n",
      "AR\n",
      "mean 0.5191610616261711\n",
      "std 0.04497326702083268\n",
      "AL\n",
      "mean 0.5084212410949481\n",
      "std 0.04116222406466412\n",
      "KY\n",
      "mean 0.5352525398308763\n",
      "std 0.042878772818795256\n",
      "SD\n",
      "mean 0.5152043214643414\n",
      "std 0.048690116585828155\n",
      "ID\n",
      "mean 0.45855760716081884\n",
      "std 0.04591236859626812\n",
      "OK\n",
      "mean 0.5713972347905883\n",
      "std 0.0416821941216366\n",
      "ND\n",
      "mean 0.5064224420867952\n",
      "std 0.048516728170804164\n",
      "WV\n",
      "mean 0.5467475283849556\n",
      "std 0.047006046335446416\n",
      "WY\n",
      "mean 0.5302957401260894\n",
      "std 0.04890236775612278\n"
     ]
    }
   ],
   "source": [
    "post_pred_mat_pq_msc = estimate_vi_model_rate(x_poststrat, data_to_idx, model_pq_ex2_warp_rao)\n",
    "state_means_pq_ex2_warp_rao = []\n",
    "state_stds_pq_ex2_warp_rao = []\n",
    "for state in list_of_states:\n",
    "    is_state = np.array([poststrat_df['state'] == state])\n",
    "    estimate = np.dot(np.multiply(np.array([poststrat_df['n']]), is_state), \n",
    "                      np.array(post_pred_mat_pq_msc)) / np.sum(np.multiply(np.array([poststrat_df['n']]), is_state))\n",
    "    state_means_pq_ex2_warp_rao.append(np.mean(estimate))\n",
    "    state_stds_pq_ex2_warp_rao.append(np.std(estimate))\n",
    "    print(state)\n",
    "    print('mean', np.mean(estimate))\n",
    "    print('std', np.std(estimate))\n",
    "state_means_pq_ex2_warp_rao = np.array(state_means_pq_ex2_warp_rao)\n",
    "state_stds_pq_ex2_warp_rao = np.array(state_stds_pq_ex2_warp_rao)"
   ]
  },
  {
   "cell_type": "code",
   "execution_count": 50,
   "metadata": {
    "colab": {
     "base_uri": "https://localhost:8080/"
    },
    "executionInfo": {
     "elapsed": 20629,
     "status": "ok",
     "timestamp": 1630239841270,
     "user": {
      "displayName": "Liyi Zhang",
      "photoUrl": "https://lh3.googleusercontent.com/a-/AOh14Gh9V3hIAgWLKOIy-Olktu7QU6Q3a0l2eUzzAf2j=s64",
      "userId": "06658486172350999592"
     },
     "user_tz": -480
    },
    "id": "E_cMz2XUlZNU",
    "outputId": "0fa95964-0eab-4564-f750-f4482078aa1c"
   },
   "outputs": [],
   "source": [
    "# post_pred_mat_qp_flow = estimate_vi_model_rate(x_poststrat, data_to_idx, model_qp_flow)\n",
    "# state_means_qp_flow = []\n",
    "# state_stds_qp_flow = []\n",
    "# for state in list_of_states:\n",
    "#     is_state = np.array([poststrat_df['state'] == state])\n",
    "#     estimate = np.dot(np.multiply(np.array([poststrat_df['n']]), is_state), \n",
    "#                       np.array(post_pred_mat_qp_flow)) / np.sum(np.multiply(np.array([poststrat_df['n']]), is_state))\n",
    "#     state_means_qp_flow.append(np.mean(estimate))\n",
    "#     state_stds_qp_flow.append(np.std(estimate))\n",
    "#     print(state)\n",
    "#     print('mean', np.mean(estimate))\n",
    "#     print('std', np.std(estimate))\n",
    "# state_means_qp_flow = np.array(state_means_qp_flow)\n",
    "# state_stds_qp_flow = np.array(state_stds_qp_flow)"
   ]
  },
  {
   "cell_type": "code",
   "execution_count": 51,
   "metadata": {
    "colab": {
     "base_uri": "https://localhost:8080/"
    },
    "executionInfo": {
     "elapsed": 19775,
     "status": "ok",
     "timestamp": 1630239861011,
     "user": {
      "displayName": "Liyi Zhang",
      "photoUrl": "https://lh3.googleusercontent.com/a-/AOh14Gh9V3hIAgWLKOIy-Olktu7QU6Q3a0l2eUzzAf2j=s64",
      "userId": "06658486172350999592"
     },
     "user_tz": -480
    },
    "id": "t9nNd6QZlZNV",
    "outputId": "586a3c83-b6a3-49a9-be38-ba930feaac77"
   },
   "outputs": [],
   "source": [
    "pass\n",
    "# post_pred_mat_pq_flow = estimate_vi_model_rate(x_poststrat, data_to_idx, model_pq_flow)\n",
    "# state_means_pq_flow = []\n",
    "# state_stds_pq_flow = []\n",
    "# for state in list_of_states:\n",
    "#     is_state = np.array([poststrat_df['state'] == state])\n",
    "#     estimate = np.dot(np.multiply(np.array([poststrat_df['n']]), is_state), \n",
    "#                       np.array(post_pred_mat_pq_flow)) / np.sum(np.multiply(np.array([poststrat_df['n']]), is_state))\n",
    "#     state_means_pq_flow.append(np.mean(estimate))\n",
    "#     state_stds_pq_flow.append(np.std(estimate))\n",
    "#     print(state)\n",
    "#     print('mean', np.mean(estimate))\n",
    "#     print('std', np.std(estimate))\n",
    "# state_means_pq_flow = np.array(state_means_pq_flow)\n",
    "# state_stds_pq_flow = np.array(state_stds_pq_flow)"
   ]
  },
  {
   "cell_type": "code",
   "execution_count": null,
   "metadata": {
    "id": "DApMo4_E5Sx5"
   },
   "outputs": [],
   "source": []
  },
  {
   "cell_type": "code",
   "execution_count": 52,
   "metadata": {
    "id": "hfyjT2urlZNV"
   },
   "outputs": [],
   "source": [
    "state_means_unadj_5000 = []\n",
    "state_stds_unadj_5000 = []\n",
    "for state in list_of_states:\n",
    "    is_state = np.array([cces['state'] == state])\n",
    "    n = np.sum(is_state)\n",
    "    mean = np.sum(np.multiply(np.array([cces['abortion']]), is_state))/n\n",
    "    state_means_unadj_5000.append(mean)\n",
    "    state_stds_unadj_5000.append(get_se_bernoulli(mean, n))\n",
    "state_means_unadj_5000 = np.array(state_means_unadj_5000)\n",
    "state_stds_unadj_5000 = np.array(state_stds_unadj_5000)"
   ]
  },
  {
   "cell_type": "code",
   "execution_count": 53,
   "metadata": {
    "id": "qfPbgv5qlZNV"
   },
   "outputs": [],
   "source": [
    "state_means_unadj_60000 = []\n",
    "state_stds_unadj_60000 = []\n",
    "for state in list_of_states:\n",
    "    is_state = np.array([cces_all['state'] == state])\n",
    "    n = np.sum(is_state)\n",
    "    mean = np.sum(np.multiply(np.array([cces_all['abortion']]), is_state))/n\n",
    "    state_means_unadj_60000.append(mean)\n",
    "    state_stds_unadj_60000.append(get_se_bernoulli(mean, n))\n",
    "state_means_unadj_60000 = np.array(state_means_unadj_60000)\n",
    "state_stds_unadj_60000 = np.array(state_stds_unadj_60000)"
   ]
  },
  {
   "cell_type": "code",
   "execution_count": null,
   "metadata": {
    "colab": {
     "base_uri": "https://localhost:8080/",
     "height": 378
    },
    "executionInfo": {
     "elapsed": 13,
     "status": "ok",
     "timestamp": 1630239861759,
     "user": {
      "displayName": "Liyi Zhang",
      "photoUrl": "https://lh3.googleusercontent.com/a-/AOh14Gh9V3hIAgWLKOIy-Olktu7QU6Q3a0l2eUzzAf2j=s64",
      "userId": "06658486172350999592"
     },
     "user_tz": -480
    },
    "id": "ctDJQfo7lZNW",
    "outputId": "537423e8-d75b-4565-f273-58ae1172a32f"
   },
   "outputs": [
    {
     "data": {
      "image/png": "[encoded data removed]",
      "text/plain": [
       "<Figure size 1080x432 with 1 Axes>"
      ]
     },
     "metadata": {
      "needs_background": "light"
     },
     "output_type": "display_data"
    }
   ],
   "source": [
    "plt.figure(figsize=(15, 6))\n",
    "plt.scatter(list_of_states, state_means_unadj_60000, color='g', label='60000 unadjusted')\n",
    "plt.scatter(list_of_states, state_means_unadj_5000, color='r', label='5000 unadjusted')\n",
    "plt.scatter(list_of_states, state_means_pq, color='b', label='TSC')\n",
    "\n",
    "\n",
    "plt.errorbar(list_of_states, \n",
    "             state_means_unadj_60000, \n",
    "             yerr=1.96*state_stds_unadj_60000, \n",
    "             linestyle='', color='g', alpha=0.3, capsize=5.0)\n",
    "plt.errorbar(list_of_states, \n",
    "             state_means_unadj_5000, \n",
    "             yerr=1.96*state_stds_unadj_5000, \n",
    "             linestyle='', color='r', alpha=0.3, capsize=5.0)\n",
    "plt.errorbar(list_of_states, \n",
    "             state_means_pq, \n",
    "             yerr=1.96*state_stds_pq, \n",
    "             linestyle='', color='b', alpha=0.3, capsize=5.0)\n",
    "\n",
    "plt.ylim(0, 1)\n",
    "plt.legend()\n",
    "plt.savefig(Path('figs') / 'survey_tsc_unadj.png')\n",
    "plt.show()"
   ]
  },
  {
   "cell_type": "code",
   "execution_count": null,
   "metadata": {},
   "outputs": [],
   "source": [
    "# plt.figure(figsize=(15, 6))\n",
    "# plt.scatter(list_of_states, state_means_unadj_60000, color='g', label='60000 unadjusted')\n",
    "# plt.scatter(list_of_states, state_means_pq_ex2_eps, color='black', label=r'Ex$^2$MCMC, space=eps')\n",
    "# plt.scatter(list_of_states, state_means_pq, color='b', label='TSC')\n",
    "# plt.errorbar(list_of_states, \n",
    "#              state_means_unadj_60000, \n",
    "#              yerr=1.96*state_stds_unadj_60000, \n",
    "#              linestyle='', color='g', alpha=0.3, capsize=5.0)\n",
    "# plt.errorbar(list_of_states, \n",
    "#              state_means_pq_ex2_eps, \n",
    "#              yerr=1.96*state_stds_pq_ex2_eps, \n",
    "#              linestyle='', color='black', alpha=0.3, capsize=5.0)\n",
    "# plt.errorbar(list_of_states, \n",
    "#              state_means_pq, \n",
    "#              yerr=1.96*state_stds_pq, \n",
    "#              linestyle='', color='b', alpha=0.3, capsize=5.0)\n",
    "# plt.ylim(0, 1)\n",
    "# plt.legend()\n",
    "# plt.savefig(Path('figs') / 'survey_tsc_ex2_eps.png')\n",
    "# plt.show()"
   ]
  },
  {
   "cell_type": "code",
   "execution_count": null,
   "metadata": {},
   "outputs": [
    {
     "data": {
      "image/png": "[encoded data removed]",
      "text/plain": [
       "<Figure size 1080x432 with 1 Axes>"
      ]
     },
     "metadata": {
      "needs_background": "light"
     },
     "output_type": "display_data"
    }
   ],
   "source": [
    "plt.figure(figsize=(15, 6))\n",
    "plt.scatter(list_of_states, state_means_unadj_60000, color='g', label='60000 unadjusted')\n",
    "plt.scatter(list_of_states, state_means_pq_ex2_warp, color='red', label=fr'Ex$^2$MCMC, space: {space}')\n",
    "plt.scatter(list_of_states, state_means_pq, color='b', label='TSC')\n",
    "plt.errorbar(list_of_states, \n",
    "             state_means_unadj_60000, \n",
    "             yerr=1.96*state_stds_unadj_60000, \n",
    "             linestyle='', color='g', alpha=0.3, capsize=5.0)\n",
    "plt.errorbar(list_of_states, \n",
    "             state_means_pq_ex2_warp, \n",
    "             yerr=1.96*state_stds_pq_ex2_warp, \n",
    "             linestyle='', color='red', alpha=0.3, capsize=5.0)\n",
    "plt.errorbar(list_of_states, \n",
    "             state_means_pq, \n",
    "             yerr=1.96*state_stds_pq, \n",
    "             linestyle='', color='b', alpha=0.3, capsize=5.0)\n",
    "plt.ylim(0, 1)\n",
    "plt.legend()\n",
    "plt.savefig(Path('figs') / f'survey_tsc_ex2_{space}.png')\n",
    "plt.show()"
   ]
  },
  {
   "cell_type": "code",
   "execution_count": 57,
   "metadata": {},
   "outputs": [
    {
     "data": {
      "image/png": "[encoded data removed]",
      "text/plain": [
       "<Figure size 1080x432 with 1 Axes>"
      ]
     },
     "metadata": {
      "needs_background": "light"
     },
     "output_type": "display_data"
    }
   ],
   "source": [
    "plt.figure(figsize=(15, 6))\n",
    "plt.scatter(list_of_states, state_means_unadj_60000, color='g', label='60000 unadjusted')\n",
    "plt.scatter(list_of_states, state_means_pq_ex2_warp_rao, color='red', label=fr'Ex$^2$MCMC, space: {space}, Rao-Blackwellized')\n",
    "plt.scatter(list_of_states, state_means_pq, color='b', label='TSC')\n",
    "plt.errorbar(list_of_states, \n",
    "             state_means_unadj_60000, \n",
    "             yerr=1.96*state_stds_unadj_60000, \n",
    "             linestyle='', color='g', alpha=0.3, capsize=5.0)\n",
    "plt.errorbar(list_of_states, \n",
    "             state_means_pq_ex2_warp_rao, \n",
    "             yerr=1.96*state_stds_pq_ex2_warp_rao, \n",
    "             linestyle='', color='red', alpha=0.3, capsize=5.0)\n",
    "plt.errorbar(list_of_states, \n",
    "             state_means_pq, \n",
    "             yerr=1.96*state_stds_pq, \n",
    "             linestyle='', color='b', alpha=0.3, capsize=5.0)\n",
    "plt.ylim(0, 1)\n",
    "plt.legend()\n",
    "plt.savefig(Path('figs') / f'survey_tsc_ex2_{space}_rao.png')\n",
    "plt.show()"
   ]
  },
  {
   "cell_type": "code",
   "execution_count": null,
   "metadata": {
    "colab": {
     "base_uri": "https://localhost:8080/",
     "height": 378
    },
    "collapsed": true,
    "executionInfo": {
     "elapsed": 1123,
     "status": "ok",
     "timestamp": 1630239905968,
     "user": {
      "displayName": "Liyi Zhang",
      "photoUrl": "https://lh3.googleusercontent.com/a-/AOh14Gh9V3hIAgWLKOIy-Olktu7QU6Q3a0l2eUzzAf2j=s64",
      "userId": "06658486172350999592"
     },
     "user_tz": -480
    },
    "id": "jeRFWnhElZNW",
    "outputId": "1cf0c0cd-5159-4095-d32e-4a98f5e78745"
   },
   "outputs": [],
   "source": [
    "pass # TSC Flow\n",
    "\n",
    "# plt.figure(figsize=(15, 6))\n",
    "# plt.scatter(list_of_states, state_means_unadj_60000, color='g', label='60000 unadjusted')\n",
    "# #plt.scatter(list_of_states, state_means_qp_flow, color='r', label='VI with flow')\n",
    "# plt.scatter(list_of_states, state_means_pq_flow, color='b', label='TSC with flow')\n",
    "# plt.errorbar(list_of_states, \n",
    "#              state_means_unadj_60000, \n",
    "#              yerr=1.96*state_stds_unadj_60000, \n",
    "#              linestyle='', color='g', alpha=0.0, capsize=5.0)\n",
    "# # plt.errorbar(list_of_states, \n",
    "# #              state_means_qp_flow, \n",
    "# #              yerr=1.96*state_stds_qp_flow, \n",
    "# #              linestyle='', color='r', alpha=0.3, capsize=5.0)\n",
    "# plt.errorbar(list_of_states, \n",
    "#              state_means_pq_flow, \n",
    "#              yerr=1.96*state_stds_pq_flow, \n",
    "#              linestyle='', color='b', alpha=0.3, capsize=5.0)\n",
    "# plt.ylim(0, 1)\n",
    "# plt.legend()\n",
    "# plt.savefig(Path('figs') / 'survey_tsc_vi.png')\n",
    "# plt.show()"
   ]
  },
  {
   "cell_type": "code",
   "execution_count": null,
   "metadata": {},
   "outputs": [],
   "source": [
    "# VI\n",
    "\n",
    "# plt.figure(figsize=(15, 6))\n",
    "# plt.scatter(list_of_states, state_means_unadj_60000, color='g', label='60000 unadjusted')\n",
    "# #plt.scatter(list_of_states, state_means_qp, color='r', label='VI with Gaussian')\n",
    "# plt.scatter(list_of_states, state_means_pq, color='b', label='HSC with Gaussian')\n",
    "# plt.errorbar(list_of_states, \n",
    "#              state_means_unadj_60000, \n",
    "#              yerr=1.96*state_stds_unadj_60000, \n",
    "#              linestyle='', color='g', alpha=0.2, capsize=5.0)\n",
    "# # plt.errorbar(list_of_states, \n",
    "# #              state_means_qp, \n",
    "# #              yerr=1.96*state_stds_qp, \n",
    "# #              linestyle='', color='r', alpha=0.3, capsize=5.0)\n",
    "# plt.errorbar(list_of_states, \n",
    "#              state_means_pq, \n",
    "#              yerr=1.96*state_stds_pq, \n",
    "#              linestyle='', color='b', alpha=0.3, capsize=5.0)\n",
    "# plt.ylim(0, 1)\n",
    "# plt.legend()\n",
    "# plt.savefig(Path('figs') / 'survey_tsc_vi.png')\n",
    "# plt.show()"
   ]
  },
  {
   "cell_type": "code",
   "execution_count": null,
   "metadata": {},
   "outputs": [],
   "source": [
    "pass # HSC Flow\n",
    "\n",
    "# plt.figure(figsize=(15, 6))\n",
    "# plt.scatter(list_of_states, state_means_unadj_60000, color='g', label='60000 unadjusted')\n",
    "# plt.scatter(list_of_states, state_means_pq_flow, color='r', label='HSC with Flow')\n",
    "# plt.scatter(list_of_states, state_means_pq, color='b', label='HSC')\n",
    "# plt.errorbar(list_of_states, \n",
    "#              state_means_unadj_60000, \n",
    "#              yerr=1.96*state_stds_unadj_60000, \n",
    "#              linestyle='', color='g', alpha=0.2, capsize=5.0)\n",
    "# plt.errorbar(list_of_states, \n",
    "#              state_means_pq_flow, \n",
    "#              yerr=1.96*state_stds_pq_flow, \n",
    "#              linestyle='', color='r', alpha=0.7, capsize=5.0)\n",
    "# plt.errorbar(list_of_states, \n",
    "#              state_means_pq, \n",
    "#              yerr=1.96*state_stds_pq, \n",
    "#              linestyle='', color='b', alpha=0.7, capsize=5.0)\n",
    "# plt.ylim(0, 1)\n",
    "# plt.legend()\n",
    "# plt.show()"
   ]
  },
  {
   "cell_type": "code",
   "execution_count": null,
   "metadata": {},
   "outputs": [],
   "source": [
    "state_means_mrp = []\n",
    "state_stds_mrp = []\n",
    "for state in list_of_states:\n",
    "    idx = mrp_states_df[mrp_states_df['state'] == state].index[0]\n",
    "    state_means_mrp.append(mrp_states_df.loc[idx, 'mrp_estimate'])\n",
    "    state_stds_mrp.append(mrp_states_df.loc[idx, 'mrp_estimate_se'])\n",
    "state_means_mrp = np.array(state_means_mrp)\n",
    "state_stds_mrp = np.array(state_stds_mrp)"
   ]
  },
  {
   "cell_type": "code",
   "execution_count": null,
   "metadata": {},
   "outputs": [
    {
     "data": {
      "image/png": "[encoded data removed]",
      "text/plain": [
       "<Figure size 1080x432 with 1 Axes>"
      ]
     },
     "metadata": {
      "needs_background": "light"
     },
     "output_type": "display_data"
    }
   ],
   "source": [
    "plt.figure(figsize=(15, 6))\n",
    "plt.scatter(list_of_states, state_means_unadj_60000, color='g', label='60000 unadjusted')\n",
    "plt.scatter(list_of_states, state_means_mrp, color='r', label='MRP MCMC')\n",
    "plt.scatter(list_of_states, state_means_pq, color='b', label='TSC')\n",
    "plt.errorbar(list_of_states, \n",
    "             state_means_unadj_60000, \n",
    "             yerr=1.96*state_stds_unadj_60000, \n",
    "             linestyle='', color='g', alpha=0.3, capsize=5.0)\n",
    "plt.errorbar(list_of_states, \n",
    "             state_means_mrp, \n",
    "             yerr=1.96*state_stds_mrp, \n",
    "             linestyle='', color='r', alpha=0.3, capsize=5.0)\n",
    "plt.errorbar(list_of_states, \n",
    "             state_means_pq, \n",
    "             yerr=1.96*state_stds_pq, \n",
    "             linestyle='', color='b', alpha=0.3, capsize=5.0)\n",
    "plt.ylim(0, 1)\n",
    "plt.legend()\n",
    "plt.savefig(Path('figs') / 'survey_tsc_mrp.png')\n",
    "plt.show()"
   ]
  },
  {
   "cell_type": "code",
   "execution_count": null,
   "metadata": {},
   "outputs": [
    {
     "data": {
      "image/png": "[encoded data removed]",
      "text/plain": [
       "<Figure size 1080x432 with 1 Axes>"
      ]
     },
     "metadata": {
      "needs_background": "light"
     },
     "output_type": "display_data"
    }
   ],
   "source": [
    "plt.figure(figsize=(15, 6))\n",
    "plt.scatter(list_of_states, state_means_unadj_60000, color='g', label='60000 unadjusted')\n",
    "plt.scatter(list_of_states, state_means_mrp, color='r', label='MRP MCMC')\n",
    "plt.scatter(list_of_states, state_means_pq_ex2_warp, color='b', label=fr'Ex$^2$MCMC, space: {space}')\n",
    "plt.errorbar(list_of_states, \n",
    "             state_means_unadj_60000, \n",
    "             yerr=1.96*state_stds_unadj_60000, \n",
    "             linestyle='', color='g', alpha=0.3, capsize=5.0)\n",
    "plt.errorbar(list_of_states, \n",
    "             state_means_mrp, \n",
    "             yerr=1.96*state_stds_mrp, \n",
    "             linestyle='', color='r', alpha=0.3, capsize=5.0)\n",
    "plt.errorbar(list_of_states, \n",
    "             state_means_pq, \n",
    "             yerr=1.96*state_stds_pq_ex2_warp, \n",
    "             linestyle='', color='b', alpha=0.3, capsize=5.0)\n",
    "plt.ylim(0, 1)\n",
    "plt.legend()\n",
    "plt.savefig(Path('figs') / f'survey_ex2_{space}_mrp.png')\n",
    "plt.show()"
   ]
  },
  {
   "cell_type": "code",
   "execution_count": null,
   "metadata": {},
   "outputs": [
    {
     "data": {
      "image/png": "[encoded data removed]",
      "text/plain": [
       "<Figure size 1080x432 with 1 Axes>"
      ]
     },
     "metadata": {
      "needs_background": "light"
     },
     "output_type": "display_data"
    }
   ],
   "source": [
    "plt.figure(figsize=(15, 6))\n",
    "plt.scatter(list_of_states, state_means_unadj_60000, color='g', label='60000 unadjusted')\n",
    "plt.scatter(list_of_states, state_means_mrp, color='r', label='MRP MCMC')\n",
    "plt.scatter(list_of_states, state_means_pq_ex2_warp_rao, color='b', label=fr'Ex$^2$MCMC, space: {space}, Rao-Blackwellized')\n",
    "plt.errorbar(list_of_states, \n",
    "             state_means_unadj_60000, \n",
    "             yerr=1.96*state_stds_unadj_60000, \n",
    "             linestyle='', color='g', alpha=0.3, capsize=5.0)\n",
    "plt.errorbar(list_of_states, \n",
    "             state_means_mrp, \n",
    "             yerr=1.96*state_stds_mrp, \n",
    "             linestyle='', color='r', alpha=0.3, capsize=5.0)\n",
    "plt.errorbar(list_of_states, \n",
    "             state_means_pq, \n",
    "             yerr=1.96*state_stds_pq_ex2_warp_rao, \n",
    "             linestyle='', color='b', alpha=0.3, capsize=5.0)\n",
    "plt.ylim(0, 1)\n",
    "plt.legend()\n",
    "plt.savefig(Path('figs') / f'survey_ex2_{space}_mrp.png')\n",
    "plt.show()"
   ]
  },
  {
   "cell_type": "code",
   "execution_count": 147,
   "metadata": {},
   "outputs": [],
   "source": [
    "# print(np.sum((state_stds_pq-state_stds_mrp)**2))\n",
    "# print(np.sum((state_stds_qp-state_stds_mrp)**2))\n",
    "\n",
    "# print(np.sum((state_means_pq-state_means_mrp)**2))\n",
    "# print(np.sum((state_means_qp-state_means_mrp)**2))"
   ]
  },
  {
   "cell_type": "markdown",
   "metadata": {
    "id": "uq2r-A9KlZNX"
   },
   "source": [
    "### Effective sample size"
   ]
  },
  {
   "cell_type": "code",
   "execution_count": 58,
   "metadata": {},
   "outputs": [],
   "source": [
    "hmc_points_tsc = np.squeeze(np.array(pd.read_pickle(tsc_path /'hmc_points.pickle')))\n",
    "hmc_points_ex2_warp = np.squeeze(np.array(pd.read_pickle(ex2_warp_path / 'hmc_points.pickle')))\n",
    "hmc_points_ex2_warp_rao = np.squeeze(np.array(pd.read_pickle(ex2_warp_rao_path / 'hmc_points.pickle')))"
   ]
  },
  {
   "cell_type": "code",
   "execution_count": 59,
   "metadata": {},
   "outputs": [],
   "source": [
    "def autocor(x, t):\n",
    "    n = x.shape[0]\n",
    "    mu = np.mean(x, axis=0)\n",
    "    sigma2 = np.var(x, axis=0)\n",
    "    numer = np.sum((x[:(n-t),:]-mu) * (x[t:,:]-mu), axis=0)\n",
    "    return numer/((n-t)*sigma2)\n",
    "\n",
    "def neff(x):\n",
    "    n = x.shape[0]\n",
    "    d = x.shape[1]\n",
    "    autocor_arr = np.zeros((n, d))\n",
    "    dim_to_set_to_0 = []\n",
    "    for t in range(1, n):\n",
    "        autocor_arr[t-1,:] = autocor(x, t)\n",
    "        if len(dim_to_set_to_0) > 0:\n",
    "            autocor_arr[t-1, dim_to_set_to_0] = 0\n",
    "        if t > 1:\n",
    "            for d_i in range(d):\n",
    "                if autocor_arr[t-1, d_i] + autocor_arr[t-2, d_i] < 0:\n",
    "                    autocor_arr[t-1, d_i] = 0\n",
    "                    autocor_arr[t-2, d_i] = 0\n",
    "                    if d_i not in dim_to_set_to_0:\n",
    "                        dim_to_set_to_0.append(d_i)\n",
    "            if len(dim_to_set_to_0) == d:\n",
    "                break\n",
    "    return n/(1+2*np.sum(autocor_arr, axis=0))"
   ]
  },
  {
   "cell_type": "code",
   "execution_count": 60,
   "metadata": {},
   "outputs": [
    {
     "name": "stdout",
     "output_type": "stream",
     "text": [
      "0 0.12056227851225085\n",
      "1 0.10888163453905535\n",
      "2 0.10322373357102134\n",
      "3 0.06105566981068105\n",
      "4 0.030527834905340525\n"
     ]
    }
   ],
   "source": [
    "list_of_checkpt = [500, 1000, 2000, 5000, 10000] #, 20000, 30000, 50000, 100000]\n",
    "num_dim = hmc_points_tsc.shape[1]\n",
    "neff_list_ex2_warp = np.zeros((len(list_of_checkpt), num_dim))\n",
    "\n",
    "for i in range(len(list_of_checkpt)):\n",
    "    idx = list_of_checkpt[i]\n",
    "    neff_list_ex2_warp[i, :] = neff(hmc_points_ex2_warp[:idx, :])\n",
    "    print(i, np.mean(neff_list_ex2_warp[i,:]/idx))"
   ]
  },
  {
   "cell_type": "code",
   "execution_count": 61,
   "metadata": {},
   "outputs": [
    {
     "name": "stdout",
     "output_type": "stream",
     "text": [
      "0 0.12084213228718658\n",
      "1 0.11317429779343186\n",
      "2 0.10500553543777996\n",
      "3 0.10462122501158848\n",
      "4 0.11547023345568054\n"
     ]
    }
   ],
   "source": [
    "list_of_checkpt = [500, 1000, 2000, 5000, 10000] #, 20000, 30000, 50000, 100000]\n",
    "num_dim = hmc_points_tsc.shape[1]\n",
    "neff_list_ex2_warp_rao = np.zeros((len(list_of_checkpt), num_dim))\n",
    "\n",
    "for i in range(len(list_of_checkpt)):\n",
    "    idx = list_of_checkpt[i]\n",
    "    neff_list_ex2_warp_rao[i, :] = neff(hmc_points_ex2_warp_rao[:idx, :])\n",
    "    print(i, np.mean(neff_list_ex2_warp_rao[i,:]/idx))"
   ]
  },
  {
   "cell_type": "code",
   "execution_count": 62,
   "metadata": {},
   "outputs": [
    {
     "name": "stdout",
     "output_type": "stream",
     "text": [
      "0 0.11442116784158353\n",
      "1 0.10079683656785997\n",
      "2 0.09429095674462086\n",
      "3 0.09266899854655342\n",
      "4 0.09452942423417489\n"
     ]
    }
   ],
   "source": [
    "neff_list_tsc = np.zeros((len(list_of_checkpt), num_dim))\n",
    "\n",
    "for i in range(len(list_of_checkpt)):\n",
    "    idx = list_of_checkpt[i]\n",
    "    neff_list_tsc[i, :] = neff(hmc_points_tsc[:idx, :])\n",
    "    print(i, np.mean(neff_list_tsc[i,:]/idx))"
   ]
  },
  {
   "cell_type": "code",
   "execution_count": 63,
   "metadata": {},
   "outputs": [],
   "source": [
    "np.savetxt('results/neff_list_tsc.csv', neff_list_tsc)\n",
    "np.savetxt('results/neff_list_ex2_warp.csv', neff_list_ex2_warp)\n",
    "np.savetxt('results/neff_list_ex2_warp_rao.csv', neff_list_ex2_warp_rao)"
   ]
  },
  {
   "cell_type": "code",
   "execution_count": 64,
   "metadata": {},
   "outputs": [],
   "source": [
    "neff_list_tsc = np.genfromtxt('results/neff_list_tsc.csv')\n",
    "neff_list_ex2_warp = np.genfromtxt('results/neff_list_ex2_warp.csv')\n",
    "neff_list_ex2_warp_rao = np.genfromtxt('results/neff_list_ex2_warp_rao.csv')\n",
    "list_of_checkpt = [500, 1000, 2000, 5000, 10000] #, 20000, 30000, 50000, 100000]"
   ]
  },
  {
   "cell_type": "code",
   "execution_count": 66,
   "metadata": {},
   "outputs": [
    {
     "data": {
      "image/png": "[encoded data removed]",
      "text/plain": [
       "<Figure size 432x288 with 1 Axes>"
      ]
     },
     "metadata": {
      "needs_background": "light"
     },
     "output_type": "display_data"
    }
   ],
   "source": [
    "import matplotlib.pylab as pylab\n",
    "\n",
    "# params = {'legend.fontsize': 'x-large',\n",
    "#          'axes.labelsize': 'x-large',\n",
    "#          'axes.titlesize':'x-large',\n",
    "#          'xtick.labelsize':'x-large',\n",
    "#          'ytick.labelsize':'x-large'}\n",
    "# pylab.rcParams.update(params)\n",
    "\n",
    "plt.plot(list_of_checkpt, \n",
    "         np.mean(neff_list_tsc, axis=1)/np.array(list_of_checkpt),\n",
    "         marker='o', markersize=8, color='b',\n",
    "         label='TSC')\n",
    "# plt.plot(list_of_checkpt, \n",
    "#          np.mean(neff_list_ex2_warp, axis=1)/np.array(list_of_checkpt),\n",
    "#          marker='o', markersize=8, color='r',\n",
    "#          label=r'Ex$^2$MCMC')\n",
    "plt.plot(list_of_checkpt, \n",
    "         np.mean(neff_list_ex2_warp_rao, axis=1)/np.array(list_of_checkpt),\n",
    "         marker='o', markersize=8, color='g',\n",
    "         label=r'Ex$^2$MCMC, Rao-Blackwellized')\n",
    "\n",
    "plt.legend()\n",
    "plt.ylabel('ESS/total samples')\n",
    "plt.xlabel('Epoch')\n",
    "plt.savefig(Path('figs') / 'survey_ess.png')"
   ]
  },
  {
   "cell_type": "markdown",
   "metadata": {},
   "source": [
    "# THE END"
   ]
  },
  {
   "cell_type": "code",
   "execution_count": null,
   "metadata": {},
   "outputs": [],
   "source": []
  },
  {
   "cell_type": "markdown",
   "metadata": {
    "id": "H9J1R-0zlZNX"
   },
   "source": [
    "## Transform Weighted Data and Run Methods"
   ]
  },
  {
   "cell_type": "code",
   "execution_count": null,
   "metadata": {
    "id": "DTGMd-0GlZNX"
   },
   "outputs": [],
   "source": [
    "x_weighted = []\n",
    "y_weighted = []\n",
    "state = 0\n",
    "age = 50\n",
    "eth = 56\n",
    "educ = 60\n",
    "male_eth = 65\n",
    "educ_age = 73\n",
    "educ_eth = 103\n",
    "for i in range(1, len(cces)+1):\n",
    "    x_i = np.zeros(128)\n",
    "    eth_idx = data_to_idx[cces_weighted.loc[i,'eth']]\n",
    "    age_idx = data_to_idx[cces_weighted.loc[i,'age']]\n",
    "    educ_idx = data_to_idx[cces_weighted.loc[i,'educ']]\n",
    "    x_i[data_to_idx[cces_weighted.loc[i,'state.x']]] = 1\n",
    "    x_i[age_idx] = 1\n",
    "    x_i[eth_idx] = 1\n",
    "    x_i[educ_idx] = 1\n",
    "    \n",
    "    is_male = int(cces_weighted.loc[i,'male'] + 0.5)\n",
    "    male_eth_idx = male_eth + is_male * 4 + (eth_idx-eth) \n",
    "    educ_age_idx = educ_age + (educ_idx-educ) * 6 + (age_idx-age)\n",
    "    educ_eth_idx = educ_eth + (educ_idx-educ) * 4 + (eth_idx-eth)\n",
    "    x_i[male_eth_idx] = 1\n",
    "    x_i[educ_age_idx] = 1\n",
    "    x_i[educ_eth_idx] = 1\n",
    "    \n",
    "    x_i[123] = is_male\n",
    "    x_i[124] = int(cces_weighted.loc[i,'region'] == 'South')\n",
    "    x_i[125] = int(cces_weighted.loc[i,'region'] == 'North Central')\n",
    "    x_i[126] = int(cces_weighted.loc[i,'region'] == 'West')\n",
    "    x_i[127] = cces_weighted.loc[i,'repvote']\n",
    "    \n",
    "    x_weighted.append(x_i)\n",
    "    y_weighted.append(cces_weighted.loc[i,'abortion'])\n",
    "\n",
    "x_weighted = np.array(x_weighted, dtype=np.float32)\n",
    "y_weighted = np.array(y_weighted, dtype=np.float32)"
   ]
  },
  {
   "cell_type": "code",
   "execution_count": null,
   "metadata": {
    "id": "Wk1ZLoK7lZNX"
   },
   "outputs": [],
   "source": []
  },
  {
   "cell_type": "code",
   "execution_count": null,
   "metadata": {
    "id": "Ye0GIzrHlZNY"
   },
   "outputs": [],
   "source": []
  },
  {
   "cell_type": "code",
   "execution_count": null,
   "metadata": {
    "id": "mdsqYqEklZNY"
   },
   "outputs": [],
   "source": []
  },
  {
   "cell_type": "code",
   "execution_count": null,
   "metadata": {
    "id": "lt3895MAlZNY"
   },
   "outputs": [],
   "source": []
  },
  {
   "cell_type": "code",
   "execution_count": null,
   "metadata": {
    "id": "cyL2wikUlZNY"
   },
   "outputs": [],
   "source": []
  },
  {
   "cell_type": "code",
   "execution_count": null,
   "metadata": {
    "id": "H4EqDBa6lZNY"
   },
   "outputs": [],
   "source": []
  },
  {
   "cell_type": "code",
   "execution_count": null,
   "metadata": {
    "id": "cz_Oi6QSlZNY"
   },
   "outputs": [],
   "source": []
  },
  {
   "cell_type": "code",
   "execution_count": null,
   "metadata": {
    "id": "XXllZH1flZNY"
   },
   "outputs": [],
   "source": []
  },
  {
   "cell_type": "code",
   "execution_count": null,
   "metadata": {
    "id": "lWp9bldolZNY",
    "outputId": "ddb1fb0e-cb3e-4990-f712-9673148aff63"
   },
   "outputs": [],
   "source": [
    "tf.nn.sigmoid_cross_entropy_with_logits(logits=[[1.,9.],[1.,9.]], labels=[[0.,1.],[1.,0.]])"
   ]
  },
  {
   "cell_type": "markdown",
   "metadata": {
    "id": "PiwjZ0FdlZNY"
   },
   "source": [
    "\n",
    "Define a variational distribution q(alpha; phi) \\\n",
    "Define probabilistic model p(y|alpha; x, theta) \\\n",
    "Define prior p(alpha; theta) \\\n",
    "phi and theta are trainable by gradient methods \\\n",
    "\\\n",
    "for batch_x in x: \n",
    "   * sample alpha from q \n",
    "   * compute logpx_z = log p(y|alpha; batch_x, theta) \n",
    "   * compute logpz = log p(z; theta) \n",
    "   * compute logqz_x = log q(alpha; phi) \n",
    "   * elbo = logpx_z + logpz - logqz_x \n",
    "   * input -elbo as the objective into the autodiff. function\n",
    "    \n",
    "How to define q(alpha; phi):\n",
    "* Gaussian with diagonal covariance\n",
    "* In a separate implementation, q can also be a flow-based dist.\n",
    "\n",
    "How to define p(alpha; theta):\n",
    "* A number of Gaussian, same as in the document\n",
    "\n",
    "How to define p(y|alpha; x, theta):\n",
    "* The goal is that p(y|...) = inv_logit(alpha_1 + ... + alpha_m)\n",
    "* Note that we do not want to loop over x, and decide which \n",
    "  alpha (like which state/education level) does that x_i belong to\n",
    "* Map x to a multi-hot vector v, which is sparse, and element-wise \n",
    "  multiply v with alpha (like turning on and off which alpha_i is \n",
    "  relevant)\n"
   ]
  },
  {
   "cell_type": "markdown",
   "metadata": {
    "id": "8Z1FxTJOlZNZ"
   },
   "source": [
    "Define a variational distribution q(alpha; phi) \\\n",
    "Define probabilistic model p(y|alpha; x, theta) \\\n",
    "Define prior p(alpha; theta) \\\n",
    "Define HMC target p(alpha|y; theta) or p(eps|y; theta) \\\n",
    "phi and theta are trainable by gradient methods\n",
    "\n",
    "for batch_x in x:\n",
    "\n",
    "How to define p(alpha|y; theta):\n",
    "* p(alpha|y; theta) is proportional to p(alpha; theta) p(y|alpha; x, theta)"
   ]
  },
  {
   "cell_type": "code",
   "execution_count": null,
   "metadata": {
    "id": "Mf1Kb8aalZNZ"
   },
   "outputs": [],
   "source": [
    "import pickle\n",
    "import pandas as pd"
   ]
  },
  {
   "cell_type": "code",
   "execution_count": null,
   "metadata": {
    "id": "SIHxUYvIlZNZ"
   },
   "outputs": [],
   "source": [
    "a = np.reshape(np.array(list(range(24))), (2,3,4))\n",
    "\n",
    "with open('abc.pickle', 'wb') as handle:\n",
    "    pickle.dump(a, handle, protocol=pickle.HIGHEST_PROTOCOL)\n",
    "    \n",
    "pd.read_pickle('abc.pickle')\n"
   ]
  },
  {
   "cell_type": "code",
   "execution_count": null,
   "metadata": {
    "id": "yPq5e3YXlZNZ"
   },
   "outputs": [],
   "source": [
    "def autocor(x, t):\n",
    "    n = x.shape[0]\n",
    "    mu = np.mean(x)\n",
    "    sigma2 = np.var(x)\n",
    "    numer = np.sum((x[:(n-t),:]-mu) * (x[t:,:]-mu))\n",
    "    return numer/((n-t)*sigma2)\n",
    "\n",
    "def neff(x):\n",
    "    n = x.shape[0]\n",
    "    d = x.shape[1]\n",
    "    d_i = 0\n",
    "    autocor_arr = np.zeros((n, d))\n",
    "    for t in range(1, n):\n",
    "        autocor_arr[t-1, :] = autocor(x, t)\n",
    "        if t > 1:\n",
    "            if autocor_arr[t-1, d_i] + autocor_arr[t-2, d_i] < 0:\n",
    "                autocor_arr[t-1, d_i] = 0\n",
    "                autocor_arr[t-2, d_i] = 0\n",
    "                break      \n",
    "    return n/(1+2*np.sum(autocor_arr))\n",
    "\n",
    "space_btw_epochs = 1000\n",
    "num_checkpt = int(hmc_points_warped.shape[0] / space_btw_epochs)\n",
    "num_dim = hmc_points_warped.shape[1]\n",
    "neff_list_orig = np.zeros((num_checkpt, num_dim))\n",
    "\n",
    "for i in range(num_checkpt):\n",
    "    idx = space_btw_epochs * (i+1)\n",
    "    neff_list_orig[i, :] = neff(hmc_points_orig[:idx, :])\n",
    "    print(i, np.mean(neff_list_orig[i,:]/idx))"
   ]
  },
  {
   "cell_type": "code",
   "execution_count": null,
   "metadata": {
    "id": "9axb61YolZNZ"
   },
   "outputs": [],
   "source": []
  },
  {
   "cell_type": "code",
   "execution_count": null,
   "metadata": {
    "id": "6-rUfin9lZNZ"
   },
   "outputs": [],
   "source": []
  }
 ],
 "metadata": {
  "colab": {
   "collapsed_sections": [
    "H9J1R-0zlZNX"
   ],
   "machine_shape": "hm",
   "name": "survey_data.ipynb",
   "provenance": []
  },
  "kernelspec": {
   "display_name": "Python 3",
   "language": "python",
   "name": "python3"
  },
  "language_info": {
   "codemirror_mode": {
    "name": "ipython",
    "version": 3
   },
   "file_extension": ".py",
   "mimetype": "text/x-python",
   "name": "python",
   "nbconvert_exporter": "python",
   "pygments_lexer": "ipython3",
   "version": "3.8.13"
  }
 },
 "nbformat": 4,
 "nbformat_minor": 1
}
