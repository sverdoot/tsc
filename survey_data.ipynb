{
 "cells": [
  {
   "cell_type": "code",
   "execution_count": 29,
   "metadata": {
    "executionInfo": {
     "elapsed": 2840,
     "status": "ok",
     "timestamp": 1630512394945,
     "user": {
      "displayName": "Liyi Zhang",
      "photoUrl": "https://lh3.googleusercontent.com/a-/AOh14Gh9V3hIAgWLKOIy-Olktu7QU6Q3a0l2eUzzAf2j=s64",
      "userId": "06658486172350999592"
     },
     "user_tz": -480
    },
    "id": "O_6-e1BylsCI"
   },
   "outputs": [
    {
     "name": "stdout",
     "output_type": "stream",
     "text": [
      "The autoreload extension is already loaded. To reload it, use:\n",
      "  %reload_ext autoreload\n"
     ]
    }
   ],
   "source": [
    "%load_ext autoreload\n",
    "%autoreload 2\n",
    "\n",
    "import pandas as pd\n",
    "import numpy as np\n",
    "import tensorflow as tf\n",
    "from tensorflow_probability import distributions as tfd\n",
    "import matplotlib.pyplot as plt\n",
    "import matplotlib.pylab as pylab\n",
    "import pickle\n",
    "from pathlib import Path\n",
    "\n",
    "import models"
   ]
  },
  {
   "cell_type": "code",
   "execution_count": 2,
   "metadata": {},
   "outputs": [
    {
     "name": "stdout",
     "output_type": "stream",
     "text": [
      "2.3.0\n"
     ]
    }
   ],
   "source": [
    "print(tf.__version__)"
   ]
  },
  {
   "cell_type": "code",
   "execution_count": 3,
   "metadata": {
    "executionInfo": {
     "elapsed": 46,
     "status": "ok",
     "timestamp": 1630512394977,
     "user": {
      "displayName": "Liyi Zhang",
      "photoUrl": "https://lh3.googleusercontent.com/a-/AOh14Gh9V3hIAgWLKOIy-Olktu7QU6Q3a0l2eUzzAf2j=s64",
      "userId": "06658486172350999592"
     },
     "user_tz": -480
    },
    "id": "itTV35fVlZM3"
   },
   "outputs": [],
   "source": [
    "cces = pd.read_csv('data/cces_df.csv', index_col=0)\n",
    "cces_all = pd.read_csv('data/cces_all_df.csv', index_col=0)\n",
    "cces_weighted = pd.read_csv('data/cces_weighted_df.csv', index_col=0)"
   ]
  },
  {
   "cell_type": "code",
   "execution_count": 4,
   "metadata": {
    "colab": {
     "base_uri": "https://localhost:8080/",
     "height": 419
    },
    "executionInfo": {
     "elapsed": 46,
     "status": "ok",
     "timestamp": 1630512394978,
     "user": {
      "displayName": "Liyi Zhang",
      "photoUrl": "https://lh3.googleusercontent.com/a-/AOh14Gh9V3hIAgWLKOIy-Olktu7QU6Q3a0l2eUzzAf2j=s64",
      "userId": "06658486172350999592"
     },
     "user_tz": -480
    },
    "id": "IJxA_kR_lZM5",
    "outputId": "635808a8-f709-4ad9-ac16-e4113830654d"
   },
   "outputs": [
    {
     "data": {
      "text/html": [
       "<div>\n",
       "<style scoped>\n",
       "    .dataframe tbody tr th:only-of-type {\n",
       "        vertical-align: middle;\n",
       "    }\n",
       "\n",
       "    .dataframe tbody tr th {\n",
       "        vertical-align: top;\n",
       "    }\n",
       "\n",
       "    .dataframe thead th {\n",
       "        text-align: right;\n",
       "    }\n",
       "</style>\n",
       "<table border=\"1\" class=\"dataframe\">\n",
       "  <thead>\n",
       "    <tr style=\"text-align: right;\">\n",
       "      <th></th>\n",
       "      <th>abortion</th>\n",
       "      <th>eth</th>\n",
       "      <th>male</th>\n",
       "      <th>age</th>\n",
       "      <th>educ</th>\n",
       "      <th>repvote</th>\n",
       "      <th>region</th>\n",
       "      <th>state</th>\n",
       "    </tr>\n",
       "  </thead>\n",
       "  <tbody>\n",
       "    <tr>\n",
       "      <th>1</th>\n",
       "      <td>1</td>\n",
       "      <td>White</td>\n",
       "      <td>-0.5</td>\n",
       "      <td>60-69</td>\n",
       "      <td>4-Year College</td>\n",
       "      <td>0.504080</td>\n",
       "      <td>North Central</td>\n",
       "      <td>WI</td>\n",
       "    </tr>\n",
       "    <tr>\n",
       "      <th>2</th>\n",
       "      <td>1</td>\n",
       "      <td>White</td>\n",
       "      <td>-0.5</td>\n",
       "      <td>60-69</td>\n",
       "      <td>HS</td>\n",
       "      <td>0.427158</td>\n",
       "      <td>Northeast</td>\n",
       "      <td>NJ</td>\n",
       "    </tr>\n",
       "    <tr>\n",
       "      <th>3</th>\n",
       "      <td>0</td>\n",
       "      <td>White</td>\n",
       "      <td>-0.5</td>\n",
       "      <td>40-49</td>\n",
       "      <td>HS</td>\n",
       "      <td>0.506188</td>\n",
       "      <td>South</td>\n",
       "      <td>FL</td>\n",
       "    </tr>\n",
       "    <tr>\n",
       "      <th>4</th>\n",
       "      <td>1</td>\n",
       "      <td>White</td>\n",
       "      <td>0.5</td>\n",
       "      <td>70+</td>\n",
       "      <td>Some college</td>\n",
       "      <td>0.506188</td>\n",
       "      <td>South</td>\n",
       "      <td>FL</td>\n",
       "    </tr>\n",
       "    <tr>\n",
       "      <th>5</th>\n",
       "      <td>0</td>\n",
       "      <td>White</td>\n",
       "      <td>-0.5</td>\n",
       "      <td>50-59</td>\n",
       "      <td>Some college</td>\n",
       "      <td>0.409799</td>\n",
       "      <td>North Central</td>\n",
       "      <td>IL</td>\n",
       "    </tr>\n",
       "    <tr>\n",
       "      <th>...</th>\n",
       "      <td>...</td>\n",
       "      <td>...</td>\n",
       "      <td>...</td>\n",
       "      <td>...</td>\n",
       "      <td>...</td>\n",
       "      <td>...</td>\n",
       "      <td>...</td>\n",
       "      <td>...</td>\n",
       "    </tr>\n",
       "    <tr>\n",
       "      <th>4996</th>\n",
       "      <td>0</td>\n",
       "      <td>White</td>\n",
       "      <td>0.5</td>\n",
       "      <td>50-59</td>\n",
       "      <td>4-Year College</td>\n",
       "      <td>0.338718</td>\n",
       "      <td>West</td>\n",
       "      <td>CA</td>\n",
       "    </tr>\n",
       "    <tr>\n",
       "      <th>4997</th>\n",
       "      <td>0</td>\n",
       "      <td>White</td>\n",
       "      <td>0.5</td>\n",
       "      <td>18-29</td>\n",
       "      <td>Some college</td>\n",
       "      <td>0.518900</td>\n",
       "      <td>West</td>\n",
       "      <td>AZ</td>\n",
       "    </tr>\n",
       "    <tr>\n",
       "      <th>4998</th>\n",
       "      <td>1</td>\n",
       "      <td>White</td>\n",
       "      <td>0.5</td>\n",
       "      <td>50-59</td>\n",
       "      <td>HS</td>\n",
       "      <td>0.473167</td>\n",
       "      <td>West</td>\n",
       "      <td>CO</td>\n",
       "    </tr>\n",
       "    <tr>\n",
       "      <th>4999</th>\n",
       "      <td>1</td>\n",
       "      <td>White</td>\n",
       "      <td>-0.5</td>\n",
       "      <td>50-59</td>\n",
       "      <td>HS</td>\n",
       "      <td>0.506188</td>\n",
       "      <td>South</td>\n",
       "      <td>FL</td>\n",
       "    </tr>\n",
       "    <tr>\n",
       "      <th>5000</th>\n",
       "      <td>0</td>\n",
       "      <td>White</td>\n",
       "      <td>0.5</td>\n",
       "      <td>30-39</td>\n",
       "      <td>Some college</td>\n",
       "      <td>0.503755</td>\n",
       "      <td>Northeast</td>\n",
       "      <td>PA</td>\n",
       "    </tr>\n",
       "  </tbody>\n",
       "</table>\n",
       "<p>5000 rows × 8 columns</p>\n",
       "</div>"
      ],
      "text/plain": [
       "      abortion    eth  male    age            educ   repvote         region  \\\n",
       "1            1  White  -0.5  60-69  4-Year College  0.504080  North Central   \n",
       "2            1  White  -0.5  60-69              HS  0.427158      Northeast   \n",
       "3            0  White  -0.5  40-49              HS  0.506188          South   \n",
       "4            1  White   0.5    70+    Some college  0.506188          South   \n",
       "5            0  White  -0.5  50-59    Some college  0.409799  North Central   \n",
       "...        ...    ...   ...    ...             ...       ...            ...   \n",
       "4996         0  White   0.5  50-59  4-Year College  0.338718           West   \n",
       "4997         0  White   0.5  18-29    Some college  0.518900           West   \n",
       "4998         1  White   0.5  50-59              HS  0.473167           West   \n",
       "4999         1  White  -0.5  50-59              HS  0.506188          South   \n",
       "5000         0  White   0.5  30-39    Some college  0.503755      Northeast   \n",
       "\n",
       "     state  \n",
       "1       WI  \n",
       "2       NJ  \n",
       "3       FL  \n",
       "4       FL  \n",
       "5       IL  \n",
       "...    ...  \n",
       "4996    CA  \n",
       "4997    AZ  \n",
       "4998    CO  \n",
       "4999    FL  \n",
       "5000    PA  \n",
       "\n",
       "[5000 rows x 8 columns]"
      ]
     },
     "execution_count": 4,
     "metadata": {},
     "output_type": "execute_result"
    }
   ],
   "source": [
    "cces"
   ]
  },
  {
   "cell_type": "markdown",
   "metadata": {
    "id": "n4Ge6jbZlZM6"
   },
   "source": [
    "## Transform data"
   ]
  },
  {
   "cell_type": "code",
   "execution_count": 5,
   "metadata": {
    "executionInfo": {
     "elapsed": 3329,
     "status": "ok",
     "timestamp": 1630512398267,
     "user": {
      "displayName": "Liyi Zhang",
      "photoUrl": "https://lh3.googleusercontent.com/a-/AOh14Gh9V3hIAgWLKOIy-Olktu7QU6Q3a0l2eUzzAf2j=s64",
      "userId": "06658486172350999592"
     },
     "user_tz": -480
    },
    "id": "c_ttv46flZM7"
   },
   "outputs": [],
   "source": [
    "# Fills in the dictionary so that we know which index corresponds to what state / eth / edu etc.\n",
    "\n",
    "data_to_idx = {}\n",
    "list_of_states_and_votes = []\n",
    "list_of_states = []\n",
    "state = 0\n",
    "age = 50\n",
    "eth = 56\n",
    "educ = 60\n",
    "male_eth = 65\n",
    "educ_age = 73\n",
    "educ_eth = 103\n",
    "for i in range(1, len(cces_all)+1):\n",
    "    tup = (cces_all.loc[i,'state'], cces_all.loc[i,'repvote'])\n",
    "    if cces_all.loc[i,'state'] not in data_to_idx:\n",
    "        data_to_idx[cces_all.loc[i,'state']] = state\n",
    "        state += 1\n",
    "    if tup not in list_of_states_and_votes:\n",
    "        list_of_states_and_votes.append(tup)\n",
    "    if cces_all.loc[i,'age'] not in data_to_idx:\n",
    "        data_to_idx[cces_all.loc[i,'age']] = age\n",
    "        age += 1\n",
    "    if cces_all.loc[i,'eth'] not in data_to_idx:\n",
    "        data_to_idx[cces_all.loc[i,'eth']] = eth\n",
    "        eth += 1\n",
    "    if cces_all.loc[i,'educ'] not in data_to_idx:\n",
    "        data_to_idx[cces_all.loc[i,'educ']] = educ\n",
    "        educ += 1\n",
    "list_of_states_and_votes.sort(key=lambda x:x[1])\n",
    "for tup in list_of_states_and_votes:\n",
    "    list_of_states.append(tup[0])"
   ]
  },
  {
   "cell_type": "code",
   "execution_count": 6,
   "metadata": {
    "executionInfo": {
     "elapsed": 8,
     "status": "ok",
     "timestamp": 1630512398268,
     "user": {
      "displayName": "Liyi Zhang",
      "photoUrl": "https://lh3.googleusercontent.com/a-/AOh14Gh9V3hIAgWLKOIy-Olktu7QU6Q3a0l2eUzzAf2j=s64",
      "userId": "06658486172350999592"
     },
     "user_tz": -480
    },
    "id": "NVuSB71glZM8"
   },
   "outputs": [],
   "source": [
    "# Create new representation of data that contains only 0 and 1\n",
    "\n",
    "def transform_raw(cces, data_to_idx, i, \n",
    "                  state=0, age=50, eth=56, educ=60,\n",
    "                  male_eth=65, educ_age=73, educ_eth=103):\n",
    "    x_i = np.zeros(128)\n",
    "    eth_idx = data_to_idx[cces.loc[i,'eth']]\n",
    "    age_idx = data_to_idx[cces.loc[i,'age']]\n",
    "    educ_idx = data_to_idx[cces.loc[i,'educ']]\n",
    "    x_i[data_to_idx[cces.loc[i,'state']]] = 1\n",
    "    x_i[age_idx] = 1\n",
    "    x_i[eth_idx] = 1\n",
    "    x_i[educ_idx] = 1\n",
    "    \n",
    "    is_male = int(cces.loc[i,'male'] + 0.5)\n",
    "    male_eth_idx = male_eth + is_male * 4 + (eth_idx-eth) \n",
    "    educ_age_idx = educ_age + (educ_idx-educ) * 6 + (age_idx-age)\n",
    "    educ_eth_idx = educ_eth + (educ_idx-educ) * 4 + (eth_idx-eth)\n",
    "    x_i[male_eth_idx] = 1\n",
    "    x_i[educ_age_idx] = 1\n",
    "    x_i[educ_eth_idx] = 1\n",
    "    \n",
    "    x_i[123] = is_male\n",
    "    x_i[124] = int(cces.loc[i,'region'] == 'South')\n",
    "    x_i[125] = int(cces.loc[i,'region'] == 'North Central')\n",
    "    x_i[126] = int(cces.loc[i,'region'] == 'West')\n",
    "    x_i[127] = cces.loc[i,'repvote']\n",
    "    \n",
    "    return x_i\n",
    "\n",
    "x = []\n",
    "y = []\n",
    "for i in range(1, len(cces)+1):\n",
    "    x_i = transform_raw(cces, data_to_idx, i)\n",
    "    \n",
    "    x.append(x_i)\n",
    "    y.append(cces.loc[i,'abortion'])\n",
    "\n",
    "x = np.array(x, dtype=np.float32)\n",
    "y = np.array(y, dtype=np.float32)"
   ]
  },
  {
   "cell_type": "markdown",
   "metadata": {
    "id": "kz8sWhkRlZM9"
   },
   "source": [
    "## Variational Inference"
   ]
  },
  {
   "cell_type": "code",
   "execution_count": 7,
   "metadata": {
    "id": "OBzXcLZTlZM9"
   },
   "outputs": [],
   "source": [
    "# model = models.VI_KLqp(dataset='survey', v_fam='flow')\n",
    "# model.x = x\n",
    "# model.y = y\n",
    "# model.train(lr=0.003)"
   ]
  },
  {
   "cell_type": "code",
   "execution_count": 8,
   "metadata": {
    "collapsed": true,
    "id": "Fl3ufkpMlZM-"
   },
   "outputs": [],
   "source": [
    "# model = models.VI_KLqp(dataset='survey', v_fam='gaussian')\n",
    "# model.x = x\n",
    "# model.y = y\n",
    "# model.train(lr=0.01)"
   ]
  },
  {
   "cell_type": "markdown",
   "metadata": {
    "id": "8OxG6HIClZM_"
   },
   "source": [
    "## Hamiltonian Score Climbing"
   ]
  },
  {
   "cell_type": "code",
   "execution_count": 9,
   "metadata": {
    "colab": {
     "base_uri": "https://localhost:8080/"
    },
    "collapsed": true,
    "id": "2n5lAVutlZM_",
    "outputId": "442064c2-5d62-4b02-e2d8-d152c355d0ec"
   },
   "outputs": [],
   "source": [
    "# model = models.VI_KLpq(v_fam='flow', space='warped', dataset='survey', hmc_e=0.03, hmc_L=33, chains=1)\n",
    "# model.x = x\n",
    "# model.y = y\n",
    "# model.train(lr=0.001)"
   ]
  },
  {
   "cell_type": "code",
   "execution_count": 10,
   "metadata": {
    "colab": {
     "base_uri": "https://localhost:8080/"
    },
    "collapsed": true,
    "executionInfo": {
     "elapsed": 2195175,
     "status": "ok",
     "timestamp": 1630546103577,
     "user": {
      "displayName": "Liyi Zhang",
      "photoUrl": "https://lh3.googleusercontent.com/a-/AOh14Gh9V3hIAgWLKOIy-Olktu7QU6Q3a0l2eUzzAf2j=s64",
      "userId": "06658486172350999592"
     },
     "user_tz": -480
    },
    "id": "7AlGvzpolZNI",
    "outputId": "549cc2bb-0b2f-48ed-c260-eb77c9129c68"
   },
   "outputs": [],
   "source": [
    "# model = models.VI_KLpq(v_fam='gaussian', space='eps', dataset='survey', hmc_e=0.05, hmc_L=20, chains=1)\n",
    "# model.x = x\n",
    "# model.y = y\n",
    "# model.train(lr=0.01)"
   ]
  },
  {
   "cell_type": "code",
   "execution_count": 11,
   "metadata": {},
   "outputs": [],
   "source": [
    "# model = models.VI_KLpq(v_fam='gaussian', space='eps', dataset='survey', hmc_e=0.05, hmc_L=20, chains=1)\n",
    "# model.x = x\n",
    "# model.y = y\n",
    "# model.train(lr=0.01, epochs=int(1e4))"
   ]
  },
  {
   "cell_type": "code",
   "execution_count": 12,
   "metadata": {
    "collapsed": true
   },
   "outputs": [],
   "source": [
    "# # MSC\n",
    "# model = models.VI_KLpq(v_fam='gaussian', space='theta', dataset='survey', hmc_e=0.03, hmc_L=33, chains=1)\n",
    "# model.x = x\n",
    "# model.y = y\n",
    "# model.train(lr=0.01)"
   ]
  },
  {
   "cell_type": "markdown",
   "metadata": {},
   "source": [
    "## Real MSC"
   ]
  },
  {
   "cell_type": "code",
   "execution_count": 13,
   "metadata": {},
   "outputs": [],
   "source": [
    "# #MSC, i-SIR\n",
    "\n",
    "# model = models.VI_KLpq(v_fam='gaussian', space='eps', dataset='survey', hmc_e=0.03, hmc_L=33, chains=2, cis=10, eps=0.5, alpha=0.95, rejuvenation=True)\n",
    "# model.x = x\n",
    "# model.y = y\n",
    "# model.train(lr=0.01, epochs=int(1e4))"
   ]
  },
  {
   "cell_type": "markdown",
   "metadata": {
    "id": "06unjCIJlZNJ"
   },
   "source": [
    "## Evaluations"
   ]
  },
  {
   "cell_type": "code",
   "execution_count": 14,
   "metadata": {
    "colab": {
     "base_uri": "https://localhost:8080/",
     "height": 204
    },
    "executionInfo": {
     "elapsed": 11,
     "status": "ok",
     "timestamp": 1630239757176,
     "user": {
      "displayName": "Liyi Zhang",
      "photoUrl": "https://lh3.googleusercontent.com/a-/AOh14Gh9V3hIAgWLKOIy-Olktu7QU6Q3a0l2eUzzAf2j=s64",
      "userId": "06658486172350999592"
     },
     "user_tz": -480
    },
    "id": "ZjQLXnLwlZNJ",
    "outputId": "2fc7a4cd-3967-4a1a-8796-ff77f03429a1"
   },
   "outputs": [
    {
     "data": {
      "text/html": [
       "<div>\n",
       "<style scoped>\n",
       "    .dataframe tbody tr th:only-of-type {\n",
       "        vertical-align: middle;\n",
       "    }\n",
       "\n",
       "    .dataframe tbody tr th {\n",
       "        vertical-align: top;\n",
       "    }\n",
       "\n",
       "    .dataframe thead th {\n",
       "        text-align: right;\n",
       "    }\n",
       "</style>\n",
       "<table border=\"1\" class=\"dataframe\">\n",
       "  <thead>\n",
       "    <tr style=\"text-align: right;\">\n",
       "      <th></th>\n",
       "      <th>state</th>\n",
       "      <th>eth</th>\n",
       "      <th>male</th>\n",
       "      <th>age</th>\n",
       "      <th>educ</th>\n",
       "      <th>n</th>\n",
       "      <th>repvote</th>\n",
       "      <th>region</th>\n",
       "    </tr>\n",
       "  </thead>\n",
       "  <tbody>\n",
       "    <tr>\n",
       "      <th>0</th>\n",
       "      <td>AL</td>\n",
       "      <td>White</td>\n",
       "      <td>-0.5</td>\n",
       "      <td>18-29</td>\n",
       "      <td>No HS</td>\n",
       "      <td>23948</td>\n",
       "      <td>0.643741</td>\n",
       "      <td>South</td>\n",
       "    </tr>\n",
       "    <tr>\n",
       "      <th>1</th>\n",
       "      <td>AL</td>\n",
       "      <td>White</td>\n",
       "      <td>-0.5</td>\n",
       "      <td>18-29</td>\n",
       "      <td>HS</td>\n",
       "      <td>59378</td>\n",
       "      <td>0.643741</td>\n",
       "      <td>South</td>\n",
       "    </tr>\n",
       "    <tr>\n",
       "      <th>2</th>\n",
       "      <td>AL</td>\n",
       "      <td>White</td>\n",
       "      <td>-0.5</td>\n",
       "      <td>18-29</td>\n",
       "      <td>Some college</td>\n",
       "      <td>104855</td>\n",
       "      <td>0.643741</td>\n",
       "      <td>South</td>\n",
       "    </tr>\n",
       "    <tr>\n",
       "      <th>3</th>\n",
       "      <td>AL</td>\n",
       "      <td>White</td>\n",
       "      <td>-0.5</td>\n",
       "      <td>18-29</td>\n",
       "      <td>4-Year College</td>\n",
       "      <td>37066</td>\n",
       "      <td>0.643741</td>\n",
       "      <td>South</td>\n",
       "    </tr>\n",
       "    <tr>\n",
       "      <th>4</th>\n",
       "      <td>AL</td>\n",
       "      <td>White</td>\n",
       "      <td>-0.5</td>\n",
       "      <td>18-29</td>\n",
       "      <td>Post-grad</td>\n",
       "      <td>9378</td>\n",
       "      <td>0.643741</td>\n",
       "      <td>South</td>\n",
       "    </tr>\n",
       "  </tbody>\n",
       "</table>\n",
       "</div>"
      ],
      "text/plain": [
       "  state    eth  male    age            educ       n   repvote region\n",
       "0    AL  White  -0.5  18-29           No HS   23948  0.643741  South\n",
       "1    AL  White  -0.5  18-29              HS   59378  0.643741  South\n",
       "2    AL  White  -0.5  18-29    Some college  104855  0.643741  South\n",
       "3    AL  White  -0.5  18-29  4-Year College   37066  0.643741  South\n",
       "4    AL  White  -0.5  18-29       Post-grad    9378  0.643741  South"
      ]
     },
     "execution_count": 14,
     "metadata": {},
     "output_type": "execute_result"
    }
   ],
   "source": [
    "poststrat_df = pd.read_csv('data/poststrat_df.csv')\n",
    "statelevel_predictors_df = pd.read_csv('data/statelevel_predictors.csv', index_col=0)\n",
    "poststrat_df = poststrat_df.merge(statelevel_predictors_df, how='left', on='state')\n",
    "mrp_states_df = pd.read_csv('data/mrp_states.csv')\n",
    "poststrat_df.head()"
   ]
  },
  {
   "cell_type": "code",
   "execution_count": 15,
   "metadata": {
    "id": "LWR6SA44lZNK"
   },
   "outputs": [],
   "source": [
    "# Transform raw data into 0-1 vectors:\n",
    "x_poststrat = []\n",
    "for i in range(len(poststrat_df)):\n",
    "    x_i = transform_raw(poststrat_df, data_to_idx, i)\n",
    "    x_poststrat.append(x_i)\n",
    "x_poststrat = np.array(x_poststrat, dtype='float32')"
   ]
  },
  {
   "cell_type": "code",
   "execution_count": 16,
   "metadata": {
    "id": "w7odG1nWlZNK"
   },
   "outputs": [],
   "source": [
    "def estimate_vi_model_rate(x_poststrat, data_to_idx, model):\n",
    "    model.x = x_poststrat\n",
    "    splitted_x = tf.split(model.x, [123, 5], axis=1)\n",
    "    alpha = model.q.sample(10000)\n",
    "    term1 = tf.matmul(splitted_x[0], tf.transpose(alpha))\n",
    "    term2 = model.gamma_0\n",
    "    term3 = tf.matmul(splitted_x[1], tf.reshape(model.gamma, (5, 1)))\n",
    "    post_pred_mat = tf.math.sigmoid(tf.squeeze(term1 + term2 + term3))\n",
    "\n",
    "    return post_pred_mat\n",
    "\n",
    "def get_se_bernoulli(p, n):\n",
    "    return np.sqrt(p*(1-p)/n)"
   ]
  },
  {
   "cell_type": "code",
   "execution_count": 17,
   "metadata": {
    "colab": {
     "base_uri": "https://localhost:8080/"
    },
    "executionInfo": {
     "elapsed": 442,
     "status": "ok",
     "timestamp": 1630239764505,
     "user": {
      "displayName": "Liyi Zhang",
      "photoUrl": "https://lh3.googleusercontent.com/a-/AOh14Gh9V3hIAgWLKOIy-Olktu7QU6Q3a0l2eUzzAf2j=s64",
      "userId": "06658486172350999592"
     },
     "user_tz": -480
    },
    "id": "SSRHcyWtlZNL",
    "outputId": "cf191042-5f24-4b21-8fa0-33f3a3592f49"
   },
   "outputs": [
    {
     "name": "stdout",
     "output_type": "stream",
     "text": [
      "mean 0.4314\n",
      "std 0.007004199311841433\n"
     ]
    }
   ],
   "source": [
    "# 5,000-person unadjusted sample estimate:\n",
    "print('mean', np.mean(cces['abortion']))\n",
    "print('std', get_se_bernoulli(np.mean(cces['abortion']), len(cces)))"
   ]
  },
  {
   "cell_type": "code",
   "execution_count": 18,
   "metadata": {
    "colab": {
     "base_uri": "https://localhost:8080/"
    },
    "executionInfo": {
     "elapsed": 12,
     "status": "ok",
     "timestamp": 1630239765674,
     "user": {
      "displayName": "Liyi Zhang",
      "photoUrl": "https://lh3.googleusercontent.com/a-/AOh14Gh9V3hIAgWLKOIy-Olktu7QU6Q3a0l2eUzzAf2j=s64",
      "userId": "06658486172350999592"
     },
     "user_tz": -480
    },
    "id": "DA5jsvbUlZNN",
    "outputId": "b3c53e0e-c18e-401c-946c-adab4985aabc"
   },
   "outputs": [
    {
     "name": "stdout",
     "output_type": "stream",
     "text": [
      "mean 0.4341581675305133\n",
      "std 0.002026677342749567\n"
     ]
    }
   ],
   "source": [
    "# 60,000-person unadjusted sample estimate:\n",
    "print('mean', np.mean(cces_all['abortion']))\n",
    "print('std', get_se_bernoulli(np.mean(cces_all['abortion']), len(cces_all)))"
   ]
  },
  {
   "cell_type": "code",
   "execution_count": 19,
   "metadata": {},
   "outputs": [],
   "source": [
    "# # load model VI KLqp Gaussian\n",
    "# path = 'results/survey/vi_klqp_gaussian/2021-10-13-172522/'\n",
    "# model_qp = models.VI_KLqp(dataset='survey', v_fam='gaussian')\n",
    "# model_qp.x = x\n",
    "# model_qp.y = y\n",
    "# model_qp.gamma_0 = np.genfromtxt(path + 'gamma_0.csv', dtype='float32')[-1]\n",
    "# model_qp.gamma = np.genfromtxt(path + 'gamma.csv', dtype='float32')[-1,:]\n",
    "# model_qp.phi_m = np.genfromtxt(path + 'phi_m.csv', dtype='float32')[-1,:]\n",
    "# model_qp.phi_s = np.genfromtxt(path + 'phi_s.csv', dtype='float32')[-1,:]\n",
    "# model_qp.sigma = np.genfromtxt(path + 'sigma.csv', dtype='float32')[-1,:]\n",
    "# model_qp.q = tfd.MultivariateNormalDiag(\n",
    "#               loc=model_qp.phi_m, \n",
    "#               scale_diag=model_qp.phi_s)"
   ]
  },
  {
   "cell_type": "code",
   "execution_count": 20,
   "metadata": {},
   "outputs": [],
   "source": [
    "# losses = -np.genfromtxt(path + 'elbo.csv', dtype='float32')\n",
    "# plt.plot(list(range(len(losses))), losses)"
   ]
  },
  {
   "cell_type": "code",
   "execution_count": 43,
   "metadata": {
    "id": "584bcVLblZNO"
   },
   "outputs": [],
   "source": [
    "# load model VI KLpq Gaussian - HSC\n",
    "path = Path('results/survey/vi_klpq_N0_warped_gaussian/2022-04-18-102854')\n",
    "model_pq = models.VI_KLpq(v_fam='gaussian', space='warped', dataset='survey', hmc_e=0.05, hmc_L=20, chains=1)\n",
    "model_pq.x = x\n",
    "model_pq.y = y\n",
    "model_pq.gamma_0 = np.genfromtxt(path / 'gamma_0.csv', dtype='float32')[-1]\n",
    "model_pq.gamma = np.genfromtxt(path / 'gamma.csv', dtype='float32')[-1,:]\n",
    "model_pq.phi_m = np.genfromtxt(path / 'phi_m.csv', dtype='float32')[-1,:]\n",
    "model_pq.phi_s = np.genfromtxt(path / 'phi_s.csv', dtype='float32')[-1,:]\n",
    "model_pq.sigma = np.genfromtxt(path / 'sigma.csv', dtype='float32')[-1,:]\n",
    "model_pq.q = tfd.MultivariateNormalDiag(\n",
    "    loc=model_pq.phi_m, \n",
    "    scale_diag=model_pq.phi_s)"
   ]
  },
  {
   "cell_type": "code",
   "execution_count": 44,
   "metadata": {},
   "outputs": [
    {
     "data": {
      "text/plain": [
       "[<matplotlib.lines.Line2D at 0x7f01fb0f50a0>]"
      ]
     },
     "execution_count": 44,
     "metadata": {},
     "output_type": "execute_result"
    },
    {
     "data": {
      "image/png": "[encoded data removed]",
      "text/plain": [
       "<Figure size 432x288 with 1 Axes>"
      ]
     },
     "metadata": {
      "needs_background": "light"
     },
     "output_type": "display_data"
    }
   ],
   "source": [
    "losses = np.genfromtxt(path / 'losses.csv', dtype='float32')\n",
    "plt.plot(list(range(len(losses))), losses)"
   ]
  },
  {
   "cell_type": "code",
   "execution_count": 45,
   "metadata": {},
   "outputs": [],
   "source": [
    "# load model VI KLpq Gaussian - MSC\n",
    "path = Path('results/survey/vi_klpq_N10_eps_gaussian/2022-04-14-180124')\n",
    "model_pq_ex2_eps = models.VI_KLpq(v_fam='gaussian', space='eps', dataset='survey', hmc_e=0.05, hmc_L=20, cis=10, chains=1)\n",
    "model_pq_ex2_eps.x = x\n",
    "model_pq_ex2_eps.y = y\n",
    "model_pq_ex2_eps.gamma_0 = np.genfromtxt(path / 'gamma_0.csv', dtype='float32')[-1]\n",
    "model_pq_ex2_eps.gamma = np.genfromtxt(path / 'gamma.csv', dtype='float32')[-1,:]\n",
    "model_pq_ex2_eps.phi_m = np.genfromtxt(path / 'phi_m.csv', dtype='float32')[-1,:]\n",
    "model_pq_ex2_eps.phi_s = np.genfromtxt(path / 'phi_s.csv', dtype='float32')[-1,:]\n",
    "model_pq_ex2_eps.sigma = np.genfromtxt(path / 'sigma.csv', dtype='float32')[-1,:]\n",
    "model_pq_ex2_eps.q = tfd.MultivariateNormalDiag(\n",
    "    loc=model_pq_ex2_eps.phi_m, \n",
    "    scale_diag=model_pq_ex2_eps.phi_s)"
   ]
  },
  {
   "cell_type": "code",
   "execution_count": 46,
   "metadata": {},
   "outputs": [
    {
     "data": {
      "text/plain": [
       "[<matplotlib.lines.Line2D at 0x7f01fb1d1640>]"
      ]
     },
     "execution_count": 46,
     "metadata": {},
     "output_type": "execute_result"
    },
    {
     "data": {
      "image/png": "[encoded data removed]",
      "text/plain": [
       "<Figure size 432x288 with 1 Axes>"
      ]
     },
     "metadata": {
      "needs_background": "light"
     },
     "output_type": "display_data"
    }
   ],
   "source": [
    "losses = np.genfromtxt(path / 'losses.csv', dtype='float32')\n",
    "plt.plot(list(range(len(losses))), losses)"
   ]
  },
  {
   "cell_type": "code",
   "execution_count": 47,
   "metadata": {},
   "outputs": [],
   "source": [
    "# load model VI KLpq Gaussian - MSC\n",
    "path = Path('results/survey/vi_klpq_N10_warped_gaussian/2022-04-14-183205')\n",
    "model_pq_ex2_warp = models.VI_KLpq(v_fam='gaussian', space='warped', dataset='survey', hmc_e=0.05, hmc_L=20, cis=10, chains=1)\n",
    "model_pq_ex2_warp.x = x\n",
    "model_pq_ex2_warp.y = y\n",
    "model_pq_ex2_warp.gamma_0 = np.genfromtxt(path / 'gamma_0.csv', dtype='float32')[-1]\n",
    "model_pq_ex2_warp.gamma = np.genfromtxt(path / 'gamma.csv', dtype='float32')[-1,:]\n",
    "model_pq_ex2_warp.phi_m = np.genfromtxt(path / 'phi_m.csv', dtype='float32')[-1,:]\n",
    "model_pq_ex2_warp.phi_s = np.genfromtxt(path / 'phi_s.csv', dtype='float32')[-1,:]\n",
    "model_pq_ex2_warp.sigma = np.genfromtxt(path / 'sigma.csv', dtype='float32')[-1,:]\n",
    "model_pq_ex2_warp.q = tfd.MultivariateNormalDiag(\n",
    "    loc=model_pq_ex2_warp.phi_m, \n",
    "    scale_diag=model_pq_ex2_warp.phi_s)"
   ]
  },
  {
   "cell_type": "code",
   "execution_count": 48,
   "metadata": {},
   "outputs": [
    {
     "data": {
      "text/plain": [
       "[<matplotlib.lines.Line2D at 0x7f01f9ec2af0>]"
      ]
     },
     "execution_count": 48,
     "metadata": {},
     "output_type": "execute_result"
    },
    {
     "data": {
      "image/png": "[encoded data removed]",
      "text/plain": [
       "<Figure size 432x288 with 1 Axes>"
      ]
     },
     "metadata": {
      "needs_background": "light"
     },
     "output_type": "display_data"
    }
   ],
   "source": [
    "losses = np.genfromtxt(path / 'losses.csv', dtype='float32')\n",
    "plt.plot(list(range(len(losses))), losses)"
   ]
  },
  {
   "cell_type": "code",
   "execution_count": 49,
   "metadata": {
    "id": "TG5m0JOplZNP"
   },
   "outputs": [],
   "source": [
    "# # load model VI KLqp Flow\n",
    "# path = 'results/survey/vi_klqp_flow/2021-09-03-223300/'\n",
    "# model_qp_flow = models.VI_KLqp(v_fam='flow', dataset='survey')\n",
    "# model_qp_flow.x = x\n",
    "# model_qp_flow.y = y\n",
    "# model_qp_flow.gamma_0 = np.genfromtxt(path + 'gamma_0.csv', dtype='float32')[-1]\n",
    "# model_qp_flow.gamma = np.genfromtxt(path + 'gamma.csv', dtype='float32')[-1,:]\n",
    "# model_qp_flow.sigma = np.genfromtxt(path + 'sigma.csv', dtype='float32')[-1,:]\n",
    "# model_qp_flow.load_model(path + 'flow_model/model')"
   ]
  },
  {
   "cell_type": "code",
   "execution_count": 50,
   "metadata": {},
   "outputs": [],
   "source": [
    "# losses = -np.genfromtxt(path + 'elbo.csv', dtype='float32')\n",
    "# plt.plot(list(range(len(losses))), losses)"
   ]
  },
  {
   "cell_type": "code",
   "execution_count": null,
   "metadata": {},
   "outputs": [],
   "source": []
  },
  {
   "cell_type": "code",
   "execution_count": 51,
   "metadata": {
    "id": "zclpjtRelZNP"
   },
   "outputs": [],
   "source": [
    "# # load model VI KLpq Flow\n",
    "path = Path('results/survey/vi_klpq_warped_flow/2022-04-14-151501')\n",
    "# model_pq_flow = models.VI_KLpq(v_fam='flow', space='warped', dataset='survey', hmc_e=0.03, hmc_L=33, chains=64)\n",
    "# model_pq_flow.x = x\n",
    "# model_pq_flow.y = y\n",
    "# model_pq_flow.gamma_0 = np.genfromtxt(path + 'gamma_0.csv', dtype='float32')[-1]\n",
    "# model_pq_flow.gamma = np.genfromtxt(path + 'gamma.csv', dtype='float32')[-1,:]\n",
    "# model_pq_flow.sigma = np.genfromtxt(path + 'sigma.csv', dtype='float32')[-1,:]\n",
    "# model_pq_flow.load_model(path + 'flow_model/model')"
   ]
  },
  {
   "cell_type": "code",
   "execution_count": 52,
   "metadata": {},
   "outputs": [],
   "source": [
    "# losses = np.genfromtxt(path + 'losses.csv', dtype='float32')\n",
    "# plt.plot(list(range(len(losses))), losses)"
   ]
  },
  {
   "cell_type": "code",
   "execution_count": 53,
   "metadata": {},
   "outputs": [],
   "source": [
    "# load model VI KLpq Gaussian - MSC\n",
    "path = Path('results/survey/vi_klpq_N10_eps_flow/2022-04-14-183205')\n",
    "# model_pq_ex2_warp = models.VI_KLpq(v_fam='flow', space='eps', dataset='survey', hmc_e=0.03, hmc_L=33, cis=10, chains=1)\n",
    "# model_pq_ex2_warp.x = x\n",
    "# model_pq_ex2_warp.y = y\n",
    "# model_pq_ex2_warp.gamma_0 = np.genfromtxt(path / 'gamma_0.csv', dtype='float32')[-1]\n",
    "# model_pq_ex2_warp.gamma = np.genfromtxt(path / 'gamma.csv', dtype='float32')[-1,:]\n",
    "# model_pq_ex2_warp.phi_m = np.genfromtxt(path / 'phi_m.csv', dtype='float32')[-1,:]\n",
    "# model_pq_ex2_warp.phi_s = np.genfromtxt(path / 'phi_s.csv', dtype='float32')[-1,:]\n",
    "# model_pq_ex2_warp.sigma = np.genfromtxt(path / 'sigma.csv', dtype='float32')[-1,:]\n",
    "# model_pq_ex2_warp.q = tfd.MultivariateNormalDiag(\n",
    "#     loc=model_pq_ex2_warp.phi_m, \n",
    "#     scale_diag=model_pq_ex2_warp.phi_s)"
   ]
  },
  {
   "cell_type": "code",
   "execution_count": 54,
   "metadata": {},
   "outputs": [],
   "source": [
    "# losses = np.genfromtxt(path + 'losses.csv', dtype='float32')\n",
    "# plt.plot(list(range(len(losses))), losses)"
   ]
  },
  {
   "cell_type": "code",
   "execution_count": 55,
   "metadata": {},
   "outputs": [],
   "source": [
    "# load model VI KLpq Gaussian - MSC\n",
    "path = Path('results/survey/vi_klpq_N10_warped_flow/2022-04-14-183205')\n",
    "# model_pq_ex2_warp = models.VI_KLpq(v_fam='flow', space='eps', dataset='survey', hmc_e=0.03, hmc_L=33, cis=10, chains=1)\n",
    "# model_pq_ex2_warp.x = x\n",
    "# model_pq_ex2_warp.y = y\n",
    "# model_pq_ex2_warp.gamma_0 = np.genfromtxt(path / 'gamma_0.csv', dtype='float32')[-1]\n",
    "# model_pq_ex2_warp.gamma = np.genfromtxt(path / 'gamma.csv', dtype='float32')[-1,:]\n",
    "# model_pq_ex2_warp.phi_m = np.genfromtxt(path / 'phi_m.csv', dtype='float32')[-1,:]\n",
    "# model_pq_ex2_warp.phi_s = np.genfromtxt(path / 'phi_s.csv', dtype='float32')[-1,:]\n",
    "# model_pq_ex2_warp.sigma = np.genfromtxt(path / 'sigma.csv', dtype='float32')[-1,:]\n",
    "# model_pq_ex2_warp.q = tfd.MultivariateNormalDiag(\n",
    "#     loc=model_pq_ex2_warp.phi_m, \n",
    "#     scale_diag=model_pq_ex2_warp.phi_s)"
   ]
  },
  {
   "cell_type": "code",
   "execution_count": 56,
   "metadata": {
    "id": "HxftW4dylZNP"
   },
   "outputs": [],
   "source": [
    "# post_pred_mat_qp = estimate_vi_model_rate(x_poststrat, data_to_idx, model_qp)\n",
    "# estimate = np.dot(np.array([poststrat_df['n']]), \n",
    "#                   np.array(post_pred_mat_qp)) / sum(poststrat_df['n'])\n",
    "# print('mean', np.mean(estimate))\n",
    "# print('std', np.std(estimate))"
   ]
  },
  {
   "cell_type": "code",
   "execution_count": 57,
   "metadata": {
    "id": "c90rpfcWlZNQ"
   },
   "outputs": [
    {
     "name": "stdout",
     "output_type": "stream",
     "text": [
      "mean 0.43503890427026737\n",
      "std 0.02329209157682803\n"
     ]
    }
   ],
   "source": [
    "post_pred_mat_pq = estimate_vi_model_rate(x_poststrat, data_to_idx, model_pq)\n",
    "estimate = np.dot(np.array([poststrat_df['n']]), \n",
    "                  np.array(post_pred_mat_pq)) / sum(poststrat_df['n'])\n",
    "print('mean', np.mean(estimate))\n",
    "print('std', np.std(estimate))"
   ]
  },
  {
   "cell_type": "code",
   "execution_count": 58,
   "metadata": {},
   "outputs": [
    {
     "name": "stdout",
     "output_type": "stream",
     "text": [
      "mean 0.417239348588358\n",
      "std 0.12917105912211946\n"
     ]
    }
   ],
   "source": [
    "post_pred_mat_pq_msc = estimate_vi_model_rate(x_poststrat, data_to_idx, model_pq_ex2_eps)\n",
    "estimate = np.dot(np.array([poststrat_df['n']]), \n",
    "                  np.array(post_pred_mat_pq_msc)) / sum(poststrat_df['n'])\n",
    "print('mean', np.mean(estimate))\n",
    "print('std', np.std(estimate))"
   ]
  },
  {
   "cell_type": "code",
   "execution_count": 59,
   "metadata": {
    "colab": {
     "base_uri": "https://localhost:8080/"
    },
    "executionInfo": {
     "elapsed": 5134,
     "status": "ok",
     "timestamp": 1630239802190,
     "user": {
      "displayName": "Liyi Zhang",
      "photoUrl": "https://lh3.googleusercontent.com/a-/AOh14Gh9V3hIAgWLKOIy-Olktu7QU6Q3a0l2eUzzAf2j=s64",
      "userId": "06658486172350999592"
     },
     "user_tz": -480
    },
    "id": "PE-M-KtalZNQ",
    "outputId": "8d55cacb-6a7a-4c9b-97f6-2f1084b940a5"
   },
   "outputs": [],
   "source": [
    "# post_pred_mat_qp_flow = estimate_vi_model_rate(x_poststrat, data_to_idx, model_qp_flow)\n",
    "# estimate = np.dot(np.array([poststrat_df['n']]), \n",
    "#                   np.array(post_pred_mat_qp_flow)) / sum(poststrat_df['n'])\n",
    "# print('mean', np.mean(estimate))\n",
    "# print('std', np.std(estimate))"
   ]
  },
  {
   "cell_type": "code",
   "execution_count": 62,
   "metadata": {
    "colab": {
     "base_uri": "https://localhost:8080/"
    },
    "executionInfo": {
     "elapsed": 1099,
     "status": "ok",
     "timestamp": 1630239803259,
     "user": {
      "displayName": "Liyi Zhang",
      "photoUrl": "https://lh3.googleusercontent.com/a-/AOh14Gh9V3hIAgWLKOIy-Olktu7QU6Q3a0l2eUzzAf2j=s64",
      "userId": "06658486172350999592"
     },
     "user_tz": -480
    },
    "id": "CLnGz3lSlZNR",
    "outputId": "421de4c0-5925-4753-a95a-b5cca6a11bef"
   },
   "outputs": [],
   "source": [
    "pass\n",
    "# post_pred_mat_pq_flow = estimate_vi_model_rate(x_poststrat, data_to_idx, model_pq_flow)\n",
    "# estimate = np.dot(np.array([poststrat_df['n']]), \n",
    "#                   np.array(post_pred_mat_pq_flow)) / sum(poststrat_df['n'])\n",
    "# print('mean', np.mean(estimate))\n",
    "# print('std', np.std(estimate))"
   ]
  },
  {
   "cell_type": "markdown",
   "metadata": {
    "id": "wqTZ0Hs-lZNR"
   },
   "source": [
    "Compare parameters under different number of VI samples"
   ]
  },
  {
   "cell_type": "code",
   "execution_count": null,
   "metadata": {
    "colab": {
     "base_uri": "https://localhost:8080/",
     "height": 265
    },
    "collapsed": true,
    "executionInfo": {
     "elapsed": 4267,
     "status": "ok",
     "timestamp": 1628143742224,
     "user": {
      "displayName": "Liyi Zhang",
      "photoUrl": "https://lh3.googleusercontent.com/a-/AOh14Gh9V3hIAgWLKOIy-Olktu7QU6Q3a0l2eUzzAf2j=s64",
      "userId": "06658486172350999592"
     },
     "user_tz": -480
    },
    "id": "GHzTL0MGlZNR",
    "outputId": "0f16d19a-db87-406f-d886-bf784fa62e65"
   },
   "outputs": [],
   "source": [
    "path = 'results/survey/vi_klpq_gaussian/2021-09-01-162133/'\n",
    "gamma = np.genfromtxt(path + 'gamma.csv')\n",
    "plt.plot(gamma[:,0], label='gamma_1')\n",
    "plt.plot(gamma[:,1], label='gamma_2')\n",
    "plt.plot(gamma[:,2], label='gamma_3')\n",
    "plt.plot(gamma[:,3], label='gamma_4')\n",
    "plt.plot(gamma[:,4], label='gamma_5')\n",
    "plt.show()"
   ]
  },
  {
   "cell_type": "code",
   "execution_count": null,
   "metadata": {
    "collapsed": true,
    "id": "ksUPfGrElZNS",
    "outputId": "933592ab-a404-4018-abad-c4468ab29cc4"
   },
   "outputs": [],
   "source": [
    "path = 'results/survey/vi_klpq_gaussian/2021-07-02-164958/'\n",
    "gamma_1samp = np.genfromtxt(path + 'gamma.csv')\n",
    "plt.plot(gamma_1samp[:,0], label='gamma_1')\n",
    "plt.plot(gamma_1samp[:,1], label='gamma_2')\n",
    "plt.plot(gamma_1samp[:,2], label='gamma_3')\n",
    "plt.plot(gamma_1samp[:,3], label='gamma_4')\n",
    "plt.plot(gamma_1samp[:,4], label='gamma_5')\n",
    "plt.show()"
   ]
  },
  {
   "cell_type": "markdown",
   "metadata": {},
   "source": [
    "### By-state predictions"
   ]
  },
  {
   "cell_type": "markdown",
   "metadata": {
    "id": "nkV4xgCHlZNS"
   },
   "source": [
    "By state"
   ]
  },
  {
   "cell_type": "code",
   "execution_count": 63,
   "metadata": {},
   "outputs": [],
   "source": [
    "# post_pred_mat_qp = estimate_vi_model_rate(x_poststrat, data_to_idx, model_qp)\n",
    "# state_means_qp = []\n",
    "# state_stds_qp = []\n",
    "# for state in list_of_states:\n",
    "#     is_state = np.array([poststrat_df['state'] == state])\n",
    "#     estimate = np.dot(np.multiply(np.array([poststrat_df['n']]), is_state), \n",
    "#                       np.array(post_pred_mat_qp)) / np.sum(np.multiply(np.array([poststrat_df['n']]), is_state))\n",
    "#     state_means_qp.append(np.mean(estimate))\n",
    "#     state_stds_qp.append(np.std(estimate))\n",
    "#     print(state)\n",
    "#     print('mean', np.mean(estimate))\n",
    "#     print('std', np.std(estimate))\n",
    "# state_means_qp = np.array(state_means_qp)\n",
    "# state_stds_qp = np.array(state_stds_qp)"
   ]
  },
  {
   "cell_type": "code",
   "execution_count": 64,
   "metadata": {
    "id": "_53LZzJR5VGi"
   },
   "outputs": [
    {
     "name": "stdout",
     "output_type": "stream",
     "text": [
      "HI\n",
      "mean 0.3575572917959262\n",
      "std 0.04434721851767331\n",
      "CA\n",
      "mean 0.3781119365367206\n",
      "std 0.02961691745187514\n",
      "VT\n",
      "mean 0.39312338548694115\n",
      "std 0.046924462081802565\n",
      "MA\n",
      "mean 0.34847849905984696\n",
      "std 0.03631081576506501\n",
      "MD\n",
      "mean 0.3461167212799938\n",
      "std 0.037733434049210854\n",
      "NY\n",
      "mean 0.35090184646496997\n",
      "std 0.031482743211991474\n",
      "IL\n",
      "mean 0.40111505920054225\n",
      "std 0.0344765482836129\n",
      "WA\n",
      "mean 0.37948806271714314\n",
      "std 0.037397993951803446\n",
      "RI\n",
      "mean 0.3667632184786766\n",
      "std 0.04560492049659994\n",
      "NJ\n",
      "mean 0.36868170679492623\n",
      "std 0.035239353267014606\n",
      "CT\n",
      "mean 0.3578530928952358\n",
      "std 0.0420190033088445\n",
      "OR\n",
      "mean 0.38845659673444005\n",
      "std 0.040911931335066556\n",
      "DE\n",
      "mean 0.44871270197301066\n",
      "std 0.04542327218320378\n",
      "NM\n",
      "mean 0.40177725006528714\n",
      "std 0.04339665790791019\n",
      "VA\n",
      "mean 0.4290694596297216\n",
      "std 0.037133891512301134\n",
      "CO\n",
      "mean 0.4107800050020424\n",
      "std 0.041442958697847386\n",
      "ME\n",
      "mean 0.43216193274288417\n",
      "std 0.04702904574562479\n",
      "NV\n",
      "mean 0.39446566323348536\n",
      "std 0.03984719011366121\n",
      "MN\n",
      "mean 0.4295773902629367\n",
      "std 0.0424342554227701\n",
      "NH\n",
      "mean 0.4238426209571554\n",
      "std 0.04557370085875549\n",
      "MI\n",
      "mean 0.43518012670189327\n",
      "std 0.03732439958466638\n",
      "PA\n",
      "mean 0.46921816443874287\n",
      "std 0.03529555789968572\n",
      "WI\n",
      "mean 0.4483144833090751\n",
      "std 0.04272110380650662\n",
      "FL\n",
      "mean 0.40121402214094143\n",
      "std 0.031614617063442436\n",
      "AZ\n",
      "mean 0.4640973293448253\n",
      "std 0.03737576328053792\n",
      "NC\n",
      "mean 0.4515114831310405\n",
      "std 0.038592812987416965\n",
      "GA\n",
      "mean 0.5203356959609514\n",
      "std 0.0364000846548318\n",
      "OH\n",
      "mean 0.4555477811136862\n",
      "std 0.036914235909905085\n",
      "TX\n",
      "mean 0.5116018941759294\n",
      "std 0.03202692511256478\n",
      "IA\n",
      "mean 0.45093168669233047\n",
      "std 0.045582178111686356\n",
      "SC\n",
      "mean 0.5013255545031076\n",
      "std 0.04062337447870733\n",
      "AK\n",
      "mean 0.45296511438168124\n",
      "std 0.04531060731408022\n",
      "MS\n",
      "mean 0.521297471090587\n",
      "std 0.04270749118495677\n",
      "MO\n",
      "mean 0.46254538774724113\n",
      "std 0.03999693883700578\n",
      "IN\n",
      "mean 0.4533140819147751\n",
      "std 0.04170146012141844\n",
      "LA\n",
      "mean 0.48663998861617486\n",
      "std 0.04144107678602834\n",
      "MT\n",
      "mean 0.473705534295763\n",
      "std 0.04762823378061001\n",
      "KS\n",
      "mean 0.5036003438458999\n",
      "std 0.044888058307117916\n",
      "UT\n",
      "mean 0.4600473216988663\n",
      "std 0.04456014800561512\n",
      "NE\n",
      "mean 0.4919482579180954\n",
      "std 0.04445150817613237\n",
      "TN\n",
      "mean 0.4987032582145595\n",
      "std 0.04002789227490781\n",
      "AR\n",
      "mean 0.5173954943170952\n",
      "std 0.04434901327552282\n",
      "AL\n",
      "mean 0.5147349649203224\n",
      "std 0.04130327556044511\n",
      "KY\n",
      "mean 0.5410857435183941\n",
      "std 0.043044423601551994\n",
      "SD\n",
      "mean 0.5139575448816603\n",
      "std 0.04745621552471594\n",
      "ID\n",
      "mean 0.4592593725492594\n",
      "std 0.04503600425500752\n",
      "OK\n",
      "mean 0.5608324533098569\n",
      "std 0.04121903502785399\n",
      "ND\n",
      "mean 0.504274180578722\n",
      "std 0.048863206629992155\n",
      "WV\n",
      "mean 0.554200185907949\n",
      "std 0.04361406532789534\n",
      "WY\n",
      "mean 0.524344407933934\n",
      "std 0.04719966685066502\n"
     ]
    }
   ],
   "source": [
    "post_pred_mat_pq = estimate_vi_model_rate(x_poststrat, data_to_idx, model_pq)\n",
    "state_means_pq = []\n",
    "state_stds_pq = []\n",
    "for state in list_of_states:\n",
    "    is_state = np.array([poststrat_df['state'] == state])\n",
    "    estimate = np.dot(np.multiply(np.array([poststrat_df['n']]), is_state), \n",
    "                      np.array(post_pred_mat_pq)) / np.sum(np.multiply(np.array([poststrat_df['n']]), is_state))\n",
    "    state_means_pq.append(np.mean(estimate))\n",
    "    state_stds_pq.append(np.std(estimate))\n",
    "    print(state)\n",
    "    print('mean', np.mean(estimate))\n",
    "    print('std', np.std(estimate))\n",
    "state_means_pq = np.array(state_means_pq)\n",
    "state_stds_pq = np.array(state_stds_pq)"
   ]
  },
  {
   "cell_type": "code",
   "execution_count": 71,
   "metadata": {},
   "outputs": [
    {
     "name": "stdout",
     "output_type": "stream",
     "text": [
      "HI\n",
      "mean 0.37187054540623876\n",
      "std 0.16158829057714588\n",
      "CA\n",
      "mean 0.38476836311176055\n",
      "std 0.12409322433247645\n",
      "VT\n",
      "mean 0.49294634526942144\n",
      "std 0.1931266523503676\n",
      "MA\n",
      "mean 0.3706661226721275\n",
      "std 0.1552336103774304\n",
      "MD\n",
      "mean 0.35994280100915194\n",
      "std 0.1388020362561552\n",
      "NY\n",
      "mean 0.37444031867838257\n",
      "std 0.13699125976359003\n",
      "IL\n",
      "mean 0.4038455812887228\n",
      "std 0.14481086668010967\n",
      "WA\n",
      "mean 0.3777076571702574\n",
      "std 0.153765861670408\n",
      "RI\n",
      "mean 0.37150505386705956\n",
      "std 0.16809772742693732\n",
      "NJ\n",
      "mean 0.3826996066684261\n",
      "std 0.14034988984917024\n",
      "CT\n",
      "mean 0.3642175344157086\n",
      "std 0.15539678384491462\n",
      "OR\n",
      "mean 0.37858954027967395\n",
      "std 0.16697878546075856\n",
      "DE\n",
      "mean 0.46096070790367155\n",
      "std 0.16240493197207165\n",
      "NM\n",
      "mean 0.39060653264010714\n",
      "std 0.14034923572943775\n",
      "VA\n",
      "mean 0.4192881270160356\n",
      "std 0.1454890690552409\n",
      "CO\n",
      "mean 0.4057424159717915\n",
      "std 0.15577599449069926\n",
      "ME\n",
      "mean 0.4299421109594482\n",
      "std 0.187236612292946\n",
      "NV\n",
      "mean 0.37373731286041795\n",
      "std 0.14263387617247275\n",
      "MN\n",
      "mean 0.4120575401329638\n",
      "std 0.17180013098058677\n",
      "NH\n",
      "mean 0.41057789470836553\n",
      "std 0.18388806344575911\n",
      "MI\n",
      "mean 0.42301177664801387\n",
      "std 0.15866255377100136\n",
      "PA\n",
      "mean 0.44689760862316336\n",
      "std 0.16088311258829605\n",
      "WI\n",
      "mean 0.42180346606091845\n",
      "std 0.170509085604545\n",
      "FL\n",
      "mean 0.39606998693773604\n",
      "std 0.13678273526980556\n",
      "AZ\n",
      "mean 0.43165225498457965\n",
      "std 0.14604434063282762\n",
      "NC\n",
      "mean 0.4232649758156477\n",
      "std 0.14976745940736905\n",
      "GA\n",
      "mean 0.49585196308498225\n",
      "std 0.14453545097923393\n",
      "OH\n",
      "mean 0.43254743667359624\n",
      "std 0.1645884531327307\n",
      "TX\n",
      "mean 0.47020839358597877\n",
      "std 0.13108207159828422\n",
      "IA\n",
      "mean 0.4139607384463905\n",
      "std 0.18007069999585065\n",
      "SC\n",
      "mean 0.4706746490903432\n",
      "std 0.15534719659571194\n",
      "AK\n",
      "mean 0.39475350471596427\n",
      "std 0.16337335727096694\n",
      "MS\n",
      "mean 0.5207142897845826\n",
      "std 0.1580524731315882\n",
      "MO\n",
      "mean 0.4355573976844154\n",
      "std 0.16396620454519983\n",
      "IN\n",
      "mean 0.4106105674165794\n",
      "std 0.1661210322588825\n",
      "LA\n",
      "mean 0.4491545836995074\n",
      "std 0.15348394778912905\n",
      "MT\n",
      "mean 0.4098141022478345\n",
      "std 0.17990485261082914\n",
      "KS\n",
      "mean 0.46707578431700914\n",
      "std 0.1723074385299524\n",
      "UT\n",
      "mean 0.40249569661421547\n",
      "std 0.17255651475098138\n",
      "NE\n",
      "mean 0.4549249664719477\n",
      "std 0.1790223193115734\n",
      "TN\n",
      "mean 0.44588564574738804\n",
      "std 0.16098580877126512\n",
      "AR\n",
      "mean 0.45658745505516707\n",
      "std 0.16792336841127\n",
      "AL\n",
      "mean 0.4605946851788201\n",
      "std 0.1555205942685341\n",
      "KY\n",
      "mean 0.4728295031607786\n",
      "std 0.1736669880255721\n",
      "SD\n",
      "mean 0.4493520575399324\n",
      "std 0.18470638985713012\n",
      "ID\n",
      "mean 0.3679713099221629\n",
      "std 0.17291989860179563\n",
      "OK\n",
      "mean 0.4960259179802007\n",
      "std 0.1603582999691392\n",
      "ND\n",
      "mean 0.41945379400320343\n",
      "std 0.18548244604345657\n",
      "WV\n",
      "mean 0.4573400732240578\n",
      "std 0.18380857179695884\n",
      "WY\n",
      "mean 0.41509619763497513\n",
      "std 0.18509159177252257\n"
     ]
    }
   ],
   "source": [
    "post_pred_mat_pq_msc = estimate_vi_model_rate(x_poststrat, data_to_idx, model_pq_ex2_eps)\n",
    "state_means_pq_ex2_eps = []\n",
    "state_stds_pq_ex2_eps = []\n",
    "for state in list_of_states:\n",
    "    is_state = np.array([poststrat_df['state'] == state])\n",
    "    estimate = np.dot(np.multiply(np.array([poststrat_df['n']]), is_state), \n",
    "                      np.array(post_pred_mat_pq_msc)) / np.sum(np.multiply(np.array([poststrat_df['n']]), is_state))\n",
    "    state_means_pq_ex2_eps.append(np.mean(estimate))\n",
    "    state_stds_pq_ex2_eps.append(np.std(estimate))\n",
    "    print(state)\n",
    "    print('mean', np.mean(estimate))\n",
    "    print('std', np.std(estimate))\n",
    "state_means_pq_msc = np.array(state_means_pq_ex2_eps)\n",
    "state_stds_pq_ex2_eps = np.array(state_stds_pq_ex2_eps)"
   ]
  },
  {
   "cell_type": "code",
   "execution_count": 77,
   "metadata": {},
   "outputs": [
    {
     "name": "stdout",
     "output_type": "stream",
     "text": [
      "HI\n",
      "mean 0.3549756328516662\n",
      "std 0.03603487319228142\n",
      "CA\n",
      "mean 0.3788684008388238\n",
      "std 0.023857064714696605\n",
      "VT\n",
      "mean 0.3913920431301104\n",
      "std 0.0384009354858406\n",
      "MA\n",
      "mean 0.34870525851176015\n",
      "std 0.029772866399440483\n",
      "MD\n",
      "mean 0.3566321697048983\n",
      "std 0.031005231258987992\n",
      "NY\n",
      "mean 0.35348032511823474\n",
      "std 0.02541684532970774\n",
      "IL\n",
      "mean 0.3987318826674687\n",
      "std 0.028021470125096287\n",
      "WA\n",
      "mean 0.3812164473232671\n",
      "std 0.031758737266218424\n",
      "RI\n",
      "mean 0.36542713318230047\n",
      "std 0.03695706091600086\n",
      "NJ\n",
      "mean 0.3660696118706175\n",
      "std 0.030427579315537225\n",
      "CT\n",
      "mean 0.36226015315878646\n",
      "std 0.03476227592420865\n",
      "OR\n",
      "mean 0.3916189970794398\n",
      "std 0.03420215512227709\n",
      "DE\n",
      "mean 0.4508914611242898\n",
      "std 0.037082296418708985\n",
      "NM\n",
      "mean 0.4001945083817636\n",
      "std 0.03538563885916172\n",
      "VA\n",
      "mean 0.4320920499351684\n",
      "std 0.0301033703480697\n",
      "CO\n",
      "mean 0.4114748907076001\n",
      "std 0.03382399453185022\n",
      "ME\n",
      "mean 0.4278042824935797\n",
      "std 0.03825538955696034\n",
      "NV\n",
      "mean 0.39034557887476173\n",
      "std 0.03354550231950968\n",
      "MN\n",
      "mean 0.433183699813595\n",
      "std 0.03621991989294046\n",
      "NH\n",
      "mean 0.4181576363098765\n",
      "std 0.03805070582896362\n",
      "MI\n",
      "mean 0.4395039994371238\n",
      "std 0.030768089391886973\n",
      "PA\n",
      "mean 0.46757785346723924\n",
      "std 0.02928455501557503\n",
      "WI\n",
      "mean 0.4422258705438605\n",
      "std 0.03485210047175965\n",
      "FL\n",
      "mean 0.40222098404699375\n",
      "std 0.025638471168096737\n",
      "AZ\n",
      "mean 0.45856801767758054\n",
      "std 0.031438807255434645\n",
      "NC\n",
      "mean 0.4511905379805925\n",
      "std 0.030908561519519352\n",
      "GA\n",
      "mean 0.5150443708926694\n",
      "std 0.03070467641886053\n",
      "OH\n",
      "mean 0.4583090007509545\n",
      "std 0.031325239304195354\n",
      "TX\n",
      "mean 0.5075649150515738\n",
      "std 0.02661239226013428\n",
      "IA\n",
      "mean 0.45678864214904186\n",
      "std 0.038133529099629984\n",
      "SC\n",
      "mean 0.4880916830323728\n",
      "std 0.0344895505800298\n",
      "AK\n",
      "mean 0.45017041679201414\n",
      "std 0.037999045406696186\n",
      "MS\n",
      "mean 0.5125152745098219\n",
      "std 0.036563090378610275\n",
      "MO\n",
      "mean 0.47079285751126965\n",
      "std 0.0319504487118958\n",
      "IN\n",
      "mean 0.4517656058582751\n",
      "std 0.033095189117478586\n",
      "LA\n",
      "mean 0.48414950160755654\n",
      "std 0.03499246415972601\n",
      "MT\n",
      "mean 0.47033367840569273\n",
      "std 0.037901872497171224\n",
      "KS\n",
      "mean 0.4975910325301048\n",
      "std 0.037500067883931766\n",
      "UT\n",
      "mean 0.4535288744862361\n",
      "std 0.03639440282007497\n",
      "NE\n",
      "mean 0.5014092389401822\n",
      "std 0.0394843927254274\n",
      "TN\n",
      "mean 0.4966603803074309\n",
      "std 0.03305137110358105\n",
      "AR\n",
      "mean 0.5148374189207023\n",
      "std 0.0377389183997679\n",
      "AL\n",
      "mean 0.504335261383646\n",
      "std 0.034878859297252034\n",
      "KY\n",
      "mean 0.5334909205516032\n",
      "std 0.03536060144296337\n",
      "SD\n",
      "mean 0.5102406107157594\n",
      "std 0.03912600947365794\n",
      "ID\n",
      "mean 0.4545130316562565\n",
      "std 0.03706431395945493\n",
      "OK\n",
      "mean 0.5627950383824736\n",
      "std 0.034781874845568474\n",
      "ND\n",
      "mean 0.5116759084425258\n",
      "std 0.040678671509045874\n",
      "WV\n",
      "mean 0.5538464744531425\n",
      "std 0.037806784227121394\n",
      "WY\n",
      "mean 0.5179038487820593\n",
      "std 0.040824928180821875\n"
     ]
    }
   ],
   "source": [
    "post_pred_mat_pq_msc = estimate_vi_model_rate(x_poststrat, data_to_idx, model_pq_ex2_warp)\n",
    "state_means_pq_ex2_warp = []\n",
    "state_stds_pq_ex2_warp = []\n",
    "for state in list_of_states:\n",
    "    is_state = np.array([poststrat_df['state'] == state])\n",
    "    estimate = np.dot(np.multiply(np.array([poststrat_df['n']]), is_state), \n",
    "                      np.array(post_pred_mat_pq_msc)) / np.sum(np.multiply(np.array([poststrat_df['n']]), is_state))\n",
    "    state_means_pq_ex2_warp.append(np.mean(estimate))\n",
    "    state_stds_pq_ex2_warp.append(np.std(estimate))\n",
    "    print(state)\n",
    "    print('mean', np.mean(estimate))\n",
    "    print('std', np.std(estimate))\n",
    "state_means_pq_ex2_warp = np.array(state_means_pq_ex2_warp)\n",
    "state_stds_pq_ex2_warp = np.array(state_stds_pq_ex2_warp)"
   ]
  },
  {
   "cell_type": "code",
   "execution_count": null,
   "metadata": {
    "colab": {
     "base_uri": "https://localhost:8080/"
    },
    "executionInfo": {
     "elapsed": 20629,
     "status": "ok",
     "timestamp": 1630239841270,
     "user": {
      "displayName": "Liyi Zhang",
      "photoUrl": "https://lh3.googleusercontent.com/a-/AOh14Gh9V3hIAgWLKOIy-Olktu7QU6Q3a0l2eUzzAf2j=s64",
      "userId": "06658486172350999592"
     },
     "user_tz": -480
    },
    "id": "E_cMz2XUlZNU",
    "outputId": "0fa95964-0eab-4564-f750-f4482078aa1c"
   },
   "outputs": [],
   "source": [
    "# post_pred_mat_qp_flow = estimate_vi_model_rate(x_poststrat, data_to_idx, model_qp_flow)\n",
    "# state_means_qp_flow = []\n",
    "# state_stds_qp_flow = []\n",
    "# for state in list_of_states:\n",
    "#     is_state = np.array([poststrat_df['state'] == state])\n",
    "#     estimate = np.dot(np.multiply(np.array([poststrat_df['n']]), is_state), \n",
    "#                       np.array(post_pred_mat_qp_flow)) / np.sum(np.multiply(np.array([poststrat_df['n']]), is_state))\n",
    "#     state_means_qp_flow.append(np.mean(estimate))\n",
    "#     state_stds_qp_flow.append(np.std(estimate))\n",
    "#     print(state)\n",
    "#     print('mean', np.mean(estimate))\n",
    "#     print('std', np.std(estimate))\n",
    "# state_means_qp_flow = np.array(state_means_qp_flow)\n",
    "# state_stds_qp_flow = np.array(state_stds_qp_flow)"
   ]
  },
  {
   "cell_type": "code",
   "execution_count": 67,
   "metadata": {
    "colab": {
     "base_uri": "https://localhost:8080/"
    },
    "executionInfo": {
     "elapsed": 19775,
     "status": "ok",
     "timestamp": 1630239861011,
     "user": {
      "displayName": "Liyi Zhang",
      "photoUrl": "https://lh3.googleusercontent.com/a-/AOh14Gh9V3hIAgWLKOIy-Olktu7QU6Q3a0l2eUzzAf2j=s64",
      "userId": "06658486172350999592"
     },
     "user_tz": -480
    },
    "id": "t9nNd6QZlZNV",
    "outputId": "586a3c83-b6a3-49a9-be38-ba930feaac77"
   },
   "outputs": [],
   "source": [
    "pass\n",
    "# post_pred_mat_pq_flow = estimate_vi_model_rate(x_poststrat, data_to_idx, model_pq_flow)\n",
    "# state_means_pq_flow = []\n",
    "# state_stds_pq_flow = []\n",
    "# for state in list_of_states:\n",
    "#     is_state = np.array([poststrat_df['state'] == state])\n",
    "#     estimate = np.dot(np.multiply(np.array([poststrat_df['n']]), is_state), \n",
    "#                       np.array(post_pred_mat_pq_flow)) / np.sum(np.multiply(np.array([poststrat_df['n']]), is_state))\n",
    "#     state_means_pq_flow.append(np.mean(estimate))\n",
    "#     state_stds_pq_flow.append(np.std(estimate))\n",
    "#     print(state)\n",
    "#     print('mean', np.mean(estimate))\n",
    "#     print('std', np.std(estimate))\n",
    "# state_means_pq_flow = np.array(state_means_pq_flow)\n",
    "# state_stds_pq_flow = np.array(state_stds_pq_flow)"
   ]
  },
  {
   "cell_type": "code",
   "execution_count": null,
   "metadata": {
    "id": "DApMo4_E5Sx5"
   },
   "outputs": [],
   "source": []
  },
  {
   "cell_type": "code",
   "execution_count": 68,
   "metadata": {
    "id": "hfyjT2urlZNV"
   },
   "outputs": [],
   "source": [
    "state_means_unadj_5000 = []\n",
    "state_stds_unadj_5000 = []\n",
    "for state in list_of_states:\n",
    "    is_state = np.array([cces['state'] == state])\n",
    "    n = np.sum(is_state)\n",
    "    mean = np.sum(np.multiply(np.array([cces['abortion']]), is_state))/n\n",
    "    state_means_unadj_5000.append(mean)\n",
    "    state_stds_unadj_5000.append(get_se_bernoulli(mean, n))\n",
    "state_means_unadj_5000 = np.array(state_means_unadj_5000)\n",
    "state_stds_unadj_5000 = np.array(state_stds_unadj_5000)"
   ]
  },
  {
   "cell_type": "code",
   "execution_count": 69,
   "metadata": {
    "id": "qfPbgv5qlZNV"
   },
   "outputs": [],
   "source": [
    "state_means_unadj_60000 = []\n",
    "state_stds_unadj_60000 = []\n",
    "for state in list_of_states:\n",
    "    is_state = np.array([cces_all['state'] == state])\n",
    "    n = np.sum(is_state)\n",
    "    mean = np.sum(np.multiply(np.array([cces_all['abortion']]), is_state))/n\n",
    "    state_means_unadj_60000.append(mean)\n",
    "    state_stds_unadj_60000.append(get_se_bernoulli(mean, n))\n",
    "state_means_unadj_60000 = np.array(state_means_unadj_60000)\n",
    "state_stds_unadj_60000 = np.array(state_stds_unadj_60000)"
   ]
  },
  {
   "cell_type": "code",
   "execution_count": 81,
   "metadata": {
    "colab": {
     "base_uri": "https://localhost:8080/",
     "height": 378
    },
    "executionInfo": {
     "elapsed": 13,
     "status": "ok",
     "timestamp": 1630239861759,
     "user": {
      "displayName": "Liyi Zhang",
      "photoUrl": "https://lh3.googleusercontent.com/a-/AOh14Gh9V3hIAgWLKOIy-Olktu7QU6Q3a0l2eUzzAf2j=s64",
      "userId": "06658486172350999592"
     },
     "user_tz": -480
    },
    "id": "ctDJQfo7lZNW",
    "outputId": "537423e8-d75b-4565-f273-58ae1172a32f"
   },
   "outputs": [
    {
     "data": {
      "image/png": "[encoded data removed]",
      "text/plain": [
       "<Figure size 1080x432 with 1 Axes>"
      ]
     },
     "metadata": {
      "needs_background": "light"
     },
     "output_type": "display_data"
    }
   ],
   "source": [
    "plt.figure(figsize=(15, 6))\n",
    "plt.scatter(list_of_states, state_means_unadj_60000, color='g', label='60000 unadjusted')\n",
    "plt.scatter(list_of_states, state_means_unadj_5000, color='r', label='5000 unadjusted')\n",
    "plt.scatter(list_of_states, state_means_pq, color='b', label='TSC')\n",
    "\n",
    "\n",
    "plt.errorbar(list_of_states, \n",
    "             state_means_unadj_60000, \n",
    "             yerr=1.96*state_stds_unadj_60000, \n",
    "             linestyle='', color='g', alpha=0.3, capsize=5.0)\n",
    "plt.errorbar(list_of_states, \n",
    "             state_means_unadj_5000, \n",
    "             yerr=1.96*state_stds_unadj_5000, \n",
    "             linestyle='', color='r', alpha=0.3, capsize=5.0)\n",
    "plt.errorbar(list_of_states, \n",
    "             state_means_pq, \n",
    "             yerr=1.96*state_stds_pq, \n",
    "             linestyle='', color='b', alpha=0.3, capsize=5.0)\n",
    "\n",
    "plt.ylim(0, 1)\n",
    "plt.legend()\n",
    "plt.savefig(Path('figs') / 'survey_tsc_unadj.png')\n",
    "plt.show()"
   ]
  },
  {
   "cell_type": "code",
   "execution_count": 82,
   "metadata": {},
   "outputs": [
    {
     "data": {
      "image/png": "[encoded data removed]",
      "text/plain": [
       "<Figure size 1080x432 with 1 Axes>"
      ]
     },
     "metadata": {
      "needs_background": "light"
     },
     "output_type": "display_data"
    }
   ],
   "source": [
    "plt.figure(figsize=(15, 6))\n",
    "plt.scatter(list_of_states, state_means_unadj_60000, color='g', label='60000 unadjusted')\n",
    "plt.scatter(list_of_states, state_means_pq_ex2_eps, color='black', label=r'Ex$^2$MCMC, space=eps')\n",
    "plt.scatter(list_of_states, state_means_pq, color='b', label='TSC')\n",
    "plt.errorbar(list_of_states, \n",
    "             state_means_unadj_60000, \n",
    "             yerr=1.96*state_stds_unadj_60000, \n",
    "             linestyle='', color='g', alpha=0.3, capsize=5.0)\n",
    "plt.errorbar(list_of_states, \n",
    "             state_means_pq_ex2_eps, \n",
    "             yerr=1.96*state_stds_pq_ex2_eps, \n",
    "             linestyle='', color='black', alpha=0.3, capsize=5.0)\n",
    "plt.errorbar(list_of_states, \n",
    "             state_means_pq, \n",
    "             yerr=1.96*state_stds_pq, \n",
    "             linestyle='', color='b', alpha=0.3, capsize=5.0)\n",
    "plt.ylim(0, 1)\n",
    "plt.legend()\n",
    "plt.savefig(Path('figs') / 'survey_tsc_ex2_eps.png')\n",
    "plt.show()"
   ]
  },
  {
   "cell_type": "code",
   "execution_count": 83,
   "metadata": {},
   "outputs": [
    {
     "data": {
      "image/png": "[encoded data removed]",
      "text/plain": [
       "<Figure size 1080x432 with 1 Axes>"
      ]
     },
     "metadata": {
      "needs_background": "light"
     },
     "output_type": "display_data"
    }
   ],
   "source": [
    "plt.figure(figsize=(15, 6))\n",
    "plt.scatter(list_of_states, state_means_unadj_60000, color='g', label='60000 unadjusted')\n",
    "plt.scatter(list_of_states, state_means_pq_ex2_warp, color='black', label=r'Ex$^2$MCMC, space=warp')\n",
    "plt.scatter(list_of_states, state_means_pq, color='b', label='TSC')\n",
    "plt.errorbar(list_of_states, \n",
    "             state_means_unadj_60000, \n",
    "             yerr=1.96*state_stds_unadj_60000, \n",
    "             linestyle='', color='g', alpha=0.3, capsize=5.0)\n",
    "plt.errorbar(list_of_states, \n",
    "             state_means_pq_ex2_warp, \n",
    "             yerr=1.96*state_stds_pq_ex2_warp, \n",
    "             linestyle='', color='black', alpha=0.3, capsize=5.0)\n",
    "plt.errorbar(list_of_states, \n",
    "             state_means_pq, \n",
    "             yerr=1.96*state_stds_pq, \n",
    "             linestyle='', color='b', alpha=0.3, capsize=5.0)\n",
    "plt.ylim(0, 1)\n",
    "plt.legend()\n",
    "plt.savefig(Path('figs') / 'survey_tsc_ex2_warp.png')\n",
    "plt.show()"
   ]
  },
  {
   "cell_type": "markdown",
   "metadata": {},
   "source": [
    "## END HERE"
   ]
  },
  {
   "cell_type": "code",
   "execution_count": null,
   "metadata": {},
   "outputs": [],
   "source": []
  },
  {
   "cell_type": "code",
   "execution_count": null,
   "metadata": {
    "colab": {
     "base_uri": "https://localhost:8080/",
     "height": 378
    },
    "collapsed": true,
    "executionInfo": {
     "elapsed": 1123,
     "status": "ok",
     "timestamp": 1630239905968,
     "user": {
      "displayName": "Liyi Zhang",
      "photoUrl": "https://lh3.googleusercontent.com/a-/AOh14Gh9V3hIAgWLKOIy-Olktu7QU6Q3a0l2eUzzAf2j=s64",
      "userId": "06658486172350999592"
     },
     "user_tz": -480
    },
    "id": "jeRFWnhElZNW",
    "outputId": "1cf0c0cd-5159-4095-d32e-4a98f5e78745"
   },
   "outputs": [],
   "source": [
    "plt.figure(figsize=(15, 6))\n",
    "plt.scatter(list_of_states, state_means_unadj_60000, color='g', label='60000 unadjusted')\n",
    "#plt.scatter(list_of_states, state_means_qp_flow, color='r', label='VI with flow')\n",
    "plt.scatter(list_of_states, state_means_pq_flow, color='b', label='TSC with flow')\n",
    "plt.errorbar(list_of_states, \n",
    "             state_means_unadj_60000, \n",
    "             yerr=1.96*state_stds_unadj_60000, \n",
    "             linestyle='', color='g', alpha=0.0, capsize=5.0)\n",
    "# plt.errorbar(list_of_states, \n",
    "#              state_means_qp_flow, \n",
    "#              yerr=1.96*state_stds_qp_flow, \n",
    "#              linestyle='', color='r', alpha=0.3, capsize=5.0)\n",
    "plt.errorbar(list_of_states, \n",
    "             state_means_pq_flow, \n",
    "             yerr=1.96*state_stds_pq_flow, \n",
    "             linestyle='', color='b', alpha=0.3, capsize=5.0)\n",
    "plt.ylim(0, 1)\n",
    "plt.legend()\n",
    "plt.savefig(Path('figs') / 'survey_tsc_vi.png')\n",
    "plt.show()"
   ]
  },
  {
   "cell_type": "code",
   "execution_count": null,
   "metadata": {},
   "outputs": [],
   "source": [
    "plt.figure(figsize=(15, 6))\n",
    "plt.scatter(list_of_states, state_means_unadj_60000, color='g', label='60000 unadjusted')\n",
    "#plt.scatter(list_of_states, state_means_qp, color='r', label='VI with Gaussian')\n",
    "plt.scatter(list_of_states, state_means_pq, color='b', label='HSC with Gaussian')\n",
    "plt.errorbar(list_of_states, \n",
    "             state_means_unadj_60000, \n",
    "             yerr=1.96*state_stds_unadj_60000, \n",
    "             linestyle='', color='g', alpha=0.2, capsize=5.0)\n",
    "# plt.errorbar(list_of_states, \n",
    "#              state_means_qp, \n",
    "#              yerr=1.96*state_stds_qp, \n",
    "#              linestyle='', color='r', alpha=0.3, capsize=5.0)\n",
    "plt.errorbar(list_of_states, \n",
    "             state_means_pq, \n",
    "             yerr=1.96*state_stds_pq, \n",
    "             linestyle='', color='b', alpha=0.3, capsize=5.0)\n",
    "plt.ylim(0, 1)\n",
    "plt.legend()\n",
    "plt.savefig(Path('figs') / 'survey_tsc_vi.png')\n",
    "plt.show()"
   ]
  },
  {
   "cell_type": "code",
   "execution_count": null,
   "metadata": {},
   "outputs": [],
   "source": [
    "plt.figure(figsize=(15, 6))\n",
    "plt.scatter(list_of_states, state_means_unadj_60000, color='g', label='60000 unadjusted')\n",
    "plt.scatter(list_of_states, state_means_pq_flow, color='r', label='HSC with Flow')\n",
    "plt.scatter(list_of_states, state_means_pq, color='b', label='HSC')\n",
    "plt.errorbar(list_of_states, \n",
    "             state_means_unadj_60000, \n",
    "             yerr=1.96*state_stds_unadj_60000, \n",
    "             linestyle='', color='g', alpha=0.2, capsize=5.0)\n",
    "plt.errorbar(list_of_states, \n",
    "             state_means_pq_flow, \n",
    "             yerr=1.96*state_stds_pq_flow, \n",
    "             linestyle='', color='r', alpha=0.7, capsize=5.0)\n",
    "plt.errorbar(list_of_states, \n",
    "             state_means_pq, \n",
    "             yerr=1.96*state_stds_pq, \n",
    "             linestyle='', color='b', alpha=0.7, capsize=5.0)\n",
    "plt.ylim(0, 1)\n",
    "plt.legend()\n",
    "plt.show()"
   ]
  },
  {
   "cell_type": "code",
   "execution_count": null,
   "metadata": {},
   "outputs": [],
   "source": [
    "state_means_mrp = []\n",
    "state_stds_mrp = []\n",
    "for state in list_of_states:\n",
    "    idx = mrp_states_df[mrp_states_df['state'] == state].index[0]\n",
    "    state_means_mrp.append(mrp_states_df.loc[idx, 'mrp_estimate'])\n",
    "    state_stds_mrp.append(mrp_states_df.loc[idx, 'mrp_estimate_se'])\n",
    "state_means_mrp = np.array(state_means_mrp)\n",
    "state_stds_mrp = np.array(state_stds_mrp)"
   ]
  },
  {
   "cell_type": "code",
   "execution_count": null,
   "metadata": {},
   "outputs": [],
   "source": [
    "plt.figure(figsize=(15, 6))\n",
    "plt.scatter(list_of_states, state_means_unadj_60000, color='g', label='60000 unadjusted')\n",
    "plt.scatter(list_of_states, state_means_mrp, color='r', label='MRP MCMC')\n",
    "plt.scatter(list_of_states, state_means_pq, color='b', label='TSC')\n",
    "plt.errorbar(list_of_states, \n",
    "             state_means_unadj_60000, \n",
    "             yerr=1.96*state_stds_unadj_60000, \n",
    "             linestyle='', color='g', alpha=0.3, capsize=5.0)\n",
    "plt.errorbar(list_of_states, \n",
    "             state_means_mrp, \n",
    "             yerr=1.96*state_stds_mrp, \n",
    "             linestyle='', color='r', alpha=0.3, capsize=5.0)\n",
    "plt.errorbar(list_of_states, \n",
    "             state_means_pq, \n",
    "             yerr=1.96*state_stds_pq, \n",
    "             linestyle='', color='b', alpha=0.3, capsize=5.0)\n",
    "plt.ylim(0, 1)\n",
    "plt.legend()\n",
    "plt.savefig(Path('figs') / 'survey_tsc_mrp.png')\n",
    "plt.show()"
   ]
  },
  {
   "cell_type": "code",
   "execution_count": null,
   "metadata": {},
   "outputs": [],
   "source": [
    "# print(np.sum((state_stds_pq-state_stds_mrp)**2))\n",
    "# print(np.sum((state_stds_qp-state_stds_mrp)**2))\n",
    "\n",
    "# print(np.sum((state_means_pq-state_means_mrp)**2))\n",
    "# print(np.sum((state_means_qp-state_means_mrp)**2))"
   ]
  },
  {
   "cell_type": "markdown",
   "metadata": {
    "id": "uq2r-A9KlZNX"
   },
   "source": [
    "### Effective sample size"
   ]
  },
  {
   "cell_type": "code",
   "execution_count": null,
   "metadata": {},
   "outputs": [],
   "source": [
    "path = 'results/survey/vi_klpq_gaussian/2021-10-13-193313/'\n",
    "hmc_points_warped = np.squeeze(np.array(pd.read_pickle(path+'hmc_points.pickle')))\n",
    "path = 'results/survey/vi_klpq_gaussian/2021-10-12-010955/'\n",
    "hmc_points_orig = np.squeeze(np.array(pd.read_pickle(path+'hmc_points.pickle')))"
   ]
  },
  {
   "cell_type": "code",
   "execution_count": null,
   "metadata": {},
   "outputs": [],
   "source": [
    "def autocor(x, t):\n",
    "    n = x.shape[0]\n",
    "    mu = np.mean(x, axis=0)\n",
    "    sigma2 = np.var(x, axis=0)\n",
    "    numer = np.sum((x[:(n-t),:]-mu) * (x[t:,:]-mu), axis=0)\n",
    "    return numer/((n-t)*sigma2)\n",
    "\n",
    "def neff(x):\n",
    "    n = x.shape[0]\n",
    "    d = x.shape[1]\n",
    "    autocor_arr = np.zeros((n, d))\n",
    "    dim_to_set_to_0 = []\n",
    "    for t in range(1, n):\n",
    "        autocor_arr[t-1,:] = autocor(x, t)\n",
    "        if len(dim_to_set_to_0) > 0:\n",
    "            autocor_arr[t-1, dim_to_set_to_0] = 0\n",
    "        if t > 1:\n",
    "            for d_i in range(d):\n",
    "                if autocor_arr[t-1, d_i] + autocor_arr[t-2, d_i] < 0:\n",
    "                    autocor_arr[t-1, d_i] = 0\n",
    "                    autocor_arr[t-2, d_i] = 0\n",
    "                    if d_i not in dim_to_set_to_0:\n",
    "                        dim_to_set_to_0.append(d_i)\n",
    "            if len(dim_to_set_to_0) == d:\n",
    "                break\n",
    "    return n/(1+2*np.sum(autocor_arr, axis=0))"
   ]
  },
  {
   "cell_type": "code",
   "execution_count": null,
   "metadata": {},
   "outputs": [],
   "source": [
    "list_of_checkpt = [1000, 2000, 5000, 10000, 20000, 30000, 50000, 100000]\n",
    "num_dim = hmc_points_warped.shape[1]\n",
    "neff_list_orig = np.zeros((len(list_of_checkpt), num_dim))\n",
    "\n",
    "for i in range(len(list_of_checkpt)):\n",
    "    idx = list_of_checkpt[i]\n",
    "    neff_list_orig[i, :] = neff(hmc_points_orig[:idx, :])\n",
    "    print(i, np.mean(neff_list_orig[i,:]/idx))"
   ]
  },
  {
   "cell_type": "code",
   "execution_count": null,
   "metadata": {},
   "outputs": [],
   "source": [
    "neff_list_warped = np.zeros((len(list_of_checkpt), num_dim))\n",
    "\n",
    "for i in range(len(list_of_checkpt)):\n",
    "    idx = list_of_checkpt[i]\n",
    "    neff_list_warped[i, :] = neff(hmc_points_warped[:idx, :])\n",
    "    print(i, np.mean(neff_list_warped[i,:]/idx))"
   ]
  },
  {
   "cell_type": "code",
   "execution_count": null,
   "metadata": {},
   "outputs": [],
   "source": [
    "np.savetxt('results/neff_list_warped.csv', neff_list_warped)\n",
    "np.savetxt('results/neff_list_orig.csv', neff_list_orig)"
   ]
  },
  {
   "cell_type": "code",
   "execution_count": null,
   "metadata": {},
   "outputs": [],
   "source": [
    "neff_list_warped = np.genfromtxt('results/neff_list_warped.csv')\n",
    "neff_list_orig = np.genfromtxt('results/neff_list_orig.csv')\n",
    "list_of_checkpt = [1000, 2000, 5000, 10000, 20000, 30000, 50000, 100000]"
   ]
  },
  {
   "cell_type": "code",
   "execution_count": null,
   "metadata": {},
   "outputs": [],
   "source": [
    "import matplotlib.pylab as pylab\n",
    "\n",
    "params = {'legend.fontsize': 'x-large',\n",
    "         'axes.labelsize': 'x-large',\n",
    "         'axes.titlesize':'x-large',\n",
    "         'xtick.labelsize':'x-large',\n",
    "         'ytick.labelsize':'x-large'}\n",
    "pylab.rcParams.update(params)\n",
    "\n",
    "plt.plot(list_of_checkpt, \n",
    "         np.mean(neff_list_warped, axis=1)/np.array(list_of_checkpt),\n",
    "         marker='o', markersize=8, color='b',\n",
    "         label='TSC')\n",
    "plt.plot(list_of_checkpt, \n",
    "         np.mean(neff_list_orig, axis=1)/np.array(list_of_checkpt),\n",
    "         marker='o', markersize=8, color='r',\n",
    "         label='MSC')\n",
    "\n",
    "plt.legend()\n",
    "plt.ylabel('ESS/total samples')\n",
    "plt.xlabel('Epoch')\n",
    "plt.savefig(Path('figs') / 'survey_ess.png')"
   ]
  },
  {
   "cell_type": "code",
   "execution_count": null,
   "metadata": {},
   "outputs": [],
   "source": []
  },
  {
   "cell_type": "markdown",
   "metadata": {
    "id": "H9J1R-0zlZNX"
   },
   "source": [
    "## Transform Weighted Data and Run Methods"
   ]
  },
  {
   "cell_type": "code",
   "execution_count": null,
   "metadata": {
    "id": "DTGMd-0GlZNX"
   },
   "outputs": [],
   "source": [
    "x_weighted = []\n",
    "y_weighted = []\n",
    "state = 0\n",
    "age = 50\n",
    "eth = 56\n",
    "educ = 60\n",
    "male_eth = 65\n",
    "educ_age = 73\n",
    "educ_eth = 103\n",
    "for i in range(1, len(cces)+1):\n",
    "    x_i = np.zeros(128)\n",
    "    eth_idx = data_to_idx[cces_weighted.loc[i,'eth']]\n",
    "    age_idx = data_to_idx[cces_weighted.loc[i,'age']]\n",
    "    educ_idx = data_to_idx[cces_weighted.loc[i,'educ']]\n",
    "    x_i[data_to_idx[cces_weighted.loc[i,'state.x']]] = 1\n",
    "    x_i[age_idx] = 1\n",
    "    x_i[eth_idx] = 1\n",
    "    x_i[educ_idx] = 1\n",
    "    \n",
    "    is_male = int(cces_weighted.loc[i,'male'] + 0.5)\n",
    "    male_eth_idx = male_eth + is_male * 4 + (eth_idx-eth) \n",
    "    educ_age_idx = educ_age + (educ_idx-educ) * 6 + (age_idx-age)\n",
    "    educ_eth_idx = educ_eth + (educ_idx-educ) * 4 + (eth_idx-eth)\n",
    "    x_i[male_eth_idx] = 1\n",
    "    x_i[educ_age_idx] = 1\n",
    "    x_i[educ_eth_idx] = 1\n",
    "    \n",
    "    x_i[123] = is_male\n",
    "    x_i[124] = int(cces_weighted.loc[i,'region'] == 'South')\n",
    "    x_i[125] = int(cces_weighted.loc[i,'region'] == 'North Central')\n",
    "    x_i[126] = int(cces_weighted.loc[i,'region'] == 'West')\n",
    "    x_i[127] = cces_weighted.loc[i,'repvote']\n",
    "    \n",
    "    x_weighted.append(x_i)\n",
    "    y_weighted.append(cces_weighted.loc[i,'abortion'])\n",
    "\n",
    "x_weighted = np.array(x_weighted, dtype=np.float32)\n",
    "y_weighted = np.array(y_weighted, dtype=np.float32)"
   ]
  },
  {
   "cell_type": "code",
   "execution_count": null,
   "metadata": {
    "id": "Wk1ZLoK7lZNX"
   },
   "outputs": [],
   "source": []
  },
  {
   "cell_type": "code",
   "execution_count": null,
   "metadata": {
    "id": "Ye0GIzrHlZNY"
   },
   "outputs": [],
   "source": []
  },
  {
   "cell_type": "code",
   "execution_count": null,
   "metadata": {
    "id": "mdsqYqEklZNY"
   },
   "outputs": [],
   "source": []
  },
  {
   "cell_type": "code",
   "execution_count": null,
   "metadata": {
    "id": "lt3895MAlZNY"
   },
   "outputs": [],
   "source": []
  },
  {
   "cell_type": "code",
   "execution_count": null,
   "metadata": {
    "id": "cyL2wikUlZNY"
   },
   "outputs": [],
   "source": []
  },
  {
   "cell_type": "code",
   "execution_count": null,
   "metadata": {
    "id": "H4EqDBa6lZNY"
   },
   "outputs": [],
   "source": []
  },
  {
   "cell_type": "code",
   "execution_count": null,
   "metadata": {
    "id": "cz_Oi6QSlZNY"
   },
   "outputs": [],
   "source": []
  },
  {
   "cell_type": "code",
   "execution_count": null,
   "metadata": {
    "id": "XXllZH1flZNY"
   },
   "outputs": [],
   "source": []
  },
  {
   "cell_type": "code",
   "execution_count": null,
   "metadata": {
    "id": "lWp9bldolZNY",
    "outputId": "ddb1fb0e-cb3e-4990-f712-9673148aff63"
   },
   "outputs": [],
   "source": [
    "tf.nn.sigmoid_cross_entropy_with_logits(logits=[[1.,9.],[1.,9.]], labels=[[0.,1.],[1.,0.]])"
   ]
  },
  {
   "cell_type": "markdown",
   "metadata": {
    "id": "PiwjZ0FdlZNY"
   },
   "source": [
    "\n",
    "Define a variational distribution q(alpha; phi) \\\n",
    "Define probabilistic model p(y|alpha; x, theta) \\\n",
    "Define prior p(alpha; theta) \\\n",
    "phi and theta are trainable by gradient methods \\\n",
    "\\\n",
    "for batch_x in x: \n",
    "   * sample alpha from q \n",
    "   * compute logpx_z = log p(y|alpha; batch_x, theta) \n",
    "   * compute logpz = log p(z; theta) \n",
    "   * compute logqz_x = log q(alpha; phi) \n",
    "   * elbo = logpx_z + logpz - logqz_x \n",
    "   * input -elbo as the objective into the autodiff. function\n",
    "    \n",
    "How to define q(alpha; phi):\n",
    "* Gaussian with diagonal covariance\n",
    "* In a separate implementation, q can also be a flow-based dist.\n",
    "\n",
    "How to define p(alpha; theta):\n",
    "* A number of Gaussian, same as in the document\n",
    "\n",
    "How to define p(y|alpha; x, theta):\n",
    "* The goal is that p(y|...) = inv_logit(alpha_1 + ... + alpha_m)\n",
    "* Note that we do not want to loop over x, and decide which \n",
    "  alpha (like which state/education level) does that x_i belong to\n",
    "* Map x to a multi-hot vector v, which is sparse, and element-wise \n",
    "  multiply v with alpha (like turning on and off which alpha_i is \n",
    "  relevant)\n"
   ]
  },
  {
   "cell_type": "markdown",
   "metadata": {
    "id": "8Z1FxTJOlZNZ"
   },
   "source": [
    "Define a variational distribution q(alpha; phi) \\\n",
    "Define probabilistic model p(y|alpha; x, theta) \\\n",
    "Define prior p(alpha; theta) \\\n",
    "Define HMC target p(alpha|y; theta) or p(eps|y; theta) \\\n",
    "phi and theta are trainable by gradient methods\n",
    "\n",
    "for batch_x in x:\n",
    "\n",
    "How to define p(alpha|y; theta):\n",
    "* p(alpha|y; theta) is proportional to p(alpha; theta) p(y|alpha; x, theta)"
   ]
  },
  {
   "cell_type": "code",
   "execution_count": null,
   "metadata": {
    "id": "Mf1Kb8aalZNZ"
   },
   "outputs": [],
   "source": [
    "import pickle\n",
    "import pandas as pd"
   ]
  },
  {
   "cell_type": "code",
   "execution_count": null,
   "metadata": {
    "id": "SIHxUYvIlZNZ"
   },
   "outputs": [],
   "source": [
    "a = np.reshape(np.array(list(range(24))), (2,3,4))\n",
    "\n",
    "with open('abc.pickle', 'wb') as handle:\n",
    "    pickle.dump(a, handle, protocol=pickle.HIGHEST_PROTOCOL)\n",
    "    \n",
    "pd.read_pickle('abc.pickle')\n"
   ]
  },
  {
   "cell_type": "code",
   "execution_count": null,
   "metadata": {
    "id": "yPq5e3YXlZNZ"
   },
   "outputs": [],
   "source": [
    "def autocor(x, t):\n",
    "    n = x.shape[0]\n",
    "    mu = np.mean(x)\n",
    "    sigma2 = np.var(x)\n",
    "    numer = np.sum((x[:(n-t),:]-mu) * (x[t:,:]-mu))\n",
    "    return numer/((n-t)*sigma2)\n",
    "\n",
    "def neff(x):\n",
    "    n = x.shape[0]\n",
    "    d = x.shape[1]\n",
    "    d_i = 0\n",
    "    autocor_arr = np.zeros((n, d))\n",
    "    for t in range(1, n):\n",
    "        autocor_arr[t-1, :] = autocor(x, t)\n",
    "        if t > 1:\n",
    "            if autocor_arr[t-1, d_i] + autocor_arr[t-2, d_i] < 0:\n",
    "                autocor_arr[t-1, d_i] = 0\n",
    "                autocor_arr[t-2, d_i] = 0\n",
    "                break      \n",
    "    return n/(1+2*np.sum(autocor_arr))\n",
    "\n",
    "space_btw_epochs = 1000\n",
    "num_checkpt = int(hmc_points_warped.shape[0] / space_btw_epochs)\n",
    "num_dim = hmc_points_warped.shape[1]\n",
    "neff_list_orig = np.zeros((num_checkpt, num_dim))\n",
    "\n",
    "for i in range(num_checkpt):\n",
    "    idx = space_btw_epochs * (i+1)\n",
    "    neff_list_orig[i, :] = neff(hmc_points_orig[:idx, :])\n",
    "    print(i, np.mean(neff_list_orig[i,:]/idx))"
   ]
  },
  {
   "cell_type": "code",
   "execution_count": null,
   "metadata": {
    "id": "9axb61YolZNZ"
   },
   "outputs": [],
   "source": []
  },
  {
   "cell_type": "code",
   "execution_count": null,
   "metadata": {
    "id": "6-rUfin9lZNZ"
   },
   "outputs": [],
   "source": []
  }
 ],
 "metadata": {
  "colab": {
   "collapsed_sections": [
    "H9J1R-0zlZNX"
   ],
   "machine_shape": "hm",
   "name": "survey_data.ipynb",
   "provenance": []
  },
  "kernelspec": {
   "display_name": "Python 3",
   "language": "python",
   "name": "python3"
  },
  "language_info": {
   "codemirror_mode": {
    "name": "ipython",
    "version": 3
   },
   "file_extension": ".py",
   "mimetype": "text/x-python",
   "name": "python",
   "nbconvert_exporter": "python",
   "pygments_lexer": "ipython3",
   "version": "3.8.13"
  }
 },
 "nbformat": 4,
 "nbformat_minor": 1
}
