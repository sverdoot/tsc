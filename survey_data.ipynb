{
 "cells": [
  {
   "cell_type": "code",
   "execution_count": 1,
   "metadata": {
    "executionInfo": {
     "elapsed": 2840,
     "status": "ok",
     "timestamp": 1630512394945,
     "user": {
      "displayName": "Liyi Zhang",
      "photoUrl": "https://lh3.googleusercontent.com/a-/AOh14Gh9V3hIAgWLKOIy-Olktu7QU6Q3a0l2eUzzAf2j=s64",
      "userId": "06658486172350999592"
     },
     "user_tz": -480
    },
    "id": "O_6-e1BylsCI"
   },
   "outputs": [
    {
     "name": "stderr",
     "output_type": "stream",
     "text": [
      "2022-04-23 11:45:47.170013: I tensorflow/core/platform/cpu_feature_guard.cc:142] This TensorFlow binary is optimized with oneAPI Deep Neural Network Library (oneDNN)to use the following CPU instructions in performance-critical operations:  SSE4.1 SSE4.2 AVX AVX2 FMA\n",
      "To enable them in other operations, rebuild TensorFlow with the appropriate compiler flags.\n",
      "2022-04-23 11:45:47.189999: I tensorflow/core/platform/profile_utils/cpu_utils.cc:104] CPU Frequency: 3699850000 Hz\n",
      "2022-04-23 11:45:47.190384: I tensorflow/compiler/xla/service/service.cc:168] XLA service 0x55e181959020 initialized for platform Host (this does not guarantee that XLA will be used). Devices:\n",
      "2022-04-23 11:45:47.190405: I tensorflow/compiler/xla/service/service.cc:176]   StreamExecutor device (0): Host, Default Version\n"
     ]
    }
   ],
   "source": [
    "%load_ext autoreload\n",
    "%autoreload 2\n",
    "\n",
    "import pandas as pd\n",
    "import numpy as np\n",
    "import tensorflow as tf\n",
    "from tensorflow_probability import distributions as tfd\n",
    "import matplotlib.pyplot as plt\n",
    "import pickle\n",
    "from pathlib import Path\n",
    "\n",
    "import models"
   ]
  },
  {
   "cell_type": "code",
   "execution_count": 2,
   "metadata": {
    "executionInfo": {
     "elapsed": 46,
     "status": "ok",
     "timestamp": 1630512394977,
     "user": {
      "displayName": "Liyi Zhang",
      "photoUrl": "https://lh3.googleusercontent.com/a-/AOh14Gh9V3hIAgWLKOIy-Olktu7QU6Q3a0l2eUzzAf2j=s64",
      "userId": "06658486172350999592"
     },
     "user_tz": -480
    },
    "id": "itTV35fVlZM3"
   },
   "outputs": [],
   "source": [
    "cces = pd.read_csv('data/cces_df.csv', index_col=0)\n",
    "cces_all = pd.read_csv('data/cces_all_df.csv', index_col=0)\n",
    "cces_weighted = pd.read_csv('data/cces_weighted_df.csv', index_col=0)"
   ]
  },
  {
   "cell_type": "code",
   "execution_count": 3,
   "metadata": {
    "colab": {
     "base_uri": "https://localhost:8080/",
     "height": 419
    },
    "executionInfo": {
     "elapsed": 46,
     "status": "ok",
     "timestamp": 1630512394978,
     "user": {
      "displayName": "Liyi Zhang",
      "photoUrl": "https://lh3.googleusercontent.com/a-/AOh14Gh9V3hIAgWLKOIy-Olktu7QU6Q3a0l2eUzzAf2j=s64",
      "userId": "06658486172350999592"
     },
     "user_tz": -480
    },
    "id": "IJxA_kR_lZM5",
    "outputId": "635808a8-f709-4ad9-ac16-e4113830654d"
   },
   "outputs": [
    {
     "data": {
      "text/html": [
       "<div>\n",
       "<style scoped>\n",
       "    .dataframe tbody tr th:only-of-type {\n",
       "        vertical-align: middle;\n",
       "    }\n",
       "\n",
       "    .dataframe tbody tr th {\n",
       "        vertical-align: top;\n",
       "    }\n",
       "\n",
       "    .dataframe thead th {\n",
       "        text-align: right;\n",
       "    }\n",
       "</style>\n",
       "<table border=\"1\" class=\"dataframe\">\n",
       "  <thead>\n",
       "    <tr style=\"text-align: right;\">\n",
       "      <th></th>\n",
       "      <th>abortion</th>\n",
       "      <th>eth</th>\n",
       "      <th>male</th>\n",
       "      <th>age</th>\n",
       "      <th>educ</th>\n",
       "      <th>repvote</th>\n",
       "      <th>region</th>\n",
       "      <th>state</th>\n",
       "    </tr>\n",
       "  </thead>\n",
       "  <tbody>\n",
       "    <tr>\n",
       "      <th>1</th>\n",
       "      <td>1</td>\n",
       "      <td>White</td>\n",
       "      <td>-0.5</td>\n",
       "      <td>60-69</td>\n",
       "      <td>4-Year College</td>\n",
       "      <td>0.504080</td>\n",
       "      <td>North Central</td>\n",
       "      <td>WI</td>\n",
       "    </tr>\n",
       "    <tr>\n",
       "      <th>2</th>\n",
       "      <td>1</td>\n",
       "      <td>White</td>\n",
       "      <td>-0.5</td>\n",
       "      <td>60-69</td>\n",
       "      <td>HS</td>\n",
       "      <td>0.427158</td>\n",
       "      <td>Northeast</td>\n",
       "      <td>NJ</td>\n",
       "    </tr>\n",
       "    <tr>\n",
       "      <th>3</th>\n",
       "      <td>0</td>\n",
       "      <td>White</td>\n",
       "      <td>-0.5</td>\n",
       "      <td>40-49</td>\n",
       "      <td>HS</td>\n",
       "      <td>0.506188</td>\n",
       "      <td>South</td>\n",
       "      <td>FL</td>\n",
       "    </tr>\n",
       "    <tr>\n",
       "      <th>4</th>\n",
       "      <td>1</td>\n",
       "      <td>White</td>\n",
       "      <td>0.5</td>\n",
       "      <td>70+</td>\n",
       "      <td>Some college</td>\n",
       "      <td>0.506188</td>\n",
       "      <td>South</td>\n",
       "      <td>FL</td>\n",
       "    </tr>\n",
       "    <tr>\n",
       "      <th>5</th>\n",
       "      <td>0</td>\n",
       "      <td>White</td>\n",
       "      <td>-0.5</td>\n",
       "      <td>50-59</td>\n",
       "      <td>Some college</td>\n",
       "      <td>0.409799</td>\n",
       "      <td>North Central</td>\n",
       "      <td>IL</td>\n",
       "    </tr>\n",
       "    <tr>\n",
       "      <th>...</th>\n",
       "      <td>...</td>\n",
       "      <td>...</td>\n",
       "      <td>...</td>\n",
       "      <td>...</td>\n",
       "      <td>...</td>\n",
       "      <td>...</td>\n",
       "      <td>...</td>\n",
       "      <td>...</td>\n",
       "    </tr>\n",
       "    <tr>\n",
       "      <th>4996</th>\n",
       "      <td>0</td>\n",
       "      <td>White</td>\n",
       "      <td>0.5</td>\n",
       "      <td>50-59</td>\n",
       "      <td>4-Year College</td>\n",
       "      <td>0.338718</td>\n",
       "      <td>West</td>\n",
       "      <td>CA</td>\n",
       "    </tr>\n",
       "    <tr>\n",
       "      <th>4997</th>\n",
       "      <td>0</td>\n",
       "      <td>White</td>\n",
       "      <td>0.5</td>\n",
       "      <td>18-29</td>\n",
       "      <td>Some college</td>\n",
       "      <td>0.518900</td>\n",
       "      <td>West</td>\n",
       "      <td>AZ</td>\n",
       "    </tr>\n",
       "    <tr>\n",
       "      <th>4998</th>\n",
       "      <td>1</td>\n",
       "      <td>White</td>\n",
       "      <td>0.5</td>\n",
       "      <td>50-59</td>\n",
       "      <td>HS</td>\n",
       "      <td>0.473167</td>\n",
       "      <td>West</td>\n",
       "      <td>CO</td>\n",
       "    </tr>\n",
       "    <tr>\n",
       "      <th>4999</th>\n",
       "      <td>1</td>\n",
       "      <td>White</td>\n",
       "      <td>-0.5</td>\n",
       "      <td>50-59</td>\n",
       "      <td>HS</td>\n",
       "      <td>0.506188</td>\n",
       "      <td>South</td>\n",
       "      <td>FL</td>\n",
       "    </tr>\n",
       "    <tr>\n",
       "      <th>5000</th>\n",
       "      <td>0</td>\n",
       "      <td>White</td>\n",
       "      <td>0.5</td>\n",
       "      <td>30-39</td>\n",
       "      <td>Some college</td>\n",
       "      <td>0.503755</td>\n",
       "      <td>Northeast</td>\n",
       "      <td>PA</td>\n",
       "    </tr>\n",
       "  </tbody>\n",
       "</table>\n",
       "<p>5000 rows × 8 columns</p>\n",
       "</div>"
      ],
      "text/plain": [
       "      abortion    eth  male    age            educ   repvote         region  \\\n",
       "1            1  White  -0.5  60-69  4-Year College  0.504080  North Central   \n",
       "2            1  White  -0.5  60-69              HS  0.427158      Northeast   \n",
       "3            0  White  -0.5  40-49              HS  0.506188          South   \n",
       "4            1  White   0.5    70+    Some college  0.506188          South   \n",
       "5            0  White  -0.5  50-59    Some college  0.409799  North Central   \n",
       "...        ...    ...   ...    ...             ...       ...            ...   \n",
       "4996         0  White   0.5  50-59  4-Year College  0.338718           West   \n",
       "4997         0  White   0.5  18-29    Some college  0.518900           West   \n",
       "4998         1  White   0.5  50-59              HS  0.473167           West   \n",
       "4999         1  White  -0.5  50-59              HS  0.506188          South   \n",
       "5000         0  White   0.5  30-39    Some college  0.503755      Northeast   \n",
       "\n",
       "     state  \n",
       "1       WI  \n",
       "2       NJ  \n",
       "3       FL  \n",
       "4       FL  \n",
       "5       IL  \n",
       "...    ...  \n",
       "4996    CA  \n",
       "4997    AZ  \n",
       "4998    CO  \n",
       "4999    FL  \n",
       "5000    PA  \n",
       "\n",
       "[5000 rows x 8 columns]"
      ]
     },
     "execution_count": 3,
     "metadata": {},
     "output_type": "execute_result"
    }
   ],
   "source": [
    "cces"
   ]
  },
  {
   "cell_type": "markdown",
   "metadata": {
    "id": "n4Ge6jbZlZM6"
   },
   "source": [
    "## Transform data"
   ]
  },
  {
   "cell_type": "code",
   "execution_count": 4,
   "metadata": {
    "executionInfo": {
     "elapsed": 3329,
     "status": "ok",
     "timestamp": 1630512398267,
     "user": {
      "displayName": "Liyi Zhang",
      "photoUrl": "https://lh3.googleusercontent.com/a-/AOh14Gh9V3hIAgWLKOIy-Olktu7QU6Q3a0l2eUzzAf2j=s64",
      "userId": "06658486172350999592"
     },
     "user_tz": -480
    },
    "id": "c_ttv46flZM7"
   },
   "outputs": [],
   "source": [
    "# Fills in the dictionary so that we know which index corresponds to what state / eth / edu etc.\n",
    "\n",
    "data_to_idx = {}\n",
    "list_of_states_and_votes = []\n",
    "list_of_states = []\n",
    "state = 0\n",
    "age = 50\n",
    "eth = 56\n",
    "educ = 60\n",
    "male_eth = 65\n",
    "educ_age = 73\n",
    "educ_eth = 103\n",
    "for i in range(1, len(cces_all)+1):\n",
    "    tup = (cces_all.loc[i,'state'], cces_all.loc[i,'repvote'])\n",
    "    if cces_all.loc[i,'state'] not in data_to_idx:\n",
    "        data_to_idx[cces_all.loc[i,'state']] = state\n",
    "        state += 1\n",
    "    if tup not in list_of_states_and_votes:\n",
    "        list_of_states_and_votes.append(tup)\n",
    "    if cces_all.loc[i,'age'] not in data_to_idx:\n",
    "        data_to_idx[cces_all.loc[i,'age']] = age\n",
    "        age += 1\n",
    "    if cces_all.loc[i,'eth'] not in data_to_idx:\n",
    "        data_to_idx[cces_all.loc[i,'eth']] = eth\n",
    "        eth += 1\n",
    "    if cces_all.loc[i,'educ'] not in data_to_idx:\n",
    "        data_to_idx[cces_all.loc[i,'educ']] = educ\n",
    "        educ += 1\n",
    "list_of_states_and_votes.sort(key=lambda x:x[1])\n",
    "for tup in list_of_states_and_votes:\n",
    "    list_of_states.append(tup[0])"
   ]
  },
  {
   "cell_type": "code",
   "execution_count": 5,
   "metadata": {
    "executionInfo": {
     "elapsed": 8,
     "status": "ok",
     "timestamp": 1630512398268,
     "user": {
      "displayName": "Liyi Zhang",
      "photoUrl": "https://lh3.googleusercontent.com/a-/AOh14Gh9V3hIAgWLKOIy-Olktu7QU6Q3a0l2eUzzAf2j=s64",
      "userId": "06658486172350999592"
     },
     "user_tz": -480
    },
    "id": "NVuSB71glZM8"
   },
   "outputs": [],
   "source": [
    "# Create new representation of data that contains only 0 and 1\n",
    "\n",
    "def transform_raw(cces, data_to_idx, i, \n",
    "                  state=0, age=50, eth=56, educ=60,\n",
    "                  male_eth=65, educ_age=73, educ_eth=103):\n",
    "    x_i = np.zeros(128)\n",
    "    eth_idx = data_to_idx[cces.loc[i,'eth']]\n",
    "    age_idx = data_to_idx[cces.loc[i,'age']]\n",
    "    educ_idx = data_to_idx[cces.loc[i,'educ']]\n",
    "    x_i[data_to_idx[cces.loc[i,'state']]] = 1\n",
    "    x_i[age_idx] = 1\n",
    "    x_i[eth_idx] = 1\n",
    "    x_i[educ_idx] = 1\n",
    "    \n",
    "    is_male = int(cces.loc[i,'male'] + 0.5)\n",
    "    male_eth_idx = male_eth + is_male * 4 + (eth_idx-eth) \n",
    "    educ_age_idx = educ_age + (educ_idx-educ) * 6 + (age_idx-age)\n",
    "    educ_eth_idx = educ_eth + (educ_idx-educ) * 4 + (eth_idx-eth)\n",
    "    x_i[male_eth_idx] = 1\n",
    "    x_i[educ_age_idx] = 1\n",
    "    x_i[educ_eth_idx] = 1\n",
    "    \n",
    "    x_i[123] = is_male\n",
    "    x_i[124] = int(cces.loc[i,'region'] == 'South')\n",
    "    x_i[125] = int(cces.loc[i,'region'] == 'North Central')\n",
    "    x_i[126] = int(cces.loc[i,'region'] == 'West')\n",
    "    x_i[127] = cces.loc[i,'repvote']\n",
    "    \n",
    "    return x_i\n",
    "\n",
    "x = []\n",
    "y = []\n",
    "for i in range(1, len(cces)+1):\n",
    "    x_i = transform_raw(cces, data_to_idx, i)\n",
    "    \n",
    "    x.append(x_i)\n",
    "    y.append(cces.loc[i,'abortion'])\n",
    "\n",
    "x = np.array(x, dtype=np.float32)\n",
    "y = np.array(y, dtype=np.float32)"
   ]
  },
  {
   "cell_type": "markdown",
   "metadata": {
    "id": "kz8sWhkRlZM9"
   },
   "source": [
    "## Variational Inference"
   ]
  },
  {
   "cell_type": "code",
   "execution_count": 6,
   "metadata": {
    "id": "OBzXcLZTlZM9"
   },
   "outputs": [],
   "source": [
    "# model = models.VI_KLqp(dataset='survey', v_fam='flow')\n",
    "# model.x = x\n",
    "# model.y = y\n",
    "# model.train(lr=0.003)"
   ]
  },
  {
   "cell_type": "code",
   "execution_count": 7,
   "metadata": {
    "collapsed": true,
    "id": "Fl3ufkpMlZM-"
   },
   "outputs": [],
   "source": [
    "# model = models.VI_KLqp(dataset='survey', v_fam='gaussian')\n",
    "# model.x = x\n",
    "# model.y = y\n",
    "# model.train(lr=0.01)"
   ]
  },
  {
   "cell_type": "markdown",
   "metadata": {
    "id": "8OxG6HIClZM_"
   },
   "source": [
    "## Hamiltonian Score Climbing"
   ]
  },
  {
   "cell_type": "code",
   "execution_count": 8,
   "metadata": {
    "colab": {
     "base_uri": "https://localhost:8080/"
    },
    "collapsed": true,
    "id": "2n5lAVutlZM_",
    "outputId": "442064c2-5d62-4b02-e2d8-d152c355d0ec"
   },
   "outputs": [],
   "source": [
    "# model = models.VI_KLpq(v_fam='flow', space='warped', dataset='survey', hmc_e=0.03, hmc_L=33, chains=1)\n",
    "# model.x = x\n",
    "# model.y = y\n",
    "# model.train(lr=0.001)"
   ]
  },
  {
   "cell_type": "code",
   "execution_count": 9,
   "metadata": {
    "colab": {
     "base_uri": "https://localhost:8080/"
    },
    "collapsed": true,
    "executionInfo": {
     "elapsed": 2195175,
     "status": "ok",
     "timestamp": 1630546103577,
     "user": {
      "displayName": "Liyi Zhang",
      "photoUrl": "https://lh3.googleusercontent.com/a-/AOh14Gh9V3hIAgWLKOIy-Olktu7QU6Q3a0l2eUzzAf2j=s64",
      "userId": "06658486172350999592"
     },
     "user_tz": -480
    },
    "id": "7AlGvzpolZNI",
    "outputId": "549cc2bb-0b2f-48ed-c260-eb77c9129c68"
   },
   "outputs": [],
   "source": [
    "# model = models.VI_KLpq(v_fam='gaussian', space='eps', dataset='survey', hmc_e=0.05, hmc_L=20, chains=1)\n",
    "# model.x = x\n",
    "# model.y = y\n",
    "# model.train(lr=0.01)"
   ]
  },
  {
   "cell_type": "code",
   "execution_count": 10,
   "metadata": {},
   "outputs": [],
   "source": [
    "# model = models.VI_KLpq(v_fam='gaussian', space='eps', dataset='survey', hmc_e=0.05, hmc_L=20, chains=1)\n",
    "# model.x = x\n",
    "# model.y = y\n",
    "# model.train(lr=0.01, epochs=int(1e4))"
   ]
  },
  {
   "cell_type": "code",
   "execution_count": 11,
   "metadata": {
    "collapsed": true
   },
   "outputs": [],
   "source": [
    "# # MSC\n",
    "# model = models.VI_KLpq(v_fam='gaussian', space='theta', dataset='survey', hmc_e=0.03, hmc_L=33, chains=1)\n",
    "# model.x = x\n",
    "# model.y = y\n",
    "# model.train(lr=0.01)"
   ]
  },
  {
   "cell_type": "markdown",
   "metadata": {},
   "source": [
    "## Real MSC"
   ]
  },
  {
   "cell_type": "code",
   "execution_count": 12,
   "metadata": {},
   "outputs": [],
   "source": [
    "# #MSC, i-SIR\n",
    "\n",
    "# model = models.VI_KLpq(v_fam='gaussian', space='eps', dataset='survey', hmc_e=0.03, hmc_L=33, chains=2, cis=10, eps=0.5, alpha=0.95, rejuvenation=True)\n",
    "# model.x = x\n",
    "# model.y = y\n",
    "# model.train(lr=0.01, epochs=int(1e4))"
   ]
  },
  {
   "cell_type": "markdown",
   "metadata": {
    "id": "06unjCIJlZNJ"
   },
   "source": [
    "## Evaluations"
   ]
  },
  {
   "cell_type": "code",
   "execution_count": 13,
   "metadata": {
    "colab": {
     "base_uri": "https://localhost:8080/",
     "height": 204
    },
    "executionInfo": {
     "elapsed": 11,
     "status": "ok",
     "timestamp": 1630239757176,
     "user": {
      "displayName": "Liyi Zhang",
      "photoUrl": "https://lh3.googleusercontent.com/a-/AOh14Gh9V3hIAgWLKOIy-Olktu7QU6Q3a0l2eUzzAf2j=s64",
      "userId": "06658486172350999592"
     },
     "user_tz": -480
    },
    "id": "ZjQLXnLwlZNJ",
    "outputId": "2fc7a4cd-3967-4a1a-8796-ff77f03429a1"
   },
   "outputs": [
    {
     "data": {
      "text/html": [
       "<div>\n",
       "<style scoped>\n",
       "    .dataframe tbody tr th:only-of-type {\n",
       "        vertical-align: middle;\n",
       "    }\n",
       "\n",
       "    .dataframe tbody tr th {\n",
       "        vertical-align: top;\n",
       "    }\n",
       "\n",
       "    .dataframe thead th {\n",
       "        text-align: right;\n",
       "    }\n",
       "</style>\n",
       "<table border=\"1\" class=\"dataframe\">\n",
       "  <thead>\n",
       "    <tr style=\"text-align: right;\">\n",
       "      <th></th>\n",
       "      <th>state</th>\n",
       "      <th>eth</th>\n",
       "      <th>male</th>\n",
       "      <th>age</th>\n",
       "      <th>educ</th>\n",
       "      <th>n</th>\n",
       "      <th>repvote</th>\n",
       "      <th>region</th>\n",
       "    </tr>\n",
       "  </thead>\n",
       "  <tbody>\n",
       "    <tr>\n",
       "      <th>0</th>\n",
       "      <td>AL</td>\n",
       "      <td>White</td>\n",
       "      <td>-0.5</td>\n",
       "      <td>18-29</td>\n",
       "      <td>No HS</td>\n",
       "      <td>23948</td>\n",
       "      <td>0.643741</td>\n",
       "      <td>South</td>\n",
       "    </tr>\n",
       "    <tr>\n",
       "      <th>1</th>\n",
       "      <td>AL</td>\n",
       "      <td>White</td>\n",
       "      <td>-0.5</td>\n",
       "      <td>18-29</td>\n",
       "      <td>HS</td>\n",
       "      <td>59378</td>\n",
       "      <td>0.643741</td>\n",
       "      <td>South</td>\n",
       "    </tr>\n",
       "    <tr>\n",
       "      <th>2</th>\n",
       "      <td>AL</td>\n",
       "      <td>White</td>\n",
       "      <td>-0.5</td>\n",
       "      <td>18-29</td>\n",
       "      <td>Some college</td>\n",
       "      <td>104855</td>\n",
       "      <td>0.643741</td>\n",
       "      <td>South</td>\n",
       "    </tr>\n",
       "    <tr>\n",
       "      <th>3</th>\n",
       "      <td>AL</td>\n",
       "      <td>White</td>\n",
       "      <td>-0.5</td>\n",
       "      <td>18-29</td>\n",
       "      <td>4-Year College</td>\n",
       "      <td>37066</td>\n",
       "      <td>0.643741</td>\n",
       "      <td>South</td>\n",
       "    </tr>\n",
       "    <tr>\n",
       "      <th>4</th>\n",
       "      <td>AL</td>\n",
       "      <td>White</td>\n",
       "      <td>-0.5</td>\n",
       "      <td>18-29</td>\n",
       "      <td>Post-grad</td>\n",
       "      <td>9378</td>\n",
       "      <td>0.643741</td>\n",
       "      <td>South</td>\n",
       "    </tr>\n",
       "  </tbody>\n",
       "</table>\n",
       "</div>"
      ],
      "text/plain": [
       "  state    eth  male    age            educ       n   repvote region\n",
       "0    AL  White  -0.5  18-29           No HS   23948  0.643741  South\n",
       "1    AL  White  -0.5  18-29              HS   59378  0.643741  South\n",
       "2    AL  White  -0.5  18-29    Some college  104855  0.643741  South\n",
       "3    AL  White  -0.5  18-29  4-Year College   37066  0.643741  South\n",
       "4    AL  White  -0.5  18-29       Post-grad    9378  0.643741  South"
      ]
     },
     "execution_count": 13,
     "metadata": {},
     "output_type": "execute_result"
    }
   ],
   "source": [
    "poststrat_df = pd.read_csv('data/poststrat_df.csv')\n",
    "statelevel_predictors_df = pd.read_csv('data/statelevel_predictors.csv', index_col=0)\n",
    "poststrat_df = poststrat_df.merge(statelevel_predictors_df, how='left', on='state')\n",
    "mrp_states_df = pd.read_csv('data/mrp_states.csv')\n",
    "poststrat_df.head()"
   ]
  },
  {
   "cell_type": "code",
   "execution_count": 14,
   "metadata": {},
   "outputs": [
    {
     "data": {
      "text/plain": [
       "12000"
      ]
     },
     "execution_count": 14,
     "metadata": {},
     "output_type": "execute_result"
    }
   ],
   "source": [
    "len(poststrat_df)"
   ]
  },
  {
   "cell_type": "code",
   "execution_count": 15,
   "metadata": {
    "id": "LWR6SA44lZNK"
   },
   "outputs": [],
   "source": [
    "# Transform raw data into 0-1 vectors:\n",
    "x_poststrat = []\n",
    "for i in range(len(poststrat_df)):\n",
    "    x_i = transform_raw(poststrat_df, data_to_idx, i)\n",
    "    x_poststrat.append(x_i)\n",
    "x_poststrat = np.array(x_poststrat, dtype='float32')"
   ]
  },
  {
   "cell_type": "code",
   "execution_count": 16,
   "metadata": {
    "id": "w7odG1nWlZNK"
   },
   "outputs": [],
   "source": [
    "def estimate_vi_model_rate(x_poststrat, data_to_idx, model):\n",
    "    model.x = x_poststrat\n",
    "    splitted_x = tf.split(model.x, [123, 5], axis=1)\n",
    "    alpha = model.q.sample(10000)\n",
    "    term1 = tf.matmul(splitted_x[0], tf.transpose(alpha))\n",
    "    term2 = model.gamma_0\n",
    "    term3 = tf.matmul(splitted_x[1], tf.reshape(model.gamma, (5, 1)))\n",
    "    post_pred_mat = tf.math.sigmoid(tf.squeeze(term1 + term2 + term3))\n",
    "\n",
    "    return post_pred_mat\n",
    "\n",
    "def get_se_bernoulli(p, n):\n",
    "    return np.sqrt(p*(1-p)/n)"
   ]
  },
  {
   "cell_type": "code",
   "execution_count": 17,
   "metadata": {
    "colab": {
     "base_uri": "https://localhost:8080/"
    },
    "executionInfo": {
     "elapsed": 442,
     "status": "ok",
     "timestamp": 1630239764505,
     "user": {
      "displayName": "Liyi Zhang",
      "photoUrl": "https://lh3.googleusercontent.com/a-/AOh14Gh9V3hIAgWLKOIy-Olktu7QU6Q3a0l2eUzzAf2j=s64",
      "userId": "06658486172350999592"
     },
     "user_tz": -480
    },
    "id": "SSRHcyWtlZNL",
    "outputId": "cf191042-5f24-4b21-8fa0-33f3a3592f49"
   },
   "outputs": [
    {
     "name": "stdout",
     "output_type": "stream",
     "text": [
      "mean 0.4314\n",
      "std 0.007004199311841433\n"
     ]
    }
   ],
   "source": [
    "# 5,000-person unadjusted sample estimate:\n",
    "print('mean', np.mean(cces['abortion']))\n",
    "print('std', get_se_bernoulli(np.mean(cces['abortion']), len(cces)))"
   ]
  },
  {
   "cell_type": "code",
   "execution_count": 18,
   "metadata": {
    "colab": {
     "base_uri": "https://localhost:8080/"
    },
    "executionInfo": {
     "elapsed": 12,
     "status": "ok",
     "timestamp": 1630239765674,
     "user": {
      "displayName": "Liyi Zhang",
      "photoUrl": "https://lh3.googleusercontent.com/a-/AOh14Gh9V3hIAgWLKOIy-Olktu7QU6Q3a0l2eUzzAf2j=s64",
      "userId": "06658486172350999592"
     },
     "user_tz": -480
    },
    "id": "DA5jsvbUlZNN",
    "outputId": "b3c53e0e-c18e-401c-946c-adab4985aabc"
   },
   "outputs": [
    {
     "name": "stdout",
     "output_type": "stream",
     "text": [
      "mean 0.4341581675305133\n",
      "std 0.002026677342749567\n"
     ]
    }
   ],
   "source": [
    "# 60,000-person unadjusted sample estimate:\n",
    "print('mean', np.mean(cces_all['abortion']))\n",
    "print('std', get_se_bernoulli(np.mean(cces_all['abortion']), len(cces_all)))"
   ]
  },
  {
   "cell_type": "code",
   "execution_count": 19,
   "metadata": {},
   "outputs": [],
   "source": [
    "# # load model VI KLqp Gaussian\n",
    "# path = 'results/survey/vi_klqp_gaussian/2021-10-13-172522/'\n",
    "# model_qp = models.VI_KLqp(dataset='survey', v_fam='gaussian')\n",
    "# model_qp.x = x\n",
    "# model_qp.y = y\n",
    "# model_qp.gamma_0 = np.genfromtxt(path + 'gamma_0.csv', dtype='float32')[-1]\n",
    "# model_qp.gamma = np.genfromtxt(path + 'gamma.csv', dtype='float32')[-1,:]\n",
    "# model_qp.phi_m = np.genfromtxt(path + 'phi_m.csv', dtype='float32')[-1,:]\n",
    "# model_qp.phi_s = np.genfromtxt(path + 'phi_s.csv', dtype='float32')[-1,:]\n",
    "# model_qp.sigma = np.genfromtxt(path + 'sigma.csv', dtype='float32')[-1,:]\n",
    "# model_qp.q = tfd.MultivariateNormalDiag(\n",
    "#               loc=model_qp.phi_m, \n",
    "#               scale_diag=model_qp.phi_s)"
   ]
  },
  {
   "cell_type": "code",
   "execution_count": 20,
   "metadata": {},
   "outputs": [],
   "source": [
    "# losses = -np.genfromtxt(path + 'elbo.csv', dtype='float32')\n",
    "# plt.plot(list(range(len(losses))), losses)"
   ]
  },
  {
   "cell_type": "code",
   "execution_count": 81,
   "metadata": {},
   "outputs": [],
   "source": [
    "v_fam = 'gaussian'\n",
    "space = 'warped'\n",
    "\n",
    "tsc_path = sorted(list(Path(f'results/survey/vi_klpq_N0_{space}_{v_fam}').glob('*')))[-1]\n",
    "N = 20\n",
    "ex2_warp_path = sorted(list(Path(f'results/survey/vi_klpq_N{N}_{space}_{v_fam}').glob('*')))[-1]\n",
    "ex2_warp_rao_path = sorted(list(Path(f'results/survey/vi_klpq_N{N}_{space}_{v_fam}_rao').glob('*')))[-1]"
   ]
  },
  {
   "cell_type": "code",
   "execution_count": 22,
   "metadata": {
    "id": "584bcVLblZNO"
   },
   "outputs": [
    {
     "name": "stderr",
     "output_type": "stream",
     "text": [
      "2022-04-23 11:45:54.756244: W tensorflow/python/util/util.cc:348] Sets are not currently considered sequences, but this may change in the future, so consider avoiding using them.\n"
     ]
    }
   ],
   "source": [
    "# load model VI KLpq Gaussian - HSC\n",
    "#path = Path('results/survey/vi_klpq_N0_warped_gaussian/2022-04-18-102854')\n",
    "model_pq = models.VI_KLpq(v_fam=v_fam, space='warped', dataset='survey', hmc_e=0.05, hmc_L=20, chains=1)\n",
    "model_pq.x = x\n",
    "model_pq.y = y\n",
    "model_pq.gamma_0 = np.genfromtxt(tsc_path / 'gamma_0.csv', dtype='float32')[-1]\n",
    "model_pq.gamma = np.genfromtxt(tsc_path / 'gamma.csv', dtype='float32')[-1,:]\n",
    "model_pq.phi_m = np.genfromtxt(tsc_path / 'phi_m.csv', dtype='float32')[-1,:]\n",
    "model_pq.phi_s = np.genfromtxt(tsc_path / 'phi_s.csv', dtype='float32')[-1,:]\n",
    "model_pq.sigma = np.genfromtxt(tsc_path / 'sigma.csv', dtype='float32')[-1,:]\n",
    "model_pq.q = tfd.MultivariateNormalDiag(\n",
    "    loc=model_pq.phi_m, \n",
    "    scale_diag=model_pq.phi_s)"
   ]
  },
  {
   "cell_type": "code",
   "execution_count": 23,
   "metadata": {},
   "outputs": [
    {
     "data": {
      "text/plain": [
       "[<matplotlib.lines.Line2D at 0x7fbab8c1d070>]"
      ]
     },
     "execution_count": 23,
     "metadata": {},
     "output_type": "execute_result"
    },
    {
     "data": {
      "image/png": "[encoded data removed]",
      "text/plain": [
       "<Figure size 432x288 with 1 Axes>"
      ]
     },
     "metadata": {
      "needs_background": "light"
     },
     "output_type": "display_data"
    }
   ],
   "source": [
    "losses_tsc = np.genfromtxt(tsc_path / 'losses.csv', dtype='float32')\n",
    "plt.plot(list(range(len(losses_tsc))), losses_tsc)"
   ]
  },
  {
   "cell_type": "code",
   "execution_count": 24,
   "metadata": {},
   "outputs": [],
   "source": [
    "pass # not in warped space\n",
    "\n",
    "# # load model VI KLpq Gaussian - MSC\n",
    "# path = Path('results/survey/vi_klpq_N10_eps_gaussian/2022-04-14-180124')\n",
    "# model_pq_ex2_eps = models.VI_KLpq(v_fam='gaussian', space='eps', dataset='survey', hmc_e=0.05, hmc_L=20, cis=10, chains=1)\n",
    "# model_pq_ex2_eps.x = x\n",
    "# model_pq_ex2_eps.y = y\n",
    "# model_pq_ex2_eps.gamma_0 = np.genfromtxt(path / 'gamma_0.csv', dtype='float32')[-1]\n",
    "# model_pq_ex2_eps.gamma = np.genfromtxt(path / 'gamma.csv', dtype='float32')[-1,:]\n",
    "# model_pq_ex2_eps.phi_m = np.genfromtxt(path / 'phi_m.csv', dtype='float32')[-1,:]\n",
    "# model_pq_ex2_eps.phi_s = np.genfromtxt(path / 'phi_s.csv', dtype='float32')[-1,:]\n",
    "# model_pq_ex2_eps.sigma = np.genfromtxt(path / 'sigma.csv', dtype='float32')[-1,:]\n",
    "# model_pq_ex2_eps.q = tfd.MultivariateNormalDiag(\n",
    "#     loc=model_pq_ex2_eps.phi_m, \n",
    "#     scale_diag=model_pq_ex2_eps.phi_s)"
   ]
  },
  {
   "cell_type": "code",
   "execution_count": 25,
   "metadata": {},
   "outputs": [],
   "source": [
    "# losses = np.genfromtxt(path / 'losses.csv', dtype='float32')\n",
    "# plt.plot(list(range(len(losses))), losses)"
   ]
  },
  {
   "cell_type": "code",
   "execution_count": 26,
   "metadata": {},
   "outputs": [],
   "source": [
    "# load model VI KLpq Gaussian - MSC\n",
    "\n",
    "model_pq_ex2_warp = models.VI_KLpq(v_fam=v_fam, space='warped', dataset='survey', hmc_e=0.05, hmc_L=20, cis=N, chains=1)\n",
    "model_pq_ex2_warp.x = x\n",
    "model_pq_ex2_warp.y = y\n",
    "model_pq_ex2_warp.gamma_0 = np.genfromtxt(ex2_warp_path / 'gamma_0.csv', dtype='float32')[-1]\n",
    "model_pq_ex2_warp.gamma = np.genfromtxt(ex2_warp_path / 'gamma.csv', dtype='float32')[-1,:]\n",
    "model_pq_ex2_warp.phi_m = np.genfromtxt(ex2_warp_path / 'phi_m.csv', dtype='float32')[-1,:]\n",
    "model_pq_ex2_warp.phi_s = np.genfromtxt(ex2_warp_path / 'phi_s.csv', dtype='float32')[-1,:]\n",
    "model_pq_ex2_warp.sigma = np.genfromtxt(ex2_warp_path / 'sigma.csv', dtype='float32')[-1,:]\n",
    "model_pq_ex2_warp.q = tfd.MultivariateNormalDiag(\n",
    "    loc=model_pq_ex2_warp.phi_m, \n",
    "    scale_diag=model_pq_ex2_warp.phi_s)"
   ]
  },
  {
   "cell_type": "code",
   "execution_count": 27,
   "metadata": {},
   "outputs": [
    {
     "data": {
      "text/plain": [
       "[<matplotlib.lines.Line2D at 0x7fbab88185e0>]"
      ]
     },
     "execution_count": 27,
     "metadata": {},
     "output_type": "execute_result"
    },
    {
     "data": {
      "image/png": "[encoded data removed]",
      "text/plain": [
       "<Figure size 432x288 with 1 Axes>"
      ]
     },
     "metadata": {
      "needs_background": "light"
     },
     "output_type": "display_data"
    }
   ],
   "source": [
    "losses_ex2_warp = np.genfromtxt(ex2_warp_path / 'losses.csv', dtype='float32')\n",
    "plt.plot(list(range(len(losses_ex2_warp))), losses_ex2_warp)"
   ]
  },
  {
   "cell_type": "code",
   "execution_count": 82,
   "metadata": {},
   "outputs": [],
   "source": [
    "# load model VI KLpq Gaussian - MSC\n",
    "\n",
    "model_pq_ex2_warp_rao = models.VI_KLpq(v_fam=v_fam, space='warped', dataset='survey', hmc_e=0.05, hmc_L=20, cis=N, chains=1)\n",
    "model_pq_ex2_warp_rao.x = x\n",
    "model_pq_ex2_warp_rao.y = y\n",
    "model_pq_ex2_warp_rao.gamma_0 = np.genfromtxt(ex2_warp_rao_path / 'gamma_0.csv', dtype='float32')[-1]\n",
    "model_pq_ex2_warp_rao.gamma = np.genfromtxt(ex2_warp_rao_path / 'gamma.csv', dtype='float32')[-1,:]\n",
    "model_pq_ex2_warp_rao.phi_m = np.genfromtxt(ex2_warp_rao_path / 'phi_m.csv', dtype='float32')[-1,:]\n",
    "model_pq_ex2_warp_rao.phi_s = np.genfromtxt(ex2_warp_rao_path / 'phi_s.csv', dtype='float32')[-1,:]\n",
    "model_pq_ex2_warp_rao.sigma = np.genfromtxt(ex2_warp_rao_path / 'sigma.csv', dtype='float32')[-1,:]\n",
    "model_pq_ex2_warp_rao.q = tfd.MultivariateNormalDiag(\n",
    "    loc=model_pq_ex2_warp_rao.phi_m, \n",
    "    scale_diag=model_pq_ex2_warp_rao.phi_s)"
   ]
  },
  {
   "cell_type": "code",
   "execution_count": 83,
   "metadata": {},
   "outputs": [
    {
     "data": {
      "text/plain": [
       "[<matplotlib.lines.Line2D at 0x7fba96125580>]"
      ]
     },
     "execution_count": 83,
     "metadata": {},
     "output_type": "execute_result"
    },
    {
     "data": {
      "image/png": "[encoded data removed]",
      "text/plain": [
       "<Figure size 432x288 with 1 Axes>"
      ]
     },
     "metadata": {
      "needs_background": "light"
     },
     "output_type": "display_data"
    }
   ],
   "source": [
    "losses_ex2_warp_rao = np.genfromtxt(ex2_warp_rao_path / 'losses.csv', dtype='float32')\n",
    "plt.plot(list(range(len(losses_ex2_warp_rao))), losses_ex2_warp_rao)"
   ]
  },
  {
   "cell_type": "code",
   "execution_count": 84,
   "metadata": {},
   "outputs": [],
   "source": [
    "def ema(s, n):\n",
    "    \"\"\"\n",
    "    returns an n period exponential moving average for\n",
    "    the time series s\n",
    "\n",
    "    s is a list ordered from oldest (index 0) to most\n",
    "    recent (index -1)\n",
    "    n is an integer\n",
    "\n",
    "    returns a numeric array of the exponential\n",
    "    moving average\n",
    "    \"\"\"\n",
    "    s = np.array(s)\n",
    "    ema = []\n",
    "    j = 1\n",
    "\n",
    "    #get n sma first and calculate the next n period ema\n",
    "    sma = sum(s[:n]) / n\n",
    "    multiplier = 2 / float(1 + n)\n",
    "    ema.append(sma)\n",
    "\n",
    "    #EMA(current) = ( (Price(current) - EMA(prev) ) x Multiplier) + EMA(prev)\n",
    "    ema.append(( (s[n] - sma) * multiplier) + sma)\n",
    "\n",
    "    #now calculate the rest of the values\n",
    "    for i in s[n+1:]:\n",
    "        tmp = ( (i - ema[j]) * multiplier) + ema[j]\n",
    "        j = j + 1\n",
    "        ema.append(tmp)\n",
    "\n",
    "    return ema"
   ]
  },
  {
   "cell_type": "code",
   "execution_count": 88,
   "metadata": {},
   "outputs": [
    {
     "data": {
      "image/png": "[encoded data removed]",
      "text/plain": [
       "<Figure size 432x288 with 1 Axes>"
      ]
     },
     "metadata": {
      "needs_background": "light"
     },
     "output_type": "display_data"
    }
   ],
   "source": [
    "arange = np.arange(1, len(losses_ex2_warp)+1)\n",
    "\n",
    "for loss, label in zip([losses_tsc, losses_ex2_warp, losses_ex2_warp_rao], ['TSC', r'Ex$^2$MCMC', r'Ex$^2$MCMC, Rao-Blackwellized']):\n",
    "#for loss, label in zip([losses_tsc, losses_ex2_warp], ['TSC', r'Ex$^2$MCMC']):\n",
    "    n = 100\n",
    "    plt.plot(arange[:-n+1], ema(loss, n), label=label)\n",
    "\n",
    "plt.xscale('log')\n",
    "plt.legend()\n",
    "plt.grid()\n",
    "plt.title('Loss convergence: forward KL with model learning')\n",
    "plt.xlabel('Iteration')\n",
    "plt.ylabel(r'$-\\mathbb{E}\\log[p(x \\mid z)p(z)] - \\mathbb{E}\\log[\\log q(x \\mid z)]$')\n",
    "plt.savefig(Path('figs', 'survey_data_loss_logscale.png'))"
   ]
  },
  {
   "cell_type": "code",
   "execution_count": 87,
   "metadata": {},
   "outputs": [
    {
     "data": {
      "image/png": "[encoded data removed]",
      "text/plain": [
       "<Figure size 432x288 with 1 Axes>"
      ]
     },
     "metadata": {
      "needs_background": "light"
     },
     "output_type": "display_data"
    }
   ],
   "source": [
    "arange = np.arange(1, len(losses_ex2_warp)+1)\n",
    "\n",
    "for loss, label in zip([losses_tsc, losses_ex2_warp, losses_ex2_warp_rao], ['TSC', r'Ex$^2$MCMC', r'Ex$^2$MCMC, Rao-Blackwellized']):\n",
    "#for loss, label in zip([losses_tsc, losses_ex2_warp], ['TSC', r'Ex$^2$MCMC']):\n",
    "    n = 100\n",
    "    plt.plot(arange[:-n+1], ema(loss, n), label=label)\n",
    "\n",
    "# plt.xscale('log')\n",
    "plt.legend()\n",
    "plt.grid()\n",
    "plt.title('Loss convergence: forward KL with model learning')\n",
    "plt.xlabel('Iteration')\n",
    "plt.ylabel(r'$-\\mathbb{E}\\log[p(x \\mid z)p(z)] - \\mathbb{E}\\log[\\log q(x \\mid z)]$')\n",
    "plt.savefig(Path('figs', 'survey_data_loss.png'))"
   ]
  },
  {
   "cell_type": "code",
   "execution_count": 40,
   "metadata": {
    "id": "TG5m0JOplZNP"
   },
   "outputs": [],
   "source": [
    "# # load model VI KLqp Flow\n",
    "# path = 'results/survey/vi_klqp_flow/2021-09-03-223300/'\n",
    "# model_qp_flow = models.VI_KLqp(v_fam='flow', dataset='survey')\n",
    "# model_qp_flow.x = x\n",
    "# model_qp_flow.y = y\n",
    "# model_qp_flow.gamma_0 = np.genfromtxt(path + 'gamma_0.csv', dtype='float32')[-1]\n",
    "# model_qp_flow.gamma = np.genfromtxt(path + 'gamma.csv', dtype='float32')[-1,:]\n",
    "# model_qp_flow.sigma = np.genfromtxt(path + 'sigma.csv', dtype='float32')[-1,:]\n",
    "# model_qp_flow.load_model(path + 'flow_model/model')"
   ]
  },
  {
   "cell_type": "code",
   "execution_count": 41,
   "metadata": {},
   "outputs": [],
   "source": [
    "# losses = -np.genfromtxt(path + 'elbo.csv', dtype='float32')\n",
    "# plt.plot(list(range(len(losses))), losses)"
   ]
  },
  {
   "cell_type": "code",
   "execution_count": null,
   "metadata": {},
   "outputs": [],
   "source": []
  },
  {
   "cell_type": "code",
   "execution_count": 42,
   "metadata": {
    "id": "zclpjtRelZNP"
   },
   "outputs": [],
   "source": [
    "# # load model VI KLpq Flow\n",
    "#path = Path('results/survey/vi_klpq_N0_warped_flow/2022-04-18-105801')\n",
    "# model_pq_flow = models.VI_KLpq(v_fam='flow', space='warped', dataset='survey', hmc_e=0.03, hmc_L=33, chains=64)\n",
    "# model_pq_flow.x = x\n",
    "# model_pq_flow.y = y\n",
    "# model_pq_flow.gamma_0 = np.genfromtxt(path / 'gamma_0.csv', dtype='float32')[-1]\n",
    "# model_pq_flow.gamma = np.genfromtxt(path / 'gamma.csv', dtype='float32')[-1,:]\n",
    "# model_pq_flow.sigma = np.genfromtxt(path / 'sigma.csv', dtype='float32')[-1,:]\n",
    "# model_pq_flow.load_model(path / 'flow_model/model')"
   ]
  },
  {
   "cell_type": "code",
   "execution_count": 43,
   "metadata": {},
   "outputs": [],
   "source": [
    "# losses = np.genfromtxt(path + 'losses.csv', dtype='float32')\n",
    "# plt.plot(list(range(len(losses))), losses)"
   ]
  },
  {
   "cell_type": "code",
   "execution_count": 44,
   "metadata": {},
   "outputs": [],
   "source": [
    "# load model VI KLpq Flow - MSC\n",
    "#path = Path('results/survey/vi_klpq_N10_warped_flow/2022-04-15-000944')\n",
    "# model_pq_ex2_flow_warp = models.VI_KLpq(v_fam='flow', space='eps', dataset='survey', hmc_e=0.03, hmc_L=33, cis=10, chains=1)\n",
    "# model_pq_ex2_flow_warp.x = x\n",
    "# model_pq_ex2_flow_warp.y = y\n",
    "# model_pq_ex2_flow_warp.gamma_0 = np.genfromtxt(path / 'gamma_0.csv', dtype='float32')[-1]\n",
    "# model_pq_ex2_flow_warp.gamma = np.genfromtxt(path / 'gamma.csv', dtype='float32')[-1,:]\n",
    "# model_pq_ex2_flow_warp.phi_m = np.genfromtxt(path / 'phi_m.csv', dtype='float32')[-1,:]\n",
    "# model_pq_ex2_flow_warp.phi_s = np.genfromtxt(path / 'phi_s.csv', dtype='float32')[-1,:]\n",
    "# model_pq_ex2_flow_warp.sigma = np.genfromtxt(path / 'sigma.csv', dtype='float32')[-1,:]\n",
    "# model_pq_ex2_flow_warp.q = tfd.MultivariateNormalDiag(\n",
    "#     loc=model_pq_ex2_flow_warp.phi_m, \n",
    "#     scale_diag=model_pq_ex2_flow_warp.phi_s)"
   ]
  },
  {
   "cell_type": "code",
   "execution_count": 45,
   "metadata": {},
   "outputs": [],
   "source": [
    "# losses = np.genfromtxt(path + 'losses.csv', dtype='float32')\n",
    "# plt.plot(list(range(len(losses))), losses)"
   ]
  },
  {
   "cell_type": "code",
   "execution_count": 46,
   "metadata": {},
   "outputs": [],
   "source": [
    "# load model VI KLpq Flow - MSC\n",
    "#path = Path('results/survey/vi_klpq_N10_warped_flow/2022-04-14-183205')\n",
    "# model_pq_ex2_warp = models.VI_KLpq(v_fam='flow', space='eps', dataset='survey', hmc_e=0.03, hmc_L=33, cis=10, chains=1)\n",
    "# model_pq_ex2_warp.x = x\n",
    "# model_pq_ex2_warp.y = y\n",
    "# model_pq_ex2_warp.gamma_0 = np.genfromtxt(path / 'gamma_0.csv', dtype='float32')[-1]\n",
    "# model_pq_ex2_warp.gamma = np.genfromtxt(path / 'gamma.csv', dtype='float32')[-1,:]\n",
    "# model_pq_ex2_warp.phi_m = np.genfromtxt(path / 'phi_m.csv', dtype='float32')[-1,:]\n",
    "# model_pq_ex2_warp.phi_s = np.genfromtxt(path / 'phi_s.csv', dtype='float32')[-1,:]\n",
    "# model_pq_ex2_warp.sigma = np.genfromtxt(path / 'sigma.csv', dtype='float32')[-1,:]\n",
    "# model_pq_ex2_warp.q = tfd.MultivariateNormalDiag(\n",
    "#     loc=model_pq_ex2_warp.phi_m, \n",
    "#     scale_diag=model_pq_ex2_warp.phi_s)"
   ]
  },
  {
   "cell_type": "code",
   "execution_count": 47,
   "metadata": {
    "id": "HxftW4dylZNP"
   },
   "outputs": [],
   "source": [
    "# post_pred_mat_qp = estimate_vi_model_rate(x_poststrat, data_to_idx, model_qp)\n",
    "# estimate = np.dot(np.array([poststrat_df['n']]), \n",
    "#                   np.array(post_pred_mat_qp)) / sum(poststrat_df['n'])\n",
    "# print('mean', np.mean(estimate))\n",
    "# print('std', np.std(estimate))"
   ]
  },
  {
   "cell_type": "code",
   "execution_count": 48,
   "metadata": {
    "id": "c90rpfcWlZNQ"
   },
   "outputs": [
    {
     "name": "stdout",
     "output_type": "stream",
     "text": [
      "mean 0.4343592120510039\n",
      "std 0.021077846356171697\n"
     ]
    }
   ],
   "source": [
    "post_pred_mat_pq = estimate_vi_model_rate(x_poststrat, data_to_idx, model_pq)\n",
    "estimate = np.dot(np.array([poststrat_df['n']]), \n",
    "                  np.array(post_pred_mat_pq)) / sum(poststrat_df['n'])\n",
    "print('mean', np.mean(estimate))\n",
    "print('std', np.std(estimate))"
   ]
  },
  {
   "cell_type": "code",
   "execution_count": 49,
   "metadata": {},
   "outputs": [],
   "source": [
    "# post_pred_mat_pq_msc = estimate_vi_model_rate(x_poststrat, data_to_idx, model_pq_ex2_eps)\n",
    "# estimate = np.dot(np.array([poststrat_df['n']]), \n",
    "#                   np.array(post_pred_mat_pq_msc)) / sum(poststrat_df['n'])\n",
    "# print('mean', np.mean(estimate))\n",
    "# print('std', np.std(estimate))"
   ]
  },
  {
   "cell_type": "code",
   "execution_count": 50,
   "metadata": {
    "colab": {
     "base_uri": "https://localhost:8080/"
    },
    "executionInfo": {
     "elapsed": 5134,
     "status": "ok",
     "timestamp": 1630239802190,
     "user": {
      "displayName": "Liyi Zhang",
      "photoUrl": "https://lh3.googleusercontent.com/a-/AOh14Gh9V3hIAgWLKOIy-Olktu7QU6Q3a0l2eUzzAf2j=s64",
      "userId": "06658486172350999592"
     },
     "user_tz": -480
    },
    "id": "PE-M-KtalZNQ",
    "outputId": "8d55cacb-6a7a-4c9b-97f6-2f1084b940a5"
   },
   "outputs": [],
   "source": [
    "# post_pred_mat_qp_flow = estimate_vi_model_rate(x_poststrat, data_to_idx, model_qp_flow)\n",
    "# estimate = np.dot(np.array([poststrat_df['n']]), \n",
    "#                   np.array(post_pred_mat_qp_flow)) / sum(poststrat_df['n'])\n",
    "# print('mean', np.mean(estimate))\n",
    "# print('std', np.std(estimate))"
   ]
  },
  {
   "cell_type": "code",
   "execution_count": 51,
   "metadata": {
    "colab": {
     "base_uri": "https://localhost:8080/"
    },
    "executionInfo": {
     "elapsed": 1099,
     "status": "ok",
     "timestamp": 1630239803259,
     "user": {
      "displayName": "Liyi Zhang",
      "photoUrl": "https://lh3.googleusercontent.com/a-/AOh14Gh9V3hIAgWLKOIy-Olktu7QU6Q3a0l2eUzzAf2j=s64",
      "userId": "06658486172350999592"
     },
     "user_tz": -480
    },
    "id": "CLnGz3lSlZNR",
    "outputId": "421de4c0-5925-4753-a95a-b5cca6a11bef"
   },
   "outputs": [],
   "source": [
    "pass\n",
    "# post_pred_mat_pq_flow = estimate_vi_model_rate(x_poststrat, data_to_idx, model_pq_flow)\n",
    "# estimate = np.dot(np.array([poststrat_df['n']]), \n",
    "#                   np.array(post_pred_mat_pq_flow)) / sum(poststrat_df['n'])\n",
    "# print('mean', np.mean(estimate))\n",
    "# print('std', np.std(estimate))"
   ]
  },
  {
   "cell_type": "markdown",
   "metadata": {
    "id": "wqTZ0Hs-lZNR"
   },
   "source": [
    "Compare parameters under different number of VI samples"
   ]
  },
  {
   "cell_type": "code",
   "execution_count": 52,
   "metadata": {
    "colab": {
     "base_uri": "https://localhost:8080/",
     "height": 265
    },
    "collapsed": true,
    "executionInfo": {
     "elapsed": 4267,
     "status": "ok",
     "timestamp": 1628143742224,
     "user": {
      "displayName": "Liyi Zhang",
      "photoUrl": "https://lh3.googleusercontent.com/a-/AOh14Gh9V3hIAgWLKOIy-Olktu7QU6Q3a0l2eUzzAf2j=s64",
      "userId": "06658486172350999592"
     },
     "user_tz": -480
    },
    "id": "GHzTL0MGlZNR",
    "outputId": "0f16d19a-db87-406f-d886-bf784fa62e65"
   },
   "outputs": [],
   "source": [
    "# path = 'results/survey/vi_klpq_gaussian/2021-09-01-162133/'\n",
    "# gamma = np.genfromtxt(path + 'gamma.csv')\n",
    "# plt.plot(gamma[:,0], label='gamma_1')\n",
    "# plt.plot(gamma[:,1], label='gamma_2')\n",
    "# plt.plot(gamma[:,2], label='gamma_3')\n",
    "# plt.plot(gamma[:,3], label='gamma_4')\n",
    "# plt.plot(gamma[:,4], label='gamma_5')\n",
    "# plt.show()"
   ]
  },
  {
   "cell_type": "code",
   "execution_count": 53,
   "metadata": {
    "collapsed": true,
    "id": "ksUPfGrElZNS",
    "outputId": "933592ab-a404-4018-abad-c4468ab29cc4"
   },
   "outputs": [],
   "source": [
    "# path = 'results/survey/vi_klpq_gaussian/2021-07-02-164958/'\n",
    "# gamma_1samp = np.genfromtxt(path + 'gamma.csv')\n",
    "# plt.plot(gamma_1samp[:,0], label='gamma_1')\n",
    "# plt.plot(gamma_1samp[:,1], label='gamma_2')\n",
    "# plt.plot(gamma_1samp[:,2], label='gamma_3')\n",
    "# plt.plot(gamma_1samp[:,3], label='gamma_4')\n",
    "# plt.plot(gamma_1samp[:,4], label='gamma_5')\n",
    "# plt.show()"
   ]
  },
  {
   "cell_type": "markdown",
   "metadata": {},
   "source": [
    "### By-state predictions"
   ]
  },
  {
   "cell_type": "markdown",
   "metadata": {
    "id": "nkV4xgCHlZNS"
   },
   "source": [
    "By state"
   ]
  },
  {
   "cell_type": "code",
   "execution_count": 54,
   "metadata": {},
   "outputs": [],
   "source": [
    "# post_pred_mat_qp = estimate_vi_model_rate(x_poststrat, data_to_idx, model_qp)\n",
    "# state_means_qp = []\n",
    "# state_stds_qp = []\n",
    "# for state in list_of_states:\n",
    "#     is_state = np.array([poststrat_df['state'] == state])\n",
    "#     estimate = np.dot(np.multiply(np.array([poststrat_df['n']]), is_state), \n",
    "#                       np.array(post_pred_mat_qp)) / np.sum(np.multiply(np.array([poststrat_df['n']]), is_state))\n",
    "#     state_means_qp.append(np.mean(estimate))\n",
    "#     state_stds_qp.append(np.std(estimate))\n",
    "#     print(state)\n",
    "#     print('mean', np.mean(estimate))\n",
    "#     print('std', np.std(estimate))\n",
    "# state_means_qp = np.array(state_means_qp)\n",
    "# state_stds_qp = np.array(state_stds_qp)"
   ]
  },
  {
   "cell_type": "code",
   "execution_count": 55,
   "metadata": {
    "id": "_53LZzJR5VGi"
   },
   "outputs": [
    {
     "name": "stdout",
     "output_type": "stream",
     "text": [
      "HI\n",
      "mean 0.3504968365325886\n",
      "std 0.04446413228524013\n",
      "CA\n",
      "mean 0.3773750260338269\n",
      "std 0.02876813583385377\n",
      "VT\n",
      "mean 0.39236596460911244\n",
      "std 0.04609604937522149\n",
      "MA\n",
      "mean 0.3397167897453044\n",
      "std 0.03518008446235749\n",
      "MD\n",
      "mean 0.3457163704045943\n",
      "std 0.036252494226724996\n",
      "NY\n",
      "mean 0.3507331474961226\n",
      "std 0.030432619732481486\n",
      "IL\n",
      "mean 0.39882896630087145\n",
      "std 0.03348385472163259\n",
      "WA\n",
      "mean 0.3804073734602608\n",
      "std 0.0366914454396901\n",
      "RI\n",
      "mean 0.36553633701987\n",
      "std 0.04360512021798889\n",
      "NJ\n",
      "mean 0.36642073932993935\n",
      "std 0.03508960041652167\n",
      "CT\n",
      "mean 0.3530228751439237\n",
      "std 0.039957046971945964\n",
      "OR\n",
      "mean 0.388140326053588\n",
      "std 0.041308261279593146\n",
      "DE\n",
      "mean 0.4462804869692748\n",
      "std 0.04456861943756429\n",
      "NM\n",
      "mean 0.39849090902849577\n",
      "std 0.042898869840296124\n",
      "VA\n",
      "mean 0.4280834738355174\n",
      "std 0.035515766232601276\n",
      "CO\n",
      "mean 0.41136163014462\n",
      "std 0.03894575815057327\n",
      "ME\n",
      "mean 0.43089119054605396\n",
      "std 0.04562199678892334\n",
      "NV\n",
      "mean 0.39652020588644044\n",
      "std 0.03977985638800095\n",
      "MN\n",
      "mean 0.42945118650255754\n",
      "std 0.04105239512408611\n",
      "NH\n",
      "mean 0.4147707414094937\n",
      "std 0.04480030384043164\n",
      "MI\n",
      "mean 0.4388244475763845\n",
      "std 0.03601508211001743\n",
      "PA\n",
      "mean 0.47243842359029387\n",
      "std 0.034447550634395\n",
      "WI\n",
      "mean 0.44173333921374786\n",
      "std 0.04052598047626573\n",
      "FL\n",
      "mean 0.39723390207336656\n",
      "std 0.030229762026383073\n",
      "AZ\n",
      "mean 0.46070054303308444\n",
      "std 0.03715756831434177\n",
      "NC\n",
      "mean 0.44546396704142655\n",
      "std 0.036125190709666584\n",
      "GA\n",
      "mean 0.5191187171985701\n",
      "std 0.035250462659944144\n",
      "OH\n",
      "mean 0.45669784832584237\n",
      "std 0.03645911326862214\n",
      "TX\n",
      "mean 0.5068233078902871\n",
      "std 0.03055760517964055\n",
      "IA\n",
      "mean 0.4505809562682321\n",
      "std 0.04432198077756155\n",
      "SC\n",
      "mean 0.4973683871063158\n",
      "std 0.041345091981886975\n",
      "AK\n",
      "mean 0.44380883811955335\n",
      "std 0.046635260994653024\n",
      "MS\n",
      "mean 0.527968479093545\n",
      "std 0.0422680849199608\n",
      "MO\n",
      "mean 0.4691329880755757\n",
      "std 0.03973352119501209\n",
      "IN\n",
      "mean 0.4485875599478205\n",
      "std 0.03990923262634455\n",
      "LA\n",
      "mean 0.48708939514307203\n",
      "std 0.04036738608959334\n",
      "MT\n",
      "mean 0.46742584796135916\n",
      "std 0.04584743544393111\n",
      "KS\n",
      "mean 0.5031372848788618\n",
      "std 0.04378265427582041\n",
      "UT\n",
      "mean 0.45190672580479924\n",
      "std 0.04432819268526868\n",
      "NE\n",
      "mean 0.49919867390961425\n",
      "std 0.04549503213373644\n",
      "TN\n",
      "mean 0.4946464456670208\n",
      "std 0.03879307233892241\n",
      "AR\n",
      "mean 0.515742336649602\n",
      "std 0.043318865047934155\n",
      "AL\n",
      "mean 0.507016223411694\n",
      "std 0.040085976354469616\n",
      "KY\n",
      "mean 0.5376974426702603\n",
      "std 0.041688700153819154\n",
      "SD\n",
      "mean 0.5113159128046543\n",
      "std 0.04698613688420472\n",
      "ID\n",
      "mean 0.45569840874126405\n",
      "std 0.04463749883180574\n",
      "OK\n",
      "mean 0.5701576988524333\n",
      "std 0.04141428743197423\n",
      "ND\n",
      "mean 0.5060481844707778\n",
      "std 0.04723406938051278\n",
      "WV\n",
      "mean 0.5526088184816175\n",
      "std 0.0445989134210056\n",
      "WY\n",
      "mean 0.5270745628328191\n",
      "std 0.047491822433366616\n"
     ]
    }
   ],
   "source": [
    "post_pred_mat_pq = estimate_vi_model_rate(x_poststrat, data_to_idx, model_pq)\n",
    "state_means_pq = []\n",
    "state_stds_pq = []\n",
    "for state in list_of_states:\n",
    "    is_state = np.array([poststrat_df['state'] == state])\n",
    "    estimate = np.dot(np.multiply(np.array([poststrat_df['n']]), is_state), \n",
    "                      np.array(post_pred_mat_pq)) / np.sum(np.multiply(np.array([poststrat_df['n']]), is_state))\n",
    "    state_means_pq.append(np.mean(estimate))\n",
    "    state_stds_pq.append(np.std(estimate))\n",
    "    print(state)\n",
    "    print('mean', np.mean(estimate))\n",
    "    print('std', np.std(estimate))\n",
    "state_means_pq = np.array(state_means_pq)\n",
    "state_stds_pq = np.array(state_stds_pq)"
   ]
  },
  {
   "cell_type": "code",
   "execution_count": 56,
   "metadata": {},
   "outputs": [],
   "source": [
    "# post_pred_mat_pq_msc = estimate_vi_model_rate(x_poststrat, data_to_idx, model_pq_ex2_eps)\n",
    "# state_means_pq_ex2_eps = []\n",
    "# state_stds_pq_ex2_eps = []\n",
    "# for state in list_of_states:\n",
    "#     is_state = np.array([poststrat_df['state'] == state])\n",
    "#     estimate = np.dot(np.multiply(np.array([poststrat_df['n']]), is_state), \n",
    "#                       np.array(post_pred_mat_pq_msc)) / np.sum(np.multiply(np.array([poststrat_df['n']]), is_state))\n",
    "#     state_means_pq_ex2_eps.append(np.mean(estimate))\n",
    "#     state_stds_pq_ex2_eps.append(np.std(estimate))\n",
    "#     print(state)\n",
    "#     print('mean', np.mean(estimate))\n",
    "#     print('std', np.std(estimate))\n",
    "# state_means_pq_msc = np.array(state_means_pq_ex2_eps)\n",
    "# state_stds_pq_ex2_eps = np.array(state_stds_pq_ex2_eps)"
   ]
  },
  {
   "cell_type": "code",
   "execution_count": 57,
   "metadata": {},
   "outputs": [
    {
     "name": "stdout",
     "output_type": "stream",
     "text": [
      "HI\n",
      "mean 0.35283083053067105\n",
      "std 0.04389799686211586\n",
      "CA\n",
      "mean 0.37822190619338\n",
      "std 0.028607160651796595\n",
      "VT\n",
      "mean 0.39305131508653\n",
      "std 0.04586399123475053\n",
      "MA\n",
      "mean 0.3431484931121629\n",
      "std 0.03515178722266021\n",
      "MD\n",
      "mean 0.3479801750456742\n",
      "std 0.036457970621562426\n",
      "NY\n",
      "mean 0.3522431312103014\n",
      "std 0.030326094495066975\n",
      "IL\n",
      "mean 0.40173248397661726\n",
      "std 0.03382049432923893\n",
      "WA\n",
      "mean 0.3812909834985552\n",
      "std 0.03645755098808119\n",
      "RI\n",
      "mean 0.3657220617530229\n",
      "std 0.04344673375557122\n",
      "NJ\n",
      "mean 0.3678364453490476\n",
      "std 0.03508040490428232\n",
      "CT\n",
      "mean 0.35560575176487347\n",
      "std 0.03919633122512867\n",
      "OR\n",
      "mean 0.3921904281688261\n",
      "std 0.04057386735785464\n",
      "DE\n",
      "mean 0.4496284760098397\n",
      "std 0.04477883771330146\n",
      "NM\n",
      "mean 0.39910973563911123\n",
      "std 0.04278829820372453\n",
      "VA\n",
      "mean 0.43068545841413325\n",
      "std 0.03538272827538268\n",
      "CO\n",
      "mean 0.41220222281792396\n",
      "std 0.038386109220845586\n",
      "ME\n",
      "mean 0.43300172216638877\n",
      "std 0.0456449975948596\n",
      "NV\n",
      "mean 0.39532586420985666\n",
      "std 0.039089159531210824\n",
      "MN\n",
      "mean 0.4330538848521341\n",
      "std 0.04099435560634667\n",
      "NH\n",
      "mean 0.41935963353614153\n",
      "std 0.04423954414682227\n",
      "MI\n",
      "mean 0.4396077537641014\n",
      "std 0.03651359601947582\n",
      "PA\n",
      "mean 0.47273975140953833\n",
      "std 0.03406953810310102\n",
      "WI\n",
      "mean 0.44132600703922226\n",
      "std 0.04092558502691165\n",
      "FL\n",
      "mean 0.4008936807610418\n",
      "std 0.030559391829841832\n",
      "AZ\n",
      "mean 0.46089480742428823\n",
      "std 0.036681836292664416\n",
      "NC\n",
      "mean 0.44883760783350646\n",
      "std 0.03652583820003143\n",
      "GA\n",
      "mean 0.523327973539293\n",
      "std 0.035584417237660475\n",
      "OH\n",
      "mean 0.4577169417808803\n",
      "std 0.036852132369457016\n",
      "TX\n",
      "mean 0.508486293812495\n",
      "std 0.030643688828843337\n",
      "IA\n",
      "mean 0.4516580342622045\n",
      "std 0.04382796729102392\n",
      "SC\n",
      "mean 0.501008780223991\n",
      "std 0.0410274122190663\n",
      "AK\n",
      "mean 0.44844005455476765\n",
      "std 0.04568701626027899\n",
      "MS\n",
      "mean 0.532312350603345\n",
      "std 0.04215295903557828\n",
      "MO\n",
      "mean 0.47147085018943635\n",
      "std 0.03955863551000222\n",
      "IN\n",
      "mean 0.4543628769708245\n",
      "std 0.04010460690383655\n",
      "LA\n",
      "mean 0.486520624021153\n",
      "std 0.04058260333665591\n",
      "MT\n",
      "mean 0.4726235121490895\n",
      "std 0.04573439968827284\n",
      "KS\n",
      "mean 0.5049611018553177\n",
      "std 0.04299609155229242\n",
      "UT\n",
      "mean 0.4586125388156848\n",
      "std 0.044169658369092944\n",
      "NE\n",
      "mean 0.5006202485712913\n",
      "std 0.04521359594305433\n",
      "TN\n",
      "mean 0.4961833224794116\n",
      "std 0.03843459812325665\n",
      "AR\n",
      "mean 0.5203283894957557\n",
      "std 0.04297413472840082\n",
      "AL\n",
      "mean 0.5104831663115981\n",
      "std 0.0402456459490822\n",
      "KY\n",
      "mean 0.537629829791511\n",
      "std 0.04094870468216037\n",
      "SD\n",
      "mean 0.5162109686210764\n",
      "std 0.04742568581741589\n",
      "ID\n",
      "mean 0.45943387730062196\n",
      "std 0.04472283190616595\n",
      "OK\n",
      "mean 0.5680490855880302\n",
      "std 0.040919366233008535\n",
      "ND\n",
      "mean 0.5100939041553301\n",
      "std 0.047651904570914096\n",
      "WV\n",
      "mean 0.5527484609709572\n",
      "std 0.04496815824420432\n",
      "WY\n",
      "mean 0.5301986468533401\n",
      "std 0.04675321479896348\n"
     ]
    }
   ],
   "source": [
    "post_pred_mat_pq_msc = estimate_vi_model_rate(x_poststrat, data_to_idx, model_pq_ex2_warp)\n",
    "state_means_pq_ex2_warp = []\n",
    "state_stds_pq_ex2_warp = []\n",
    "for state in list_of_states:\n",
    "    is_state = np.array([poststrat_df['state'] == state])\n",
    "    estimate = np.dot(np.multiply(np.array([poststrat_df['n']]), is_state), \n",
    "                      np.array(post_pred_mat_pq_msc)) / np.sum(np.multiply(np.array([poststrat_df['n']]), is_state))\n",
    "    state_means_pq_ex2_warp.append(np.mean(estimate))\n",
    "    state_stds_pq_ex2_warp.append(np.std(estimate))\n",
    "    print(state)\n",
    "    print('mean', np.mean(estimate))\n",
    "    print('std', np.std(estimate))\n",
    "state_means_pq_ex2_warp = np.array(state_means_pq_ex2_warp)\n",
    "state_stds_pq_ex2_warp = np.array(state_stds_pq_ex2_warp)"
   ]
  },
  {
   "cell_type": "code",
   "execution_count": 89,
   "metadata": {},
   "outputs": [
    {
     "name": "stdout",
     "output_type": "stream",
     "text": [
      "HI\n",
      "mean 0.3508874956869519\n",
      "std 0.04399555786485319\n",
      "CA\n",
      "mean 0.37798191763195566\n",
      "std 0.028626091309269464\n",
      "VT\n",
      "mean 0.3923269379679226\n",
      "std 0.045739830952813074\n",
      "MA\n",
      "mean 0.34226084198356893\n",
      "std 0.035455032525352814\n",
      "MD\n",
      "mean 0.34708285832101704\n",
      "std 0.03705343194392746\n",
      "NY\n",
      "mean 0.35124294402250444\n",
      "std 0.029601306544989596\n",
      "IL\n",
      "mean 0.39961469188998533\n",
      "std 0.0335851546026662\n",
      "WA\n",
      "mean 0.37978870555193645\n",
      "std 0.03628285726846101\n",
      "RI\n",
      "mean 0.36589056396538266\n",
      "std 0.04372084728060327\n",
      "NJ\n",
      "mean 0.36736271214058963\n",
      "std 0.035144375954732306\n",
      "CT\n",
      "mean 0.35392955126431047\n",
      "std 0.03898925040880175\n",
      "OR\n",
      "mean 0.38928480756754097\n",
      "std 0.04074199921726897\n",
      "DE\n",
      "mean 0.4477412831042382\n",
      "std 0.04516866181605031\n",
      "NM\n",
      "mean 0.39740696667323694\n",
      "std 0.042393588320772495\n",
      "VA\n",
      "mean 0.4290364036315541\n",
      "std 0.03589572444607218\n",
      "CO\n",
      "mean 0.4113055667740281\n",
      "std 0.03892612239604553\n",
      "ME\n",
      "mean 0.4322326386976174\n",
      "std 0.04529145357271448\n",
      "NV\n",
      "mean 0.39336786652577876\n",
      "std 0.03975920946577573\n",
      "MN\n",
      "mean 0.43077348223648043\n",
      "std 0.041539589639858404\n",
      "NH\n",
      "mean 0.41840859798275243\n",
      "std 0.04476009748527747\n",
      "MI\n",
      "mean 0.43779281424844596\n",
      "std 0.036972164092261325\n",
      "PA\n",
      "mean 0.4714713625958929\n",
      "std 0.034449314990577\n",
      "WI\n",
      "mean 0.44027784919662216\n",
      "std 0.04068960897920477\n",
      "FL\n",
      "mean 0.39971456951498335\n",
      "std 0.03041233688246738\n",
      "AZ\n",
      "mean 0.45927839998312664\n",
      "std 0.03692041287865832\n",
      "NC\n",
      "mean 0.4470099666968738\n",
      "std 0.0368529301542446\n",
      "GA\n",
      "mean 0.5224447477250598\n",
      "std 0.035414209993457076\n",
      "OH\n",
      "mean 0.4568933583225573\n",
      "std 0.03718488627394825\n",
      "TX\n",
      "mean 0.5076130755474547\n",
      "std 0.030702970706692798\n",
      "IA\n",
      "mean 0.44998238674092234\n",
      "std 0.044227082459693624\n",
      "SC\n",
      "mean 0.4989353388689818\n",
      "std 0.0410316516346886\n",
      "AK\n",
      "mean 0.4459355939065757\n",
      "std 0.04594093762568194\n",
      "MS\n",
      "mean 0.5315218509557939\n",
      "std 0.042048731019384916\n",
      "MO\n",
      "mean 0.4697214071458493\n",
      "std 0.039049431577555\n",
      "IN\n",
      "mean 0.45167074545502944\n",
      "std 0.040164086269619946\n",
      "LA\n",
      "mean 0.4863412438345171\n",
      "std 0.041159413784968034\n",
      "MT\n",
      "mean 0.4712860549238263\n",
      "std 0.04591681489993761\n",
      "KS\n",
      "mean 0.5037271056110169\n",
      "std 0.043162926188595394\n",
      "UT\n",
      "mean 0.456357102293271\n",
      "std 0.044391811821182\n",
      "NE\n",
      "mean 0.5000144257319409\n",
      "std 0.04556735593297142\n",
      "TN\n",
      "mean 0.49456734044558087\n",
      "std 0.03900295593342863\n",
      "AR\n",
      "mean 0.5187437698435637\n",
      "std 0.04291603858242521\n",
      "AL\n",
      "mean 0.5098768078467528\n",
      "std 0.04066442350357524\n",
      "KY\n",
      "mean 0.5368600496666733\n",
      "std 0.04066423697916333\n",
      "SD\n",
      "mean 0.5165610177960871\n",
      "std 0.04742461171576683\n",
      "ID\n",
      "mean 0.4582216427640035\n",
      "std 0.044786628035796666\n",
      "OK\n",
      "mean 0.5687231942722173\n",
      "std 0.04121066632020591\n",
      "ND\n",
      "mean 0.5092700650027779\n",
      "std 0.04747338554687274\n",
      "WV\n",
      "mean 0.5531758532085732\n",
      "std 0.04414608120913281\n",
      "WY\n",
      "mean 0.528435013284145\n",
      "std 0.04761172243947412\n"
     ]
    }
   ],
   "source": [
    "post_pred_mat_pq_msc = estimate_vi_model_rate(x_poststrat, data_to_idx, model_pq_ex2_warp_rao)\n",
    "state_means_pq_ex2_warp_rao = []\n",
    "state_stds_pq_ex2_warp_rao = []\n",
    "for state in list_of_states:\n",
    "    is_state = np.array([poststrat_df['state'] == state])\n",
    "    estimate = np.dot(np.multiply(np.array([poststrat_df['n']]), is_state), \n",
    "                      np.array(post_pred_mat_pq_msc)) / np.sum(np.multiply(np.array([poststrat_df['n']]), is_state))\n",
    "    state_means_pq_ex2_warp_rao.append(np.mean(estimate))\n",
    "    state_stds_pq_ex2_warp_rao.append(np.std(estimate))\n",
    "    print(state)\n",
    "    print('mean', np.mean(estimate))\n",
    "    print('std', np.std(estimate))\n",
    "state_means_pq_ex2_warp_rao = np.array(state_means_pq_ex2_warp_rao)\n",
    "state_stds_pq_ex2_warp_rao = np.array(state_stds_pq_ex2_warp_rao)"
   ]
  },
  {
   "cell_type": "code",
   "execution_count": null,
   "metadata": {
    "colab": {
     "base_uri": "https://localhost:8080/"
    },
    "executionInfo": {
     "elapsed": 20629,
     "status": "ok",
     "timestamp": 1630239841270,
     "user": {
      "displayName": "Liyi Zhang",
      "photoUrl": "https://lh3.googleusercontent.com/a-/AOh14Gh9V3hIAgWLKOIy-Olktu7QU6Q3a0l2eUzzAf2j=s64",
      "userId": "06658486172350999592"
     },
     "user_tz": -480
    },
    "id": "E_cMz2XUlZNU",
    "outputId": "0fa95964-0eab-4564-f750-f4482078aa1c"
   },
   "outputs": [],
   "source": [
    "# post_pred_mat_qp_flow = estimate_vi_model_rate(x_poststrat, data_to_idx, model_qp_flow)\n",
    "# state_means_qp_flow = []\n",
    "# state_stds_qp_flow = []\n",
    "# for state in list_of_states:\n",
    "#     is_state = np.array([poststrat_df['state'] == state])\n",
    "#     estimate = np.dot(np.multiply(np.array([poststrat_df['n']]), is_state), \n",
    "#                       np.array(post_pred_mat_qp_flow)) / np.sum(np.multiply(np.array([poststrat_df['n']]), is_state))\n",
    "#     state_means_qp_flow.append(np.mean(estimate))\n",
    "#     state_stds_qp_flow.append(np.std(estimate))\n",
    "#     print(state)\n",
    "#     print('mean', np.mean(estimate))\n",
    "#     print('std', np.std(estimate))\n",
    "# state_means_qp_flow = np.array(state_means_qp_flow)\n",
    "# state_stds_qp_flow = np.array(state_stds_qp_flow)"
   ]
  },
  {
   "cell_type": "code",
   "execution_count": null,
   "metadata": {
    "colab": {
     "base_uri": "https://localhost:8080/"
    },
    "executionInfo": {
     "elapsed": 19775,
     "status": "ok",
     "timestamp": 1630239861011,
     "user": {
      "displayName": "Liyi Zhang",
      "photoUrl": "https://lh3.googleusercontent.com/a-/AOh14Gh9V3hIAgWLKOIy-Olktu7QU6Q3a0l2eUzzAf2j=s64",
      "userId": "06658486172350999592"
     },
     "user_tz": -480
    },
    "id": "t9nNd6QZlZNV",
    "outputId": "586a3c83-b6a3-49a9-be38-ba930feaac77"
   },
   "outputs": [],
   "source": [
    "pass\n",
    "# post_pred_mat_pq_flow = estimate_vi_model_rate(x_poststrat, data_to_idx, model_pq_flow)\n",
    "# state_means_pq_flow = []\n",
    "# state_stds_pq_flow = []\n",
    "# for state in list_of_states:\n",
    "#     is_state = np.array([poststrat_df['state'] == state])\n",
    "#     estimate = np.dot(np.multiply(np.array([poststrat_df['n']]), is_state), \n",
    "#                       np.array(post_pred_mat_pq_flow)) / np.sum(np.multiply(np.array([poststrat_df['n']]), is_state))\n",
    "#     state_means_pq_flow.append(np.mean(estimate))\n",
    "#     state_stds_pq_flow.append(np.std(estimate))\n",
    "#     print(state)\n",
    "#     print('mean', np.mean(estimate))\n",
    "#     print('std', np.std(estimate))\n",
    "# state_means_pq_flow = np.array(state_means_pq_flow)\n",
    "# state_stds_pq_flow = np.array(state_stds_pq_flow)"
   ]
  },
  {
   "cell_type": "code",
   "execution_count": null,
   "metadata": {
    "id": "DApMo4_E5Sx5"
   },
   "outputs": [],
   "source": []
  },
  {
   "cell_type": "code",
   "execution_count": 58,
   "metadata": {
    "id": "hfyjT2urlZNV"
   },
   "outputs": [],
   "source": [
    "state_means_unadj_5000 = []\n",
    "state_stds_unadj_5000 = []\n",
    "for state in list_of_states:\n",
    "    is_state = np.array([cces['state'] == state])\n",
    "    n = np.sum(is_state)\n",
    "    mean = np.sum(np.multiply(np.array([cces['abortion']]), is_state))/n\n",
    "    state_means_unadj_5000.append(mean)\n",
    "    state_stds_unadj_5000.append(get_se_bernoulli(mean, n))\n",
    "state_means_unadj_5000 = np.array(state_means_unadj_5000)\n",
    "state_stds_unadj_5000 = np.array(state_stds_unadj_5000)"
   ]
  },
  {
   "cell_type": "code",
   "execution_count": 59,
   "metadata": {
    "id": "qfPbgv5qlZNV"
   },
   "outputs": [],
   "source": [
    "state_means_unadj_60000 = []\n",
    "state_stds_unadj_60000 = []\n",
    "for state in list_of_states:\n",
    "    is_state = np.array([cces_all['state'] == state])\n",
    "    n = np.sum(is_state)\n",
    "    mean = np.sum(np.multiply(np.array([cces_all['abortion']]), is_state))/n\n",
    "    state_means_unadj_60000.append(mean)\n",
    "    state_stds_unadj_60000.append(get_se_bernoulli(mean, n))\n",
    "state_means_unadj_60000 = np.array(state_means_unadj_60000)\n",
    "state_stds_unadj_60000 = np.array(state_stds_unadj_60000)"
   ]
  },
  {
   "cell_type": "code",
   "execution_count": 60,
   "metadata": {
    "colab": {
     "base_uri": "https://localhost:8080/",
     "height": 378
    },
    "executionInfo": {
     "elapsed": 13,
     "status": "ok",
     "timestamp": 1630239861759,
     "user": {
      "displayName": "Liyi Zhang",
      "photoUrl": "https://lh3.googleusercontent.com/a-/AOh14Gh9V3hIAgWLKOIy-Olktu7QU6Q3a0l2eUzzAf2j=s64",
      "userId": "06658486172350999592"
     },
     "user_tz": -480
    },
    "id": "ctDJQfo7lZNW",
    "outputId": "537423e8-d75b-4565-f273-58ae1172a32f"
   },
   "outputs": [
    {
     "data": {
      "image/png": "[encoded data removed]",
      "text/plain": [
       "<Figure size 1080x432 with 1 Axes>"
      ]
     },
     "metadata": {
      "needs_background": "light"
     },
     "output_type": "display_data"
    }
   ],
   "source": [
    "plt.figure(figsize=(15, 6))\n",
    "plt.scatter(list_of_states, state_means_unadj_60000, color='g', label='60000 unadjusted')\n",
    "plt.scatter(list_of_states, state_means_unadj_5000, color='r', label='5000 unadjusted')\n",
    "plt.scatter(list_of_states, state_means_pq, color='b', label='TSC')\n",
    "\n",
    "\n",
    "plt.errorbar(list_of_states, \n",
    "             state_means_unadj_60000, \n",
    "             yerr=1.96*state_stds_unadj_60000, \n",
    "             linestyle='', color='g', alpha=0.3, capsize=5.0)\n",
    "plt.errorbar(list_of_states, \n",
    "             state_means_unadj_5000, \n",
    "             yerr=1.96*state_stds_unadj_5000, \n",
    "             linestyle='', color='r', alpha=0.3, capsize=5.0)\n",
    "plt.errorbar(list_of_states, \n",
    "             state_means_pq, \n",
    "             yerr=1.96*state_stds_pq, \n",
    "             linestyle='', color='b', alpha=0.3, capsize=5.0)\n",
    "\n",
    "plt.ylim(0, 1)\n",
    "plt.legend()\n",
    "plt.savefig(Path('figs') / 'survey_tsc_unadj.png')\n",
    "plt.show()"
   ]
  },
  {
   "cell_type": "code",
   "execution_count": 61,
   "metadata": {},
   "outputs": [],
   "source": [
    "# plt.figure(figsize=(15, 6))\n",
    "# plt.scatter(list_of_states, state_means_unadj_60000, color='g', label='60000 unadjusted')\n",
    "# plt.scatter(list_of_states, state_means_pq_ex2_eps, color='black', label=r'Ex$^2$MCMC, space=eps')\n",
    "# plt.scatter(list_of_states, state_means_pq, color='b', label='TSC')\n",
    "# plt.errorbar(list_of_states, \n",
    "#              state_means_unadj_60000, \n",
    "#              yerr=1.96*state_stds_unadj_60000, \n",
    "#              linestyle='', color='g', alpha=0.3, capsize=5.0)\n",
    "# plt.errorbar(list_of_states, \n",
    "#              state_means_pq_ex2_eps, \n",
    "#              yerr=1.96*state_stds_pq_ex2_eps, \n",
    "#              linestyle='', color='black', alpha=0.3, capsize=5.0)\n",
    "# plt.errorbar(list_of_states, \n",
    "#              state_means_pq, \n",
    "#              yerr=1.96*state_stds_pq, \n",
    "#              linestyle='', color='b', alpha=0.3, capsize=5.0)\n",
    "# plt.ylim(0, 1)\n",
    "# plt.legend()\n",
    "# plt.savefig(Path('figs') / 'survey_tsc_ex2_eps.png')\n",
    "# plt.show()"
   ]
  },
  {
   "cell_type": "code",
   "execution_count": 62,
   "metadata": {},
   "outputs": [
    {
     "data": {
      "image/png": "[encoded data removed]",
      "text/plain": [
       "<Figure size 1080x432 with 1 Axes>"
      ]
     },
     "metadata": {
      "needs_background": "light"
     },
     "output_type": "display_data"
    }
   ],
   "source": [
    "plt.figure(figsize=(15, 6))\n",
    "plt.scatter(list_of_states, state_means_unadj_60000, color='g', label='60000 unadjusted')\n",
    "plt.scatter(list_of_states, state_means_pq_ex2_warp, color='red', label=fr'Ex$^2$MCMC, space: {space}')\n",
    "plt.scatter(list_of_states, state_means_pq, color='b', label='TSC')\n",
    "plt.errorbar(list_of_states, \n",
    "             state_means_unadj_60000, \n",
    "             yerr=1.96*state_stds_unadj_60000, \n",
    "             linestyle='', color='g', alpha=0.3, capsize=5.0)\n",
    "plt.errorbar(list_of_states, \n",
    "             state_means_pq_ex2_warp, \n",
    "             yerr=1.96*state_stds_pq_ex2_warp, \n",
    "             linestyle='', color='red', alpha=0.3, capsize=5.0)\n",
    "plt.errorbar(list_of_states, \n",
    "             state_means_pq, \n",
    "             yerr=1.96*state_stds_pq, \n",
    "             linestyle='', color='b', alpha=0.3, capsize=5.0)\n",
    "plt.ylim(0, 1)\n",
    "plt.legend()\n",
    "plt.savefig(Path('figs') / f'survey_tsc_ex2_{space}.png')\n",
    "plt.show()"
   ]
  },
  {
   "cell_type": "code",
   "execution_count": 90,
   "metadata": {},
   "outputs": [
    {
     "data": {
      "image/png": "[encoded data removed]",
      "text/plain": [
       "<Figure size 1080x432 with 1 Axes>"
      ]
     },
     "metadata": {
      "needs_background": "light"
     },
     "output_type": "display_data"
    }
   ],
   "source": [
    "plt.figure(figsize=(15, 6))\n",
    "plt.scatter(list_of_states, state_means_unadj_60000, color='g', label='60000 unadjusted')\n",
    "plt.scatter(list_of_states, state_means_pq_ex2_warp_rao, color='red', label=fr'Ex$^2$MCMC, space: {space}, Rao-Blackwellized')\n",
    "plt.scatter(list_of_states, state_means_pq, color='b', label='TSC')\n",
    "plt.errorbar(list_of_states, \n",
    "             state_means_unadj_60000, \n",
    "             yerr=1.96*state_stds_unadj_60000, \n",
    "             linestyle='', color='g', alpha=0.3, capsize=5.0)\n",
    "plt.errorbar(list_of_states, \n",
    "             state_means_pq_ex2_warp_rao, \n",
    "             yerr=1.96*state_stds_pq_ex2_warp_rao, \n",
    "             linestyle='', color='red', alpha=0.3, capsize=5.0)\n",
    "plt.errorbar(list_of_states, \n",
    "             state_means_pq, \n",
    "             yerr=1.96*state_stds_pq, \n",
    "             linestyle='', color='b', alpha=0.3, capsize=5.0)\n",
    "plt.ylim(0, 1)\n",
    "plt.legend()\n",
    "plt.savefig(Path('figs') / f'survey_tsc_ex2_{space}_rao.png')\n",
    "plt.show()"
   ]
  },
  {
   "cell_type": "code",
   "execution_count": null,
   "metadata": {
    "colab": {
     "base_uri": "https://localhost:8080/",
     "height": 378
    },
    "collapsed": true,
    "executionInfo": {
     "elapsed": 1123,
     "status": "ok",
     "timestamp": 1630239905968,
     "user": {
      "displayName": "Liyi Zhang",
      "photoUrl": "https://lh3.googleusercontent.com/a-/AOh14Gh9V3hIAgWLKOIy-Olktu7QU6Q3a0l2eUzzAf2j=s64",
      "userId": "06658486172350999592"
     },
     "user_tz": -480
    },
    "id": "jeRFWnhElZNW",
    "outputId": "1cf0c0cd-5159-4095-d32e-4a98f5e78745"
   },
   "outputs": [],
   "source": [
    "pass # TSC Flow\n",
    "\n",
    "# plt.figure(figsize=(15, 6))\n",
    "# plt.scatter(list_of_states, state_means_unadj_60000, color='g', label='60000 unadjusted')\n",
    "# #plt.scatter(list_of_states, state_means_qp_flow, color='r', label='VI with flow')\n",
    "# plt.scatter(list_of_states, state_means_pq_flow, color='b', label='TSC with flow')\n",
    "# plt.errorbar(list_of_states, \n",
    "#              state_means_unadj_60000, \n",
    "#              yerr=1.96*state_stds_unadj_60000, \n",
    "#              linestyle='', color='g', alpha=0.0, capsize=5.0)\n",
    "# # plt.errorbar(list_of_states, \n",
    "# #              state_means_qp_flow, \n",
    "# #              yerr=1.96*state_stds_qp_flow, \n",
    "# #              linestyle='', color='r', alpha=0.3, capsize=5.0)\n",
    "# plt.errorbar(list_of_states, \n",
    "#              state_means_pq_flow, \n",
    "#              yerr=1.96*state_stds_pq_flow, \n",
    "#              linestyle='', color='b', alpha=0.3, capsize=5.0)\n",
    "# plt.ylim(0, 1)\n",
    "# plt.legend()\n",
    "# plt.savefig(Path('figs') / 'survey_tsc_vi.png')\n",
    "# plt.show()"
   ]
  },
  {
   "cell_type": "code",
   "execution_count": null,
   "metadata": {},
   "outputs": [],
   "source": [
    "# VI\n",
    "\n",
    "# plt.figure(figsize=(15, 6))\n",
    "# plt.scatter(list_of_states, state_means_unadj_60000, color='g', label='60000 unadjusted')\n",
    "# #plt.scatter(list_of_states, state_means_qp, color='r', label='VI with Gaussian')\n",
    "# plt.scatter(list_of_states, state_means_pq, color='b', label='HSC with Gaussian')\n",
    "# plt.errorbar(list_of_states, \n",
    "#              state_means_unadj_60000, \n",
    "#              yerr=1.96*state_stds_unadj_60000, \n",
    "#              linestyle='', color='g', alpha=0.2, capsize=5.0)\n",
    "# # plt.errorbar(list_of_states, \n",
    "# #              state_means_qp, \n",
    "# #              yerr=1.96*state_stds_qp, \n",
    "# #              linestyle='', color='r', alpha=0.3, capsize=5.0)\n",
    "# plt.errorbar(list_of_states, \n",
    "#              state_means_pq, \n",
    "#              yerr=1.96*state_stds_pq, \n",
    "#              linestyle='', color='b', alpha=0.3, capsize=5.0)\n",
    "# plt.ylim(0, 1)\n",
    "# plt.legend()\n",
    "# plt.savefig(Path('figs') / 'survey_tsc_vi.png')\n",
    "# plt.show()"
   ]
  },
  {
   "cell_type": "code",
   "execution_count": null,
   "metadata": {},
   "outputs": [],
   "source": [
    "pass # HSC Flow\n",
    "\n",
    "# plt.figure(figsize=(15, 6))\n",
    "# plt.scatter(list_of_states, state_means_unadj_60000, color='g', label='60000 unadjusted')\n",
    "# plt.scatter(list_of_states, state_means_pq_flow, color='r', label='HSC with Flow')\n",
    "# plt.scatter(list_of_states, state_means_pq, color='b', label='HSC')\n",
    "# plt.errorbar(list_of_states, \n",
    "#              state_means_unadj_60000, \n",
    "#              yerr=1.96*state_stds_unadj_60000, \n",
    "#              linestyle='', color='g', alpha=0.2, capsize=5.0)\n",
    "# plt.errorbar(list_of_states, \n",
    "#              state_means_pq_flow, \n",
    "#              yerr=1.96*state_stds_pq_flow, \n",
    "#              linestyle='', color='r', alpha=0.7, capsize=5.0)\n",
    "# plt.errorbar(list_of_states, \n",
    "#              state_means_pq, \n",
    "#              yerr=1.96*state_stds_pq, \n",
    "#              linestyle='', color='b', alpha=0.7, capsize=5.0)\n",
    "# plt.ylim(0, 1)\n",
    "# plt.legend()\n",
    "# plt.show()"
   ]
  },
  {
   "cell_type": "code",
   "execution_count": 63,
   "metadata": {},
   "outputs": [],
   "source": [
    "state_means_mrp = []\n",
    "state_stds_mrp = []\n",
    "for state in list_of_states:\n",
    "    idx = mrp_states_df[mrp_states_df['state'] == state].index[0]\n",
    "    state_means_mrp.append(mrp_states_df.loc[idx, 'mrp_estimate'])\n",
    "    state_stds_mrp.append(mrp_states_df.loc[idx, 'mrp_estimate_se'])\n",
    "state_means_mrp = np.array(state_means_mrp)\n",
    "state_stds_mrp = np.array(state_stds_mrp)"
   ]
  },
  {
   "cell_type": "code",
   "execution_count": 64,
   "metadata": {},
   "outputs": [
    {
     "data": {
      "image/png": "[encoded data removed]",
      "text/plain": [
       "<Figure size 1080x432 with 1 Axes>"
      ]
     },
     "metadata": {
      "needs_background": "light"
     },
     "output_type": "display_data"
    }
   ],
   "source": [
    "plt.figure(figsize=(15, 6))\n",
    "plt.scatter(list_of_states, state_means_unadj_60000, color='g', label='60000 unadjusted')\n",
    "plt.scatter(list_of_states, state_means_mrp, color='r', label='MRP MCMC')\n",
    "plt.scatter(list_of_states, state_means_pq, color='b', label='TSC')\n",
    "plt.errorbar(list_of_states, \n",
    "             state_means_unadj_60000, \n",
    "             yerr=1.96*state_stds_unadj_60000, \n",
    "             linestyle='', color='g', alpha=0.3, capsize=5.0)\n",
    "plt.errorbar(list_of_states, \n",
    "             state_means_mrp, \n",
    "             yerr=1.96*state_stds_mrp, \n",
    "             linestyle='', color='r', alpha=0.3, capsize=5.0)\n",
    "plt.errorbar(list_of_states, \n",
    "             state_means_pq, \n",
    "             yerr=1.96*state_stds_pq, \n",
    "             linestyle='', color='b', alpha=0.3, capsize=5.0)\n",
    "plt.ylim(0, 1)\n",
    "plt.legend()\n",
    "plt.savefig(Path('figs') / 'survey_tsc_mrp.png')\n",
    "plt.show()"
   ]
  },
  {
   "cell_type": "code",
   "execution_count": 94,
   "metadata": {},
   "outputs": [
    {
     "data": {
      "image/png": "[encoded data removed]",
      "text/plain": [
       "<Figure size 1080x432 with 1 Axes>"
      ]
     },
     "metadata": {
      "needs_background": "light"
     },
     "output_type": "display_data"
    }
   ],
   "source": [
    "plt.figure(figsize=(15, 6))\n",
    "plt.scatter(list_of_states, state_means_unadj_60000, color='g', label='60000 unadjusted')\n",
    "plt.scatter(list_of_states, state_means_mrp, color='r', label='MRP MCMC')\n",
    "plt.scatter(list_of_states, state_means_pq_ex2_warp, color='b', label=fr'Ex$^2$MCMC, space: {space}')\n",
    "plt.errorbar(list_of_states, \n",
    "             state_means_unadj_60000, \n",
    "             yerr=1.96*state_stds_unadj_60000, \n",
    "             linestyle='', color='g', alpha=0.3, capsize=5.0)\n",
    "plt.errorbar(list_of_states, \n",
    "             state_means_mrp, \n",
    "             yerr=1.96*state_stds_mrp, \n",
    "             linestyle='', color='r', alpha=0.3, capsize=5.0)\n",
    "plt.errorbar(list_of_states, \n",
    "             state_means_pq_ex2_warp, \n",
    "             yerr=1.96*state_stds_pq_ex2_warp, \n",
    "             linestyle='', color='b', alpha=0.3, capsize=5.0)\n",
    "plt.ylim(0, 1)\n",
    "plt.legend()\n",
    "plt.savefig(Path('figs') / f'survey_ex2_{space}_mrp.png')\n",
    "plt.show()"
   ]
  },
  {
   "cell_type": "code",
   "execution_count": 95,
   "metadata": {},
   "outputs": [
    {
     "data": {
      "image/png": "[encoded data removed]",
      "text/plain": [
       "<Figure size 1080x432 with 1 Axes>"
      ]
     },
     "metadata": {
      "needs_background": "light"
     },
     "output_type": "display_data"
    }
   ],
   "source": [
    "plt.figure(figsize=(15, 6))\n",
    "plt.scatter(list_of_states, state_means_unadj_60000, color='g', label='60000 unadjusted')\n",
    "plt.scatter(list_of_states, state_means_mrp, color='r', label='MRP MCMC')\n",
    "plt.scatter(list_of_states, state_means_pq_ex2_warp_rao, color='b', label=fr'Ex$^2$MCMC, space: {space}, Rao-Blackwellized')\n",
    "plt.errorbar(list_of_states, \n",
    "             state_means_unadj_60000, \n",
    "             yerr=1.96*state_stds_unadj_60000, \n",
    "             linestyle='', color='g', alpha=0.3, capsize=5.0)\n",
    "plt.errorbar(list_of_states, \n",
    "             state_means_mrp, \n",
    "             yerr=1.96*state_stds_mrp, \n",
    "             linestyle='', color='r', alpha=0.3, capsize=5.0)\n",
    "plt.errorbar(list_of_states, \n",
    "             state_means_pq_ex2_warp_rao, \n",
    "             yerr=1.96*state_stds_pq_ex2_warp_rao, \n",
    "             linestyle='', color='b', alpha=0.3, capsize=5.0)\n",
    "plt.ylim(0, 1)\n",
    "plt.legend()\n",
    "plt.savefig(Path('figs') / f'survey_ex2_{space}_rao_mrp.png')\n",
    "plt.show()"
   ]
  },
  {
   "cell_type": "code",
   "execution_count": null,
   "metadata": {},
   "outputs": [],
   "source": [
    "# print(np.sum((state_stds_pq-state_stds_mrp)**2))\n",
    "# print(np.sum((state_stds_qp-state_stds_mrp)**2))\n",
    "\n",
    "# print(np.sum((state_means_pq-state_means_mrp)**2))\n",
    "# print(np.sum((state_means_qp-state_means_mrp)**2))"
   ]
  },
  {
   "cell_type": "markdown",
   "metadata": {
    "id": "uq2r-A9KlZNX"
   },
   "source": [
    "### Effective sample size"
   ]
  },
  {
   "cell_type": "code",
   "execution_count": 96,
   "metadata": {},
   "outputs": [],
   "source": [
    "hmc_points_tsc = np.squeeze(np.array(pd.read_pickle(tsc_path /'hmc_points.pickle')))\n",
    "hmc_points_ex2_warp = np.squeeze(np.array(pd.read_pickle(ex2_warp_path / 'hmc_points.pickle')))\n",
    "hmc_points_ex2_warp_rao = np.squeeze(np.array(pd.read_pickle(ex2_warp_rao_path / 'hmc_points.pickle')))"
   ]
  },
  {
   "cell_type": "code",
   "execution_count": 97,
   "metadata": {},
   "outputs": [],
   "source": [
    "def autocor(x, t):\n",
    "    n = x.shape[0]\n",
    "    mu = np.mean(x, axis=0)\n",
    "    sigma2 = np.var(x, axis=0)\n",
    "    numer = np.sum((x[:(n-t),:]-mu) * (x[t:,:]-mu), axis=0)\n",
    "    return numer/((n-t)*sigma2)\n",
    "\n",
    "def neff(x):\n",
    "    n = x.shape[0]\n",
    "    d = x.shape[1]\n",
    "    autocor_arr = np.zeros((n, d))\n",
    "    dim_to_set_to_0 = []\n",
    "    for t in range(1, n):\n",
    "        autocor_arr[t-1,:] = autocor(x, t)\n",
    "        if len(dim_to_set_to_0) > 0:\n",
    "            autocor_arr[t-1, dim_to_set_to_0] = 0\n",
    "        if t > 1:\n",
    "            for d_i in range(d):\n",
    "                if autocor_arr[t-1, d_i] + autocor_arr[t-2, d_i] < 0:\n",
    "                    autocor_arr[t-1, d_i] = 0\n",
    "                    autocor_arr[t-2, d_i] = 0\n",
    "                    if d_i not in dim_to_set_to_0:\n",
    "                        dim_to_set_to_0.append(d_i)\n",
    "            if len(dim_to_set_to_0) == d:\n",
    "                break\n",
    "    return n/(1+2*np.sum(autocor_arr, axis=0))"
   ]
  },
  {
   "cell_type": "code",
   "execution_count": 98,
   "metadata": {},
   "outputs": [
    {
     "data": {
      "text/plain": [
       "100000"
      ]
     },
     "execution_count": 98,
     "metadata": {},
     "output_type": "execute_result"
    }
   ],
   "source": [
    "len(hmc_points_ex2_warp_rao)"
   ]
  },
  {
   "cell_type": "code",
   "execution_count": 68,
   "metadata": {},
   "outputs": [
    {
     "name": "stdout",
     "output_type": "stream",
     "text": [
      "0 0.04007857828073897\n",
      "1 0.03974044695930207\n",
      "2 0.045740101111406896\n",
      "3 0.05235013419709073\n",
      "4 0.06217928569127024\n",
      "5 0.07071081245711155\n",
      "6 0.08517693711992368\n",
      "7 0.10668546837877814\n"
     ]
    }
   ],
   "source": [
    "list_of_checkpt = [1000, 2000, 5000, 10000, 20000, 30000, 50000, 100000]\n",
    "num_dim = hmc_points_tsc.shape[1]\n",
    "neff_list_ex2_warp = np.zeros((len(list_of_checkpt), num_dim))\n",
    "\n",
    "for i in range(len(list_of_checkpt)):\n",
    "    idx = list_of_checkpt[i]\n",
    "    neff_list_ex2_warp[i, :] = neff(hmc_points_ex2_warp[:idx, :])\n",
    "    print(i, np.mean(neff_list_ex2_warp[i,:]/idx))"
   ]
  },
  {
   "cell_type": "code",
   "execution_count": 99,
   "metadata": {},
   "outputs": [
    {
     "name": "stdout",
     "output_type": "stream",
     "text": [
      "0 0.03666412208041352\n",
      "1 0.03734311908199334\n",
      "2 0.04506112565938682\n",
      "3 0.05070494647323877\n",
      "4 0.06243214253328192\n",
      "5 0.07214248563195823\n",
      "6 0.08618273023089165\n",
      "7 0.10880002179608429\n"
     ]
    }
   ],
   "source": [
    "# list_of_checkpt = [500, 1000, 2000, 5000, 10000] #, 20000, 30000, 50000, 100000]\n",
    "num_dim = hmc_points_tsc.shape[1]\n",
    "neff_list_ex2_warp_rao = np.zeros((len(list_of_checkpt), num_dim))\n",
    "\n",
    "for i in range(len(list_of_checkpt)):\n",
    "    idx = list_of_checkpt[i]\n",
    "    neff_list_ex2_warp_rao[i, :] = neff(hmc_points_ex2_warp_rao[:idx, :])\n",
    "    print(i, np.mean(neff_list_ex2_warp_rao[i,:]/idx))"
   ]
  },
  {
   "cell_type": "code",
   "execution_count": 69,
   "metadata": {},
   "outputs": [
    {
     "name": "stdout",
     "output_type": "stream",
     "text": [
      "0 0.06763764708791888\n",
      "1 0.06847955350367307\n",
      "2 0.057955061797362234\n",
      "3 0.055630388791486074\n",
      "4 0.05614155689907503\n",
      "5 0.058968964137208146\n",
      "6 0.06041657461775976\n",
      "7 0.0651334502647938\n"
     ]
    }
   ],
   "source": [
    "neff_list_tsc = np.zeros((len(list_of_checkpt), num_dim))\n",
    "\n",
    "for i in range(len(list_of_checkpt)):\n",
    "    idx = list_of_checkpt[i]\n",
    "    neff_list_tsc[i, :] = neff(hmc_points_tsc[:idx, :])\n",
    "    print(i, np.mean(neff_list_tsc[i,:]/idx))"
   ]
  },
  {
   "cell_type": "code",
   "execution_count": 100,
   "metadata": {},
   "outputs": [],
   "source": [
    "np.savetxt('results/neff_list_tsc.csv', neff_list_tsc)\n",
    "np.savetxt('results/neff_list_ex2_warp.csv', neff_list_ex2_warp)\n",
    "np.savetxt('results/neff_list_ex2_warp_rao.csv', neff_list_ex2_warp_rao)"
   ]
  },
  {
   "cell_type": "code",
   "execution_count": 101,
   "metadata": {},
   "outputs": [],
   "source": [
    "neff_list_tsc = np.genfromtxt('results/neff_list_tsc.csv')\n",
    "neff_list_ex2_warp = np.genfromtxt('results/neff_list_ex2_warp.csv')\n",
    "neff_list_ex2_warp_rao = np.genfromtxt('results/neff_list_ex2_warp_rao.csv')\n",
    "#list_of_checkpt = [500, 1000, 2000, 5000, 10000] #, 20000, 30000, 50000, 100000]"
   ]
  },
  {
   "cell_type": "code",
   "execution_count": 103,
   "metadata": {},
   "outputs": [
    {
     "data": {
      "image/png": "[encoded data removed]",
      "text/plain": [
       "<Figure size 432x288 with 1 Axes>"
      ]
     },
     "metadata": {
      "needs_background": "light"
     },
     "output_type": "display_data"
    }
   ],
   "source": [
    "# import matplotlib.pylab as pylab\n",
    "\n",
    "# params = {'legend.fontsize': 'x-large',\n",
    "#          'axes.labelsize': 'x-large',\n",
    "#          'axes.titlesize':'x-large',\n",
    "#          'xtick.labelsize':'x-large',\n",
    "#          'ytick.labelsize':'x-large'}\n",
    "# pylab.rcParams.update(params)\n",
    "\n",
    "plt.plot(list_of_checkpt, \n",
    "         np.mean(neff_list_tsc, axis=1)/np.array(list_of_checkpt),\n",
    "         marker='o', markersize=8, color='b',\n",
    "         label='TSC')\n",
    "plt.plot(list_of_checkpt, \n",
    "         np.mean(neff_list_ex2_warp, axis=1)/np.array(list_of_checkpt),\n",
    "         marker='o', markersize=8, color='r',\n",
    "         label=r'Ex$^2$MCMC')\n",
    "plt.plot(list_of_checkpt, \n",
    "         np.mean(neff_list_ex2_warp_rao, axis=1)/np.array(list_of_checkpt),\n",
    "         marker='o', markersize=8, color='g',\n",
    "         label=r'Ex$^2$MCMC, Rao-Blackwellized')\n",
    "\n",
    "plt.legend()\n",
    "plt.ylabel('ESS/total samples')\n",
    "plt.xlabel('Epoch')\n",
    "plt.savefig(Path('figs') / 'survey_ess.png')"
   ]
  },
  {
   "cell_type": "markdown",
   "metadata": {},
   "source": [
    "# THE END"
   ]
  },
  {
   "cell_type": "code",
   "execution_count": null,
   "metadata": {},
   "outputs": [],
   "source": []
  },
  {
   "cell_type": "markdown",
   "metadata": {
    "id": "H9J1R-0zlZNX"
   },
   "source": [
    "## Transform Weighted Data and Run Methods"
   ]
  },
  {
   "cell_type": "code",
   "execution_count": null,
   "metadata": {
    "id": "DTGMd-0GlZNX"
   },
   "outputs": [],
   "source": [
    "x_weighted = []\n",
    "y_weighted = []\n",
    "state = 0\n",
    "age = 50\n",
    "eth = 56\n",
    "educ = 60\n",
    "male_eth = 65\n",
    "educ_age = 73\n",
    "educ_eth = 103\n",
    "for i in range(1, len(cces)+1):\n",
    "    x_i = np.zeros(128)\n",
    "    eth_idx = data_to_idx[cces_weighted.loc[i,'eth']]\n",
    "    age_idx = data_to_idx[cces_weighted.loc[i,'age']]\n",
    "    educ_idx = data_to_idx[cces_weighted.loc[i,'educ']]\n",
    "    x_i[data_to_idx[cces_weighted.loc[i,'state.x']]] = 1\n",
    "    x_i[age_idx] = 1\n",
    "    x_i[eth_idx] = 1\n",
    "    x_i[educ_idx] = 1\n",
    "    \n",
    "    is_male = int(cces_weighted.loc[i,'male'] + 0.5)\n",
    "    male_eth_idx = male_eth + is_male * 4 + (eth_idx-eth) \n",
    "    educ_age_idx = educ_age + (educ_idx-educ) * 6 + (age_idx-age)\n",
    "    educ_eth_idx = educ_eth + (educ_idx-educ) * 4 + (eth_idx-eth)\n",
    "    x_i[male_eth_idx] = 1\n",
    "    x_i[educ_age_idx] = 1\n",
    "    x_i[educ_eth_idx] = 1\n",
    "    \n",
    "    x_i[123] = is_male\n",
    "    x_i[124] = int(cces_weighted.loc[i,'region'] == 'South')\n",
    "    x_i[125] = int(cces_weighted.loc[i,'region'] == 'North Central')\n",
    "    x_i[126] = int(cces_weighted.loc[i,'region'] == 'West')\n",
    "    x_i[127] = cces_weighted.loc[i,'repvote']\n",
    "    \n",
    "    x_weighted.append(x_i)\n",
    "    y_weighted.append(cces_weighted.loc[i,'abortion'])\n",
    "\n",
    "x_weighted = np.array(x_weighted, dtype=np.float32)\n",
    "y_weighted = np.array(y_weighted, dtype=np.float32)"
   ]
  },
  {
   "cell_type": "code",
   "execution_count": null,
   "metadata": {
    "id": "Wk1ZLoK7lZNX"
   },
   "outputs": [],
   "source": []
  },
  {
   "cell_type": "code",
   "execution_count": null,
   "metadata": {
    "id": "Ye0GIzrHlZNY"
   },
   "outputs": [],
   "source": []
  },
  {
   "cell_type": "code",
   "execution_count": null,
   "metadata": {
    "id": "mdsqYqEklZNY"
   },
   "outputs": [],
   "source": []
  },
  {
   "cell_type": "code",
   "execution_count": null,
   "metadata": {
    "id": "lt3895MAlZNY"
   },
   "outputs": [],
   "source": []
  },
  {
   "cell_type": "code",
   "execution_count": null,
   "metadata": {
    "id": "cyL2wikUlZNY"
   },
   "outputs": [],
   "source": []
  },
  {
   "cell_type": "code",
   "execution_count": null,
   "metadata": {
    "id": "H4EqDBa6lZNY"
   },
   "outputs": [],
   "source": []
  },
  {
   "cell_type": "code",
   "execution_count": null,
   "metadata": {
    "id": "cz_Oi6QSlZNY"
   },
   "outputs": [],
   "source": []
  },
  {
   "cell_type": "code",
   "execution_count": null,
   "metadata": {
    "id": "XXllZH1flZNY"
   },
   "outputs": [],
   "source": []
  },
  {
   "cell_type": "code",
   "execution_count": null,
   "metadata": {
    "id": "lWp9bldolZNY",
    "outputId": "ddb1fb0e-cb3e-4990-f712-9673148aff63"
   },
   "outputs": [],
   "source": [
    "tf.nn.sigmoid_cross_entropy_with_logits(logits=[[1.,9.],[1.,9.]], labels=[[0.,1.],[1.,0.]])"
   ]
  },
  {
   "cell_type": "markdown",
   "metadata": {
    "id": "PiwjZ0FdlZNY"
   },
   "source": [
    "\n",
    "Define a variational distribution q(alpha; phi) \\\n",
    "Define probabilistic model p(y|alpha; x, theta) \\\n",
    "Define prior p(alpha; theta) \\\n",
    "phi and theta are trainable by gradient methods \\\n",
    "\\\n",
    "for batch_x in x: \n",
    "   * sample alpha from q \n",
    "   * compute logpx_z = log p(y|alpha; batch_x, theta) \n",
    "   * compute logpz = log p(z; theta) \n",
    "   * compute logqz_x = log q(alpha; phi) \n",
    "   * elbo = logpx_z + logpz - logqz_x \n",
    "   * input -elbo as the objective into the autodiff. function\n",
    "    \n",
    "How to define q(alpha; phi):\n",
    "* Gaussian with diagonal covariance\n",
    "* In a separate implementation, q can also be a flow-based dist.\n",
    "\n",
    "How to define p(alpha; theta):\n",
    "* A number of Gaussian, same as in the document\n",
    "\n",
    "How to define p(y|alpha; x, theta):\n",
    "* The goal is that p(y|...) = inv_logit(alpha_1 + ... + alpha_m)\n",
    "* Note that we do not want to loop over x, and decide which \n",
    "  alpha (like which state/education level) does that x_i belong to\n",
    "* Map x to a multi-hot vector v, which is sparse, and element-wise \n",
    "  multiply v with alpha (like turning on and off which alpha_i is \n",
    "  relevant)\n"
   ]
  },
  {
   "cell_type": "markdown",
   "metadata": {
    "id": "8Z1FxTJOlZNZ"
   },
   "source": [
    "Define a variational distribution q(alpha; phi) \\\n",
    "Define probabilistic model p(y|alpha; x, theta) \\\n",
    "Define prior p(alpha; theta) \\\n",
    "Define HMC target p(alpha|y; theta) or p(eps|y; theta) \\\n",
    "phi and theta are trainable by gradient methods\n",
    "\n",
    "for batch_x in x:\n",
    "\n",
    "How to define p(alpha|y; theta):\n",
    "* p(alpha|y; theta) is proportional to p(alpha; theta) p(y|alpha; x, theta)"
   ]
  },
  {
   "cell_type": "code",
   "execution_count": null,
   "metadata": {
    "id": "Mf1Kb8aalZNZ"
   },
   "outputs": [],
   "source": [
    "import pickle\n",
    "import pandas as pd"
   ]
  },
  {
   "cell_type": "code",
   "execution_count": null,
   "metadata": {
    "id": "SIHxUYvIlZNZ"
   },
   "outputs": [],
   "source": [
    "a = np.reshape(np.array(list(range(24))), (2,3,4))\n",
    "\n",
    "with open('abc.pickle', 'wb') as handle:\n",
    "    pickle.dump(a, handle, protocol=pickle.HIGHEST_PROTOCOL)\n",
    "    \n",
    "pd.read_pickle('abc.pickle')\n"
   ]
  },
  {
   "cell_type": "code",
   "execution_count": null,
   "metadata": {
    "id": "yPq5e3YXlZNZ"
   },
   "outputs": [],
   "source": [
    "def autocor(x, t):\n",
    "    n = x.shape[0]\n",
    "    mu = np.mean(x)\n",
    "    sigma2 = np.var(x)\n",
    "    numer = np.sum((x[:(n-t),:]-mu) * (x[t:,:]-mu))\n",
    "    return numer/((n-t)*sigma2)\n",
    "\n",
    "def neff(x):\n",
    "    n = x.shape[0]\n",
    "    d = x.shape[1]\n",
    "    d_i = 0\n",
    "    autocor_arr = np.zeros((n, d))\n",
    "    for t in range(1, n):\n",
    "        autocor_arr[t-1, :] = autocor(x, t)\n",
    "        if t > 1:\n",
    "            if autocor_arr[t-1, d_i] + autocor_arr[t-2, d_i] < 0:\n",
    "                autocor_arr[t-1, d_i] = 0\n",
    "                autocor_arr[t-2, d_i] = 0\n",
    "                break      \n",
    "    return n/(1+2*np.sum(autocor_arr))\n",
    "\n",
    "space_btw_epochs = 1000\n",
    "num_checkpt = int(hmc_points_warped.shape[0] / space_btw_epochs)\n",
    "num_dim = hmc_points_warped.shape[1]\n",
    "neff_list_orig = np.zeros((num_checkpt, num_dim))\n",
    "\n",
    "for i in range(num_checkpt):\n",
    "    idx = space_btw_epochs * (i+1)\n",
    "    neff_list_orig[i, :] = neff(hmc_points_orig[:idx, :])\n",
    "    print(i, np.mean(neff_list_orig[i,:]/idx))"
   ]
  },
  {
   "cell_type": "code",
   "execution_count": null,
   "metadata": {
    "id": "9axb61YolZNZ"
   },
   "outputs": [],
   "source": []
  },
  {
   "cell_type": "code",
   "execution_count": null,
   "metadata": {
    "id": "6-rUfin9lZNZ"
   },
   "outputs": [],
   "source": []
  }
 ],
 "metadata": {
  "colab": {
   "collapsed_sections": [
    "H9J1R-0zlZNX"
   ],
   "machine_shape": "hm",
   "name": "survey_data.ipynb",
   "provenance": []
  },
  "kernelspec": {
   "display_name": "Python 3",
   "language": "python",
   "name": "python3"
  },
  "language_info": {
   "codemirror_mode": {
    "name": "ipython",
    "version": 3
   },
   "file_extension": ".py",
   "mimetype": "text/x-python",
   "name": "python",
   "nbconvert_exporter": "python",
   "pygments_lexer": "ipython3",
   "version": "3.8.13"
  }
 },
 "nbformat": 4,
 "nbformat_minor": 1
}
