{
 "cells": [
  {
   "cell_type": "code",
   "execution_count": 1,
   "metadata": {
    "executionInfo": {
     "elapsed": 2840,
     "status": "ok",
     "timestamp": 1630512394945,
     "user": {
      "displayName": "Liyi Zhang",
      "photoUrl": "https://lh3.googleusercontent.com/a-/AOh14Gh9V3hIAgWLKOIy-Olktu7QU6Q3a0l2eUzzAf2j=s64",
      "userId": "06658486172350999592"
     },
     "user_tz": -480
    },
    "id": "O_6-e1BylsCI"
   },
   "outputs": [
    {
     "name": "stderr",
     "output_type": "stream",
     "text": [
      "2022-04-21 11:58:51.777373: I tensorflow/core/platform/cpu_feature_guard.cc:142] This TensorFlow binary is optimized with oneAPI Deep Neural Network Library (oneDNN)to use the following CPU instructions in performance-critical operations:  SSE4.1 SSE4.2 AVX AVX2 FMA\n",
      "To enable them in other operations, rebuild TensorFlow with the appropriate compiler flags.\n",
      "2022-04-21 11:58:51.797998: I tensorflow/core/platform/profile_utils/cpu_utils.cc:104] CPU Frequency: 3699850000 Hz\n",
      "2022-04-21 11:58:51.798400: I tensorflow/compiler/xla/service/service.cc:168] XLA service 0x56115748f550 initialized for platform Host (this does not guarantee that XLA will be used). Devices:\n",
      "2022-04-21 11:58:51.798423: I tensorflow/compiler/xla/service/service.cc:176]   StreamExecutor device (0): Host, Default Version\n"
     ]
    }
   ],
   "source": [
    "%load_ext autoreload\n",
    "%autoreload 2\n",
    "\n",
    "import pandas as pd\n",
    "import numpy as np\n",
    "import tensorflow as tf\n",
    "from tensorflow_probability import distributions as tfd\n",
    "import matplotlib.pyplot as plt\n",
    "import matplotlib.pylab as pylab\n",
    "import pickle\n",
    "from pathlib import Path\n",
    "\n",
    "import models"
   ]
  },
  {
   "cell_type": "code",
   "execution_count": 3,
   "metadata": {
    "executionInfo": {
     "elapsed": 46,
     "status": "ok",
     "timestamp": 1630512394977,
     "user": {
      "displayName": "Liyi Zhang",
      "photoUrl": "https://lh3.googleusercontent.com/a-/AOh14Gh9V3hIAgWLKOIy-Olktu7QU6Q3a0l2eUzzAf2j=s64",
      "userId": "06658486172350999592"
     },
     "user_tz": -480
    },
    "id": "itTV35fVlZM3"
   },
   "outputs": [],
   "source": [
    "cces = pd.read_csv('data/cces_df.csv', index_col=0)\n",
    "cces_all = pd.read_csv('data/cces_all_df.csv', index_col=0)\n",
    "cces_weighted = pd.read_csv('data/cces_weighted_df.csv', index_col=0)"
   ]
  },
  {
   "cell_type": "code",
   "execution_count": 4,
   "metadata": {
    "colab": {
     "base_uri": "https://localhost:8080/",
     "height": 419
    },
    "executionInfo": {
     "elapsed": 46,
     "status": "ok",
     "timestamp": 1630512394978,
     "user": {
      "displayName": "Liyi Zhang",
      "photoUrl": "https://lh3.googleusercontent.com/a-/AOh14Gh9V3hIAgWLKOIy-Olktu7QU6Q3a0l2eUzzAf2j=s64",
      "userId": "06658486172350999592"
     },
     "user_tz": -480
    },
    "id": "IJxA_kR_lZM5",
    "outputId": "635808a8-f709-4ad9-ac16-e4113830654d"
   },
   "outputs": [
    {
     "data": {
      "text/html": [
       "<div>\n",
       "<style scoped>\n",
       "    .dataframe tbody tr th:only-of-type {\n",
       "        vertical-align: middle;\n",
       "    }\n",
       "\n",
       "    .dataframe tbody tr th {\n",
       "        vertical-align: top;\n",
       "    }\n",
       "\n",
       "    .dataframe thead th {\n",
       "        text-align: right;\n",
       "    }\n",
       "</style>\n",
       "<table border=\"1\" class=\"dataframe\">\n",
       "  <thead>\n",
       "    <tr style=\"text-align: right;\">\n",
       "      <th></th>\n",
       "      <th>abortion</th>\n",
       "      <th>eth</th>\n",
       "      <th>male</th>\n",
       "      <th>age</th>\n",
       "      <th>educ</th>\n",
       "      <th>repvote</th>\n",
       "      <th>region</th>\n",
       "      <th>state</th>\n",
       "    </tr>\n",
       "  </thead>\n",
       "  <tbody>\n",
       "    <tr>\n",
       "      <th>1</th>\n",
       "      <td>1</td>\n",
       "      <td>White</td>\n",
       "      <td>-0.5</td>\n",
       "      <td>60-69</td>\n",
       "      <td>4-Year College</td>\n",
       "      <td>0.504080</td>\n",
       "      <td>North Central</td>\n",
       "      <td>WI</td>\n",
       "    </tr>\n",
       "    <tr>\n",
       "      <th>2</th>\n",
       "      <td>1</td>\n",
       "      <td>White</td>\n",
       "      <td>-0.5</td>\n",
       "      <td>60-69</td>\n",
       "      <td>HS</td>\n",
       "      <td>0.427158</td>\n",
       "      <td>Northeast</td>\n",
       "      <td>NJ</td>\n",
       "    </tr>\n",
       "    <tr>\n",
       "      <th>3</th>\n",
       "      <td>0</td>\n",
       "      <td>White</td>\n",
       "      <td>-0.5</td>\n",
       "      <td>40-49</td>\n",
       "      <td>HS</td>\n",
       "      <td>0.506188</td>\n",
       "      <td>South</td>\n",
       "      <td>FL</td>\n",
       "    </tr>\n",
       "    <tr>\n",
       "      <th>4</th>\n",
       "      <td>1</td>\n",
       "      <td>White</td>\n",
       "      <td>0.5</td>\n",
       "      <td>70+</td>\n",
       "      <td>Some college</td>\n",
       "      <td>0.506188</td>\n",
       "      <td>South</td>\n",
       "      <td>FL</td>\n",
       "    </tr>\n",
       "    <tr>\n",
       "      <th>5</th>\n",
       "      <td>0</td>\n",
       "      <td>White</td>\n",
       "      <td>-0.5</td>\n",
       "      <td>50-59</td>\n",
       "      <td>Some college</td>\n",
       "      <td>0.409799</td>\n",
       "      <td>North Central</td>\n",
       "      <td>IL</td>\n",
       "    </tr>\n",
       "    <tr>\n",
       "      <th>...</th>\n",
       "      <td>...</td>\n",
       "      <td>...</td>\n",
       "      <td>...</td>\n",
       "      <td>...</td>\n",
       "      <td>...</td>\n",
       "      <td>...</td>\n",
       "      <td>...</td>\n",
       "      <td>...</td>\n",
       "    </tr>\n",
       "    <tr>\n",
       "      <th>4996</th>\n",
       "      <td>0</td>\n",
       "      <td>White</td>\n",
       "      <td>0.5</td>\n",
       "      <td>50-59</td>\n",
       "      <td>4-Year College</td>\n",
       "      <td>0.338718</td>\n",
       "      <td>West</td>\n",
       "      <td>CA</td>\n",
       "    </tr>\n",
       "    <tr>\n",
       "      <th>4997</th>\n",
       "      <td>0</td>\n",
       "      <td>White</td>\n",
       "      <td>0.5</td>\n",
       "      <td>18-29</td>\n",
       "      <td>Some college</td>\n",
       "      <td>0.518900</td>\n",
       "      <td>West</td>\n",
       "      <td>AZ</td>\n",
       "    </tr>\n",
       "    <tr>\n",
       "      <th>4998</th>\n",
       "      <td>1</td>\n",
       "      <td>White</td>\n",
       "      <td>0.5</td>\n",
       "      <td>50-59</td>\n",
       "      <td>HS</td>\n",
       "      <td>0.473167</td>\n",
       "      <td>West</td>\n",
       "      <td>CO</td>\n",
       "    </tr>\n",
       "    <tr>\n",
       "      <th>4999</th>\n",
       "      <td>1</td>\n",
       "      <td>White</td>\n",
       "      <td>-0.5</td>\n",
       "      <td>50-59</td>\n",
       "      <td>HS</td>\n",
       "      <td>0.506188</td>\n",
       "      <td>South</td>\n",
       "      <td>FL</td>\n",
       "    </tr>\n",
       "    <tr>\n",
       "      <th>5000</th>\n",
       "      <td>0</td>\n",
       "      <td>White</td>\n",
       "      <td>0.5</td>\n",
       "      <td>30-39</td>\n",
       "      <td>Some college</td>\n",
       "      <td>0.503755</td>\n",
       "      <td>Northeast</td>\n",
       "      <td>PA</td>\n",
       "    </tr>\n",
       "  </tbody>\n",
       "</table>\n",
       "<p>5000 rows × 8 columns</p>\n",
       "</div>"
      ],
      "text/plain": [
       "      abortion    eth  male    age            educ   repvote         region  \\\n",
       "1            1  White  -0.5  60-69  4-Year College  0.504080  North Central   \n",
       "2            1  White  -0.5  60-69              HS  0.427158      Northeast   \n",
       "3            0  White  -0.5  40-49              HS  0.506188          South   \n",
       "4            1  White   0.5    70+    Some college  0.506188          South   \n",
       "5            0  White  -0.5  50-59    Some college  0.409799  North Central   \n",
       "...        ...    ...   ...    ...             ...       ...            ...   \n",
       "4996         0  White   0.5  50-59  4-Year College  0.338718           West   \n",
       "4997         0  White   0.5  18-29    Some college  0.518900           West   \n",
       "4998         1  White   0.5  50-59              HS  0.473167           West   \n",
       "4999         1  White  -0.5  50-59              HS  0.506188          South   \n",
       "5000         0  White   0.5  30-39    Some college  0.503755      Northeast   \n",
       "\n",
       "     state  \n",
       "1       WI  \n",
       "2       NJ  \n",
       "3       FL  \n",
       "4       FL  \n",
       "5       IL  \n",
       "...    ...  \n",
       "4996    CA  \n",
       "4997    AZ  \n",
       "4998    CO  \n",
       "4999    FL  \n",
       "5000    PA  \n",
       "\n",
       "[5000 rows x 8 columns]"
      ]
     },
     "execution_count": 4,
     "metadata": {},
     "output_type": "execute_result"
    }
   ],
   "source": [
    "cces"
   ]
  },
  {
   "cell_type": "markdown",
   "metadata": {
    "id": "n4Ge6jbZlZM6"
   },
   "source": [
    "## Transform data"
   ]
  },
  {
   "cell_type": "code",
   "execution_count": 5,
   "metadata": {
    "executionInfo": {
     "elapsed": 3329,
     "status": "ok",
     "timestamp": 1630512398267,
     "user": {
      "displayName": "Liyi Zhang",
      "photoUrl": "https://lh3.googleusercontent.com/a-/AOh14Gh9V3hIAgWLKOIy-Olktu7QU6Q3a0l2eUzzAf2j=s64",
      "userId": "06658486172350999592"
     },
     "user_tz": -480
    },
    "id": "c_ttv46flZM7"
   },
   "outputs": [],
   "source": [
    "# Fills in the dictionary so that we know which index corresponds to what state / eth / edu etc.\n",
    "\n",
    "data_to_idx = {}\n",
    "list_of_states_and_votes = []\n",
    "list_of_states = []\n",
    "state = 0\n",
    "age = 50\n",
    "eth = 56\n",
    "educ = 60\n",
    "male_eth = 65\n",
    "educ_age = 73\n",
    "educ_eth = 103\n",
    "for i in range(1, len(cces_all)+1):\n",
    "    tup = (cces_all.loc[i,'state'], cces_all.loc[i,'repvote'])\n",
    "    if cces_all.loc[i,'state'] not in data_to_idx:\n",
    "        data_to_idx[cces_all.loc[i,'state']] = state\n",
    "        state += 1\n",
    "    if tup not in list_of_states_and_votes:\n",
    "        list_of_states_and_votes.append(tup)\n",
    "    if cces_all.loc[i,'age'] not in data_to_idx:\n",
    "        data_to_idx[cces_all.loc[i,'age']] = age\n",
    "        age += 1\n",
    "    if cces_all.loc[i,'eth'] not in data_to_idx:\n",
    "        data_to_idx[cces_all.loc[i,'eth']] = eth\n",
    "        eth += 1\n",
    "    if cces_all.loc[i,'educ'] not in data_to_idx:\n",
    "        data_to_idx[cces_all.loc[i,'educ']] = educ\n",
    "        educ += 1\n",
    "list_of_states_and_votes.sort(key=lambda x:x[1])\n",
    "for tup in list_of_states_and_votes:\n",
    "    list_of_states.append(tup[0])"
   ]
  },
  {
   "cell_type": "code",
   "execution_count": 6,
   "metadata": {
    "executionInfo": {
     "elapsed": 8,
     "status": "ok",
     "timestamp": 1630512398268,
     "user": {
      "displayName": "Liyi Zhang",
      "photoUrl": "https://lh3.googleusercontent.com/a-/AOh14Gh9V3hIAgWLKOIy-Olktu7QU6Q3a0l2eUzzAf2j=s64",
      "userId": "06658486172350999592"
     },
     "user_tz": -480
    },
    "id": "NVuSB71glZM8"
   },
   "outputs": [],
   "source": [
    "# Create new representation of data that contains only 0 and 1\n",
    "\n",
    "def transform_raw(cces, data_to_idx, i, \n",
    "                  state=0, age=50, eth=56, educ=60,\n",
    "                  male_eth=65, educ_age=73, educ_eth=103):\n",
    "    x_i = np.zeros(128)\n",
    "    eth_idx = data_to_idx[cces.loc[i,'eth']]\n",
    "    age_idx = data_to_idx[cces.loc[i,'age']]\n",
    "    educ_idx = data_to_idx[cces.loc[i,'educ']]\n",
    "    x_i[data_to_idx[cces.loc[i,'state']]] = 1\n",
    "    x_i[age_idx] = 1\n",
    "    x_i[eth_idx] = 1\n",
    "    x_i[educ_idx] = 1\n",
    "    \n",
    "    is_male = int(cces.loc[i,'male'] + 0.5)\n",
    "    male_eth_idx = male_eth + is_male * 4 + (eth_idx-eth) \n",
    "    educ_age_idx = educ_age + (educ_idx-educ) * 6 + (age_idx-age)\n",
    "    educ_eth_idx = educ_eth + (educ_idx-educ) * 4 + (eth_idx-eth)\n",
    "    x_i[male_eth_idx] = 1\n",
    "    x_i[educ_age_idx] = 1\n",
    "    x_i[educ_eth_idx] = 1\n",
    "    \n",
    "    x_i[123] = is_male\n",
    "    x_i[124] = int(cces.loc[i,'region'] == 'South')\n",
    "    x_i[125] = int(cces.loc[i,'region'] == 'North Central')\n",
    "    x_i[126] = int(cces.loc[i,'region'] == 'West')\n",
    "    x_i[127] = cces.loc[i,'repvote']\n",
    "    \n",
    "    return x_i\n",
    "\n",
    "x = []\n",
    "y = []\n",
    "for i in range(1, len(cces)+1):\n",
    "    x_i = transform_raw(cces, data_to_idx, i)\n",
    "    \n",
    "    x.append(x_i)\n",
    "    y.append(cces.loc[i,'abortion'])\n",
    "\n",
    "x = np.array(x, dtype=np.float32)\n",
    "y = np.array(y, dtype=np.float32)"
   ]
  },
  {
   "cell_type": "markdown",
   "metadata": {
    "id": "kz8sWhkRlZM9"
   },
   "source": [
    "## Variational Inference"
   ]
  },
  {
   "cell_type": "code",
   "execution_count": 7,
   "metadata": {
    "id": "OBzXcLZTlZM9"
   },
   "outputs": [],
   "source": [
    "# model = models.VI_KLqp(dataset='survey', v_fam='flow')\n",
    "# model.x = x\n",
    "# model.y = y\n",
    "# model.train(lr=0.003)"
   ]
  },
  {
   "cell_type": "code",
   "execution_count": 8,
   "metadata": {
    "collapsed": true,
    "id": "Fl3ufkpMlZM-"
   },
   "outputs": [],
   "source": [
    "# model = models.VI_KLqp(dataset='survey', v_fam='gaussian')\n",
    "# model.x = x\n",
    "# model.y = y\n",
    "# model.train(lr=0.01)"
   ]
  },
  {
   "cell_type": "markdown",
   "metadata": {
    "id": "8OxG6HIClZM_"
   },
   "source": [
    "## Hamiltonian Score Climbing"
   ]
  },
  {
   "cell_type": "code",
   "execution_count": 9,
   "metadata": {
    "colab": {
     "base_uri": "https://localhost:8080/"
    },
    "collapsed": true,
    "id": "2n5lAVutlZM_",
    "outputId": "442064c2-5d62-4b02-e2d8-d152c355d0ec"
   },
   "outputs": [],
   "source": [
    "# model = models.VI_KLpq(v_fam='flow', space='warped', dataset='survey', hmc_e=0.03, hmc_L=33, chains=1)\n",
    "# model.x = x\n",
    "# model.y = y\n",
    "# model.train(lr=0.001)"
   ]
  },
  {
   "cell_type": "code",
   "execution_count": 10,
   "metadata": {
    "colab": {
     "base_uri": "https://localhost:8080/"
    },
    "collapsed": true,
    "executionInfo": {
     "elapsed": 2195175,
     "status": "ok",
     "timestamp": 1630546103577,
     "user": {
      "displayName": "Liyi Zhang",
      "photoUrl": "https://lh3.googleusercontent.com/a-/AOh14Gh9V3hIAgWLKOIy-Olktu7QU6Q3a0l2eUzzAf2j=s64",
      "userId": "06658486172350999592"
     },
     "user_tz": -480
    },
    "id": "7AlGvzpolZNI",
    "outputId": "549cc2bb-0b2f-48ed-c260-eb77c9129c68"
   },
   "outputs": [],
   "source": [
    "# model = models.VI_KLpq(v_fam='gaussian', space='eps', dataset='survey', hmc_e=0.05, hmc_L=20, chains=1)\n",
    "# model.x = x\n",
    "# model.y = y\n",
    "# model.train(lr=0.01)"
   ]
  },
  {
   "cell_type": "code",
   "execution_count": 11,
   "metadata": {},
   "outputs": [],
   "source": [
    "# model = models.VI_KLpq(v_fam='gaussian', space='eps', dataset='survey', hmc_e=0.05, hmc_L=20, chains=1)\n",
    "# model.x = x\n",
    "# model.y = y\n",
    "# model.train(lr=0.01, epochs=int(1e4))"
   ]
  },
  {
   "cell_type": "code",
   "execution_count": 12,
   "metadata": {
    "collapsed": true
   },
   "outputs": [],
   "source": [
    "# # MSC\n",
    "# model = models.VI_KLpq(v_fam='gaussian', space='theta', dataset='survey', hmc_e=0.03, hmc_L=33, chains=1)\n",
    "# model.x = x\n",
    "# model.y = y\n",
    "# model.train(lr=0.01)"
   ]
  },
  {
   "cell_type": "markdown",
   "metadata": {},
   "source": [
    "## Real MSC"
   ]
  },
  {
   "cell_type": "code",
   "execution_count": 13,
   "metadata": {},
   "outputs": [],
   "source": [
    "# #MSC, i-SIR\n",
    "\n",
    "# model = models.VI_KLpq(v_fam='gaussian', space='eps', dataset='survey', hmc_e=0.03, hmc_L=33, chains=2, cis=10, eps=0.5, alpha=0.95, rejuvenation=True)\n",
    "# model.x = x\n",
    "# model.y = y\n",
    "# model.train(lr=0.01, epochs=int(1e4))"
   ]
  },
  {
   "cell_type": "markdown",
   "metadata": {
    "id": "06unjCIJlZNJ"
   },
   "source": [
    "## Evaluations"
   ]
  },
  {
   "cell_type": "code",
   "execution_count": 14,
   "metadata": {
    "colab": {
     "base_uri": "https://localhost:8080/",
     "height": 204
    },
    "executionInfo": {
     "elapsed": 11,
     "status": "ok",
     "timestamp": 1630239757176,
     "user": {
      "displayName": "Liyi Zhang",
      "photoUrl": "https://lh3.googleusercontent.com/a-/AOh14Gh9V3hIAgWLKOIy-Olktu7QU6Q3a0l2eUzzAf2j=s64",
      "userId": "06658486172350999592"
     },
     "user_tz": -480
    },
    "id": "ZjQLXnLwlZNJ",
    "outputId": "2fc7a4cd-3967-4a1a-8796-ff77f03429a1"
   },
   "outputs": [
    {
     "data": {
      "text/html": [
       "<div>\n",
       "<style scoped>\n",
       "    .dataframe tbody tr th:only-of-type {\n",
       "        vertical-align: middle;\n",
       "    }\n",
       "\n",
       "    .dataframe tbody tr th {\n",
       "        vertical-align: top;\n",
       "    }\n",
       "\n",
       "    .dataframe thead th {\n",
       "        text-align: right;\n",
       "    }\n",
       "</style>\n",
       "<table border=\"1\" class=\"dataframe\">\n",
       "  <thead>\n",
       "    <tr style=\"text-align: right;\">\n",
       "      <th></th>\n",
       "      <th>state</th>\n",
       "      <th>eth</th>\n",
       "      <th>male</th>\n",
       "      <th>age</th>\n",
       "      <th>educ</th>\n",
       "      <th>n</th>\n",
       "      <th>repvote</th>\n",
       "      <th>region</th>\n",
       "    </tr>\n",
       "  </thead>\n",
       "  <tbody>\n",
       "    <tr>\n",
       "      <th>0</th>\n",
       "      <td>AL</td>\n",
       "      <td>White</td>\n",
       "      <td>-0.5</td>\n",
       "      <td>18-29</td>\n",
       "      <td>No HS</td>\n",
       "      <td>23948</td>\n",
       "      <td>0.643741</td>\n",
       "      <td>South</td>\n",
       "    </tr>\n",
       "    <tr>\n",
       "      <th>1</th>\n",
       "      <td>AL</td>\n",
       "      <td>White</td>\n",
       "      <td>-0.5</td>\n",
       "      <td>18-29</td>\n",
       "      <td>HS</td>\n",
       "      <td>59378</td>\n",
       "      <td>0.643741</td>\n",
       "      <td>South</td>\n",
       "    </tr>\n",
       "    <tr>\n",
       "      <th>2</th>\n",
       "      <td>AL</td>\n",
       "      <td>White</td>\n",
       "      <td>-0.5</td>\n",
       "      <td>18-29</td>\n",
       "      <td>Some college</td>\n",
       "      <td>104855</td>\n",
       "      <td>0.643741</td>\n",
       "      <td>South</td>\n",
       "    </tr>\n",
       "    <tr>\n",
       "      <th>3</th>\n",
       "      <td>AL</td>\n",
       "      <td>White</td>\n",
       "      <td>-0.5</td>\n",
       "      <td>18-29</td>\n",
       "      <td>4-Year College</td>\n",
       "      <td>37066</td>\n",
       "      <td>0.643741</td>\n",
       "      <td>South</td>\n",
       "    </tr>\n",
       "    <tr>\n",
       "      <th>4</th>\n",
       "      <td>AL</td>\n",
       "      <td>White</td>\n",
       "      <td>-0.5</td>\n",
       "      <td>18-29</td>\n",
       "      <td>Post-grad</td>\n",
       "      <td>9378</td>\n",
       "      <td>0.643741</td>\n",
       "      <td>South</td>\n",
       "    </tr>\n",
       "  </tbody>\n",
       "</table>\n",
       "</div>"
      ],
      "text/plain": [
       "  state    eth  male    age            educ       n   repvote region\n",
       "0    AL  White  -0.5  18-29           No HS   23948  0.643741  South\n",
       "1    AL  White  -0.5  18-29              HS   59378  0.643741  South\n",
       "2    AL  White  -0.5  18-29    Some college  104855  0.643741  South\n",
       "3    AL  White  -0.5  18-29  4-Year College   37066  0.643741  South\n",
       "4    AL  White  -0.5  18-29       Post-grad    9378  0.643741  South"
      ]
     },
     "execution_count": 14,
     "metadata": {},
     "output_type": "execute_result"
    }
   ],
   "source": [
    "poststrat_df = pd.read_csv('data/poststrat_df.csv')\n",
    "statelevel_predictors_df = pd.read_csv('data/statelevel_predictors.csv', index_col=0)\n",
    "poststrat_df = poststrat_df.merge(statelevel_predictors_df, how='left', on='state')\n",
    "mrp_states_df = pd.read_csv('data/mrp_states.csv')\n",
    "poststrat_df.head()"
   ]
  },
  {
   "cell_type": "code",
   "execution_count": 15,
   "metadata": {
    "id": "LWR6SA44lZNK"
   },
   "outputs": [],
   "source": [
    "# Transform raw data into 0-1 vectors:\n",
    "x_poststrat = []\n",
    "for i in range(len(poststrat_df)):\n",
    "    x_i = transform_raw(poststrat_df, data_to_idx, i)\n",
    "    x_poststrat.append(x_i)\n",
    "x_poststrat = np.array(x_poststrat, dtype='float32')"
   ]
  },
  {
   "cell_type": "code",
   "execution_count": 16,
   "metadata": {
    "id": "w7odG1nWlZNK"
   },
   "outputs": [],
   "source": [
    "def estimate_vi_model_rate(x_poststrat, data_to_idx, model):\n",
    "    model.x = x_poststrat\n",
    "    splitted_x = tf.split(model.x, [123, 5], axis=1)\n",
    "    alpha = model.q.sample(10000)\n",
    "    term1 = tf.matmul(splitted_x[0], tf.transpose(alpha))\n",
    "    term2 = model.gamma_0\n",
    "    term3 = tf.matmul(splitted_x[1], tf.reshape(model.gamma, (5, 1)))\n",
    "    post_pred_mat = tf.math.sigmoid(tf.squeeze(term1 + term2 + term3))\n",
    "\n",
    "    return post_pred_mat\n",
    "\n",
    "def get_se_bernoulli(p, n):\n",
    "    return np.sqrt(p*(1-p)/n)"
   ]
  },
  {
   "cell_type": "code",
   "execution_count": 17,
   "metadata": {
    "colab": {
     "base_uri": "https://localhost:8080/"
    },
    "executionInfo": {
     "elapsed": 442,
     "status": "ok",
     "timestamp": 1630239764505,
     "user": {
      "displayName": "Liyi Zhang",
      "photoUrl": "https://lh3.googleusercontent.com/a-/AOh14Gh9V3hIAgWLKOIy-Olktu7QU6Q3a0l2eUzzAf2j=s64",
      "userId": "06658486172350999592"
     },
     "user_tz": -480
    },
    "id": "SSRHcyWtlZNL",
    "outputId": "cf191042-5f24-4b21-8fa0-33f3a3592f49"
   },
   "outputs": [
    {
     "name": "stdout",
     "output_type": "stream",
     "text": [
      "mean 0.4314\n",
      "std 0.007004199311841433\n"
     ]
    }
   ],
   "source": [
    "# 5,000-person unadjusted sample estimate:\n",
    "print('mean', np.mean(cces['abortion']))\n",
    "print('std', get_se_bernoulli(np.mean(cces['abortion']), len(cces)))"
   ]
  },
  {
   "cell_type": "code",
   "execution_count": 18,
   "metadata": {
    "colab": {
     "base_uri": "https://localhost:8080/"
    },
    "executionInfo": {
     "elapsed": 12,
     "status": "ok",
     "timestamp": 1630239765674,
     "user": {
      "displayName": "Liyi Zhang",
      "photoUrl": "https://lh3.googleusercontent.com/a-/AOh14Gh9V3hIAgWLKOIy-Olktu7QU6Q3a0l2eUzzAf2j=s64",
      "userId": "06658486172350999592"
     },
     "user_tz": -480
    },
    "id": "DA5jsvbUlZNN",
    "outputId": "b3c53e0e-c18e-401c-946c-adab4985aabc"
   },
   "outputs": [
    {
     "name": "stdout",
     "output_type": "stream",
     "text": [
      "mean 0.4341581675305133\n",
      "std 0.002026677342749567\n"
     ]
    }
   ],
   "source": [
    "# 60,000-person unadjusted sample estimate:\n",
    "print('mean', np.mean(cces_all['abortion']))\n",
    "print('std', get_se_bernoulli(np.mean(cces_all['abortion']), len(cces_all)))"
   ]
  },
  {
   "cell_type": "code",
   "execution_count": 19,
   "metadata": {},
   "outputs": [],
   "source": [
    "# # load model VI KLqp Gaussian\n",
    "# path = 'results/survey/vi_klqp_gaussian/2021-10-13-172522/'\n",
    "# model_qp = models.VI_KLqp(dataset='survey', v_fam='gaussian')\n",
    "# model_qp.x = x\n",
    "# model_qp.y = y\n",
    "# model_qp.gamma_0 = np.genfromtxt(path + 'gamma_0.csv', dtype='float32')[-1]\n",
    "# model_qp.gamma = np.genfromtxt(path + 'gamma.csv', dtype='float32')[-1,:]\n",
    "# model_qp.phi_m = np.genfromtxt(path + 'phi_m.csv', dtype='float32')[-1,:]\n",
    "# model_qp.phi_s = np.genfromtxt(path + 'phi_s.csv', dtype='float32')[-1,:]\n",
    "# model_qp.sigma = np.genfromtxt(path + 'sigma.csv', dtype='float32')[-1,:]\n",
    "# model_qp.q = tfd.MultivariateNormalDiag(\n",
    "#               loc=model_qp.phi_m, \n",
    "#               scale_diag=model_qp.phi_s)"
   ]
  },
  {
   "cell_type": "code",
   "execution_count": 20,
   "metadata": {},
   "outputs": [],
   "source": [
    "# losses = -np.genfromtxt(path + 'elbo.csv', dtype='float32')\n",
    "# plt.plot(list(range(len(losses))), losses)"
   ]
  },
  {
   "cell_type": "code",
   "execution_count": 39,
   "metadata": {},
   "outputs": [],
   "source": [
    "v_fam = 'gaussian'\n",
    "space = 'warped'\n",
    "\n",
    "tsc_path = sorted(list(Path(f'results/survey/vi_klpq_N0_{space}_{v_fam}').glob('*')))[-1]\n",
    "N = 10\n",
    "ex2_warp_path = sorted(list(Path(f'results/survey/vi_klpq_N{N}_{space}_{v_fam}').glob('*')))[-1]"
   ]
  },
  {
   "cell_type": "code",
   "execution_count": 43,
   "metadata": {
    "id": "584bcVLblZNO"
   },
   "outputs": [],
   "source": [
    "# load model VI KLpq Gaussian - HSC\n",
    "#path = Path('results/survey/vi_klpq_N0_warped_gaussian/2022-04-18-102854')\n",
    "model_pq = models.VI_KLpq(v_fam=v_fam, space='warped', dataset='survey', hmc_e=0.05, hmc_L=20, chains=1)\n",
    "model_pq.x = x\n",
    "model_pq.y = y\n",
    "model_pq.gamma_0 = np.genfromtxt(tsc_path / 'gamma_0.csv', dtype='float32')[-1]\n",
    "model_pq.gamma = np.genfromtxt(tsc_path / 'gamma.csv', dtype='float32')[-1,:]\n",
    "model_pq.phi_m = np.genfromtxt(tsc_path / 'phi_m.csv', dtype='float32')[-1,:]\n",
    "model_pq.phi_s = np.genfromtxt(tsc_path / 'phi_s.csv', dtype='float32')[-1,:]\n",
    "model_pq.sigma = np.genfromtxt(tsc_path / 'sigma.csv', dtype='float32')[-1,:]\n",
    "model_pq.q = tfd.MultivariateNormalDiag(\n",
    "    loc=model_pq.phi_m, \n",
    "    scale_diag=model_pq.phi_s)"
   ]
  },
  {
   "cell_type": "code",
   "execution_count": 44,
   "metadata": {},
   "outputs": [
    {
     "data": {
      "text/plain": [
       "[<matplotlib.lines.Line2D at 0x7f01fb0f50a0>]"
      ]
     },
     "execution_count": 44,
     "metadata": {},
     "output_type": "execute_result"
    },
    {
     "data": {
      "image/png": "[encoded data removed]",
      "text/plain": [
       "<Figure size 432x288 with 1 Axes>"
      ]
     },
     "metadata": {
      "needs_background": "light"
     },
     "output_type": "display_data"
    }
   ],
   "source": [
    "losses = np.genfromtxt(tsc_path / 'losses.csv', dtype='float32')\n",
    "plt.plot(list(range(len(losses))), losses)"
   ]
  },
  {
   "cell_type": "code",
   "execution_count": 45,
   "metadata": {},
   "outputs": [],
   "source": [
    "pass # not in warped space\n",
    "\n",
    "# # load model VI KLpq Gaussian - MSC\n",
    "# path = Path('results/survey/vi_klpq_N10_eps_gaussian/2022-04-14-180124')\n",
    "# model_pq_ex2_eps = models.VI_KLpq(v_fam='gaussian', space='eps', dataset='survey', hmc_e=0.05, hmc_L=20, cis=10, chains=1)\n",
    "# model_pq_ex2_eps.x = x\n",
    "# model_pq_ex2_eps.y = y\n",
    "# model_pq_ex2_eps.gamma_0 = np.genfromtxt(path / 'gamma_0.csv', dtype='float32')[-1]\n",
    "# model_pq_ex2_eps.gamma = np.genfromtxt(path / 'gamma.csv', dtype='float32')[-1,:]\n",
    "# model_pq_ex2_eps.phi_m = np.genfromtxt(path / 'phi_m.csv', dtype='float32')[-1,:]\n",
    "# model_pq_ex2_eps.phi_s = np.genfromtxt(path / 'phi_s.csv', dtype='float32')[-1,:]\n",
    "# model_pq_ex2_eps.sigma = np.genfromtxt(path / 'sigma.csv', dtype='float32')[-1,:]\n",
    "# model_pq_ex2_eps.q = tfd.MultivariateNormalDiag(\n",
    "#     loc=model_pq_ex2_eps.phi_m, \n",
    "#     scale_diag=model_pq_ex2_eps.phi_s)"
   ]
  },
  {
   "cell_type": "code",
   "execution_count": 46,
   "metadata": {},
   "outputs": [
    {
     "data": {
      "text/plain": [
       "[<matplotlib.lines.Line2D at 0x7f01fb1d1640>]"
      ]
     },
     "execution_count": 46,
     "metadata": {},
     "output_type": "execute_result"
    },
    {
     "data": {
      "image/png": "[encoded data removed]",
      "text/plain": [
       "<Figure size 432x288 with 1 Axes>"
      ]
     },
     "metadata": {
      "needs_background": "light"
     },
     "output_type": "display_data"
    }
   ],
   "source": [
    "# losses = np.genfromtxt(path / 'losses.csv', dtype='float32')\n",
    "# plt.plot(list(range(len(losses))), losses)"
   ]
  },
  {
   "cell_type": "code",
   "execution_count": 84,
   "metadata": {},
   "outputs": [],
   "source": [
    "# load model VI KLpq Gaussian - MSC\n",
    "\n",
    "model_pq_ex2_warp = models.VI_KLpq(v_fam=v_fam, space='warped', dataset='survey', hmc_e=0.05, hmc_L=20, cis=N, chains=1)\n",
    "model_pq_ex2_warp.x = x\n",
    "model_pq_ex2_warp.y = y\n",
    "model_pq_ex2_warp.gamma_0 = np.genfromtxt(ex2_warp_path / 'gamma_0.csv', dtype='float32')[-1]\n",
    "model_pq_ex2_warp.gamma = np.genfromtxt(ex2_warp_path / 'gamma.csv', dtype='float32')[-1,:]\n",
    "model_pq_ex2_warp.phi_m = np.genfromtxt(ex2_warp_path / 'phi_m.csv', dtype='float32')[-1,:]\n",
    "model_pq_ex2_warp.phi_s = np.genfromtxt(ex2_warp_path / 'phi_s.csv', dtype='float32')[-1,:]\n",
    "model_pq_ex2_warp.sigma = np.genfromtxt(ex2_warp_path / 'sigma.csv', dtype='float32')[-1,:]\n",
    "model_pq_ex2_warp.q = tfd.MultivariateNormalDiag(\n",
    "    loc=model_pq_ex2_warp.phi_m, \n",
    "    scale_diag=model_pq_ex2_warp.phi_s)"
   ]
  },
  {
   "cell_type": "code",
   "execution_count": 85,
   "metadata": {},
   "outputs": [
    {
     "data": {
      "text/plain": [
       "[<matplotlib.lines.Line2D at 0x7f01f32ab460>]"
      ]
     },
     "execution_count": 85,
     "metadata": {},
     "output_type": "execute_result"
    },
    {
     "data": {
      "image/png": "[encoded data removed]",
      "text/plain": [
       "<Figure size 432x288 with 1 Axes>"
      ]
     },
     "metadata": {
      "needs_background": "light"
     },
     "output_type": "display_data"
    }
   ],
   "source": [
    "losses = np.genfromtxt(ex2_warp_path / 'losses.csv', dtype='float32')\n",
    "plt.plot(list(range(len(losses))), losses)"
   ]
  },
  {
   "cell_type": "code",
   "execution_count": 86,
   "metadata": {
    "id": "TG5m0JOplZNP"
   },
   "outputs": [],
   "source": [
    "# # load model VI KLqp Flow\n",
    "# path = 'results/survey/vi_klqp_flow/2021-09-03-223300/'\n",
    "# model_qp_flow = models.VI_KLqp(v_fam='flow', dataset='survey')\n",
    "# model_qp_flow.x = x\n",
    "# model_qp_flow.y = y\n",
    "# model_qp_flow.gamma_0 = np.genfromtxt(path + 'gamma_0.csv', dtype='float32')[-1]\n",
    "# model_qp_flow.gamma = np.genfromtxt(path + 'gamma.csv', dtype='float32')[-1,:]\n",
    "# model_qp_flow.sigma = np.genfromtxt(path + 'sigma.csv', dtype='float32')[-1,:]\n",
    "# model_qp_flow.load_model(path + 'flow_model/model')"
   ]
  },
  {
   "cell_type": "code",
   "execution_count": 87,
   "metadata": {},
   "outputs": [],
   "source": [
    "# losses = -np.genfromtxt(path + 'elbo.csv', dtype='float32')\n",
    "# plt.plot(list(range(len(losses))), losses)"
   ]
  },
  {
   "cell_type": "code",
   "execution_count": null,
   "metadata": {},
   "outputs": [],
   "source": []
  },
  {
   "cell_type": "code",
   "execution_count": 116,
   "metadata": {
    "id": "zclpjtRelZNP"
   },
   "outputs": [],
   "source": [
    "# # load model VI KLpq Flow\n",
    "#path = Path('results/survey/vi_klpq_N0_warped_flow/2022-04-18-105801')\n",
    "# model_pq_flow = models.VI_KLpq(v_fam='flow', space='warped', dataset='survey', hmc_e=0.03, hmc_L=33, chains=64)\n",
    "# model_pq_flow.x = x\n",
    "# model_pq_flow.y = y\n",
    "# model_pq_flow.gamma_0 = np.genfromtxt(path / 'gamma_0.csv', dtype='float32')[-1]\n",
    "# model_pq_flow.gamma = np.genfromtxt(path / 'gamma.csv', dtype='float32')[-1,:]\n",
    "# model_pq_flow.sigma = np.genfromtxt(path / 'sigma.csv', dtype='float32')[-1,:]\n",
    "# model_pq_flow.load_model(path / 'flow_model/model')"
   ]
  },
  {
   "cell_type": "code",
   "execution_count": 89,
   "metadata": {},
   "outputs": [],
   "source": [
    "# losses = np.genfromtxt(path + 'losses.csv', dtype='float32')\n",
    "# plt.plot(list(range(len(losses))), losses)"
   ]
  },
  {
   "cell_type": "code",
   "execution_count": 117,
   "metadata": {},
   "outputs": [],
   "source": [
    "# load model VI KLpq Flow - MSC\n",
    "#path = Path('results/survey/vi_klpq_N10_warped_flow/2022-04-15-000944')\n",
    "# model_pq_ex2_flow_warp = models.VI_KLpq(v_fam='flow', space='eps', dataset='survey', hmc_e=0.03, hmc_L=33, cis=10, chains=1)\n",
    "# model_pq_ex2_flow_warp.x = x\n",
    "# model_pq_ex2_flow_warp.y = y\n",
    "# model_pq_ex2_flow_warp.gamma_0 = np.genfromtxt(path / 'gamma_0.csv', dtype='float32')[-1]\n",
    "# model_pq_ex2_flow_warp.gamma = np.genfromtxt(path / 'gamma.csv', dtype='float32')[-1,:]\n",
    "# model_pq_ex2_flow_warp.phi_m = np.genfromtxt(path / 'phi_m.csv', dtype='float32')[-1,:]\n",
    "# model_pq_ex2_flow_warp.phi_s = np.genfromtxt(path / 'phi_s.csv', dtype='float32')[-1,:]\n",
    "# model_pq_ex2_flow_warp.sigma = np.genfromtxt(path / 'sigma.csv', dtype='float32')[-1,:]\n",
    "# model_pq_ex2_flow_warp.q = tfd.MultivariateNormalDiag(\n",
    "#     loc=model_pq_ex2_flow_warp.phi_m, \n",
    "#     scale_diag=model_pq_ex2_flow_warp.phi_s)"
   ]
  },
  {
   "cell_type": "code",
   "execution_count": 91,
   "metadata": {},
   "outputs": [],
   "source": [
    "# losses = np.genfromtxt(path + 'losses.csv', dtype='float32')\n",
    "# plt.plot(list(range(len(losses))), losses)"
   ]
  },
  {
   "cell_type": "code",
   "execution_count": 92,
   "metadata": {},
   "outputs": [],
   "source": [
    "# load model VI KLpq Flow - MSC\n",
    "#path = Path('results/survey/vi_klpq_N10_warped_flow/2022-04-14-183205')\n",
    "# model_pq_ex2_warp = models.VI_KLpq(v_fam='flow', space='eps', dataset='survey', hmc_e=0.03, hmc_L=33, cis=10, chains=1)\n",
    "# model_pq_ex2_warp.x = x\n",
    "# model_pq_ex2_warp.y = y\n",
    "# model_pq_ex2_warp.gamma_0 = np.genfromtxt(path / 'gamma_0.csv', dtype='float32')[-1]\n",
    "# model_pq_ex2_warp.gamma = np.genfromtxt(path / 'gamma.csv', dtype='float32')[-1,:]\n",
    "# model_pq_ex2_warp.phi_m = np.genfromtxt(path / 'phi_m.csv', dtype='float32')[-1,:]\n",
    "# model_pq_ex2_warp.phi_s = np.genfromtxt(path / 'phi_s.csv', dtype='float32')[-1,:]\n",
    "# model_pq_ex2_warp.sigma = np.genfromtxt(path / 'sigma.csv', dtype='float32')[-1,:]\n",
    "# model_pq_ex2_warp.q = tfd.MultivariateNormalDiag(\n",
    "#     loc=model_pq_ex2_warp.phi_m, \n",
    "#     scale_diag=model_pq_ex2_warp.phi_s)"
   ]
  },
  {
   "cell_type": "code",
   "execution_count": 93,
   "metadata": {
    "id": "HxftW4dylZNP"
   },
   "outputs": [],
   "source": [
    "# post_pred_mat_qp = estimate_vi_model_rate(x_poststrat, data_to_idx, model_qp)\n",
    "# estimate = np.dot(np.array([poststrat_df['n']]), \n",
    "#                   np.array(post_pred_mat_qp)) / sum(poststrat_df['n'])\n",
    "# print('mean', np.mean(estimate))\n",
    "# print('std', np.std(estimate))"
   ]
  },
  {
   "cell_type": "code",
   "execution_count": 94,
   "metadata": {
    "id": "c90rpfcWlZNQ"
   },
   "outputs": [
    {
     "name": "stdout",
     "output_type": "stream",
     "text": [
      "mean 0.4350169192710754\n",
      "std 0.023288554093403524\n"
     ]
    }
   ],
   "source": [
    "post_pred_mat_pq = estimate_vi_model_rate(x_poststrat, data_to_idx, model_pq)\n",
    "estimate = np.dot(np.array([poststrat_df['n']]), \n",
    "                  np.array(post_pred_mat_pq)) / sum(poststrat_df['n'])\n",
    "print('mean', np.mean(estimate))\n",
    "print('std', np.std(estimate))"
   ]
  },
  {
   "cell_type": "code",
   "execution_count": 95,
   "metadata": {},
   "outputs": [
    {
     "name": "stdout",
     "output_type": "stream",
     "text": [
      "mean 0.4150411090824363\n",
      "std 0.12996214887666704\n"
     ]
    }
   ],
   "source": [
    "# post_pred_mat_pq_msc = estimate_vi_model_rate(x_poststrat, data_to_idx, model_pq_ex2_eps)\n",
    "# estimate = np.dot(np.array([poststrat_df['n']]), \n",
    "#                   np.array(post_pred_mat_pq_msc)) / sum(poststrat_df['n'])\n",
    "# print('mean', np.mean(estimate))\n",
    "# print('std', np.std(estimate))"
   ]
  },
  {
   "cell_type": "code",
   "execution_count": 96,
   "metadata": {
    "colab": {
     "base_uri": "https://localhost:8080/"
    },
    "executionInfo": {
     "elapsed": 5134,
     "status": "ok",
     "timestamp": 1630239802190,
     "user": {
      "displayName": "Liyi Zhang",
      "photoUrl": "https://lh3.googleusercontent.com/a-/AOh14Gh9V3hIAgWLKOIy-Olktu7QU6Q3a0l2eUzzAf2j=s64",
      "userId": "06658486172350999592"
     },
     "user_tz": -480
    },
    "id": "PE-M-KtalZNQ",
    "outputId": "8d55cacb-6a7a-4c9b-97f6-2f1084b940a5"
   },
   "outputs": [],
   "source": [
    "# post_pred_mat_qp_flow = estimate_vi_model_rate(x_poststrat, data_to_idx, model_qp_flow)\n",
    "# estimate = np.dot(np.array([poststrat_df['n']]), \n",
    "#                   np.array(post_pred_mat_qp_flow)) / sum(poststrat_df['n'])\n",
    "# print('mean', np.mean(estimate))\n",
    "# print('std', np.std(estimate))"
   ]
  },
  {
   "cell_type": "code",
   "execution_count": 97,
   "metadata": {
    "colab": {
     "base_uri": "https://localhost:8080/"
    },
    "executionInfo": {
     "elapsed": 1099,
     "status": "ok",
     "timestamp": 1630239803259,
     "user": {
      "displayName": "Liyi Zhang",
      "photoUrl": "https://lh3.googleusercontent.com/a-/AOh14Gh9V3hIAgWLKOIy-Olktu7QU6Q3a0l2eUzzAf2j=s64",
      "userId": "06658486172350999592"
     },
     "user_tz": -480
    },
    "id": "CLnGz3lSlZNR",
    "outputId": "421de4c0-5925-4753-a95a-b5cca6a11bef"
   },
   "outputs": [],
   "source": [
    "pass\n",
    "# post_pred_mat_pq_flow = estimate_vi_model_rate(x_poststrat, data_to_idx, model_pq_flow)\n",
    "# estimate = np.dot(np.array([poststrat_df['n']]), \n",
    "#                   np.array(post_pred_mat_pq_flow)) / sum(poststrat_df['n'])\n",
    "# print('mean', np.mean(estimate))\n",
    "# print('std', np.std(estimate))"
   ]
  },
  {
   "cell_type": "markdown",
   "metadata": {
    "id": "wqTZ0Hs-lZNR"
   },
   "source": [
    "Compare parameters under different number of VI samples"
   ]
  },
  {
   "cell_type": "code",
   "execution_count": 41,
   "metadata": {
    "colab": {
     "base_uri": "https://localhost:8080/",
     "height": 265
    },
    "collapsed": true,
    "executionInfo": {
     "elapsed": 4267,
     "status": "ok",
     "timestamp": 1628143742224,
     "user": {
      "displayName": "Liyi Zhang",
      "photoUrl": "https://lh3.googleusercontent.com/a-/AOh14Gh9V3hIAgWLKOIy-Olktu7QU6Q3a0l2eUzzAf2j=s64",
      "userId": "06658486172350999592"
     },
     "user_tz": -480
    },
    "id": "GHzTL0MGlZNR",
    "outputId": "0f16d19a-db87-406f-d886-bf784fa62e65"
   },
   "outputs": [],
   "source": [
    "# path = 'results/survey/vi_klpq_gaussian/2021-09-01-162133/'\n",
    "# gamma = np.genfromtxt(path + 'gamma.csv')\n",
    "# plt.plot(gamma[:,0], label='gamma_1')\n",
    "# plt.plot(gamma[:,1], label='gamma_2')\n",
    "# plt.plot(gamma[:,2], label='gamma_3')\n",
    "# plt.plot(gamma[:,3], label='gamma_4')\n",
    "# plt.plot(gamma[:,4], label='gamma_5')\n",
    "# plt.show()"
   ]
  },
  {
   "cell_type": "code",
   "execution_count": 42,
   "metadata": {
    "collapsed": true,
    "id": "ksUPfGrElZNS",
    "outputId": "933592ab-a404-4018-abad-c4468ab29cc4"
   },
   "outputs": [],
   "source": [
    "# path = 'results/survey/vi_klpq_gaussian/2021-07-02-164958/'\n",
    "# gamma_1samp = np.genfromtxt(path + 'gamma.csv')\n",
    "# plt.plot(gamma_1samp[:,0], label='gamma_1')\n",
    "# plt.plot(gamma_1samp[:,1], label='gamma_2')\n",
    "# plt.plot(gamma_1samp[:,2], label='gamma_3')\n",
    "# plt.plot(gamma_1samp[:,3], label='gamma_4')\n",
    "# plt.plot(gamma_1samp[:,4], label='gamma_5')\n",
    "# plt.show()"
   ]
  },
  {
   "cell_type": "markdown",
   "metadata": {},
   "source": [
    "### By-state predictions"
   ]
  },
  {
   "cell_type": "markdown",
   "metadata": {
    "id": "nkV4xgCHlZNS"
   },
   "source": [
    "By state"
   ]
  },
  {
   "cell_type": "code",
   "execution_count": 100,
   "metadata": {},
   "outputs": [],
   "source": [
    "# post_pred_mat_qp = estimate_vi_model_rate(x_poststrat, data_to_idx, model_qp)\n",
    "# state_means_qp = []\n",
    "# state_stds_qp = []\n",
    "# for state in list_of_states:\n",
    "#     is_state = np.array([poststrat_df['state'] == state])\n",
    "#     estimate = np.dot(np.multiply(np.array([poststrat_df['n']]), is_state), \n",
    "#                       np.array(post_pred_mat_qp)) / np.sum(np.multiply(np.array([poststrat_df['n']]), is_state))\n",
    "#     state_means_qp.append(np.mean(estimate))\n",
    "#     state_stds_qp.append(np.std(estimate))\n",
    "#     print(state)\n",
    "#     print('mean', np.mean(estimate))\n",
    "#     print('std', np.std(estimate))\n",
    "# state_means_qp = np.array(state_means_qp)\n",
    "# state_stds_qp = np.array(state_stds_qp)"
   ]
  },
  {
   "cell_type": "code",
   "execution_count": 101,
   "metadata": {
    "id": "_53LZzJR5VGi"
   },
   "outputs": [
    {
     "name": "stdout",
     "output_type": "stream",
     "text": [
      "HI\n",
      "mean 0.35723495132267347\n",
      "std 0.04412235725375289\n",
      "CA\n",
      "mean 0.37837717668877524\n",
      "std 0.029491581982365674\n",
      "VT\n",
      "mean 0.3930910386839707\n",
      "std 0.047326056829123414\n",
      "MA\n",
      "mean 0.3482542234135156\n",
      "std 0.036701401017775984\n",
      "MD\n",
      "mean 0.34657267682750487\n",
      "std 0.03775916691206788\n",
      "NY\n",
      "mean 0.35056451071375455\n",
      "std 0.03206311164531588\n",
      "IL\n",
      "mean 0.40112833899509703\n",
      "std 0.03495874440561925\n",
      "WA\n",
      "mean 0.37935025481763107\n",
      "std 0.03819168903796762\n",
      "RI\n",
      "mean 0.365449679673794\n",
      "std 0.044989657390877395\n",
      "NJ\n",
      "mean 0.36813736759884014\n",
      "std 0.035987385841249234\n",
      "CT\n",
      "mean 0.3585993857939206\n",
      "std 0.04145969098930687\n",
      "OR\n",
      "mean 0.38727135388758954\n",
      "std 0.041190978440445815\n",
      "DE\n",
      "mean 0.4487468012538815\n",
      "std 0.04433820506399518\n",
      "NM\n",
      "mean 0.40093285463709954\n",
      "std 0.043621966935728056\n",
      "VA\n",
      "mean 0.42883578407233774\n",
      "std 0.03728391655201445\n",
      "CO\n",
      "mean 0.40965482395522124\n",
      "std 0.04076182510514714\n",
      "ME\n",
      "mean 0.4309289122480844\n",
      "std 0.04684231256154205\n",
      "NV\n",
      "mean 0.3945722308740764\n",
      "std 0.0403417947177891\n",
      "MN\n",
      "mean 0.42915617241236603\n",
      "std 0.04249527851273522\n",
      "NH\n",
      "mean 0.42362727093965075\n",
      "std 0.046527348674518416\n",
      "MI\n",
      "mean 0.4344858876824463\n",
      "std 0.0375190303042354\n",
      "PA\n",
      "mean 0.46843986683520145\n",
      "std 0.03576025469836285\n",
      "WI\n",
      "mean 0.4479305834930599\n",
      "std 0.043015315702314004\n",
      "FL\n",
      "mean 0.40049170566820297\n",
      "std 0.03182203489172172\n",
      "AZ\n",
      "mean 0.46380287780878016\n",
      "std 0.037149811860337695\n",
      "NC\n",
      "mean 0.45068034426641823\n",
      "std 0.0382205791059143\n",
      "GA\n",
      "mean 0.5195940880849855\n",
      "std 0.035939801796135505\n",
      "OH\n",
      "mean 0.45501900499765224\n",
      "std 0.03728678247999434\n",
      "TX\n",
      "mean 0.511663866042259\n",
      "std 0.03154079288366383\n",
      "IA\n",
      "mean 0.4504194152248521\n",
      "std 0.04520342377843708\n",
      "SC\n",
      "mean 0.500955632676445\n",
      "std 0.04071723995372781\n",
      "AK\n",
      "mean 0.45299803093597646\n",
      "std 0.045453099053363026\n",
      "MS\n",
      "mean 0.5211334494958186\n",
      "std 0.04267296598614397\n",
      "MO\n",
      "mean 0.4621418369217039\n",
      "std 0.04061901814702702\n",
      "IN\n",
      "mean 0.45213763357903336\n",
      "std 0.04161443073370596\n",
      "LA\n",
      "mean 0.48614631660903923\n",
      "std 0.042020214701383375\n",
      "MT\n",
      "mean 0.4733634096754726\n",
      "std 0.04836072829539706\n",
      "KS\n",
      "mean 0.5034766694438485\n",
      "std 0.04455098587253088\n",
      "UT\n",
      "mean 0.4599624155559861\n",
      "std 0.0446221359279655\n",
      "NE\n",
      "mean 0.49112682971851485\n",
      "std 0.04450101074882432\n",
      "TN\n",
      "mean 0.4983502705151618\n",
      "std 0.0398353570985947\n",
      "AR\n",
      "mean 0.5170043707253082\n",
      "std 0.04366513259867555\n",
      "AL\n",
      "mean 0.5145320072267032\n",
      "std 0.041400577673996894\n",
      "KY\n",
      "mean 0.5411882196231891\n",
      "std 0.04314223221484252\n",
      "SD\n",
      "mean 0.513398385929316\n",
      "std 0.0483964453318866\n",
      "ID\n",
      "mean 0.4581045517487768\n",
      "std 0.0451671932292098\n",
      "OK\n",
      "mean 0.5603553230600263\n",
      "std 0.041009146030753715\n",
      "ND\n",
      "mean 0.5028450196611745\n",
      "std 0.04878208219273124\n",
      "WV\n",
      "mean 0.5534458820118948\n",
      "std 0.044496753703594356\n",
      "WY\n",
      "mean 0.5239104873649316\n",
      "std 0.04787249044246586\n"
     ]
    }
   ],
   "source": [
    "post_pred_mat_pq = estimate_vi_model_rate(x_poststrat, data_to_idx, model_pq)\n",
    "state_means_pq = []\n",
    "state_stds_pq = []\n",
    "for state in list_of_states:\n",
    "    is_state = np.array([poststrat_df['state'] == state])\n",
    "    estimate = np.dot(np.multiply(np.array([poststrat_df['n']]), is_state), \n",
    "                      np.array(post_pred_mat_pq)) / np.sum(np.multiply(np.array([poststrat_df['n']]), is_state))\n",
    "    state_means_pq.append(np.mean(estimate))\n",
    "    state_stds_pq.append(np.std(estimate))\n",
    "    print(state)\n",
    "    print('mean', np.mean(estimate))\n",
    "    print('std', np.std(estimate))\n",
    "state_means_pq = np.array(state_means_pq)\n",
    "state_stds_pq = np.array(state_stds_pq)"
   ]
  },
  {
   "cell_type": "code",
   "execution_count": 103,
   "metadata": {},
   "outputs": [
    {
     "name": "stdout",
     "output_type": "stream",
     "text": [
      "HI\n",
      "mean 0.3717671072247427\n",
      "std 0.1616774756353492\n",
      "CA\n",
      "mean 0.3855973949197765\n",
      "std 0.12486381197564672\n",
      "VT\n",
      "mean 0.4908054041479885\n",
      "std 0.19464811234015145\n",
      "MA\n",
      "mean 0.37187001538798825\n",
      "std 0.15618728828826037\n",
      "MD\n",
      "mean 0.36021658983740956\n",
      "std 0.14087694848375626\n",
      "NY\n",
      "mean 0.37415065490054883\n",
      "std 0.1371376010875335\n",
      "IL\n",
      "mean 0.4046510490500177\n",
      "std 0.14679338260093006\n",
      "WA\n",
      "mean 0.3778809367330376\n",
      "std 0.15558096855955234\n",
      "RI\n",
      "mean 0.3695089907139935\n",
      "std 0.17097722073201915\n",
      "NJ\n",
      "mean 0.38123425737737937\n",
      "std 0.14171663638354176\n",
      "CT\n",
      "mean 0.3635393684298021\n",
      "std 0.15607296283758187\n",
      "OR\n",
      "mean 0.37965893232239195\n",
      "std 0.16626357380421108\n",
      "DE\n",
      "mean 0.46144424537345413\n",
      "std 0.16561742325447132\n",
      "NM\n",
      "mean 0.3910946468006637\n",
      "std 0.14155017257060926\n",
      "VA\n",
      "mean 0.42000811707872815\n",
      "std 0.14745052957234495\n",
      "CO\n",
      "mean 0.40497126248927307\n",
      "std 0.15748629435430736\n",
      "ME\n",
      "mean 0.43180171668812306\n",
      "std 0.18872144383038933\n",
      "NV\n",
      "mean 0.37405790842928455\n",
      "std 0.144508186794129\n",
      "MN\n",
      "mean 0.4143962543825991\n",
      "std 0.17321666268882072\n",
      "NH\n",
      "mean 0.41127988816584404\n",
      "std 0.1846199693904926\n",
      "MI\n",
      "mean 0.4217183922130519\n",
      "std 0.1603043870642963\n",
      "PA\n",
      "mean 0.4480243534905006\n",
      "std 0.16353419861385418\n",
      "WI\n",
      "mean 0.42276397644273156\n",
      "std 0.17197878800114838\n",
      "FL\n",
      "mean 0.3958883452605068\n",
      "std 0.13755179435046247\n",
      "AZ\n",
      "mean 0.4303695250955448\n",
      "std 0.14668090529949637\n",
      "NC\n",
      "mean 0.42346121853789725\n",
      "std 0.1515885647615866\n",
      "GA\n",
      "mean 0.4949039106360485\n",
      "std 0.14516590437696117\n",
      "OH\n",
      "mean 0.43201984200140486\n",
      "std 0.16571135724412964\n",
      "TX\n",
      "mean 0.47072322212868173\n",
      "std 0.13069383638503476\n",
      "IA\n",
      "mean 0.41626541574875847\n",
      "std 0.1804303963118795\n",
      "SC\n",
      "mean 0.470585014269615\n",
      "std 0.15647166682483865\n",
      "AK\n",
      "mean 0.3941978394625877\n",
      "std 0.16414005649399468\n",
      "MS\n",
      "mean 0.5191661362559868\n",
      "std 0.16020460807748968\n",
      "MO\n",
      "mean 0.4360806089690316\n",
      "std 0.16543974405244122\n",
      "IN\n",
      "mean 0.41075082819744085\n",
      "std 0.1692409576000658\n",
      "LA\n",
      "mean 0.4472931787932914\n",
      "std 0.15384397042144302\n",
      "MT\n",
      "mean 0.41216577806385524\n",
      "std 0.18107243211502885\n",
      "KS\n",
      "mean 0.46832001622350206\n",
      "std 0.1721691290057895\n",
      "UT\n",
      "mean 0.4034611150578613\n",
      "std 0.174059505023967\n",
      "NE\n",
      "mean 0.4541435739238237\n",
      "std 0.18053165491342554\n",
      "TN\n",
      "mean 0.44486122356134117\n",
      "std 0.16316738491392097\n",
      "AR\n",
      "mean 0.4552602936898789\n",
      "std 0.16967243659579537\n",
      "AL\n",
      "mean 0.4580840903266059\n",
      "std 0.15753470327247485\n",
      "KY\n",
      "mean 0.47202401848657766\n",
      "std 0.17705404789339121\n",
      "SD\n",
      "mean 0.4477906430905059\n",
      "std 0.18509528929571087\n",
      "ID\n",
      "mean 0.36828708839943924\n",
      "std 0.17459411574174824\n",
      "OK\n",
      "mean 0.49756957614126623\n",
      "std 0.16374788045226293\n",
      "ND\n",
      "mean 0.4228589719983947\n",
      "std 0.1874861348388281\n",
      "WV\n",
      "mean 0.45626151322911174\n",
      "std 0.18484710065207624\n",
      "WY\n",
      "mean 0.4153971482487828\n",
      "std 0.18647826202814316\n"
     ]
    }
   ],
   "source": [
    "# post_pred_mat_pq_msc = estimate_vi_model_rate(x_poststrat, data_to_idx, model_pq_ex2_eps)\n",
    "# state_means_pq_ex2_eps = []\n",
    "# state_stds_pq_ex2_eps = []\n",
    "# for state in list_of_states:\n",
    "#     is_state = np.array([poststrat_df['state'] == state])\n",
    "#     estimate = np.dot(np.multiply(np.array([poststrat_df['n']]), is_state), \n",
    "#                       np.array(post_pred_mat_pq_msc)) / np.sum(np.multiply(np.array([poststrat_df['n']]), is_state))\n",
    "#     state_means_pq_ex2_eps.append(np.mean(estimate))\n",
    "#     state_stds_pq_ex2_eps.append(np.std(estimate))\n",
    "#     print(state)\n",
    "#     print('mean', np.mean(estimate))\n",
    "#     print('std', np.std(estimate))\n",
    "# state_means_pq_msc = np.array(state_means_pq_ex2_eps)\n",
    "# state_stds_pq_ex2_eps = np.array(state_stds_pq_ex2_eps)"
   ]
  },
  {
   "cell_type": "code",
   "execution_count": 104,
   "metadata": {},
   "outputs": [
    {
     "name": "stdout",
     "output_type": "stream",
     "text": [
      "HI\n",
      "mean 0.35720741663959416\n",
      "std 0.03409086247979642\n",
      "CA\n",
      "mean 0.37673912521360464\n",
      "std 0.02306733044450587\n",
      "VT\n",
      "mean 0.38772047304038415\n",
      "std 0.03324479423847424\n",
      "MA\n",
      "mean 0.35177809610231936\n",
      "std 0.02682045902737577\n",
      "MD\n",
      "mean 0.3622202369835985\n",
      "std 0.0277692837358728\n",
      "NY\n",
      "mean 0.3548893817738832\n",
      "std 0.0239260182193147\n",
      "IL\n",
      "mean 0.39752655050931673\n",
      "std 0.0257723756411363\n",
      "WA\n",
      "mean 0.3841786087826952\n",
      "std 0.028428320513450806\n",
      "RI\n",
      "mean 0.37122308260181536\n",
      "std 0.03264164303957436\n",
      "NJ\n",
      "mean 0.3709524088167442\n",
      "std 0.02775197118004432\n",
      "CT\n",
      "mean 0.36395717773871067\n",
      "std 0.03061867366072505\n",
      "OR\n",
      "mean 0.39598367970211146\n",
      "std 0.03128560924117925\n",
      "DE\n",
      "mean 0.44729284539627295\n",
      "std 0.03322153448571812\n",
      "NM\n",
      "mean 0.4028325264487582\n",
      "std 0.03137511680155344\n",
      "VA\n",
      "mean 0.4345035138166238\n",
      "std 0.02765823163371242\n",
      "CO\n",
      "mean 0.4146554921056075\n",
      "std 0.030405414508181742\n",
      "ME\n",
      "mean 0.42898364110479087\n",
      "std 0.03415204484221783\n",
      "NV\n",
      "mean 0.39975792904241764\n",
      "std 0.031090426931939676\n",
      "MN\n",
      "mean 0.4348443822657467\n",
      "std 0.03256891948927387\n",
      "NH\n",
      "mean 0.425501005772156\n",
      "std 0.03293707776426959\n",
      "MI\n",
      "mean 0.43934243156626807\n",
      "std 0.027833592843391798\n",
      "PA\n",
      "mean 0.46211438602182014\n",
      "std 0.026333783542024678\n",
      "WI\n",
      "mean 0.4422518028445057\n",
      "std 0.03143558620475261\n",
      "FL\n",
      "mean 0.40864046556063865\n",
      "std 0.024258422432137258\n",
      "AZ\n",
      "mean 0.4554791055886477\n",
      "std 0.02852661858968918\n",
      "NC\n",
      "mean 0.45362438336078903\n",
      "std 0.028531968128121282\n",
      "GA\n",
      "mean 0.5082021899748759\n",
      "std 0.027661309783556028\n",
      "OH\n",
      "mean 0.45845626958211244\n",
      "std 0.02934400482054504\n",
      "TX\n",
      "mean 0.5055543953607786\n",
      "std 0.02477877160824036\n",
      "IA\n",
      "mean 0.4593421533499493\n",
      "std 0.03306361481162731\n",
      "SC\n",
      "mean 0.49070393383351546\n",
      "std 0.030979318712234836\n",
      "AK\n",
      "mean 0.4535936435828048\n",
      "std 0.03367448527546254\n",
      "MS\n",
      "mean 0.5053928306348059\n",
      "std 0.032171728289859196\n",
      "MO\n",
      "mean 0.47421942755883956\n",
      "std 0.02963150917992562\n",
      "IN\n",
      "mean 0.4610624399866446\n",
      "std 0.029975150015527367\n",
      "LA\n",
      "mean 0.48576011191160295\n",
      "std 0.031506363985093516\n",
      "MT\n",
      "mean 0.4752708030194954\n",
      "std 0.03398401626024872\n",
      "KS\n",
      "mean 0.49670679564780296\n",
      "std 0.03314685463447488\n",
      "UT\n",
      "mean 0.46186377134208234\n",
      "std 0.032651554017237204\n",
      "NE\n",
      "mean 0.5058603634380034\n",
      "std 0.034395719657881345\n",
      "TN\n",
      "mean 0.4997597135022268\n",
      "std 0.02997105706991313\n",
      "AR\n",
      "mean 0.5185039436274107\n",
      "std 0.0331961777675395\n",
      "AL\n",
      "mean 0.5068671912482738\n",
      "std 0.03153954017375174\n",
      "KY\n",
      "mean 0.537055268538361\n",
      "std 0.03178861463473955\n",
      "SD\n",
      "mean 0.5139229041120434\n",
      "std 0.0345943009906269\n",
      "ID\n",
      "mean 0.4706585582540605\n",
      "std 0.03321034161670774\n",
      "OK\n",
      "mean 0.5645505443409369\n",
      "std 0.03089988393632642\n",
      "ND\n",
      "mean 0.5197625443506247\n",
      "std 0.03477480739782757\n",
      "WV\n",
      "mean 0.562208854422388\n",
      "std 0.03344778967356031\n",
      "WY\n",
      "mean 0.5291706378282462\n",
      "std 0.03639345049568038\n"
     ]
    }
   ],
   "source": [
    "post_pred_mat_pq_msc = estimate_vi_model_rate(x_poststrat, data_to_idx, model_pq_ex2_warp)\n",
    "state_means_pq_ex2_warp = []\n",
    "state_stds_pq_ex2_warp = []\n",
    "for state in list_of_states:\n",
    "    is_state = np.array([poststrat_df['state'] == state])\n",
    "    estimate = np.dot(np.multiply(np.array([poststrat_df['n']]), is_state), \n",
    "                      np.array(post_pred_mat_pq_msc)) / np.sum(np.multiply(np.array([poststrat_df['n']]), is_state))\n",
    "    state_means_pq_ex2_warp.append(np.mean(estimate))\n",
    "    state_stds_pq_ex2_warp.append(np.std(estimate))\n",
    "    print(state)\n",
    "    print('mean', np.mean(estimate))\n",
    "    print('std', np.std(estimate))\n",
    "state_means_pq_ex2_warp = np.array(state_means_pq_ex2_warp)\n",
    "state_stds_pq_ex2_warp = np.array(state_stds_pq_ex2_warp)"
   ]
  },
  {
   "cell_type": "code",
   "execution_count": 105,
   "metadata": {
    "colab": {
     "base_uri": "https://localhost:8080/"
    },
    "executionInfo": {
     "elapsed": 20629,
     "status": "ok",
     "timestamp": 1630239841270,
     "user": {
      "displayName": "Liyi Zhang",
      "photoUrl": "https://lh3.googleusercontent.com/a-/AOh14Gh9V3hIAgWLKOIy-Olktu7QU6Q3a0l2eUzzAf2j=s64",
      "userId": "06658486172350999592"
     },
     "user_tz": -480
    },
    "id": "E_cMz2XUlZNU",
    "outputId": "0fa95964-0eab-4564-f750-f4482078aa1c"
   },
   "outputs": [],
   "source": [
    "# post_pred_mat_qp_flow = estimate_vi_model_rate(x_poststrat, data_to_idx, model_qp_flow)\n",
    "# state_means_qp_flow = []\n",
    "# state_stds_qp_flow = []\n",
    "# for state in list_of_states:\n",
    "#     is_state = np.array([poststrat_df['state'] == state])\n",
    "#     estimate = np.dot(np.multiply(np.array([poststrat_df['n']]), is_state), \n",
    "#                       np.array(post_pred_mat_qp_flow)) / np.sum(np.multiply(np.array([poststrat_df['n']]), is_state))\n",
    "#     state_means_qp_flow.append(np.mean(estimate))\n",
    "#     state_stds_qp_flow.append(np.std(estimate))\n",
    "#     print(state)\n",
    "#     print('mean', np.mean(estimate))\n",
    "#     print('std', np.std(estimate))\n",
    "# state_means_qp_flow = np.array(state_means_qp_flow)\n",
    "# state_stds_qp_flow = np.array(state_stds_qp_flow)"
   ]
  },
  {
   "cell_type": "code",
   "execution_count": 106,
   "metadata": {
    "colab": {
     "base_uri": "https://localhost:8080/"
    },
    "executionInfo": {
     "elapsed": 19775,
     "status": "ok",
     "timestamp": 1630239861011,
     "user": {
      "displayName": "Liyi Zhang",
      "photoUrl": "https://lh3.googleusercontent.com/a-/AOh14Gh9V3hIAgWLKOIy-Olktu7QU6Q3a0l2eUzzAf2j=s64",
      "userId": "06658486172350999592"
     },
     "user_tz": -480
    },
    "id": "t9nNd6QZlZNV",
    "outputId": "586a3c83-b6a3-49a9-be38-ba930feaac77"
   },
   "outputs": [],
   "source": [
    "pass\n",
    "# post_pred_mat_pq_flow = estimate_vi_model_rate(x_poststrat, data_to_idx, model_pq_flow)\n",
    "# state_means_pq_flow = []\n",
    "# state_stds_pq_flow = []\n",
    "# for state in list_of_states:\n",
    "#     is_state = np.array([poststrat_df['state'] == state])\n",
    "#     estimate = np.dot(np.multiply(np.array([poststrat_df['n']]), is_state), \n",
    "#                       np.array(post_pred_mat_pq_flow)) / np.sum(np.multiply(np.array([poststrat_df['n']]), is_state))\n",
    "#     state_means_pq_flow.append(np.mean(estimate))\n",
    "#     state_stds_pq_flow.append(np.std(estimate))\n",
    "#     print(state)\n",
    "#     print('mean', np.mean(estimate))\n",
    "#     print('std', np.std(estimate))\n",
    "# state_means_pq_flow = np.array(state_means_pq_flow)\n",
    "# state_stds_pq_flow = np.array(state_stds_pq_flow)"
   ]
  },
  {
   "cell_type": "code",
   "execution_count": null,
   "metadata": {
    "id": "DApMo4_E5Sx5"
   },
   "outputs": [],
   "source": []
  },
  {
   "cell_type": "code",
   "execution_count": 107,
   "metadata": {
    "id": "hfyjT2urlZNV"
   },
   "outputs": [],
   "source": [
    "state_means_unadj_5000 = []\n",
    "state_stds_unadj_5000 = []\n",
    "for state in list_of_states:\n",
    "    is_state = np.array([cces['state'] == state])\n",
    "    n = np.sum(is_state)\n",
    "    mean = np.sum(np.multiply(np.array([cces['abortion']]), is_state))/n\n",
    "    state_means_unadj_5000.append(mean)\n",
    "    state_stds_unadj_5000.append(get_se_bernoulli(mean, n))\n",
    "state_means_unadj_5000 = np.array(state_means_unadj_5000)\n",
    "state_stds_unadj_5000 = np.array(state_stds_unadj_5000)"
   ]
  },
  {
   "cell_type": "code",
   "execution_count": 108,
   "metadata": {
    "id": "qfPbgv5qlZNV"
   },
   "outputs": [],
   "source": [
    "state_means_unadj_60000 = []\n",
    "state_stds_unadj_60000 = []\n",
    "for state in list_of_states:\n",
    "    is_state = np.array([cces_all['state'] == state])\n",
    "    n = np.sum(is_state)\n",
    "    mean = np.sum(np.multiply(np.array([cces_all['abortion']]), is_state))/n\n",
    "    state_means_unadj_60000.append(mean)\n",
    "    state_stds_unadj_60000.append(get_se_bernoulli(mean, n))\n",
    "state_means_unadj_60000 = np.array(state_means_unadj_60000)\n",
    "state_stds_unadj_60000 = np.array(state_stds_unadj_60000)"
   ]
  },
  {
   "cell_type": "code",
   "execution_count": 109,
   "metadata": {
    "colab": {
     "base_uri": "https://localhost:8080/",
     "height": 378
    },
    "executionInfo": {
     "elapsed": 13,
     "status": "ok",
     "timestamp": 1630239861759,
     "user": {
      "displayName": "Liyi Zhang",
      "photoUrl": "https://lh3.googleusercontent.com/a-/AOh14Gh9V3hIAgWLKOIy-Olktu7QU6Q3a0l2eUzzAf2j=s64",
      "userId": "06658486172350999592"
     },
     "user_tz": -480
    },
    "id": "ctDJQfo7lZNW",
    "outputId": "537423e8-d75b-4565-f273-58ae1172a32f"
   },
   "outputs": [
    {
     "data": {
      "image/png": "[encoded data removed]",
      "text/plain": [
       "<Figure size 1080x432 with 1 Axes>"
      ]
     },
     "metadata": {
      "needs_background": "light"
     },
     "output_type": "display_data"
    }
   ],
   "source": [
    "plt.figure(figsize=(15, 6))\n",
    "plt.scatter(list_of_states, state_means_unadj_60000, color='g', label='60000 unadjusted')\n",
    "plt.scatter(list_of_states, state_means_unadj_5000, color='r', label='5000 unadjusted')\n",
    "plt.scatter(list_of_states, state_means_pq, color='b', label='TSC')\n",
    "\n",
    "\n",
    "plt.errorbar(list_of_states, \n",
    "             state_means_unadj_60000, \n",
    "             yerr=1.96*state_stds_unadj_60000, \n",
    "             linestyle='', color='g', alpha=0.3, capsize=5.0)\n",
    "plt.errorbar(list_of_states, \n",
    "             state_means_unadj_5000, \n",
    "             yerr=1.96*state_stds_unadj_5000, \n",
    "             linestyle='', color='r', alpha=0.3, capsize=5.0)\n",
    "plt.errorbar(list_of_states, \n",
    "             state_means_pq, \n",
    "             yerr=1.96*state_stds_pq, \n",
    "             linestyle='', color='b', alpha=0.3, capsize=5.0)\n",
    "\n",
    "plt.ylim(0, 1)\n",
    "plt.legend()\n",
    "plt.savefig(Path('figs') / 'survey_tsc_unadj.png')\n",
    "plt.show()"
   ]
  },
  {
   "cell_type": "code",
   "execution_count": 43,
   "metadata": {},
   "outputs": [],
   "source": [
    "# plt.figure(figsize=(15, 6))\n",
    "# plt.scatter(list_of_states, state_means_unadj_60000, color='g', label='60000 unadjusted')\n",
    "# plt.scatter(list_of_states, state_means_pq_ex2_eps, color='black', label=r'Ex$^2$MCMC, space=eps')\n",
    "# plt.scatter(list_of_states, state_means_pq, color='b', label='TSC')\n",
    "# plt.errorbar(list_of_states, \n",
    "#              state_means_unadj_60000, \n",
    "#              yerr=1.96*state_stds_unadj_60000, \n",
    "#              linestyle='', color='g', alpha=0.3, capsize=5.0)\n",
    "# plt.errorbar(list_of_states, \n",
    "#              state_means_pq_ex2_eps, \n",
    "#              yerr=1.96*state_stds_pq_ex2_eps, \n",
    "#              linestyle='', color='black', alpha=0.3, capsize=5.0)\n",
    "# plt.errorbar(list_of_states, \n",
    "#              state_means_pq, \n",
    "#              yerr=1.96*state_stds_pq, \n",
    "#              linestyle='', color='b', alpha=0.3, capsize=5.0)\n",
    "# plt.ylim(0, 1)\n",
    "# plt.legend()\n",
    "# plt.savefig(Path('figs') / 'survey_tsc_ex2_eps.png')\n",
    "# plt.show()"
   ]
  },
  {
   "cell_type": "code",
   "execution_count": 113,
   "metadata": {},
   "outputs": [
    {
     "data": {
      "image/png": "[encoded data removed]",
      "text/plain": [
       "<Figure size 1080x432 with 1 Axes>"
      ]
     },
     "metadata": {
      "needs_background": "light"
     },
     "output_type": "display_data"
    }
   ],
   "source": [
    "plt.figure(figsize=(15, 6))\n",
    "plt.scatter(list_of_states, state_means_unadj_60000, color='g', label='60000 unadjusted')\n",
    "plt.scatter(list_of_states, state_means_pq_ex2_warp, color='red', label=r'Ex$^2$MCMC, space: {space}')\n",
    "plt.scatter(list_of_states, state_means_pq, color='b', label='TSC')\n",
    "plt.errorbar(list_of_states, \n",
    "             state_means_unadj_60000, \n",
    "             yerr=1.96*state_stds_unadj_60000, \n",
    "             linestyle='', color='g', alpha=0.3, capsize=5.0)\n",
    "plt.errorbar(list_of_states, \n",
    "             state_means_pq_ex2_warp, \n",
    "             yerr=1.96*state_stds_pq_ex2_warp, \n",
    "             linestyle='', color='red', alpha=0.3, capsize=5.0)\n",
    "plt.errorbar(list_of_states, \n",
    "             state_means_pq, \n",
    "             yerr=1.96*state_stds_pq, \n",
    "             linestyle='', color='b', alpha=0.3, capsize=5.0)\n",
    "plt.ylim(0, 1)\n",
    "plt.legend()\n",
    "plt.savefig(Path('figs') / f'survey_tsc_ex2_{space}.png')\n",
    "plt.show()"
   ]
  },
  {
   "cell_type": "code",
   "execution_count": null,
   "metadata": {},
   "outputs": [],
   "source": []
  },
  {
   "cell_type": "code",
   "execution_count": null,
   "metadata": {
    "colab": {
     "base_uri": "https://localhost:8080/",
     "height": 378
    },
    "collapsed": true,
    "executionInfo": {
     "elapsed": 1123,
     "status": "ok",
     "timestamp": 1630239905968,
     "user": {
      "displayName": "Liyi Zhang",
      "photoUrl": "https://lh3.googleusercontent.com/a-/AOh14Gh9V3hIAgWLKOIy-Olktu7QU6Q3a0l2eUzzAf2j=s64",
      "userId": "06658486172350999592"
     },
     "user_tz": -480
    },
    "id": "jeRFWnhElZNW",
    "outputId": "1cf0c0cd-5159-4095-d32e-4a98f5e78745"
   },
   "outputs": [],
   "source": [
    "pass # TSC Flow\n",
    "\n",
    "# plt.figure(figsize=(15, 6))\n",
    "# plt.scatter(list_of_states, state_means_unadj_60000, color='g', label='60000 unadjusted')\n",
    "# #plt.scatter(list_of_states, state_means_qp_flow, color='r', label='VI with flow')\n",
    "# plt.scatter(list_of_states, state_means_pq_flow, color='b', label='TSC with flow')\n",
    "# plt.errorbar(list_of_states, \n",
    "#              state_means_unadj_60000, \n",
    "#              yerr=1.96*state_stds_unadj_60000, \n",
    "#              linestyle='', color='g', alpha=0.0, capsize=5.0)\n",
    "# # plt.errorbar(list_of_states, \n",
    "# #              state_means_qp_flow, \n",
    "# #              yerr=1.96*state_stds_qp_flow, \n",
    "# #              linestyle='', color='r', alpha=0.3, capsize=5.0)\n",
    "# plt.errorbar(list_of_states, \n",
    "#              state_means_pq_flow, \n",
    "#              yerr=1.96*state_stds_pq_flow, \n",
    "#              linestyle='', color='b', alpha=0.3, capsize=5.0)\n",
    "# plt.ylim(0, 1)\n",
    "# plt.legend()\n",
    "# plt.savefig(Path('figs') / 'survey_tsc_vi.png')\n",
    "# plt.show()"
   ]
  },
  {
   "cell_type": "code",
   "execution_count": null,
   "metadata": {},
   "outputs": [],
   "source": [
    "# VI\n",
    "\n",
    "# plt.figure(figsize=(15, 6))\n",
    "# plt.scatter(list_of_states, state_means_unadj_60000, color='g', label='60000 unadjusted')\n",
    "# #plt.scatter(list_of_states, state_means_qp, color='r', label='VI with Gaussian')\n",
    "# plt.scatter(list_of_states, state_means_pq, color='b', label='HSC with Gaussian')\n",
    "# plt.errorbar(list_of_states, \n",
    "#              state_means_unadj_60000, \n",
    "#              yerr=1.96*state_stds_unadj_60000, \n",
    "#              linestyle='', color='g', alpha=0.2, capsize=5.0)\n",
    "# # plt.errorbar(list_of_states, \n",
    "# #              state_means_qp, \n",
    "# #              yerr=1.96*state_stds_qp, \n",
    "# #              linestyle='', color='r', alpha=0.3, capsize=5.0)\n",
    "# plt.errorbar(list_of_states, \n",
    "#              state_means_pq, \n",
    "#              yerr=1.96*state_stds_pq, \n",
    "#              linestyle='', color='b', alpha=0.3, capsize=5.0)\n",
    "# plt.ylim(0, 1)\n",
    "# plt.legend()\n",
    "# plt.savefig(Path('figs') / 'survey_tsc_vi.png')\n",
    "# plt.show()"
   ]
  },
  {
   "cell_type": "code",
   "execution_count": null,
   "metadata": {},
   "outputs": [],
   "source": [
    "pass # HSC Flow\n",
    "\n",
    "# plt.figure(figsize=(15, 6))\n",
    "# plt.scatter(list_of_states, state_means_unadj_60000, color='g', label='60000 unadjusted')\n",
    "# plt.scatter(list_of_states, state_means_pq_flow, color='r', label='HSC with Flow')\n",
    "# plt.scatter(list_of_states, state_means_pq, color='b', label='HSC')\n",
    "# plt.errorbar(list_of_states, \n",
    "#              state_means_unadj_60000, \n",
    "#              yerr=1.96*state_stds_unadj_60000, \n",
    "#              linestyle='', color='g', alpha=0.2, capsize=5.0)\n",
    "# plt.errorbar(list_of_states, \n",
    "#              state_means_pq_flow, \n",
    "#              yerr=1.96*state_stds_pq_flow, \n",
    "#              linestyle='', color='r', alpha=0.7, capsize=5.0)\n",
    "# plt.errorbar(list_of_states, \n",
    "#              state_means_pq, \n",
    "#              yerr=1.96*state_stds_pq, \n",
    "#              linestyle='', color='b', alpha=0.7, capsize=5.0)\n",
    "# plt.ylim(0, 1)\n",
    "# plt.legend()\n",
    "# plt.show()"
   ]
  },
  {
   "cell_type": "code",
   "execution_count": null,
   "metadata": {},
   "outputs": [],
   "source": [
    "state_means_mrp = []\n",
    "state_stds_mrp = []\n",
    "for state in list_of_states:\n",
    "    idx = mrp_states_df[mrp_states_df['state'] == state].index[0]\n",
    "    state_means_mrp.append(mrp_states_df.loc[idx, 'mrp_estimate'])\n",
    "    state_stds_mrp.append(mrp_states_df.loc[idx, 'mrp_estimate_se'])\n",
    "state_means_mrp = np.array(state_means_mrp)\n",
    "state_stds_mrp = np.array(state_stds_mrp)"
   ]
  },
  {
   "cell_type": "code",
   "execution_count": null,
   "metadata": {},
   "outputs": [],
   "source": [
    "plt.figure(figsize=(15, 6))\n",
    "plt.scatter(list_of_states, state_means_unadj_60000, color='g', label='60000 unadjusted')\n",
    "plt.scatter(list_of_states, state_means_mrp, color='r', label='MRP MCMC')\n",
    "plt.scatter(list_of_states, state_means_pq, color='b', label='TSC')\n",
    "plt.errorbar(list_of_states, \n",
    "             state_means_unadj_60000, \n",
    "             yerr=1.96*state_stds_unadj_60000, \n",
    "             linestyle='', color='g', alpha=0.3, capsize=5.0)\n",
    "plt.errorbar(list_of_states, \n",
    "             state_means_mrp, \n",
    "             yerr=1.96*state_stds_mrp, \n",
    "             linestyle='', color='r', alpha=0.3, capsize=5.0)\n",
    "plt.errorbar(list_of_states, \n",
    "             state_means_pq, \n",
    "             yerr=1.96*state_stds_pq, \n",
    "             linestyle='', color='b', alpha=0.3, capsize=5.0)\n",
    "plt.ylim(0, 1)\n",
    "plt.legend()\n",
    "plt.savefig(Path('figs') / 'survey_tsc_mrp.png')\n",
    "plt.show()"
   ]
  },
  {
   "cell_type": "code",
   "execution_count": null,
   "metadata": {},
   "outputs": [],
   "source": [
    "plt.figure(figsize=(15, 6))\n",
    "plt.scatter(list_of_states, state_means_unadj_60000, color='g', label='60000 unadjusted')\n",
    "plt.scatter(list_of_states, state_means_mrp, color='r', label='MRP MCMC')\n",
    "plt.scatter(list_of_states, state_means_pq_ex2_warp, color='b', label=r'Ex$^2$MCMC')\n",
    "plt.errorbar(list_of_states, \n",
    "             state_means_unadj_60000, \n",
    "             yerr=1.96*state_stds_unadj_60000, \n",
    "             linestyle='', color='g', alpha=0.3, capsize=5.0)\n",
    "plt.errorbar(list_of_states, \n",
    "             state_means_mrp, \n",
    "             yerr=1.96*state_stds_mrp, \n",
    "             linestyle='', color='r', alpha=0.3, capsize=5.0)\n",
    "plt.errorbar(list_of_states, \n",
    "             state_means_pq, \n",
    "             yerr=1.96*state_stds_pq_ex2_warp, \n",
    "             linestyle='', color='b', alpha=0.3, capsize=5.0)\n",
    "plt.ylim(0, 1)\n",
    "plt.legend()\n",
    "plt.savefig(Path('figs') / f'survey_ex2_{scape}_mrp.png')\n",
    "plt.show()"
   ]
  },
  {
   "cell_type": "code",
   "execution_count": null,
   "metadata": {},
   "outputs": [],
   "source": [
    "print(np.sum((state_stds_pq-state_stds_mrp)**2))\n",
    "print(np.sum((state_stds_qp-state_stds_mrp)**2))\n",
    "\n",
    "print(np.sum((state_means_pq-state_means_mrp)**2))\n",
    "print(np.sum((state_means_qp-state_means_mrp)**2))"
   ]
  },
  {
   "cell_type": "markdown",
   "metadata": {
    "id": "uq2r-A9KlZNX"
   },
   "source": [
    "### Effective sample size"
   ]
  },
  {
   "cell_type": "code",
   "execution_count": null,
   "metadata": {},
   "outputs": [],
   "source": [
    "hmc_points_tsc = np.squeeze(np.array(pd.read_pickle(tsc_path+'hmc_points.pickle')))\n",
    "hmc_points_ex2_warp = np.squeeze(np.array(pd.read_pickle(ex2_warp_path+'hmc_points.pickle')))"
   ]
  },
  {
   "cell_type": "code",
   "execution_count": null,
   "metadata": {},
   "outputs": [],
   "source": [
    "def autocor(x, t):\n",
    "    n = x.shape[0]\n",
    "    mu = np.mean(x, axis=0)\n",
    "    sigma2 = np.var(x, axis=0)\n",
    "    numer = np.sum((x[:(n-t),:]-mu) * (x[t:,:]-mu), axis=0)\n",
    "    return numer/((n-t)*sigma2)\n",
    "\n",
    "def neff(x):\n",
    "    n = x.shape[0]\n",
    "    d = x.shape[1]\n",
    "    autocor_arr = np.zeros((n, d))\n",
    "    dim_to_set_to_0 = []\n",
    "    for t in range(1, n):\n",
    "        autocor_arr[t-1,:] = autocor(x, t)\n",
    "        if len(dim_to_set_to_0) > 0:\n",
    "            autocor_arr[t-1, dim_to_set_to_0] = 0\n",
    "        if t > 1:\n",
    "            for d_i in range(d):\n",
    "                if autocor_arr[t-1, d_i] + autocor_arr[t-2, d_i] < 0:\n",
    "                    autocor_arr[t-1, d_i] = 0\n",
    "                    autocor_arr[t-2, d_i] = 0\n",
    "                    if d_i not in dim_to_set_to_0:\n",
    "                        dim_to_set_to_0.append(d_i)\n",
    "            if len(dim_to_set_to_0) == d:\n",
    "                break\n",
    "    return n/(1+2*np.sum(autocor_arr, axis=0))"
   ]
  },
  {
   "cell_type": "code",
   "execution_count": null,
   "metadata": {},
   "outputs": [],
   "source": [
    "list_of_checkpt = [1000, 2000, 5000, 10000, 20000, 30000, 50000, 100000]\n",
    "num_dim = hmc_points_tsc.shape[1]\n",
    "neff_list_ex2_warp = np.zeros((len(list_of_checkpt), num_dim))\n",
    "\n",
    "for i in range(len(list_of_checkpt)):\n",
    "    idx = list_of_checkpt[i]\n",
    "    neff_list_ex2_warp[i, :] = neff(hmc_points_ex2_warp[:idx, :])\n",
    "    print(i, np.mean(neff_list_ex2_warp[i,:]/idx))"
   ]
  },
  {
   "cell_type": "code",
   "execution_count": null,
   "metadata": {},
   "outputs": [],
   "source": [
    "neff_list_tsc = np.zeros((len(list_of_checkpt), num_dim))\n",
    "\n",
    "for i in range(len(list_of_checkpt)):\n",
    "    idx = list_of_checkpt[i]\n",
    "    neff_list_tsc[i, :] = neff(hmc_points_tsc[:idx, :])\n",
    "    print(i, np.mean(neff_list_tsc[i,:]/idx))"
   ]
  },
  {
   "cell_type": "code",
   "execution_count": null,
   "metadata": {},
   "outputs": [],
   "source": [
    "np.savetxt('results/neff_list_tsc.csv', neff_list_tsc)\n",
    "np.savetxt('results/neff_list_ex2_warp.csv', neff_list_ex2_warp)"
   ]
  },
  {
   "cell_type": "code",
   "execution_count": null,
   "metadata": {},
   "outputs": [],
   "source": [
    "neff_list_tsc = np.genfromtxt('results/neff_list_tsc.csv')\n",
    "neff_list_ex2_warp = np.genfromtxt('results/neff_list_ex2_warp.csv')\n",
    "list_of_checkpt = [1000, 2000, 5000, 10000, 20000, 30000, 50000, 100000]"
   ]
  },
  {
   "cell_type": "code",
   "execution_count": null,
   "metadata": {},
   "outputs": [],
   "source": [
    "import matplotlib.pylab as pylab\n",
    "\n",
    "params = {'legend.fontsize': 'x-large',\n",
    "         'axes.labelsize': 'x-large',\n",
    "         'axes.titlesize':'x-large',\n",
    "         'xtick.labelsize':'x-large',\n",
    "         'ytick.labelsize':'x-large'}\n",
    "pylab.rcParams.update(params)\n",
    "\n",
    "plt.plot(list_of_checkpt, \n",
    "         np.mean(neff_list_tsc, axis=1)/np.array(list_of_checkpt),\n",
    "         marker='o', markersize=8, color='b',\n",
    "         label='TSC')\n",
    "plt.plot(list_of_checkpt, \n",
    "         np.mean(neff_list_ex2_warp, axis=1)/np.array(list_of_checkpt),\n",
    "         marker='o', markersize=8, color='r',\n",
    "         label=r'Ex$^2$MCMC')\n",
    "\n",
    "plt.legend()\n",
    "plt.ylabel('ESS/total samples')\n",
    "plt.xlabel('Epoch')\n",
    "plt.savefig(Path('figs') / 'survey_ess.png')"
   ]
  },
  {
   "cell_type": "code",
   "execution_count": null,
   "metadata": {},
   "outputs": [],
   "source": []
  },
  {
   "cell_type": "markdown",
   "metadata": {
    "id": "H9J1R-0zlZNX"
   },
   "source": [
    "## Transform Weighted Data and Run Methods"
   ]
  },
  {
   "cell_type": "code",
   "execution_count": null,
   "metadata": {
    "id": "DTGMd-0GlZNX"
   },
   "outputs": [],
   "source": [
    "x_weighted = []\n",
    "y_weighted = []\n",
    "state = 0\n",
    "age = 50\n",
    "eth = 56\n",
    "educ = 60\n",
    "male_eth = 65\n",
    "educ_age = 73\n",
    "educ_eth = 103\n",
    "for i in range(1, len(cces)+1):\n",
    "    x_i = np.zeros(128)\n",
    "    eth_idx = data_to_idx[cces_weighted.loc[i,'eth']]\n",
    "    age_idx = data_to_idx[cces_weighted.loc[i,'age']]\n",
    "    educ_idx = data_to_idx[cces_weighted.loc[i,'educ']]\n",
    "    x_i[data_to_idx[cces_weighted.loc[i,'state.x']]] = 1\n",
    "    x_i[age_idx] = 1\n",
    "    x_i[eth_idx] = 1\n",
    "    x_i[educ_idx] = 1\n",
    "    \n",
    "    is_male = int(cces_weighted.loc[i,'male'] + 0.5)\n",
    "    male_eth_idx = male_eth + is_male * 4 + (eth_idx-eth) \n",
    "    educ_age_idx = educ_age + (educ_idx-educ) * 6 + (age_idx-age)\n",
    "    educ_eth_idx = educ_eth + (educ_idx-educ) * 4 + (eth_idx-eth)\n",
    "    x_i[male_eth_idx] = 1\n",
    "    x_i[educ_age_idx] = 1\n",
    "    x_i[educ_eth_idx] = 1\n",
    "    \n",
    "    x_i[123] = is_male\n",
    "    x_i[124] = int(cces_weighted.loc[i,'region'] == 'South')\n",
    "    x_i[125] = int(cces_weighted.loc[i,'region'] == 'North Central')\n",
    "    x_i[126] = int(cces_weighted.loc[i,'region'] == 'West')\n",
    "    x_i[127] = cces_weighted.loc[i,'repvote']\n",
    "    \n",
    "    x_weighted.append(x_i)\n",
    "    y_weighted.append(cces_weighted.loc[i,'abortion'])\n",
    "\n",
    "x_weighted = np.array(x_weighted, dtype=np.float32)\n",
    "y_weighted = np.array(y_weighted, dtype=np.float32)"
   ]
  },
  {
   "cell_type": "code",
   "execution_count": null,
   "metadata": {
    "id": "Wk1ZLoK7lZNX"
   },
   "outputs": [],
   "source": []
  },
  {
   "cell_type": "code",
   "execution_count": null,
   "metadata": {
    "id": "Ye0GIzrHlZNY"
   },
   "outputs": [],
   "source": []
  },
  {
   "cell_type": "code",
   "execution_count": null,
   "metadata": {
    "id": "mdsqYqEklZNY"
   },
   "outputs": [],
   "source": []
  },
  {
   "cell_type": "code",
   "execution_count": null,
   "metadata": {
    "id": "lt3895MAlZNY"
   },
   "outputs": [],
   "source": []
  },
  {
   "cell_type": "code",
   "execution_count": null,
   "metadata": {
    "id": "cyL2wikUlZNY"
   },
   "outputs": [],
   "source": []
  },
  {
   "cell_type": "code",
   "execution_count": null,
   "metadata": {
    "id": "H4EqDBa6lZNY"
   },
   "outputs": [],
   "source": []
  },
  {
   "cell_type": "code",
   "execution_count": null,
   "metadata": {
    "id": "cz_Oi6QSlZNY"
   },
   "outputs": [],
   "source": []
  },
  {
   "cell_type": "code",
   "execution_count": null,
   "metadata": {
    "id": "XXllZH1flZNY"
   },
   "outputs": [],
   "source": []
  },
  {
   "cell_type": "code",
   "execution_count": null,
   "metadata": {
    "id": "lWp9bldolZNY",
    "outputId": "ddb1fb0e-cb3e-4990-f712-9673148aff63"
   },
   "outputs": [],
   "source": [
    "tf.nn.sigmoid_cross_entropy_with_logits(logits=[[1.,9.],[1.,9.]], labels=[[0.,1.],[1.,0.]])"
   ]
  },
  {
   "cell_type": "markdown",
   "metadata": {
    "id": "PiwjZ0FdlZNY"
   },
   "source": [
    "\n",
    "Define a variational distribution q(alpha; phi) \\\n",
    "Define probabilistic model p(y|alpha; x, theta) \\\n",
    "Define prior p(alpha; theta) \\\n",
    "phi and theta are trainable by gradient methods \\\n",
    "\\\n",
    "for batch_x in x: \n",
    "   * sample alpha from q \n",
    "   * compute logpx_z = log p(y|alpha; batch_x, theta) \n",
    "   * compute logpz = log p(z; theta) \n",
    "   * compute logqz_x = log q(alpha; phi) \n",
    "   * elbo = logpx_z + logpz - logqz_x \n",
    "   * input -elbo as the objective into the autodiff. function\n",
    "    \n",
    "How to define q(alpha; phi):\n",
    "* Gaussian with diagonal covariance\n",
    "* In a separate implementation, q can also be a flow-based dist.\n",
    "\n",
    "How to define p(alpha; theta):\n",
    "* A number of Gaussian, same as in the document\n",
    "\n",
    "How to define p(y|alpha; x, theta):\n",
    "* The goal is that p(y|...) = inv_logit(alpha_1 + ... + alpha_m)\n",
    "* Note that we do not want to loop over x, and decide which \n",
    "  alpha (like which state/education level) does that x_i belong to\n",
    "* Map x to a multi-hot vector v, which is sparse, and element-wise \n",
    "  multiply v with alpha (like turning on and off which alpha_i is \n",
    "  relevant)\n"
   ]
  },
  {
   "cell_type": "markdown",
   "metadata": {
    "id": "8Z1FxTJOlZNZ"
   },
   "source": [
    "Define a variational distribution q(alpha; phi) \\\n",
    "Define probabilistic model p(y|alpha; x, theta) \\\n",
    "Define prior p(alpha; theta) \\\n",
    "Define HMC target p(alpha|y; theta) or p(eps|y; theta) \\\n",
    "phi and theta are trainable by gradient methods\n",
    "\n",
    "for batch_x in x:\n",
    "\n",
    "How to define p(alpha|y; theta):\n",
    "* p(alpha|y; theta) is proportional to p(alpha; theta) p(y|alpha; x, theta)"
   ]
  },
  {
   "cell_type": "code",
   "execution_count": null,
   "metadata": {
    "id": "Mf1Kb8aalZNZ"
   },
   "outputs": [],
   "source": [
    "import pickle\n",
    "import pandas as pd"
   ]
  },
  {
   "cell_type": "code",
   "execution_count": null,
   "metadata": {
    "id": "SIHxUYvIlZNZ"
   },
   "outputs": [],
   "source": [
    "a = np.reshape(np.array(list(range(24))), (2,3,4))\n",
    "\n",
    "with open('abc.pickle', 'wb') as handle:\n",
    "    pickle.dump(a, handle, protocol=pickle.HIGHEST_PROTOCOL)\n",
    "    \n",
    "pd.read_pickle('abc.pickle')\n"
   ]
  },
  {
   "cell_type": "code",
   "execution_count": null,
   "metadata": {
    "id": "yPq5e3YXlZNZ"
   },
   "outputs": [],
   "source": [
    "def autocor(x, t):\n",
    "    n = x.shape[0]\n",
    "    mu = np.mean(x)\n",
    "    sigma2 = np.var(x)\n",
    "    numer = np.sum((x[:(n-t),:]-mu) * (x[t:,:]-mu))\n",
    "    return numer/((n-t)*sigma2)\n",
    "\n",
    "def neff(x):\n",
    "    n = x.shape[0]\n",
    "    d = x.shape[1]\n",
    "    d_i = 0\n",
    "    autocor_arr = np.zeros((n, d))\n",
    "    for t in range(1, n):\n",
    "        autocor_arr[t-1, :] = autocor(x, t)\n",
    "        if t > 1:\n",
    "            if autocor_arr[t-1, d_i] + autocor_arr[t-2, d_i] < 0:\n",
    "                autocor_arr[t-1, d_i] = 0\n",
    "                autocor_arr[t-2, d_i] = 0\n",
    "                break      \n",
    "    return n/(1+2*np.sum(autocor_arr))\n",
    "\n",
    "space_btw_epochs = 1000\n",
    "num_checkpt = int(hmc_points_warped.shape[0] / space_btw_epochs)\n",
    "num_dim = hmc_points_warped.shape[1]\n",
    "neff_list_orig = np.zeros((num_checkpt, num_dim))\n",
    "\n",
    "for i in range(num_checkpt):\n",
    "    idx = space_btw_epochs * (i+1)\n",
    "    neff_list_orig[i, :] = neff(hmc_points_orig[:idx, :])\n",
    "    print(i, np.mean(neff_list_orig[i,:]/idx))"
   ]
  },
  {
   "cell_type": "code",
   "execution_count": null,
   "metadata": {
    "id": "9axb61YolZNZ"
   },
   "outputs": [],
   "source": []
  },
  {
   "cell_type": "code",
   "execution_count": null,
   "metadata": {
    "id": "6-rUfin9lZNZ"
   },
   "outputs": [],
   "source": []
  }
 ],
 "metadata": {
  "colab": {
   "collapsed_sections": [
    "H9J1R-0zlZNX"
   ],
   "machine_shape": "hm",
   "name": "survey_data.ipynb",
   "provenance": []
  },
  "kernelspec": {
   "display_name": "Python 3",
   "language": "python",
   "name": "python3"
  },
  "language_info": {
   "codemirror_mode": {
    "name": "ipython",
    "version": 3
   },
   "file_extension": ".py",
   "mimetype": "text/x-python",
   "name": "python",
   "nbconvert_exporter": "python",
   "pygments_lexer": "ipython3",
   "version": "3.8.13"
  }
 },
 "nbformat": 4,
 "nbformat_minor": 1
}
