{
 "cells": [
  {
   "cell_type": "code",
   "execution_count": 1,
   "metadata": {
    "executionInfo": {
     "elapsed": 2840,
     "status": "ok",
     "timestamp": 1630512394945,
     "user": {
      "displayName": "Liyi Zhang",
      "photoUrl": "https://lh3.googleusercontent.com/a-/AOh14Gh9V3hIAgWLKOIy-Olktu7QU6Q3a0l2eUzzAf2j=s64",
      "userId": "06658486172350999592"
     },
     "user_tz": -480
    },
    "id": "O_6-e1BylsCI"
   },
   "outputs": [
    {
     "name": "stderr",
     "output_type": "stream",
     "text": [
      "2022-04-21 19:39:33.012105: I tensorflow/core/platform/cpu_feature_guard.cc:142] This TensorFlow binary is optimized with oneAPI Deep Neural Network Library (oneDNN)to use the following CPU instructions in performance-critical operations:  SSE4.1 SSE4.2 AVX AVX2 FMA\n",
      "To enable them in other operations, rebuild TensorFlow with the appropriate compiler flags.\n",
      "2022-04-21 19:39:33.037718: I tensorflow/core/platform/profile_utils/cpu_utils.cc:104] CPU Frequency: 3699850000 Hz\n",
      "2022-04-21 19:39:33.038125: I tensorflow/compiler/xla/service/service.cc:168] XLA service 0x55d7737d2c70 initialized for platform Host (this does not guarantee that XLA will be used). Devices:\n",
      "2022-04-21 19:39:33.038145: I tensorflow/compiler/xla/service/service.cc:176]   StreamExecutor device (0): Host, Default Version\n"
     ]
    }
   ],
   "source": [
    "%load_ext autoreload\n",
    "%autoreload 2\n",
    "\n",
    "import pandas as pd\n",
    "import numpy as np\n",
    "import tensorflow as tf\n",
    "from tensorflow_probability import distributions as tfd\n",
    "import matplotlib.pyplot as plt\n",
    "import matplotlib.pylab as pylab\n",
    "import pickle\n",
    "from pathlib import Path\n",
    "\n",
    "import models"
   ]
  },
  {
   "cell_type": "code",
   "execution_count": 2,
   "metadata": {
    "executionInfo": {
     "elapsed": 46,
     "status": "ok",
     "timestamp": 1630512394977,
     "user": {
      "displayName": "Liyi Zhang",
      "photoUrl": "https://lh3.googleusercontent.com/a-/AOh14Gh9V3hIAgWLKOIy-Olktu7QU6Q3a0l2eUzzAf2j=s64",
      "userId": "06658486172350999592"
     },
     "user_tz": -480
    },
    "id": "itTV35fVlZM3"
   },
   "outputs": [],
   "source": [
    "cces = pd.read_csv('data/cces_df.csv', index_col=0)\n",
    "cces_all = pd.read_csv('data/cces_all_df.csv', index_col=0)\n",
    "cces_weighted = pd.read_csv('data/cces_weighted_df.csv', index_col=0)"
   ]
  },
  {
   "cell_type": "code",
   "execution_count": 3,
   "metadata": {
    "colab": {
     "base_uri": "https://localhost:8080/",
     "height": 419
    },
    "executionInfo": {
     "elapsed": 46,
     "status": "ok",
     "timestamp": 1630512394978,
     "user": {
      "displayName": "Liyi Zhang",
      "photoUrl": "https://lh3.googleusercontent.com/a-/AOh14Gh9V3hIAgWLKOIy-Olktu7QU6Q3a0l2eUzzAf2j=s64",
      "userId": "06658486172350999592"
     },
     "user_tz": -480
    },
    "id": "IJxA_kR_lZM5",
    "outputId": "635808a8-f709-4ad9-ac16-e4113830654d"
   },
   "outputs": [
    {
     "data": {
      "text/html": [
       "<div>\n",
       "<style scoped>\n",
       "    .dataframe tbody tr th:only-of-type {\n",
       "        vertical-align: middle;\n",
       "    }\n",
       "\n",
       "    .dataframe tbody tr th {\n",
       "        vertical-align: top;\n",
       "    }\n",
       "\n",
       "    .dataframe thead th {\n",
       "        text-align: right;\n",
       "    }\n",
       "</style>\n",
       "<table border=\"1\" class=\"dataframe\">\n",
       "  <thead>\n",
       "    <tr style=\"text-align: right;\">\n",
       "      <th></th>\n",
       "      <th>abortion</th>\n",
       "      <th>eth</th>\n",
       "      <th>male</th>\n",
       "      <th>age</th>\n",
       "      <th>educ</th>\n",
       "      <th>repvote</th>\n",
       "      <th>region</th>\n",
       "      <th>state</th>\n",
       "    </tr>\n",
       "  </thead>\n",
       "  <tbody>\n",
       "    <tr>\n",
       "      <th>1</th>\n",
       "      <td>1</td>\n",
       "      <td>White</td>\n",
       "      <td>-0.5</td>\n",
       "      <td>60-69</td>\n",
       "      <td>4-Year College</td>\n",
       "      <td>0.504080</td>\n",
       "      <td>North Central</td>\n",
       "      <td>WI</td>\n",
       "    </tr>\n",
       "    <tr>\n",
       "      <th>2</th>\n",
       "      <td>1</td>\n",
       "      <td>White</td>\n",
       "      <td>-0.5</td>\n",
       "      <td>60-69</td>\n",
       "      <td>HS</td>\n",
       "      <td>0.427158</td>\n",
       "      <td>Northeast</td>\n",
       "      <td>NJ</td>\n",
       "    </tr>\n",
       "    <tr>\n",
       "      <th>3</th>\n",
       "      <td>0</td>\n",
       "      <td>White</td>\n",
       "      <td>-0.5</td>\n",
       "      <td>40-49</td>\n",
       "      <td>HS</td>\n",
       "      <td>0.506188</td>\n",
       "      <td>South</td>\n",
       "      <td>FL</td>\n",
       "    </tr>\n",
       "    <tr>\n",
       "      <th>4</th>\n",
       "      <td>1</td>\n",
       "      <td>White</td>\n",
       "      <td>0.5</td>\n",
       "      <td>70+</td>\n",
       "      <td>Some college</td>\n",
       "      <td>0.506188</td>\n",
       "      <td>South</td>\n",
       "      <td>FL</td>\n",
       "    </tr>\n",
       "    <tr>\n",
       "      <th>5</th>\n",
       "      <td>0</td>\n",
       "      <td>White</td>\n",
       "      <td>-0.5</td>\n",
       "      <td>50-59</td>\n",
       "      <td>Some college</td>\n",
       "      <td>0.409799</td>\n",
       "      <td>North Central</td>\n",
       "      <td>IL</td>\n",
       "    </tr>\n",
       "    <tr>\n",
       "      <th>...</th>\n",
       "      <td>...</td>\n",
       "      <td>...</td>\n",
       "      <td>...</td>\n",
       "      <td>...</td>\n",
       "      <td>...</td>\n",
       "      <td>...</td>\n",
       "      <td>...</td>\n",
       "      <td>...</td>\n",
       "    </tr>\n",
       "    <tr>\n",
       "      <th>4996</th>\n",
       "      <td>0</td>\n",
       "      <td>White</td>\n",
       "      <td>0.5</td>\n",
       "      <td>50-59</td>\n",
       "      <td>4-Year College</td>\n",
       "      <td>0.338718</td>\n",
       "      <td>West</td>\n",
       "      <td>CA</td>\n",
       "    </tr>\n",
       "    <tr>\n",
       "      <th>4997</th>\n",
       "      <td>0</td>\n",
       "      <td>White</td>\n",
       "      <td>0.5</td>\n",
       "      <td>18-29</td>\n",
       "      <td>Some college</td>\n",
       "      <td>0.518900</td>\n",
       "      <td>West</td>\n",
       "      <td>AZ</td>\n",
       "    </tr>\n",
       "    <tr>\n",
       "      <th>4998</th>\n",
       "      <td>1</td>\n",
       "      <td>White</td>\n",
       "      <td>0.5</td>\n",
       "      <td>50-59</td>\n",
       "      <td>HS</td>\n",
       "      <td>0.473167</td>\n",
       "      <td>West</td>\n",
       "      <td>CO</td>\n",
       "    </tr>\n",
       "    <tr>\n",
       "      <th>4999</th>\n",
       "      <td>1</td>\n",
       "      <td>White</td>\n",
       "      <td>-0.5</td>\n",
       "      <td>50-59</td>\n",
       "      <td>HS</td>\n",
       "      <td>0.506188</td>\n",
       "      <td>South</td>\n",
       "      <td>FL</td>\n",
       "    </tr>\n",
       "    <tr>\n",
       "      <th>5000</th>\n",
       "      <td>0</td>\n",
       "      <td>White</td>\n",
       "      <td>0.5</td>\n",
       "      <td>30-39</td>\n",
       "      <td>Some college</td>\n",
       "      <td>0.503755</td>\n",
       "      <td>Northeast</td>\n",
       "      <td>PA</td>\n",
       "    </tr>\n",
       "  </tbody>\n",
       "</table>\n",
       "<p>5000 rows × 8 columns</p>\n",
       "</div>"
      ],
      "text/plain": [
       "      abortion    eth  male    age            educ   repvote         region  \\\n",
       "1            1  White  -0.5  60-69  4-Year College  0.504080  North Central   \n",
       "2            1  White  -0.5  60-69              HS  0.427158      Northeast   \n",
       "3            0  White  -0.5  40-49              HS  0.506188          South   \n",
       "4            1  White   0.5    70+    Some college  0.506188          South   \n",
       "5            0  White  -0.5  50-59    Some college  0.409799  North Central   \n",
       "...        ...    ...   ...    ...             ...       ...            ...   \n",
       "4996         0  White   0.5  50-59  4-Year College  0.338718           West   \n",
       "4997         0  White   0.5  18-29    Some college  0.518900           West   \n",
       "4998         1  White   0.5  50-59              HS  0.473167           West   \n",
       "4999         1  White  -0.5  50-59              HS  0.506188          South   \n",
       "5000         0  White   0.5  30-39    Some college  0.503755      Northeast   \n",
       "\n",
       "     state  \n",
       "1       WI  \n",
       "2       NJ  \n",
       "3       FL  \n",
       "4       FL  \n",
       "5       IL  \n",
       "...    ...  \n",
       "4996    CA  \n",
       "4997    AZ  \n",
       "4998    CO  \n",
       "4999    FL  \n",
       "5000    PA  \n",
       "\n",
       "[5000 rows x 8 columns]"
      ]
     },
     "execution_count": 3,
     "metadata": {},
     "output_type": "execute_result"
    }
   ],
   "source": [
    "cces"
   ]
  },
  {
   "cell_type": "markdown",
   "metadata": {
    "id": "n4Ge6jbZlZM6"
   },
   "source": [
    "## Transform data"
   ]
  },
  {
   "cell_type": "code",
   "execution_count": 4,
   "metadata": {
    "executionInfo": {
     "elapsed": 3329,
     "status": "ok",
     "timestamp": 1630512398267,
     "user": {
      "displayName": "Liyi Zhang",
      "photoUrl": "https://lh3.googleusercontent.com/a-/AOh14Gh9V3hIAgWLKOIy-Olktu7QU6Q3a0l2eUzzAf2j=s64",
      "userId": "06658486172350999592"
     },
     "user_tz": -480
    },
    "id": "c_ttv46flZM7"
   },
   "outputs": [],
   "source": [
    "# Fills in the dictionary so that we know which index corresponds to what state / eth / edu etc.\n",
    "\n",
    "data_to_idx = {}\n",
    "list_of_states_and_votes = []\n",
    "list_of_states = []\n",
    "state = 0\n",
    "age = 50\n",
    "eth = 56\n",
    "educ = 60\n",
    "male_eth = 65\n",
    "educ_age = 73\n",
    "educ_eth = 103\n",
    "for i in range(1, len(cces_all)+1):\n",
    "    tup = (cces_all.loc[i,'state'], cces_all.loc[i,'repvote'])\n",
    "    if cces_all.loc[i,'state'] not in data_to_idx:\n",
    "        data_to_idx[cces_all.loc[i,'state']] = state\n",
    "        state += 1\n",
    "    if tup not in list_of_states_and_votes:\n",
    "        list_of_states_and_votes.append(tup)\n",
    "    if cces_all.loc[i,'age'] not in data_to_idx:\n",
    "        data_to_idx[cces_all.loc[i,'age']] = age\n",
    "        age += 1\n",
    "    if cces_all.loc[i,'eth'] not in data_to_idx:\n",
    "        data_to_idx[cces_all.loc[i,'eth']] = eth\n",
    "        eth += 1\n",
    "    if cces_all.loc[i,'educ'] not in data_to_idx:\n",
    "        data_to_idx[cces_all.loc[i,'educ']] = educ\n",
    "        educ += 1\n",
    "list_of_states_and_votes.sort(key=lambda x:x[1])\n",
    "for tup in list_of_states_and_votes:\n",
    "    list_of_states.append(tup[0])"
   ]
  },
  {
   "cell_type": "code",
   "execution_count": 5,
   "metadata": {
    "executionInfo": {
     "elapsed": 8,
     "status": "ok",
     "timestamp": 1630512398268,
     "user": {
      "displayName": "Liyi Zhang",
      "photoUrl": "https://lh3.googleusercontent.com/a-/AOh14Gh9V3hIAgWLKOIy-Olktu7QU6Q3a0l2eUzzAf2j=s64",
      "userId": "06658486172350999592"
     },
     "user_tz": -480
    },
    "id": "NVuSB71glZM8"
   },
   "outputs": [],
   "source": [
    "# Create new representation of data that contains only 0 and 1\n",
    "\n",
    "def transform_raw(cces, data_to_idx, i, \n",
    "                  state=0, age=50, eth=56, educ=60,\n",
    "                  male_eth=65, educ_age=73, educ_eth=103):\n",
    "    x_i = np.zeros(128)\n",
    "    eth_idx = data_to_idx[cces.loc[i,'eth']]\n",
    "    age_idx = data_to_idx[cces.loc[i,'age']]\n",
    "    educ_idx = data_to_idx[cces.loc[i,'educ']]\n",
    "    x_i[data_to_idx[cces.loc[i,'state']]] = 1\n",
    "    x_i[age_idx] = 1\n",
    "    x_i[eth_idx] = 1\n",
    "    x_i[educ_idx] = 1\n",
    "    \n",
    "    is_male = int(cces.loc[i,'male'] + 0.5)\n",
    "    male_eth_idx = male_eth + is_male * 4 + (eth_idx-eth) \n",
    "    educ_age_idx = educ_age + (educ_idx-educ) * 6 + (age_idx-age)\n",
    "    educ_eth_idx = educ_eth + (educ_idx-educ) * 4 + (eth_idx-eth)\n",
    "    x_i[male_eth_idx] = 1\n",
    "    x_i[educ_age_idx] = 1\n",
    "    x_i[educ_eth_idx] = 1\n",
    "    \n",
    "    x_i[123] = is_male\n",
    "    x_i[124] = int(cces.loc[i,'region'] == 'South')\n",
    "    x_i[125] = int(cces.loc[i,'region'] == 'North Central')\n",
    "    x_i[126] = int(cces.loc[i,'region'] == 'West')\n",
    "    x_i[127] = cces.loc[i,'repvote']\n",
    "    \n",
    "    return x_i\n",
    "\n",
    "x = []\n",
    "y = []\n",
    "for i in range(1, len(cces)+1):\n",
    "    x_i = transform_raw(cces, data_to_idx, i)\n",
    "    \n",
    "    x.append(x_i)\n",
    "    y.append(cces.loc[i,'abortion'])\n",
    "\n",
    "x = np.array(x, dtype=np.float32)\n",
    "y = np.array(y, dtype=np.float32)"
   ]
  },
  {
   "cell_type": "markdown",
   "metadata": {
    "id": "kz8sWhkRlZM9"
   },
   "source": [
    "## Variational Inference"
   ]
  },
  {
   "cell_type": "code",
   "execution_count": 6,
   "metadata": {
    "id": "OBzXcLZTlZM9"
   },
   "outputs": [],
   "source": [
    "# model = models.VI_KLqp(dataset='survey', v_fam='flow')\n",
    "# model.x = x\n",
    "# model.y = y\n",
    "# model.train(lr=0.003)"
   ]
  },
  {
   "cell_type": "code",
   "execution_count": 7,
   "metadata": {
    "collapsed": true,
    "id": "Fl3ufkpMlZM-"
   },
   "outputs": [],
   "source": [
    "# model = models.VI_KLqp(dataset='survey', v_fam='gaussian')\n",
    "# model.x = x\n",
    "# model.y = y\n",
    "# model.train(lr=0.01)"
   ]
  },
  {
   "cell_type": "markdown",
   "metadata": {
    "id": "8OxG6HIClZM_"
   },
   "source": [
    "## Hamiltonian Score Climbing"
   ]
  },
  {
   "cell_type": "code",
   "execution_count": 8,
   "metadata": {
    "colab": {
     "base_uri": "https://localhost:8080/"
    },
    "collapsed": true,
    "id": "2n5lAVutlZM_",
    "outputId": "442064c2-5d62-4b02-e2d8-d152c355d0ec"
   },
   "outputs": [],
   "source": [
    "# model = models.VI_KLpq(v_fam='flow', space='warped', dataset='survey', hmc_e=0.03, hmc_L=33, chains=1)\n",
    "# model.x = x\n",
    "# model.y = y\n",
    "# model.train(lr=0.001)"
   ]
  },
  {
   "cell_type": "code",
   "execution_count": 9,
   "metadata": {
    "colab": {
     "base_uri": "https://localhost:8080/"
    },
    "collapsed": true,
    "executionInfo": {
     "elapsed": 2195175,
     "status": "ok",
     "timestamp": 1630546103577,
     "user": {
      "displayName": "Liyi Zhang",
      "photoUrl": "https://lh3.googleusercontent.com/a-/AOh14Gh9V3hIAgWLKOIy-Olktu7QU6Q3a0l2eUzzAf2j=s64",
      "userId": "06658486172350999592"
     },
     "user_tz": -480
    },
    "id": "7AlGvzpolZNI",
    "outputId": "549cc2bb-0b2f-48ed-c260-eb77c9129c68"
   },
   "outputs": [],
   "source": [
    "# model = models.VI_KLpq(v_fam='gaussian', space='eps', dataset='survey', hmc_e=0.05, hmc_L=20, chains=1)\n",
    "# model.x = x\n",
    "# model.y = y\n",
    "# model.train(lr=0.01)"
   ]
  },
  {
   "cell_type": "code",
   "execution_count": 10,
   "metadata": {},
   "outputs": [],
   "source": [
    "# model = models.VI_KLpq(v_fam='gaussian', space='eps', dataset='survey', hmc_e=0.05, hmc_L=20, chains=1)\n",
    "# model.x = x\n",
    "# model.y = y\n",
    "# model.train(lr=0.01, epochs=int(1e4))"
   ]
  },
  {
   "cell_type": "code",
   "execution_count": 11,
   "metadata": {
    "collapsed": true
   },
   "outputs": [],
   "source": [
    "# # MSC\n",
    "# model = models.VI_KLpq(v_fam='gaussian', space='theta', dataset='survey', hmc_e=0.03, hmc_L=33, chains=1)\n",
    "# model.x = x\n",
    "# model.y = y\n",
    "# model.train(lr=0.01)"
   ]
  },
  {
   "cell_type": "markdown",
   "metadata": {},
   "source": [
    "## Real MSC"
   ]
  },
  {
   "cell_type": "code",
   "execution_count": 12,
   "metadata": {},
   "outputs": [],
   "source": [
    "# #MSC, i-SIR\n",
    "\n",
    "# model = models.VI_KLpq(v_fam='gaussian', space='eps', dataset='survey', hmc_e=0.03, hmc_L=33, chains=2, cis=10, eps=0.5, alpha=0.95, rejuvenation=True)\n",
    "# model.x = x\n",
    "# model.y = y\n",
    "# model.train(lr=0.01, epochs=int(1e4))"
   ]
  },
  {
   "cell_type": "markdown",
   "metadata": {
    "id": "06unjCIJlZNJ"
   },
   "source": [
    "## Evaluations"
   ]
  },
  {
   "cell_type": "code",
   "execution_count": 13,
   "metadata": {
    "colab": {
     "base_uri": "https://localhost:8080/",
     "height": 204
    },
    "executionInfo": {
     "elapsed": 11,
     "status": "ok",
     "timestamp": 1630239757176,
     "user": {
      "displayName": "Liyi Zhang",
      "photoUrl": "https://lh3.googleusercontent.com/a-/AOh14Gh9V3hIAgWLKOIy-Olktu7QU6Q3a0l2eUzzAf2j=s64",
      "userId": "06658486172350999592"
     },
     "user_tz": -480
    },
    "id": "ZjQLXnLwlZNJ",
    "outputId": "2fc7a4cd-3967-4a1a-8796-ff77f03429a1"
   },
   "outputs": [
    {
     "data": {
      "text/html": [
       "<div>\n",
       "<style scoped>\n",
       "    .dataframe tbody tr th:only-of-type {\n",
       "        vertical-align: middle;\n",
       "    }\n",
       "\n",
       "    .dataframe tbody tr th {\n",
       "        vertical-align: top;\n",
       "    }\n",
       "\n",
       "    .dataframe thead th {\n",
       "        text-align: right;\n",
       "    }\n",
       "</style>\n",
       "<table border=\"1\" class=\"dataframe\">\n",
       "  <thead>\n",
       "    <tr style=\"text-align: right;\">\n",
       "      <th></th>\n",
       "      <th>state</th>\n",
       "      <th>eth</th>\n",
       "      <th>male</th>\n",
       "      <th>age</th>\n",
       "      <th>educ</th>\n",
       "      <th>n</th>\n",
       "      <th>repvote</th>\n",
       "      <th>region</th>\n",
       "    </tr>\n",
       "  </thead>\n",
       "  <tbody>\n",
       "    <tr>\n",
       "      <th>0</th>\n",
       "      <td>AL</td>\n",
       "      <td>White</td>\n",
       "      <td>-0.5</td>\n",
       "      <td>18-29</td>\n",
       "      <td>No HS</td>\n",
       "      <td>23948</td>\n",
       "      <td>0.643741</td>\n",
       "      <td>South</td>\n",
       "    </tr>\n",
       "    <tr>\n",
       "      <th>1</th>\n",
       "      <td>AL</td>\n",
       "      <td>White</td>\n",
       "      <td>-0.5</td>\n",
       "      <td>18-29</td>\n",
       "      <td>HS</td>\n",
       "      <td>59378</td>\n",
       "      <td>0.643741</td>\n",
       "      <td>South</td>\n",
       "    </tr>\n",
       "    <tr>\n",
       "      <th>2</th>\n",
       "      <td>AL</td>\n",
       "      <td>White</td>\n",
       "      <td>-0.5</td>\n",
       "      <td>18-29</td>\n",
       "      <td>Some college</td>\n",
       "      <td>104855</td>\n",
       "      <td>0.643741</td>\n",
       "      <td>South</td>\n",
       "    </tr>\n",
       "    <tr>\n",
       "      <th>3</th>\n",
       "      <td>AL</td>\n",
       "      <td>White</td>\n",
       "      <td>-0.5</td>\n",
       "      <td>18-29</td>\n",
       "      <td>4-Year College</td>\n",
       "      <td>37066</td>\n",
       "      <td>0.643741</td>\n",
       "      <td>South</td>\n",
       "    </tr>\n",
       "    <tr>\n",
       "      <th>4</th>\n",
       "      <td>AL</td>\n",
       "      <td>White</td>\n",
       "      <td>-0.5</td>\n",
       "      <td>18-29</td>\n",
       "      <td>Post-grad</td>\n",
       "      <td>9378</td>\n",
       "      <td>0.643741</td>\n",
       "      <td>South</td>\n",
       "    </tr>\n",
       "  </tbody>\n",
       "</table>\n",
       "</div>"
      ],
      "text/plain": [
       "  state    eth  male    age            educ       n   repvote region\n",
       "0    AL  White  -0.5  18-29           No HS   23948  0.643741  South\n",
       "1    AL  White  -0.5  18-29              HS   59378  0.643741  South\n",
       "2    AL  White  -0.5  18-29    Some college  104855  0.643741  South\n",
       "3    AL  White  -0.5  18-29  4-Year College   37066  0.643741  South\n",
       "4    AL  White  -0.5  18-29       Post-grad    9378  0.643741  South"
      ]
     },
     "execution_count": 13,
     "metadata": {},
     "output_type": "execute_result"
    }
   ],
   "source": [
    "poststrat_df = pd.read_csv('data/poststrat_df.csv')\n",
    "statelevel_predictors_df = pd.read_csv('data/statelevel_predictors.csv', index_col=0)\n",
    "poststrat_df = poststrat_df.merge(statelevel_predictors_df, how='left', on='state')\n",
    "mrp_states_df = pd.read_csv('data/mrp_states.csv')\n",
    "poststrat_df.head()"
   ]
  },
  {
   "cell_type": "code",
   "execution_count": 14,
   "metadata": {
    "id": "LWR6SA44lZNK"
   },
   "outputs": [],
   "source": [
    "# Transform raw data into 0-1 vectors:\n",
    "x_poststrat = []\n",
    "for i in range(len(poststrat_df)):\n",
    "    x_i = transform_raw(poststrat_df, data_to_idx, i)\n",
    "    x_poststrat.append(x_i)\n",
    "x_poststrat = np.array(x_poststrat, dtype='float32')"
   ]
  },
  {
   "cell_type": "code",
   "execution_count": 15,
   "metadata": {
    "id": "w7odG1nWlZNK"
   },
   "outputs": [],
   "source": [
    "def estimate_vi_model_rate(x_poststrat, data_to_idx, model):\n",
    "    model.x = x_poststrat\n",
    "    splitted_x = tf.split(model.x, [123, 5], axis=1)\n",
    "    alpha = model.q.sample(10000)\n",
    "    term1 = tf.matmul(splitted_x[0], tf.transpose(alpha))\n",
    "    term2 = model.gamma_0\n",
    "    term3 = tf.matmul(splitted_x[1], tf.reshape(model.gamma, (5, 1)))\n",
    "    post_pred_mat = tf.math.sigmoid(tf.squeeze(term1 + term2 + term3))\n",
    "\n",
    "    return post_pred_mat\n",
    "\n",
    "def get_se_bernoulli(p, n):\n",
    "    return np.sqrt(p*(1-p)/n)"
   ]
  },
  {
   "cell_type": "code",
   "execution_count": 16,
   "metadata": {
    "colab": {
     "base_uri": "https://localhost:8080/"
    },
    "executionInfo": {
     "elapsed": 442,
     "status": "ok",
     "timestamp": 1630239764505,
     "user": {
      "displayName": "Liyi Zhang",
      "photoUrl": "https://lh3.googleusercontent.com/a-/AOh14Gh9V3hIAgWLKOIy-Olktu7QU6Q3a0l2eUzzAf2j=s64",
      "userId": "06658486172350999592"
     },
     "user_tz": -480
    },
    "id": "SSRHcyWtlZNL",
    "outputId": "cf191042-5f24-4b21-8fa0-33f3a3592f49"
   },
   "outputs": [
    {
     "name": "stdout",
     "output_type": "stream",
     "text": [
      "mean 0.4314\n",
      "std 0.007004199311841433\n"
     ]
    }
   ],
   "source": [
    "# 5,000-person unadjusted sample estimate:\n",
    "print('mean', np.mean(cces['abortion']))\n",
    "print('std', get_se_bernoulli(np.mean(cces['abortion']), len(cces)))"
   ]
  },
  {
   "cell_type": "code",
   "execution_count": 17,
   "metadata": {
    "colab": {
     "base_uri": "https://localhost:8080/"
    },
    "executionInfo": {
     "elapsed": 12,
     "status": "ok",
     "timestamp": 1630239765674,
     "user": {
      "displayName": "Liyi Zhang",
      "photoUrl": "https://lh3.googleusercontent.com/a-/AOh14Gh9V3hIAgWLKOIy-Olktu7QU6Q3a0l2eUzzAf2j=s64",
      "userId": "06658486172350999592"
     },
     "user_tz": -480
    },
    "id": "DA5jsvbUlZNN",
    "outputId": "b3c53e0e-c18e-401c-946c-adab4985aabc"
   },
   "outputs": [
    {
     "name": "stdout",
     "output_type": "stream",
     "text": [
      "mean 0.4341581675305133\n",
      "std 0.002026677342749567\n"
     ]
    }
   ],
   "source": [
    "# 60,000-person unadjusted sample estimate:\n",
    "print('mean', np.mean(cces_all['abortion']))\n",
    "print('std', get_se_bernoulli(np.mean(cces_all['abortion']), len(cces_all)))"
   ]
  },
  {
   "cell_type": "code",
   "execution_count": 18,
   "metadata": {},
   "outputs": [],
   "source": [
    "# # load model VI KLqp Gaussian\n",
    "# path = 'results/survey/vi_klqp_gaussian/2021-10-13-172522/'\n",
    "# model_qp = models.VI_KLqp(dataset='survey', v_fam='gaussian')\n",
    "# model_qp.x = x\n",
    "# model_qp.y = y\n",
    "# model_qp.gamma_0 = np.genfromtxt(path + 'gamma_0.csv', dtype='float32')[-1]\n",
    "# model_qp.gamma = np.genfromtxt(path + 'gamma.csv', dtype='float32')[-1,:]\n",
    "# model_qp.phi_m = np.genfromtxt(path + 'phi_m.csv', dtype='float32')[-1,:]\n",
    "# model_qp.phi_s = np.genfromtxt(path + 'phi_s.csv', dtype='float32')[-1,:]\n",
    "# model_qp.sigma = np.genfromtxt(path + 'sigma.csv', dtype='float32')[-1,:]\n",
    "# model_qp.q = tfd.MultivariateNormalDiag(\n",
    "#               loc=model_qp.phi_m, \n",
    "#               scale_diag=model_qp.phi_s)"
   ]
  },
  {
   "cell_type": "code",
   "execution_count": 19,
   "metadata": {},
   "outputs": [],
   "source": [
    "# losses = -np.genfromtxt(path + 'elbo.csv', dtype='float32')\n",
    "# plt.plot(list(range(len(losses))), losses)"
   ]
  },
  {
   "cell_type": "code",
   "execution_count": 121,
   "metadata": {},
   "outputs": [],
   "source": [
    "v_fam = 'gaussian'\n",
    "space = 'warped'\n",
    "\n",
    "tsc_path = sorted(list(Path(f'results/survey/vi_klpq_N0_{space}_{v_fam}').glob('*')))[-1]\n",
    "N = 20\n",
    "ex2_warp_path = sorted(list(Path(f'results/survey/vi_klpq_N{N}_{space}_{v_fam}').glob('*')))[-1]\n",
    "ex2_warp_rao_path = sorted(list(Path(f'results/survey/vi_klpq_N{N}_{space}_{v_fam}_rao').glob('*')))[-1]"
   ]
  },
  {
   "cell_type": "code",
   "execution_count": 122,
   "metadata": {
    "id": "584bcVLblZNO"
   },
   "outputs": [],
   "source": [
    "# load model VI KLpq Gaussian - HSC\n",
    "#path = Path('results/survey/vi_klpq_N0_warped_gaussian/2022-04-18-102854')\n",
    "model_pq = models.VI_KLpq(v_fam=v_fam, space='warped', dataset='survey', hmc_e=0.05, hmc_L=20, chains=1)\n",
    "model_pq.x = x\n",
    "model_pq.y = y\n",
    "model_pq.gamma_0 = np.genfromtxt(tsc_path / 'gamma_0.csv', dtype='float32')[-1]\n",
    "model_pq.gamma = np.genfromtxt(tsc_path / 'gamma.csv', dtype='float32')[-1,:]\n",
    "model_pq.phi_m = np.genfromtxt(tsc_path / 'phi_m.csv', dtype='float32')[-1,:]\n",
    "model_pq.phi_s = np.genfromtxt(tsc_path / 'phi_s.csv', dtype='float32')[-1,:]\n",
    "model_pq.sigma = np.genfromtxt(tsc_path / 'sigma.csv', dtype='float32')[-1,:]\n",
    "model_pq.q = tfd.MultivariateNormalDiag(\n",
    "    loc=model_pq.phi_m, \n",
    "    scale_diag=model_pq.phi_s)"
   ]
  },
  {
   "cell_type": "code",
   "execution_count": 123,
   "metadata": {},
   "outputs": [
    {
     "data": {
      "text/plain": [
       "[<matplotlib.lines.Line2D at 0x7f41b865b1c0>]"
      ]
     },
     "execution_count": 123,
     "metadata": {},
     "output_type": "execute_result"
    },
    {
     "data": {
      "image/png": "[encoded data removed]",
      "text/plain": [
       "<Figure size 432x288 with 1 Axes>"
      ]
     },
     "metadata": {
      "needs_background": "light"
     },
     "output_type": "display_data"
    }
   ],
   "source": [
    "losses = np.genfromtxt(tsc_path / 'losses.csv', dtype='float32')\n",
    "plt.plot(list(range(len(losses))), losses)"
   ]
  },
  {
   "cell_type": "code",
   "execution_count": 124,
   "metadata": {},
   "outputs": [],
   "source": [
    "pass # not in warped space\n",
    "\n",
    "# # load model VI KLpq Gaussian - MSC\n",
    "# path = Path('results/survey/vi_klpq_N10_eps_gaussian/2022-04-14-180124')\n",
    "# model_pq_ex2_eps = models.VI_KLpq(v_fam='gaussian', space='eps', dataset='survey', hmc_e=0.05, hmc_L=20, cis=10, chains=1)\n",
    "# model_pq_ex2_eps.x = x\n",
    "# model_pq_ex2_eps.y = y\n",
    "# model_pq_ex2_eps.gamma_0 = np.genfromtxt(path / 'gamma_0.csv', dtype='float32')[-1]\n",
    "# model_pq_ex2_eps.gamma = np.genfromtxt(path / 'gamma.csv', dtype='float32')[-1,:]\n",
    "# model_pq_ex2_eps.phi_m = np.genfromtxt(path / 'phi_m.csv', dtype='float32')[-1,:]\n",
    "# model_pq_ex2_eps.phi_s = np.genfromtxt(path / 'phi_s.csv', dtype='float32')[-1,:]\n",
    "# model_pq_ex2_eps.sigma = np.genfromtxt(path / 'sigma.csv', dtype='float32')[-1,:]\n",
    "# model_pq_ex2_eps.q = tfd.MultivariateNormalDiag(\n",
    "#     loc=model_pq_ex2_eps.phi_m, \n",
    "#     scale_diag=model_pq_ex2_eps.phi_s)"
   ]
  },
  {
   "cell_type": "code",
   "execution_count": 125,
   "metadata": {},
   "outputs": [],
   "source": [
    "# losses = np.genfromtxt(path / 'losses.csv', dtype='float32')\n",
    "# plt.plot(list(range(len(losses))), losses)"
   ]
  },
  {
   "cell_type": "code",
   "execution_count": 126,
   "metadata": {},
   "outputs": [],
   "source": [
    "# load model VI KLpq Gaussian - MSC\n",
    "\n",
    "model_pq_ex2_warp = models.VI_KLpq(v_fam=v_fam, space='warped', dataset='survey', hmc_e=0.05, hmc_L=20, cis=N, chains=1)\n",
    "model_pq_ex2_warp.x = x\n",
    "model_pq_ex2_warp.y = y\n",
    "model_pq_ex2_warp.gamma_0 = np.genfromtxt(ex2_warp_path / 'gamma_0.csv', dtype='float32')[-1]\n",
    "model_pq_ex2_warp.gamma = np.genfromtxt(ex2_warp_path / 'gamma.csv', dtype='float32')[-1,:]\n",
    "model_pq_ex2_warp.phi_m = np.genfromtxt(ex2_warp_path / 'phi_m.csv', dtype='float32')[-1,:]\n",
    "model_pq_ex2_warp.phi_s = np.genfromtxt(ex2_warp_path / 'phi_s.csv', dtype='float32')[-1,:]\n",
    "model_pq_ex2_warp.sigma = np.genfromtxt(ex2_warp_path / 'sigma.csv', dtype='float32')[-1,:]\n",
    "model_pq_ex2_warp.q = tfd.MultivariateNormalDiag(\n",
    "    loc=model_pq_ex2_warp.phi_m, \n",
    "    scale_diag=model_pq_ex2_warp.phi_s)"
   ]
  },
  {
   "cell_type": "code",
   "execution_count": 127,
   "metadata": {},
   "outputs": [
    {
     "data": {
      "text/plain": [
       "[<matplotlib.lines.Line2D at 0x7f41d01e2940>]"
      ]
     },
     "execution_count": 127,
     "metadata": {},
     "output_type": "execute_result"
    },
    {
     "data": {
      "image/png": "[encoded data removed]",
      "text/plain": [
       "<Figure size 432x288 with 1 Axes>"
      ]
     },
     "metadata": {
      "needs_background": "light"
     },
     "output_type": "display_data"
    }
   ],
   "source": [
    "losses = np.genfromtxt(ex2_warp_path / 'losses.csv', dtype='float32')\n",
    "plt.plot(list(range(len(losses))), losses)"
   ]
  },
  {
   "cell_type": "code",
   "execution_count": 128,
   "metadata": {},
   "outputs": [],
   "source": [
    "# load model VI KLpq Gaussian - MSC\n",
    "\n",
    "model_pq_ex2_warp_rao = models.VI_KLpq(v_fam=v_fam, space='warped', dataset='survey', hmc_e=0.05, hmc_L=20, cis=N, chains=1)\n",
    "model_pq_ex2_warp_rao.x = x\n",
    "model_pq_ex2_warp_rao.y = y\n",
    "model_pq_ex2_warp_rao.gamma_0 = np.genfromtxt(ex2_warp_rao_path / 'gamma_0.csv', dtype='float32')[-1]\n",
    "model_pq_ex2_warp_rao.gamma = np.genfromtxt(ex2_warp_rao_path / 'gamma.csv', dtype='float32')[-1,:]\n",
    "model_pq_ex2_warp_rao.phi_m = np.genfromtxt(ex2_warp_rao_path / 'phi_m.csv', dtype='float32')[-1,:]\n",
    "model_pq_ex2_warp_rao.phi_s = np.genfromtxt(ex2_warp_rao_path / 'phi_s.csv', dtype='float32')[-1,:]\n",
    "model_pq_ex2_warp_rao.sigma = np.genfromtxt(ex2_warp_rao_path / 'sigma.csv', dtype='float32')[-1,:]\n",
    "model_pq_ex2_warp_rao.q = tfd.MultivariateNormalDiag(\n",
    "    loc=model_pq_ex2_warp_rao.phi_m, \n",
    "    scale_diag=model_pq_ex2_warp_rao.phi_s)"
   ]
  },
  {
   "cell_type": "code",
   "execution_count": 129,
   "metadata": {},
   "outputs": [
    {
     "data": {
      "text/plain": [
       "[<matplotlib.lines.Line2D at 0x7f41b823d3a0>]"
      ]
     },
     "execution_count": 129,
     "metadata": {},
     "output_type": "execute_result"
    },
    {
     "data": {
      "image/png": "[encoded data removed]",
      "text/plain": [
       "<Figure size 432x288 with 1 Axes>"
      ]
     },
     "metadata": {
      "needs_background": "light"
     },
     "output_type": "display_data"
    }
   ],
   "source": [
    "losses = np.genfromtxt(ex2_warp_rao_path / 'losses.csv', dtype='float32')\n",
    "plt.plot(list(range(len(losses))), losses)"
   ]
  },
  {
   "cell_type": "code",
   "execution_count": 81,
   "metadata": {
    "id": "TG5m0JOplZNP"
   },
   "outputs": [],
   "source": [
    "# # load model VI KLqp Flow\n",
    "# path = 'results/survey/vi_klqp_flow/2021-09-03-223300/'\n",
    "# model_qp_flow = models.VI_KLqp(v_fam='flow', dataset='survey')\n",
    "# model_qp_flow.x = x\n",
    "# model_qp_flow.y = y\n",
    "# model_qp_flow.gamma_0 = np.genfromtxt(path + 'gamma_0.csv', dtype='float32')[-1]\n",
    "# model_qp_flow.gamma = np.genfromtxt(path + 'gamma.csv', dtype='float32')[-1,:]\n",
    "# model_qp_flow.sigma = np.genfromtxt(path + 'sigma.csv', dtype='float32')[-1,:]\n",
    "# model_qp_flow.load_model(path + 'flow_model/model')"
   ]
  },
  {
   "cell_type": "code",
   "execution_count": 82,
   "metadata": {},
   "outputs": [],
   "source": [
    "# losses = -np.genfromtxt(path + 'elbo.csv', dtype='float32')\n",
    "# plt.plot(list(range(len(losses))), losses)"
   ]
  },
  {
   "cell_type": "code",
   "execution_count": null,
   "metadata": {},
   "outputs": [],
   "source": []
  },
  {
   "cell_type": "code",
   "execution_count": 83,
   "metadata": {
    "id": "zclpjtRelZNP"
   },
   "outputs": [],
   "source": [
    "# # load model VI KLpq Flow\n",
    "#path = Path('results/survey/vi_klpq_N0_warped_flow/2022-04-18-105801')\n",
    "# model_pq_flow = models.VI_KLpq(v_fam='flow', space='warped', dataset='survey', hmc_e=0.03, hmc_L=33, chains=64)\n",
    "# model_pq_flow.x = x\n",
    "# model_pq_flow.y = y\n",
    "# model_pq_flow.gamma_0 = np.genfromtxt(path / 'gamma_0.csv', dtype='float32')[-1]\n",
    "# model_pq_flow.gamma = np.genfromtxt(path / 'gamma.csv', dtype='float32')[-1,:]\n",
    "# model_pq_flow.sigma = np.genfromtxt(path / 'sigma.csv', dtype='float32')[-1,:]\n",
    "# model_pq_flow.load_model(path / 'flow_model/model')"
   ]
  },
  {
   "cell_type": "code",
   "execution_count": 84,
   "metadata": {},
   "outputs": [],
   "source": [
    "# losses = np.genfromtxt(path + 'losses.csv', dtype='float32')\n",
    "# plt.plot(list(range(len(losses))), losses)"
   ]
  },
  {
   "cell_type": "code",
   "execution_count": 85,
   "metadata": {},
   "outputs": [],
   "source": [
    "# load model VI KLpq Flow - MSC\n",
    "#path = Path('results/survey/vi_klpq_N10_warped_flow/2022-04-15-000944')\n",
    "# model_pq_ex2_flow_warp = models.VI_KLpq(v_fam='flow', space='eps', dataset='survey', hmc_e=0.03, hmc_L=33, cis=10, chains=1)\n",
    "# model_pq_ex2_flow_warp.x = x\n",
    "# model_pq_ex2_flow_warp.y = y\n",
    "# model_pq_ex2_flow_warp.gamma_0 = np.genfromtxt(path / 'gamma_0.csv', dtype='float32')[-1]\n",
    "# model_pq_ex2_flow_warp.gamma = np.genfromtxt(path / 'gamma.csv', dtype='float32')[-1,:]\n",
    "# model_pq_ex2_flow_warp.phi_m = np.genfromtxt(path / 'phi_m.csv', dtype='float32')[-1,:]\n",
    "# model_pq_ex2_flow_warp.phi_s = np.genfromtxt(path / 'phi_s.csv', dtype='float32')[-1,:]\n",
    "# model_pq_ex2_flow_warp.sigma = np.genfromtxt(path / 'sigma.csv', dtype='float32')[-1,:]\n",
    "# model_pq_ex2_flow_warp.q = tfd.MultivariateNormalDiag(\n",
    "#     loc=model_pq_ex2_flow_warp.phi_m, \n",
    "#     scale_diag=model_pq_ex2_flow_warp.phi_s)"
   ]
  },
  {
   "cell_type": "code",
   "execution_count": 86,
   "metadata": {},
   "outputs": [],
   "source": [
    "# losses = np.genfromtxt(path + 'losses.csv', dtype='float32')\n",
    "# plt.plot(list(range(len(losses))), losses)"
   ]
  },
  {
   "cell_type": "code",
   "execution_count": 87,
   "metadata": {},
   "outputs": [],
   "source": [
    "# load model VI KLpq Flow - MSC\n",
    "#path = Path('results/survey/vi_klpq_N10_warped_flow/2022-04-14-183205')\n",
    "# model_pq_ex2_warp = models.VI_KLpq(v_fam='flow', space='eps', dataset='survey', hmc_e=0.03, hmc_L=33, cis=10, chains=1)\n",
    "# model_pq_ex2_warp.x = x\n",
    "# model_pq_ex2_warp.y = y\n",
    "# model_pq_ex2_warp.gamma_0 = np.genfromtxt(path / 'gamma_0.csv', dtype='float32')[-1]\n",
    "# model_pq_ex2_warp.gamma = np.genfromtxt(path / 'gamma.csv', dtype='float32')[-1,:]\n",
    "# model_pq_ex2_warp.phi_m = np.genfromtxt(path / 'phi_m.csv', dtype='float32')[-1,:]\n",
    "# model_pq_ex2_warp.phi_s = np.genfromtxt(path / 'phi_s.csv', dtype='float32')[-1,:]\n",
    "# model_pq_ex2_warp.sigma = np.genfromtxt(path / 'sigma.csv', dtype='float32')[-1,:]\n",
    "# model_pq_ex2_warp.q = tfd.MultivariateNormalDiag(\n",
    "#     loc=model_pq_ex2_warp.phi_m, \n",
    "#     scale_diag=model_pq_ex2_warp.phi_s)"
   ]
  },
  {
   "cell_type": "code",
   "execution_count": 88,
   "metadata": {
    "id": "HxftW4dylZNP"
   },
   "outputs": [],
   "source": [
    "# post_pred_mat_qp = estimate_vi_model_rate(x_poststrat, data_to_idx, model_qp)\n",
    "# estimate = np.dot(np.array([poststrat_df['n']]), \n",
    "#                   np.array(post_pred_mat_qp)) / sum(poststrat_df['n'])\n",
    "# print('mean', np.mean(estimate))\n",
    "# print('std', np.std(estimate))"
   ]
  },
  {
   "cell_type": "code",
   "execution_count": 89,
   "metadata": {
    "id": "c90rpfcWlZNQ"
   },
   "outputs": [
    {
     "name": "stdout",
     "output_type": "stream",
     "text": [
      "mean 0.43443322537857676\n",
      "std 0.02312177656006315\n"
     ]
    }
   ],
   "source": [
    "post_pred_mat_pq = estimate_vi_model_rate(x_poststrat, data_to_idx, model_pq)\n",
    "estimate = np.dot(np.array([poststrat_df['n']]), \n",
    "                  np.array(post_pred_mat_pq)) / sum(poststrat_df['n'])\n",
    "print('mean', np.mean(estimate))\n",
    "print('std', np.std(estimate))"
   ]
  },
  {
   "cell_type": "code",
   "execution_count": 90,
   "metadata": {},
   "outputs": [],
   "source": [
    "# post_pred_mat_pq_msc = estimate_vi_model_rate(x_poststrat, data_to_idx, model_pq_ex2_eps)\n",
    "# estimate = np.dot(np.array([poststrat_df['n']]), \n",
    "#                   np.array(post_pred_mat_pq_msc)) / sum(poststrat_df['n'])\n",
    "# print('mean', np.mean(estimate))\n",
    "# print('std', np.std(estimate))"
   ]
  },
  {
   "cell_type": "code",
   "execution_count": 91,
   "metadata": {
    "colab": {
     "base_uri": "https://localhost:8080/"
    },
    "executionInfo": {
     "elapsed": 5134,
     "status": "ok",
     "timestamp": 1630239802190,
     "user": {
      "displayName": "Liyi Zhang",
      "photoUrl": "https://lh3.googleusercontent.com/a-/AOh14Gh9V3hIAgWLKOIy-Olktu7QU6Q3a0l2eUzzAf2j=s64",
      "userId": "06658486172350999592"
     },
     "user_tz": -480
    },
    "id": "PE-M-KtalZNQ",
    "outputId": "8d55cacb-6a7a-4c9b-97f6-2f1084b940a5"
   },
   "outputs": [],
   "source": [
    "# post_pred_mat_qp_flow = estimate_vi_model_rate(x_poststrat, data_to_idx, model_qp_flow)\n",
    "# estimate = np.dot(np.array([poststrat_df['n']]), \n",
    "#                   np.array(post_pred_mat_qp_flow)) / sum(poststrat_df['n'])\n",
    "# print('mean', np.mean(estimate))\n",
    "# print('std', np.std(estimate))"
   ]
  },
  {
   "cell_type": "code",
   "execution_count": 92,
   "metadata": {
    "colab": {
     "base_uri": "https://localhost:8080/"
    },
    "executionInfo": {
     "elapsed": 1099,
     "status": "ok",
     "timestamp": 1630239803259,
     "user": {
      "displayName": "Liyi Zhang",
      "photoUrl": "https://lh3.googleusercontent.com/a-/AOh14Gh9V3hIAgWLKOIy-Olktu7QU6Q3a0l2eUzzAf2j=s64",
      "userId": "06658486172350999592"
     },
     "user_tz": -480
    },
    "id": "CLnGz3lSlZNR",
    "outputId": "421de4c0-5925-4753-a95a-b5cca6a11bef"
   },
   "outputs": [],
   "source": [
    "pass\n",
    "# post_pred_mat_pq_flow = estimate_vi_model_rate(x_poststrat, data_to_idx, model_pq_flow)\n",
    "# estimate = np.dot(np.array([poststrat_df['n']]), \n",
    "#                   np.array(post_pred_mat_pq_flow)) / sum(poststrat_df['n'])\n",
    "# print('mean', np.mean(estimate))\n",
    "# print('std', np.std(estimate))"
   ]
  },
  {
   "cell_type": "markdown",
   "metadata": {
    "id": "wqTZ0Hs-lZNR"
   },
   "source": [
    "Compare parameters under different number of VI samples"
   ]
  },
  {
   "cell_type": "code",
   "execution_count": 93,
   "metadata": {
    "colab": {
     "base_uri": "https://localhost:8080/",
     "height": 265
    },
    "collapsed": true,
    "executionInfo": {
     "elapsed": 4267,
     "status": "ok",
     "timestamp": 1628143742224,
     "user": {
      "displayName": "Liyi Zhang",
      "photoUrl": "https://lh3.googleusercontent.com/a-/AOh14Gh9V3hIAgWLKOIy-Olktu7QU6Q3a0l2eUzzAf2j=s64",
      "userId": "06658486172350999592"
     },
     "user_tz": -480
    },
    "id": "GHzTL0MGlZNR",
    "outputId": "0f16d19a-db87-406f-d886-bf784fa62e65"
   },
   "outputs": [],
   "source": [
    "# path = 'results/survey/vi_klpq_gaussian/2021-09-01-162133/'\n",
    "# gamma = np.genfromtxt(path + 'gamma.csv')\n",
    "# plt.plot(gamma[:,0], label='gamma_1')\n",
    "# plt.plot(gamma[:,1], label='gamma_2')\n",
    "# plt.plot(gamma[:,2], label='gamma_3')\n",
    "# plt.plot(gamma[:,3], label='gamma_4')\n",
    "# plt.plot(gamma[:,4], label='gamma_5')\n",
    "# plt.show()"
   ]
  },
  {
   "cell_type": "code",
   "execution_count": 94,
   "metadata": {
    "collapsed": true,
    "id": "ksUPfGrElZNS",
    "outputId": "933592ab-a404-4018-abad-c4468ab29cc4"
   },
   "outputs": [],
   "source": [
    "# path = 'results/survey/vi_klpq_gaussian/2021-07-02-164958/'\n",
    "# gamma_1samp = np.genfromtxt(path + 'gamma.csv')\n",
    "# plt.plot(gamma_1samp[:,0], label='gamma_1')\n",
    "# plt.plot(gamma_1samp[:,1], label='gamma_2')\n",
    "# plt.plot(gamma_1samp[:,2], label='gamma_3')\n",
    "# plt.plot(gamma_1samp[:,3], label='gamma_4')\n",
    "# plt.plot(gamma_1samp[:,4], label='gamma_5')\n",
    "# plt.show()"
   ]
  },
  {
   "cell_type": "markdown",
   "metadata": {},
   "source": [
    "### By-state predictions"
   ]
  },
  {
   "cell_type": "markdown",
   "metadata": {
    "id": "nkV4xgCHlZNS"
   },
   "source": [
    "By state"
   ]
  },
  {
   "cell_type": "code",
   "execution_count": 95,
   "metadata": {},
   "outputs": [],
   "source": [
    "# post_pred_mat_qp = estimate_vi_model_rate(x_poststrat, data_to_idx, model_qp)\n",
    "# state_means_qp = []\n",
    "# state_stds_qp = []\n",
    "# for state in list_of_states:\n",
    "#     is_state = np.array([poststrat_df['state'] == state])\n",
    "#     estimate = np.dot(np.multiply(np.array([poststrat_df['n']]), is_state), \n",
    "#                       np.array(post_pred_mat_qp)) / np.sum(np.multiply(np.array([poststrat_df['n']]), is_state))\n",
    "#     state_means_qp.append(np.mean(estimate))\n",
    "#     state_stds_qp.append(np.std(estimate))\n",
    "#     print(state)\n",
    "#     print('mean', np.mean(estimate))\n",
    "#     print('std', np.std(estimate))\n",
    "# state_means_qp = np.array(state_means_qp)\n",
    "# state_stds_qp = np.array(state_stds_qp)"
   ]
  },
  {
   "cell_type": "code",
   "execution_count": 130,
   "metadata": {
    "id": "_53LZzJR5VGi"
   },
   "outputs": [
    {
     "name": "stdout",
     "output_type": "stream",
     "text": [
      "HI\n",
      "mean 0.3497693309233706\n",
      "std 0.04605247883231582\n",
      "CA\n",
      "mean 0.3809730932274492\n",
      "std 0.030089494360323814\n",
      "VT\n",
      "mean 0.39731807643843\n",
      "std 0.04699486981117326\n",
      "MA\n",
      "mean 0.34224981320296244\n",
      "std 0.03744537818804156\n",
      "MD\n",
      "mean 0.3482219792665956\n",
      "std 0.037646682015410805\n",
      "NY\n",
      "mean 0.3520621752273194\n",
      "std 0.031698685726634764\n",
      "IL\n",
      "mean 0.39871339833278213\n",
      "std 0.03430865630579485\n",
      "WA\n",
      "mean 0.3767161961061436\n",
      "std 0.03756432371367394\n",
      "RI\n",
      "mean 0.37331549743223635\n",
      "std 0.04607443009384268\n",
      "NJ\n",
      "mean 0.3677190511719852\n",
      "std 0.037297594976267195\n",
      "CT\n",
      "mean 0.3502340685144921\n",
      "std 0.04103675975421285\n",
      "OR\n",
      "mean 0.385672114928062\n",
      "std 0.04196494803816584\n",
      "DE\n",
      "mean 0.4458236578459705\n",
      "std 0.04532676397232933\n",
      "NM\n",
      "mean 0.3970438911211068\n",
      "std 0.041609158358645565\n",
      "VA\n",
      "mean 0.43627436288121246\n",
      "std 0.037150885973724984\n",
      "CO\n",
      "mean 0.4089898856477687\n",
      "std 0.04028409920077255\n",
      "ME\n",
      "mean 0.4261081703365289\n",
      "std 0.047924109244359386\n",
      "NV\n",
      "mean 0.39543962044488534\n",
      "std 0.03979733014259927\n",
      "MN\n",
      "mean 0.4270861544016845\n",
      "std 0.0434196575448962\n",
      "NH\n",
      "mean 0.41046868824807825\n",
      "std 0.04558800566109962\n",
      "MI\n",
      "mean 0.4351760550627436\n",
      "std 0.03820938841629654\n",
      "PA\n",
      "mean 0.4706206287334615\n",
      "std 0.03560455989935403\n",
      "WI\n",
      "mean 0.442835025442872\n",
      "std 0.041572308724648004\n",
      "FL\n",
      "mean 0.39639743362100155\n",
      "std 0.03136469009933719\n",
      "AZ\n",
      "mean 0.4559661380360836\n",
      "std 0.03801513353911849\n",
      "NC\n",
      "mean 0.4476290201754179\n",
      "std 0.03806612579586282\n",
      "GA\n",
      "mean 0.5163327506311141\n",
      "std 0.03707938088779219\n",
      "OH\n",
      "mean 0.4595548824588515\n",
      "std 0.03776183694214933\n",
      "TX\n",
      "mean 0.5075106491130962\n",
      "std 0.031173677845649967\n",
      "IA\n",
      "mean 0.45402863093489576\n",
      "std 0.045216930239819195\n",
      "SC\n",
      "mean 0.4943604317296689\n",
      "std 0.04274104496105822\n",
      "AK\n",
      "mean 0.44508789992918885\n",
      "std 0.04737814934194379\n",
      "MS\n",
      "mean 0.5280652419538249\n",
      "std 0.04351756992298303\n",
      "MO\n",
      "mean 0.47352434185344355\n",
      "std 0.04165214714806748\n",
      "IN\n",
      "mean 0.44422212866116895\n",
      "std 0.0410922146376653\n",
      "LA\n",
      "mean 0.4823403118158023\n",
      "std 0.04176078947468376\n",
      "MT\n",
      "mean 0.46888267301285413\n",
      "std 0.04751075194644694\n",
      "KS\n",
      "mean 0.5023157540896143\n",
      "std 0.045183028935739535\n",
      "UT\n",
      "mean 0.4528830732719899\n",
      "std 0.04653920641477387\n",
      "NE\n",
      "mean 0.49302176667613185\n",
      "std 0.04637113985329312\n",
      "TN\n",
      "mean 0.4942276754897634\n",
      "std 0.04003584211994752\n",
      "AR\n",
      "mean 0.5155927342134576\n",
      "std 0.04414881247050152\n",
      "AL\n",
      "mean 0.5077247807089638\n",
      "std 0.040560550660455275\n",
      "KY\n",
      "mean 0.5333732195100575\n",
      "std 0.0426700236401422\n",
      "SD\n",
      "mean 0.5163070251120112\n",
      "std 0.04929770034293146\n",
      "ID\n",
      "mean 0.4494502573814256\n",
      "std 0.046516546382573715\n",
      "OK\n",
      "mean 0.5701166754887724\n",
      "std 0.04219727587317643\n",
      "ND\n",
      "mean 0.5045555928223494\n",
      "std 0.05019864046196876\n",
      "WV\n",
      "mean 0.5460536707862407\n",
      "std 0.04547245727508036\n",
      "WY\n",
      "mean 0.5196480027689585\n",
      "std 0.04805479251484425\n"
     ]
    }
   ],
   "source": [
    "post_pred_mat_pq = estimate_vi_model_rate(x_poststrat, data_to_idx, model_pq)\n",
    "state_means_pq = []\n",
    "state_stds_pq = []\n",
    "for state in list_of_states:\n",
    "    is_state = np.array([poststrat_df['state'] == state])\n",
    "    estimate = np.dot(np.multiply(np.array([poststrat_df['n']]), is_state), \n",
    "                      np.array(post_pred_mat_pq)) / np.sum(np.multiply(np.array([poststrat_df['n']]), is_state))\n",
    "    state_means_pq.append(np.mean(estimate))\n",
    "    state_stds_pq.append(np.std(estimate))\n",
    "    print(state)\n",
    "    print('mean', np.mean(estimate))\n",
    "    print('std', np.std(estimate))\n",
    "state_means_pq = np.array(state_means_pq)\n",
    "state_stds_pq = np.array(state_stds_pq)"
   ]
  },
  {
   "cell_type": "code",
   "execution_count": 97,
   "metadata": {},
   "outputs": [],
   "source": [
    "# post_pred_mat_pq_msc = estimate_vi_model_rate(x_poststrat, data_to_idx, model_pq_ex2_eps)\n",
    "# state_means_pq_ex2_eps = []\n",
    "# state_stds_pq_ex2_eps = []\n",
    "# for state in list_of_states:\n",
    "#     is_state = np.array([poststrat_df['state'] == state])\n",
    "#     estimate = np.dot(np.multiply(np.array([poststrat_df['n']]), is_state), \n",
    "#                       np.array(post_pred_mat_pq_msc)) / np.sum(np.multiply(np.array([poststrat_df['n']]), is_state))\n",
    "#     state_means_pq_ex2_eps.append(np.mean(estimate))\n",
    "#     state_stds_pq_ex2_eps.append(np.std(estimate))\n",
    "#     print(state)\n",
    "#     print('mean', np.mean(estimate))\n",
    "#     print('std', np.std(estimate))\n",
    "# state_means_pq_msc = np.array(state_means_pq_ex2_eps)\n",
    "# state_stds_pq_ex2_eps = np.array(state_stds_pq_ex2_eps)"
   ]
  },
  {
   "cell_type": "code",
   "execution_count": 131,
   "metadata": {},
   "outputs": [
    {
     "name": "stdout",
     "output_type": "stream",
     "text": [
      "HI\n",
      "mean 0.3609674307375701\n",
      "std 0.036567212580139084\n",
      "CA\n",
      "mean 0.3758683237984134\n",
      "std 0.023348375456440473\n",
      "VT\n",
      "mean 0.386093599847103\n",
      "std 0.0353176867270749\n",
      "MA\n",
      "mean 0.34325951638196567\n",
      "std 0.028511425520189593\n",
      "MD\n",
      "mean 0.35094758361651995\n",
      "std 0.03062121605515725\n",
      "NY\n",
      "mean 0.3545578061543427\n",
      "std 0.02402774352713947\n",
      "IL\n",
      "mean 0.39987045326596476\n",
      "std 0.02806646805712628\n",
      "WA\n",
      "mean 0.3834570726701079\n",
      "std 0.030363221919299677\n",
      "RI\n",
      "mean 0.3706498672062048\n",
      "std 0.034326637611340034\n",
      "NJ\n",
      "mean 0.36875484666780084\n",
      "std 0.02897766708031229\n",
      "CT\n",
      "mean 0.3596215561128088\n",
      "std 0.03247894217613809\n",
      "OR\n",
      "mean 0.39496385946256307\n",
      "std 0.03264339929977519\n",
      "DE\n",
      "mean 0.442559231374059\n",
      "std 0.03484597971897968\n",
      "NM\n",
      "mean 0.40106923818838597\n",
      "std 0.03384074026128842\n",
      "VA\n",
      "mean 0.4327913088590882\n",
      "std 0.02845842335782888\n",
      "CO\n",
      "mean 0.4140695463967906\n",
      "std 0.03219355577897809\n",
      "ME\n",
      "mean 0.42796511883643745\n",
      "std 0.03516145924345834\n",
      "NV\n",
      "mean 0.39929075820850335\n",
      "std 0.03135565945232496\n",
      "MN\n",
      "mean 0.43248058625163005\n",
      "std 0.032555042485074986\n",
      "NH\n",
      "mean 0.4198241296642675\n",
      "std 0.035287564066538116\n",
      "MI\n",
      "mean 0.4343569471264788\n",
      "std 0.029338386734252764\n",
      "PA\n",
      "mean 0.46761828346347045\n",
      "std 0.02723556739583806\n",
      "WI\n",
      "mean 0.4441710369156807\n",
      "std 0.032847748506992895\n",
      "FL\n",
      "mean 0.40876438321056413\n",
      "std 0.024277685005900464\n",
      "AZ\n",
      "mean 0.4582797832136162\n",
      "std 0.029716073261999612\n",
      "NC\n",
      "mean 0.4528215720500194\n",
      "std 0.03000849831752535\n",
      "GA\n",
      "mean 0.5130475479064859\n",
      "std 0.029893082888658037\n",
      "OH\n",
      "mean 0.4585662715931521\n",
      "std 0.029727992477398095\n",
      "TX\n",
      "mean 0.506946399149034\n",
      "std 0.024898115740270024\n",
      "IA\n",
      "mean 0.4536379173814321\n",
      "std 0.03534713806246769\n",
      "SC\n",
      "mean 0.4962226624808598\n",
      "std 0.03224256314095527\n",
      "AK\n",
      "mean 0.4538653140404701\n",
      "std 0.035889233699640345\n",
      "MS\n",
      "mean 0.5141200165669582\n",
      "std 0.03491338746385382\n",
      "MO\n",
      "mean 0.46673874878099586\n",
      "std 0.03127558567751157\n",
      "IN\n",
      "mean 0.45755185317858815\n",
      "std 0.03215872475523699\n",
      "LA\n",
      "mean 0.4865706511304982\n",
      "std 0.03281717365573195\n",
      "MT\n",
      "mean 0.47874013003051985\n",
      "std 0.03597588324012505\n",
      "KS\n",
      "mean 0.49527312774196763\n",
      "std 0.03431303526026331\n",
      "UT\n",
      "mean 0.46298999473721814\n",
      "std 0.03422732290408766\n",
      "NE\n",
      "mean 0.5004537307456856\n",
      "std 0.035122498871945254\n",
      "TN\n",
      "mean 0.4976512464232977\n",
      "std 0.03162835010634751\n",
      "AR\n",
      "mean 0.5207805649222513\n",
      "std 0.034030297507312\n",
      "AL\n",
      "mean 0.5070674342356908\n",
      "std 0.03289319285278435\n",
      "KY\n",
      "mean 0.5365796368865907\n",
      "std 0.032531087645165935\n",
      "SD\n",
      "mean 0.5113719729296415\n",
      "std 0.03715571692095818\n",
      "ID\n",
      "mean 0.46957671906319276\n",
      "std 0.034933535332380715\n",
      "OK\n",
      "mean 0.5661622856886384\n",
      "std 0.03341008854850117\n",
      "ND\n",
      "mean 0.5110747984435824\n",
      "std 0.03706561038402223\n",
      "WV\n",
      "mean 0.5534815297864184\n",
      "std 0.03594615186531809\n",
      "WY\n",
      "mean 0.5318310369872128\n",
      "std 0.03769088126655419\n"
     ]
    }
   ],
   "source": [
    "post_pred_mat_pq_msc = estimate_vi_model_rate(x_poststrat, data_to_idx, model_pq_ex2_warp)\n",
    "state_means_pq_ex2_warp = []\n",
    "state_stds_pq_ex2_warp = []\n",
    "for state in list_of_states:\n",
    "    is_state = np.array([poststrat_df['state'] == state])\n",
    "    estimate = np.dot(np.multiply(np.array([poststrat_df['n']]), is_state), \n",
    "                      np.array(post_pred_mat_pq_msc)) / np.sum(np.multiply(np.array([poststrat_df['n']]), is_state))\n",
    "    state_means_pq_ex2_warp.append(np.mean(estimate))\n",
    "    state_stds_pq_ex2_warp.append(np.std(estimate))\n",
    "    print(state)\n",
    "    print('mean', np.mean(estimate))\n",
    "    print('std', np.std(estimate))\n",
    "state_means_pq_ex2_warp = np.array(state_means_pq_ex2_warp)\n",
    "state_stds_pq_ex2_warp = np.array(state_stds_pq_ex2_warp)"
   ]
  },
  {
   "cell_type": "code",
   "execution_count": 132,
   "metadata": {},
   "outputs": [
    {
     "name": "stdout",
     "output_type": "stream",
     "text": [
      "HI\n",
      "mean 0.36327045360803967\n",
      "std 0.015438697857531387\n",
      "CA\n",
      "mean 0.36131757944368953\n",
      "std 0.011010975785964848\n",
      "VT\n",
      "mean 0.37439885029093084\n",
      "std 0.011727197040697477\n",
      "MA\n",
      "mean 0.36305835047354373\n",
      "std 0.010798953001811615\n",
      "MD\n",
      "mean 0.38057759691804116\n",
      "std 0.010874501660376453\n",
      "NY\n",
      "mean 0.36584090751516085\n",
      "std 0.010469258362903019\n",
      "IL\n",
      "mean 0.389834781923013\n",
      "std 0.010885847028878234\n",
      "WA\n",
      "mean 0.39892015441351986\n",
      "std 0.011410696448238474\n",
      "RI\n",
      "mean 0.39289472991691565\n",
      "std 0.011240685096003344\n",
      "NJ\n",
      "mean 0.385444118838691\n",
      "std 0.010684603104973751\n",
      "CT\n",
      "mean 0.39173439768077306\n",
      "std 0.010964574035872648\n",
      "OR\n",
      "mean 0.4141549454364156\n",
      "std 0.011729752647995702\n",
      "DE\n",
      "mean 0.43022890305388245\n",
      "std 0.011265067661551848\n",
      "NM\n",
      "mean 0.41059913456758523\n",
      "std 0.012049998742767703\n",
      "VA\n",
      "mean 0.4382455948882714\n",
      "std 0.011214967247944426\n",
      "CO\n",
      "mean 0.41958788911414513\n",
      "std 0.011481363344256678\n",
      "ME\n",
      "mean 0.43468864726111933\n",
      "std 0.012392715461178176\n",
      "NV\n",
      "mean 0.427495359046224\n",
      "std 0.011275769574853852\n",
      "MN\n",
      "mean 0.43694004255075924\n",
      "std 0.011959376903792174\n",
      "NH\n",
      "mean 0.43320972566588734\n",
      "std 0.012200605353030695\n",
      "MI\n",
      "mean 0.43346141427293566\n",
      "std 0.011625016608889208\n",
      "PA\n",
      "mean 0.43080571864800843\n",
      "std 0.011584334013424433\n",
      "WI\n",
      "mean 0.4454396057014559\n",
      "std 0.011963863450383807\n",
      "FL\n",
      "mean 0.4633029215490161\n",
      "std 0.011288708505190698\n",
      "AZ\n",
      "mean 0.4433943124338696\n",
      "std 0.011402279550615912\n",
      "NC\n",
      "mean 0.46078347726106256\n",
      "std 0.011526275514390852\n",
      "GA\n",
      "mean 0.4512351015006153\n",
      "std 0.011723227774738\n",
      "OH\n",
      "mean 0.4552584638780586\n",
      "std 0.011922372999889089\n",
      "TX\n",
      "mean 0.4707958633844388\n",
      "std 0.011586592575557794\n",
      "IA\n",
      "mean 0.4677348387704561\n",
      "std 0.01232574086849912\n",
      "SC\n",
      "mean 0.48037623734959045\n",
      "std 0.011792451949658852\n",
      "AK\n",
      "mean 0.4699218996332933\n",
      "std 0.012223496448823387\n",
      "MS\n",
      "mean 0.47705216170800613\n",
      "std 0.012264345819360867\n",
      "MO\n",
      "mean 0.4758960826152048\n",
      "std 0.011879491666106532\n",
      "IN\n",
      "mean 0.4816084019284661\n",
      "std 0.012046714374519077\n",
      "LA\n",
      "mean 0.4875963387970579\n",
      "std 0.011964106394291772\n",
      "MT\n",
      "mean 0.4971485287327404\n",
      "std 0.012246352830716664\n",
      "KS\n",
      "mean 0.48553514467159203\n",
      "std 0.011888634381804132\n",
      "UT\n",
      "mean 0.48847515657208923\n",
      "std 0.012247442001668716\n",
      "NE\n",
      "mean 0.49776626286771486\n",
      "std 0.012089830580908746\n",
      "TN\n",
      "mean 0.5190941357301639\n",
      "std 0.011851261088727895\n",
      "AR\n",
      "mean 0.5258426603250659\n",
      "std 0.011810337956455\n",
      "AL\n",
      "mean 0.5106215921327806\n",
      "std 0.011863976446743784\n",
      "KY\n",
      "mean 0.5384487633674919\n",
      "std 0.012211167347399148\n",
      "SD\n",
      "mean 0.5142859153042059\n",
      "std 0.012279012188271635\n",
      "ID\n",
      "mean 0.5210357632746194\n",
      "std 0.012325466569496134\n",
      "OK\n",
      "mean 0.55178697312973\n",
      "std 0.01159003041107325\n",
      "ND\n",
      "mean 0.5281183467093712\n",
      "std 0.01245977751732382\n",
      "WV\n",
      "mean 0.576344595120321\n",
      "std 0.01234460816141938\n",
      "WY\n",
      "mean 0.5522760959328069\n",
      "std 0.012170835680797007\n"
     ]
    }
   ],
   "source": [
    "post_pred_mat_pq_msc = estimate_vi_model_rate(x_poststrat, data_to_idx, model_pq_ex2_warp_rao)\n",
    "state_means_pq_ex2_warp_rao = []\n",
    "state_stds_pq_ex2_warp_rao = []\n",
    "for state in list_of_states:\n",
    "    is_state = np.array([poststrat_df['state'] == state])\n",
    "    estimate = np.dot(np.multiply(np.array([poststrat_df['n']]), is_state), \n",
    "                      np.array(post_pred_mat_pq_msc)) / np.sum(np.multiply(np.array([poststrat_df['n']]), is_state))\n",
    "    state_means_pq_ex2_warp_rao.append(np.mean(estimate))\n",
    "    state_stds_pq_ex2_warp_rao.append(np.std(estimate))\n",
    "    print(state)\n",
    "    print('mean', np.mean(estimate))\n",
    "    print('std', np.std(estimate))\n",
    "state_means_pq_ex2_warp_rao = np.array(state_means_pq_ex2_warp_rao)\n",
    "state_stds_pq_ex2_warp_rao = np.array(state_stds_pq_ex2_warp_rao)"
   ]
  },
  {
   "cell_type": "code",
   "execution_count": 99,
   "metadata": {
    "colab": {
     "base_uri": "https://localhost:8080/"
    },
    "executionInfo": {
     "elapsed": 20629,
     "status": "ok",
     "timestamp": 1630239841270,
     "user": {
      "displayName": "Liyi Zhang",
      "photoUrl": "https://lh3.googleusercontent.com/a-/AOh14Gh9V3hIAgWLKOIy-Olktu7QU6Q3a0l2eUzzAf2j=s64",
      "userId": "06658486172350999592"
     },
     "user_tz": -480
    },
    "id": "E_cMz2XUlZNU",
    "outputId": "0fa95964-0eab-4564-f750-f4482078aa1c"
   },
   "outputs": [],
   "source": [
    "# post_pred_mat_qp_flow = estimate_vi_model_rate(x_poststrat, data_to_idx, model_qp_flow)\n",
    "# state_means_qp_flow = []\n",
    "# state_stds_qp_flow = []\n",
    "# for state in list_of_states:\n",
    "#     is_state = np.array([poststrat_df['state'] == state])\n",
    "#     estimate = np.dot(np.multiply(np.array([poststrat_df['n']]), is_state), \n",
    "#                       np.array(post_pred_mat_qp_flow)) / np.sum(np.multiply(np.array([poststrat_df['n']]), is_state))\n",
    "#     state_means_qp_flow.append(np.mean(estimate))\n",
    "#     state_stds_qp_flow.append(np.std(estimate))\n",
    "#     print(state)\n",
    "#     print('mean', np.mean(estimate))\n",
    "#     print('std', np.std(estimate))\n",
    "# state_means_qp_flow = np.array(state_means_qp_flow)\n",
    "# state_stds_qp_flow = np.array(state_stds_qp_flow)"
   ]
  },
  {
   "cell_type": "code",
   "execution_count": 100,
   "metadata": {
    "colab": {
     "base_uri": "https://localhost:8080/"
    },
    "executionInfo": {
     "elapsed": 19775,
     "status": "ok",
     "timestamp": 1630239861011,
     "user": {
      "displayName": "Liyi Zhang",
      "photoUrl": "https://lh3.googleusercontent.com/a-/AOh14Gh9V3hIAgWLKOIy-Olktu7QU6Q3a0l2eUzzAf2j=s64",
      "userId": "06658486172350999592"
     },
     "user_tz": -480
    },
    "id": "t9nNd6QZlZNV",
    "outputId": "586a3c83-b6a3-49a9-be38-ba930feaac77"
   },
   "outputs": [],
   "source": [
    "pass\n",
    "# post_pred_mat_pq_flow = estimate_vi_model_rate(x_poststrat, data_to_idx, model_pq_flow)\n",
    "# state_means_pq_flow = []\n",
    "# state_stds_pq_flow = []\n",
    "# for state in list_of_states:\n",
    "#     is_state = np.array([poststrat_df['state'] == state])\n",
    "#     estimate = np.dot(np.multiply(np.array([poststrat_df['n']]), is_state), \n",
    "#                       np.array(post_pred_mat_pq_flow)) / np.sum(np.multiply(np.array([poststrat_df['n']]), is_state))\n",
    "#     state_means_pq_flow.append(np.mean(estimate))\n",
    "#     state_stds_pq_flow.append(np.std(estimate))\n",
    "#     print(state)\n",
    "#     print('mean', np.mean(estimate))\n",
    "#     print('std', np.std(estimate))\n",
    "# state_means_pq_flow = np.array(state_means_pq_flow)\n",
    "# state_stds_pq_flow = np.array(state_stds_pq_flow)"
   ]
  },
  {
   "cell_type": "code",
   "execution_count": null,
   "metadata": {
    "id": "DApMo4_E5Sx5"
   },
   "outputs": [],
   "source": []
  },
  {
   "cell_type": "code",
   "execution_count": 133,
   "metadata": {
    "id": "hfyjT2urlZNV"
   },
   "outputs": [],
   "source": [
    "state_means_unadj_5000 = []\n",
    "state_stds_unadj_5000 = []\n",
    "for state in list_of_states:\n",
    "    is_state = np.array([cces['state'] == state])\n",
    "    n = np.sum(is_state)\n",
    "    mean = np.sum(np.multiply(np.array([cces['abortion']]), is_state))/n\n",
    "    state_means_unadj_5000.append(mean)\n",
    "    state_stds_unadj_5000.append(get_se_bernoulli(mean, n))\n",
    "state_means_unadj_5000 = np.array(state_means_unadj_5000)\n",
    "state_stds_unadj_5000 = np.array(state_stds_unadj_5000)"
   ]
  },
  {
   "cell_type": "code",
   "execution_count": 134,
   "metadata": {
    "id": "qfPbgv5qlZNV"
   },
   "outputs": [],
   "source": [
    "state_means_unadj_60000 = []\n",
    "state_stds_unadj_60000 = []\n",
    "for state in list_of_states:\n",
    "    is_state = np.array([cces_all['state'] == state])\n",
    "    n = np.sum(is_state)\n",
    "    mean = np.sum(np.multiply(np.array([cces_all['abortion']]), is_state))/n\n",
    "    state_means_unadj_60000.append(mean)\n",
    "    state_stds_unadj_60000.append(get_se_bernoulli(mean, n))\n",
    "state_means_unadj_60000 = np.array(state_means_unadj_60000)\n",
    "state_stds_unadj_60000 = np.array(state_stds_unadj_60000)"
   ]
  },
  {
   "cell_type": "code",
   "execution_count": 135,
   "metadata": {
    "colab": {
     "base_uri": "https://localhost:8080/",
     "height": 378
    },
    "executionInfo": {
     "elapsed": 13,
     "status": "ok",
     "timestamp": 1630239861759,
     "user": {
      "displayName": "Liyi Zhang",
      "photoUrl": "https://lh3.googleusercontent.com/a-/AOh14Gh9V3hIAgWLKOIy-Olktu7QU6Q3a0l2eUzzAf2j=s64",
      "userId": "06658486172350999592"
     },
     "user_tz": -480
    },
    "id": "ctDJQfo7lZNW",
    "outputId": "537423e8-d75b-4565-f273-58ae1172a32f"
   },
   "outputs": [
    {
     "data": {
      "image/png": "[encoded data removed]",
      "text/plain": [
       "<Figure size 1080x432 with 1 Axes>"
      ]
     },
     "metadata": {
      "needs_background": "light"
     },
     "output_type": "display_data"
    }
   ],
   "source": [
    "plt.figure(figsize=(15, 6))\n",
    "plt.scatter(list_of_states, state_means_unadj_60000, color='g', label='60000 unadjusted')\n",
    "plt.scatter(list_of_states, state_means_unadj_5000, color='r', label='5000 unadjusted')\n",
    "plt.scatter(list_of_states, state_means_pq, color='b', label='TSC')\n",
    "\n",
    "\n",
    "plt.errorbar(list_of_states, \n",
    "             state_means_unadj_60000, \n",
    "             yerr=1.96*state_stds_unadj_60000, \n",
    "             linestyle='', color='g', alpha=0.3, capsize=5.0)\n",
    "plt.errorbar(list_of_states, \n",
    "             state_means_unadj_5000, \n",
    "             yerr=1.96*state_stds_unadj_5000, \n",
    "             linestyle='', color='r', alpha=0.3, capsize=5.0)\n",
    "plt.errorbar(list_of_states, \n",
    "             state_means_pq, \n",
    "             yerr=1.96*state_stds_pq, \n",
    "             linestyle='', color='b', alpha=0.3, capsize=5.0)\n",
    "\n",
    "plt.ylim(0, 1)\n",
    "plt.legend()\n",
    "plt.savefig(Path('figs') / 'survey_tsc_unadj.png')\n",
    "plt.show()"
   ]
  },
  {
   "cell_type": "code",
   "execution_count": 136,
   "metadata": {},
   "outputs": [],
   "source": [
    "# plt.figure(figsize=(15, 6))\n",
    "# plt.scatter(list_of_states, state_means_unadj_60000, color='g', label='60000 unadjusted')\n",
    "# plt.scatter(list_of_states, state_means_pq_ex2_eps, color='black', label=r'Ex$^2$MCMC, space=eps')\n",
    "# plt.scatter(list_of_states, state_means_pq, color='b', label='TSC')\n",
    "# plt.errorbar(list_of_states, \n",
    "#              state_means_unadj_60000, \n",
    "#              yerr=1.96*state_stds_unadj_60000, \n",
    "#              linestyle='', color='g', alpha=0.3, capsize=5.0)\n",
    "# plt.errorbar(list_of_states, \n",
    "#              state_means_pq_ex2_eps, \n",
    "#              yerr=1.96*state_stds_pq_ex2_eps, \n",
    "#              linestyle='', color='black', alpha=0.3, capsize=5.0)\n",
    "# plt.errorbar(list_of_states, \n",
    "#              state_means_pq, \n",
    "#              yerr=1.96*state_stds_pq, \n",
    "#              linestyle='', color='b', alpha=0.3, capsize=5.0)\n",
    "# plt.ylim(0, 1)\n",
    "# plt.legend()\n",
    "# plt.savefig(Path('figs') / 'survey_tsc_ex2_eps.png')\n",
    "# plt.show()"
   ]
  },
  {
   "cell_type": "code",
   "execution_count": 137,
   "metadata": {},
   "outputs": [
    {
     "data": {
      "image/png": "[encoded data removed]",
      "text/plain": [
       "<Figure size 1080x432 with 1 Axes>"
      ]
     },
     "metadata": {
      "needs_background": "light"
     },
     "output_type": "display_data"
    }
   ],
   "source": [
    "plt.figure(figsize=(15, 6))\n",
    "plt.scatter(list_of_states, state_means_unadj_60000, color='g', label='60000 unadjusted')\n",
    "plt.scatter(list_of_states, state_means_pq_ex2_warp, color='red', label=fr'Ex$^2$MCMC, space: {space}')\n",
    "plt.scatter(list_of_states, state_means_pq, color='b', label='TSC')\n",
    "plt.errorbar(list_of_states, \n",
    "             state_means_unadj_60000, \n",
    "             yerr=1.96*state_stds_unadj_60000, \n",
    "             linestyle='', color='g', alpha=0.3, capsize=5.0)\n",
    "plt.errorbar(list_of_states, \n",
    "             state_means_pq_ex2_warp, \n",
    "             yerr=1.96*state_stds_pq_ex2_warp, \n",
    "             linestyle='', color='red', alpha=0.3, capsize=5.0)\n",
    "plt.errorbar(list_of_states, \n",
    "             state_means_pq, \n",
    "             yerr=1.96*state_stds_pq, \n",
    "             linestyle='', color='b', alpha=0.3, capsize=5.0)\n",
    "plt.ylim(0, 1)\n",
    "plt.legend()\n",
    "plt.savefig(Path('figs') / f'survey_tsc_ex2_{space}.png')\n",
    "plt.show()"
   ]
  },
  {
   "cell_type": "code",
   "execution_count": 139,
   "metadata": {},
   "outputs": [
    {
     "data": {
      "image/png": "[encoded data removed]",
      "text/plain": [
       "<Figure size 1080x432 with 1 Axes>"
      ]
     },
     "metadata": {
      "needs_background": "light"
     },
     "output_type": "display_data"
    }
   ],
   "source": [
    "plt.figure(figsize=(15, 6))\n",
    "plt.scatter(list_of_states, state_means_unadj_60000, color='g', label='60000 unadjusted')\n",
    "plt.scatter(list_of_states, state_means_pq_ex2_warp_rao, color='red', label=fr'Ex$^2$MCMC, space: {space}, Rao-Blackwellized')\n",
    "plt.scatter(list_of_states, state_means_pq, color='b', label='TSC')\n",
    "plt.errorbar(list_of_states, \n",
    "             state_means_unadj_60000, \n",
    "             yerr=1.96*state_stds_unadj_60000, \n",
    "             linestyle='', color='g', alpha=0.3, capsize=5.0)\n",
    "plt.errorbar(list_of_states, \n",
    "             state_means_pq_ex2_warp, \n",
    "             yerr=1.96*state_stds_pq_ex2_warp_rao, \n",
    "             linestyle='', color='red', alpha=0.3, capsize=5.0)\n",
    "plt.errorbar(list_of_states, \n",
    "             state_means_pq, \n",
    "             yerr=1.96*state_stds_pq, \n",
    "             linestyle='', color='b', alpha=0.3, capsize=5.0)\n",
    "plt.ylim(0, 1)\n",
    "plt.legend()\n",
    "plt.savefig(Path('figs') / f'survey_tsc_ex2_{space}_rao.png')\n",
    "plt.show()"
   ]
  },
  {
   "cell_type": "code",
   "execution_count": 140,
   "metadata": {
    "colab": {
     "base_uri": "https://localhost:8080/",
     "height": 378
    },
    "collapsed": true,
    "executionInfo": {
     "elapsed": 1123,
     "status": "ok",
     "timestamp": 1630239905968,
     "user": {
      "displayName": "Liyi Zhang",
      "photoUrl": "https://lh3.googleusercontent.com/a-/AOh14Gh9V3hIAgWLKOIy-Olktu7QU6Q3a0l2eUzzAf2j=s64",
      "userId": "06658486172350999592"
     },
     "user_tz": -480
    },
    "id": "jeRFWnhElZNW",
    "outputId": "1cf0c0cd-5159-4095-d32e-4a98f5e78745"
   },
   "outputs": [],
   "source": [
    "pass # TSC Flow\n",
    "\n",
    "# plt.figure(figsize=(15, 6))\n",
    "# plt.scatter(list_of_states, state_means_unadj_60000, color='g', label='60000 unadjusted')\n",
    "# #plt.scatter(list_of_states, state_means_qp_flow, color='r', label='VI with flow')\n",
    "# plt.scatter(list_of_states, state_means_pq_flow, color='b', label='TSC with flow')\n",
    "# plt.errorbar(list_of_states, \n",
    "#              state_means_unadj_60000, \n",
    "#              yerr=1.96*state_stds_unadj_60000, \n",
    "#              linestyle='', color='g', alpha=0.0, capsize=5.0)\n",
    "# # plt.errorbar(list_of_states, \n",
    "# #              state_means_qp_flow, \n",
    "# #              yerr=1.96*state_stds_qp_flow, \n",
    "# #              linestyle='', color='r', alpha=0.3, capsize=5.0)\n",
    "# plt.errorbar(list_of_states, \n",
    "#              state_means_pq_flow, \n",
    "#              yerr=1.96*state_stds_pq_flow, \n",
    "#              linestyle='', color='b', alpha=0.3, capsize=5.0)\n",
    "# plt.ylim(0, 1)\n",
    "# plt.legend()\n",
    "# plt.savefig(Path('figs') / 'survey_tsc_vi.png')\n",
    "# plt.show()"
   ]
  },
  {
   "cell_type": "code",
   "execution_count": 141,
   "metadata": {},
   "outputs": [],
   "source": [
    "# VI\n",
    "\n",
    "# plt.figure(figsize=(15, 6))\n",
    "# plt.scatter(list_of_states, state_means_unadj_60000, color='g', label='60000 unadjusted')\n",
    "# #plt.scatter(list_of_states, state_means_qp, color='r', label='VI with Gaussian')\n",
    "# plt.scatter(list_of_states, state_means_pq, color='b', label='HSC with Gaussian')\n",
    "# plt.errorbar(list_of_states, \n",
    "#              state_means_unadj_60000, \n",
    "#              yerr=1.96*state_stds_unadj_60000, \n",
    "#              linestyle='', color='g', alpha=0.2, capsize=5.0)\n",
    "# # plt.errorbar(list_of_states, \n",
    "# #              state_means_qp, \n",
    "# #              yerr=1.96*state_stds_qp, \n",
    "# #              linestyle='', color='r', alpha=0.3, capsize=5.0)\n",
    "# plt.errorbar(list_of_states, \n",
    "#              state_means_pq, \n",
    "#              yerr=1.96*state_stds_pq, \n",
    "#              linestyle='', color='b', alpha=0.3, capsize=5.0)\n",
    "# plt.ylim(0, 1)\n",
    "# plt.legend()\n",
    "# plt.savefig(Path('figs') / 'survey_tsc_vi.png')\n",
    "# plt.show()"
   ]
  },
  {
   "cell_type": "code",
   "execution_count": 142,
   "metadata": {},
   "outputs": [],
   "source": [
    "pass # HSC Flow\n",
    "\n",
    "# plt.figure(figsize=(15, 6))\n",
    "# plt.scatter(list_of_states, state_means_unadj_60000, color='g', label='60000 unadjusted')\n",
    "# plt.scatter(list_of_states, state_means_pq_flow, color='r', label='HSC with Flow')\n",
    "# plt.scatter(list_of_states, state_means_pq, color='b', label='HSC')\n",
    "# plt.errorbar(list_of_states, \n",
    "#              state_means_unadj_60000, \n",
    "#              yerr=1.96*state_stds_unadj_60000, \n",
    "#              linestyle='', color='g', alpha=0.2, capsize=5.0)\n",
    "# plt.errorbar(list_of_states, \n",
    "#              state_means_pq_flow, \n",
    "#              yerr=1.96*state_stds_pq_flow, \n",
    "#              linestyle='', color='r', alpha=0.7, capsize=5.0)\n",
    "# plt.errorbar(list_of_states, \n",
    "#              state_means_pq, \n",
    "#              yerr=1.96*state_stds_pq, \n",
    "#              linestyle='', color='b', alpha=0.7, capsize=5.0)\n",
    "# plt.ylim(0, 1)\n",
    "# plt.legend()\n",
    "# plt.show()"
   ]
  },
  {
   "cell_type": "code",
   "execution_count": 143,
   "metadata": {},
   "outputs": [],
   "source": [
    "state_means_mrp = []\n",
    "state_stds_mrp = []\n",
    "for state in list_of_states:\n",
    "    idx = mrp_states_df[mrp_states_df['state'] == state].index[0]\n",
    "    state_means_mrp.append(mrp_states_df.loc[idx, 'mrp_estimate'])\n",
    "    state_stds_mrp.append(mrp_states_df.loc[idx, 'mrp_estimate_se'])\n",
    "state_means_mrp = np.array(state_means_mrp)\n",
    "state_stds_mrp = np.array(state_stds_mrp)"
   ]
  },
  {
   "cell_type": "code",
   "execution_count": 144,
   "metadata": {},
   "outputs": [
    {
     "data": {
      "image/png": "[encoded data removed]",
      "text/plain": [
       "<Figure size 1080x432 with 1 Axes>"
      ]
     },
     "metadata": {
      "needs_background": "light"
     },
     "output_type": "display_data"
    }
   ],
   "source": [
    "plt.figure(figsize=(15, 6))\n",
    "plt.scatter(list_of_states, state_means_unadj_60000, color='g', label='60000 unadjusted')\n",
    "plt.scatter(list_of_states, state_means_mrp, color='r', label='MRP MCMC')\n",
    "plt.scatter(list_of_states, state_means_pq, color='b', label='TSC')\n",
    "plt.errorbar(list_of_states, \n",
    "             state_means_unadj_60000, \n",
    "             yerr=1.96*state_stds_unadj_60000, \n",
    "             linestyle='', color='g', alpha=0.3, capsize=5.0)\n",
    "plt.errorbar(list_of_states, \n",
    "             state_means_mrp, \n",
    "             yerr=1.96*state_stds_mrp, \n",
    "             linestyle='', color='r', alpha=0.3, capsize=5.0)\n",
    "plt.errorbar(list_of_states, \n",
    "             state_means_pq, \n",
    "             yerr=1.96*state_stds_pq, \n",
    "             linestyle='', color='b', alpha=0.3, capsize=5.0)\n",
    "plt.ylim(0, 1)\n",
    "plt.legend()\n",
    "plt.savefig(Path('figs') / 'survey_tsc_mrp.png')\n",
    "plt.show()"
   ]
  },
  {
   "cell_type": "code",
   "execution_count": 145,
   "metadata": {},
   "outputs": [
    {
     "data": {
      "image/png": "[encoded data removed]",
      "text/plain": [
       "<Figure size 1080x432 with 1 Axes>"
      ]
     },
     "metadata": {
      "needs_background": "light"
     },
     "output_type": "display_data"
    }
   ],
   "source": [
    "plt.figure(figsize=(15, 6))\n",
    "plt.scatter(list_of_states, state_means_unadj_60000, color='g', label='60000 unadjusted')\n",
    "plt.scatter(list_of_states, state_means_mrp, color='r', label='MRP MCMC')\n",
    "plt.scatter(list_of_states, state_means_pq_ex2_warp, color='b', label=fr'Ex$^2$MCMC, space: {space}')\n",
    "plt.errorbar(list_of_states, \n",
    "             state_means_unadj_60000, \n",
    "             yerr=1.96*state_stds_unadj_60000, \n",
    "             linestyle='', color='g', alpha=0.3, capsize=5.0)\n",
    "plt.errorbar(list_of_states, \n",
    "             state_means_mrp, \n",
    "             yerr=1.96*state_stds_mrp, \n",
    "             linestyle='', color='r', alpha=0.3, capsize=5.0)\n",
    "plt.errorbar(list_of_states, \n",
    "             state_means_pq, \n",
    "             yerr=1.96*state_stds_pq_ex2_warp, \n",
    "             linestyle='', color='b', alpha=0.3, capsize=5.0)\n",
    "plt.ylim(0, 1)\n",
    "plt.legend()\n",
    "plt.savefig(Path('figs') / f'survey_ex2_{space}_mrp.png')\n",
    "plt.show()"
   ]
  },
  {
   "cell_type": "code",
   "execution_count": 146,
   "metadata": {},
   "outputs": [
    {
     "data": {
      "image/png": "[encoded data removed]",
      "text/plain": [
       "<Figure size 1080x432 with 1 Axes>"
      ]
     },
     "metadata": {
      "needs_background": "light"
     },
     "output_type": "display_data"
    }
   ],
   "source": [
    "plt.figure(figsize=(15, 6))\n",
    "plt.scatter(list_of_states, state_means_unadj_60000, color='g', label='60000 unadjusted')\n",
    "plt.scatter(list_of_states, state_means_mrp, color='r', label='MRP MCMC')\n",
    "plt.scatter(list_of_states, state_means_pq_ex2_warp_rao, color='b', label=fr'Ex$^2$MCMC, space: {space}, Rao-Blackwellized')\n",
    "plt.errorbar(list_of_states, \n",
    "             state_means_unadj_60000, \n",
    "             yerr=1.96*state_stds_unadj_60000, \n",
    "             linestyle='', color='g', alpha=0.3, capsize=5.0)\n",
    "plt.errorbar(list_of_states, \n",
    "             state_means_mrp, \n",
    "             yerr=1.96*state_stds_mrp, \n",
    "             linestyle='', color='r', alpha=0.3, capsize=5.0)\n",
    "plt.errorbar(list_of_states, \n",
    "             state_means_pq, \n",
    "             yerr=1.96*state_stds_pq_ex2_warp_rao, \n",
    "             linestyle='', color='b', alpha=0.3, capsize=5.0)\n",
    "plt.ylim(0, 1)\n",
    "plt.legend()\n",
    "plt.savefig(Path('figs') / f'survey_ex2_{space}_mrp.png')\n",
    "plt.show()"
   ]
  },
  {
   "cell_type": "code",
   "execution_count": 147,
   "metadata": {},
   "outputs": [],
   "source": [
    "# print(np.sum((state_stds_pq-state_stds_mrp)**2))\n",
    "# print(np.sum((state_stds_qp-state_stds_mrp)**2))\n",
    "\n",
    "# print(np.sum((state_means_pq-state_means_mrp)**2))\n",
    "# print(np.sum((state_means_qp-state_means_mrp)**2))"
   ]
  },
  {
   "cell_type": "markdown",
   "metadata": {
    "id": "uq2r-A9KlZNX"
   },
   "source": [
    "### Effective sample size"
   ]
  },
  {
   "cell_type": "code",
   "execution_count": 148,
   "metadata": {},
   "outputs": [],
   "source": [
    "hmc_points_tsc = np.squeeze(np.array(pd.read_pickle(tsc_path /'hmc_points.pickle')))\n",
    "hmc_points_ex2_warp = np.squeeze(np.array(pd.read_pickle(ex2_warp_path / 'hmc_points.pickle')))\n",
    "hmc_points_ex2_warp_rao = np.squeeze(np.array(pd.read_pickle(ex2_warp_rao_path / 'hmc_points.pickle')))"
   ]
  },
  {
   "cell_type": "code",
   "execution_count": 149,
   "metadata": {},
   "outputs": [],
   "source": [
    "def autocor(x, t):\n",
    "    n = x.shape[0]\n",
    "    mu = np.mean(x, axis=0)\n",
    "    sigma2 = np.var(x, axis=0)\n",
    "    numer = np.sum((x[:(n-t),:]-mu) * (x[t:,:]-mu), axis=0)\n",
    "    return numer/((n-t)*sigma2)\n",
    "\n",
    "def neff(x):\n",
    "    n = x.shape[0]\n",
    "    d = x.shape[1]\n",
    "    autocor_arr = np.zeros((n, d))\n",
    "    dim_to_set_to_0 = []\n",
    "    for t in range(1, n):\n",
    "        autocor_arr[t-1,:] = autocor(x, t)\n",
    "        if len(dim_to_set_to_0) > 0:\n",
    "            autocor_arr[t-1, dim_to_set_to_0] = 0\n",
    "        if t > 1:\n",
    "            for d_i in range(d):\n",
    "                if autocor_arr[t-1, d_i] + autocor_arr[t-2, d_i] < 0:\n",
    "                    autocor_arr[t-1, d_i] = 0\n",
    "                    autocor_arr[t-2, d_i] = 0\n",
    "                    if d_i not in dim_to_set_to_0:\n",
    "                        dim_to_set_to_0.append(d_i)\n",
    "            if len(dim_to_set_to_0) == d:\n",
    "                break\n",
    "    return n/(1+2*np.sum(autocor_arr, axis=0))"
   ]
  },
  {
   "cell_type": "code",
   "execution_count": 150,
   "metadata": {},
   "outputs": [
    {
     "name": "stdout",
     "output_type": "stream",
     "text": [
      "0 0.12056227851225085\n",
      "1 0.10987926615879824\n",
      "2 0.10475345277534073\n",
      "3 0.10575799694883076\n",
      "4 0.10938319459609418\n"
     ]
    }
   ],
   "source": [
    "list_of_checkpt = [500, 1000, 2000, 5000, 10000] #, 20000, 30000, 50000, 100000]\n",
    "num_dim = hmc_points_tsc.shape[1]\n",
    "neff_list_ex2_warp = np.zeros((len(list_of_checkpt), num_dim))\n",
    "\n",
    "for i in range(len(list_of_checkpt)):\n",
    "    idx = list_of_checkpt[i]\n",
    "    neff_list_ex2_warp[i, :] = neff(hmc_points_ex2_warp[:idx, :])\n",
    "    print(i, np.mean(neff_list_ex2_warp[i,:]/idx))"
   ]
  },
  {
   "cell_type": "code",
   "execution_count": 151,
   "metadata": {},
   "outputs": [
    {
     "name": "stdout",
     "output_type": "stream",
     "text": [
      "0 0.12084213228718658\n",
      "1 0.11356433150765753\n",
      "2 0.1034494227936694\n",
      "3 0.07790795982080034\n",
      "4 0.06632075994858459\n"
     ]
    }
   ],
   "source": [
    "list_of_checkpt = [500, 1000, 2000, 5000, 10000] #, 20000, 30000, 50000, 100000]\n",
    "num_dim = hmc_points_tsc.shape[1]\n",
    "neff_list_ex2_warp_rao = np.zeros((len(list_of_checkpt), num_dim))\n",
    "\n",
    "for i in range(len(list_of_checkpt)):\n",
    "    idx = list_of_checkpt[i]\n",
    "    neff_list_ex2_warp_rao[i, :] = neff(hmc_points_ex2_warp_rao[:idx, :])\n",
    "    print(i, np.mean(neff_list_ex2_warp_rao[i,:]/idx))"
   ]
  },
  {
   "cell_type": "code",
   "execution_count": 117,
   "metadata": {},
   "outputs": [
    {
     "name": "stdout",
     "output_type": "stream",
     "text": [
      "0 0.11442116784158353\n",
      "1 0.10079683656785997\n",
      "2 0.09429095674462086\n",
      "3 0.09266899854655342\n",
      "4 0.09452942423417489\n"
     ]
    }
   ],
   "source": [
    "neff_list_tsc = np.zeros((len(list_of_checkpt), num_dim))\n",
    "\n",
    "for i in range(len(list_of_checkpt)):\n",
    "    idx = list_of_checkpt[i]\n",
    "    neff_list_tsc[i, :] = neff(hmc_points_tsc[:idx, :])\n",
    "    print(i, np.mean(neff_list_tsc[i,:]/idx))"
   ]
  },
  {
   "cell_type": "code",
   "execution_count": 152,
   "metadata": {},
   "outputs": [],
   "source": [
    "np.savetxt('results/neff_list_tsc.csv', neff_list_tsc)\n",
    "np.savetxt('results/neff_list_ex2_warp.csv', neff_list_ex2_warp)\n",
    "np.savetxt('results/neff_list_ex2_warp_rao.csv', neff_list_ex2_warp_rao)"
   ]
  },
  {
   "cell_type": "code",
   "execution_count": 153,
   "metadata": {},
   "outputs": [],
   "source": [
    "neff_list_tsc = np.genfromtxt('results/neff_list_tsc.csv')\n",
    "neff_list_ex2_warp = np.genfromtxt('results/neff_list_ex2_warp.csv')\n",
    "neff_list_ex2_warp_rao = np.genfromtxt('results/neff_list_ex2_warp_rao.csv')\n",
    "list_of_checkpt = [500, 1000, 2000, 5000, 10000] #, 20000, 30000, 50000, 100000]"
   ]
  },
  {
   "cell_type": "code",
   "execution_count": 154,
   "metadata": {},
   "outputs": [
    {
     "data": {
      "image/png": "[encoded data removed]",
      "text/plain": [
       "<Figure size 432x288 with 1 Axes>"
      ]
     },
     "metadata": {
      "needs_background": "light"
     },
     "output_type": "display_data"
    }
   ],
   "source": [
    "import matplotlib.pylab as pylab\n",
    "\n",
    "# params = {'legend.fontsize': 'x-large',\n",
    "#          'axes.labelsize': 'x-large',\n",
    "#          'axes.titlesize':'x-large',\n",
    "#          'xtick.labelsize':'x-large',\n",
    "#          'ytick.labelsize':'x-large'}\n",
    "# pylab.rcParams.update(params)\n",
    "\n",
    "plt.plot(list_of_checkpt, \n",
    "         np.mean(neff_list_tsc, axis=1)/np.array(list_of_checkpt),\n",
    "         marker='o', markersize=8, color='b',\n",
    "         label='TSC')\n",
    "plt.plot(list_of_checkpt, \n",
    "         np.mean(neff_list_ex2_warp, axis=1)/np.array(list_of_checkpt),\n",
    "         marker='o', markersize=8, color='r',\n",
    "         label=r'Ex$^2$MCMC')\n",
    "plt.plot(list_of_checkpt, \n",
    "         np.mean(neff_list_ex2_warp_rao, axis=1)/np.array(list_of_checkpt),\n",
    "         marker='o', markersize=8, color='g',\n",
    "         label=r'Ex$^2$MCMC, Rao-Blackwellized')\n",
    "\n",
    "plt.legend()\n",
    "plt.ylabel('ESS/total samples')\n",
    "plt.xlabel('Epoch')\n",
    "plt.savefig(Path('figs') / 'survey_ess.png')"
   ]
  },
  {
   "cell_type": "markdown",
   "metadata": {},
   "source": [
    "# THE END"
   ]
  },
  {
   "cell_type": "code",
   "execution_count": null,
   "metadata": {},
   "outputs": [],
   "source": []
  },
  {
   "cell_type": "markdown",
   "metadata": {
    "id": "H9J1R-0zlZNX"
   },
   "source": [
    "## Transform Weighted Data and Run Methods"
   ]
  },
  {
   "cell_type": "code",
   "execution_count": null,
   "metadata": {
    "id": "DTGMd-0GlZNX"
   },
   "outputs": [],
   "source": [
    "x_weighted = []\n",
    "y_weighted = []\n",
    "state = 0\n",
    "age = 50\n",
    "eth = 56\n",
    "educ = 60\n",
    "male_eth = 65\n",
    "educ_age = 73\n",
    "educ_eth = 103\n",
    "for i in range(1, len(cces)+1):\n",
    "    x_i = np.zeros(128)\n",
    "    eth_idx = data_to_idx[cces_weighted.loc[i,'eth']]\n",
    "    age_idx = data_to_idx[cces_weighted.loc[i,'age']]\n",
    "    educ_idx = data_to_idx[cces_weighted.loc[i,'educ']]\n",
    "    x_i[data_to_idx[cces_weighted.loc[i,'state.x']]] = 1\n",
    "    x_i[age_idx] = 1\n",
    "    x_i[eth_idx] = 1\n",
    "    x_i[educ_idx] = 1\n",
    "    \n",
    "    is_male = int(cces_weighted.loc[i,'male'] + 0.5)\n",
    "    male_eth_idx = male_eth + is_male * 4 + (eth_idx-eth) \n",
    "    educ_age_idx = educ_age + (educ_idx-educ) * 6 + (age_idx-age)\n",
    "    educ_eth_idx = educ_eth + (educ_idx-educ) * 4 + (eth_idx-eth)\n",
    "    x_i[male_eth_idx] = 1\n",
    "    x_i[educ_age_idx] = 1\n",
    "    x_i[educ_eth_idx] = 1\n",
    "    \n",
    "    x_i[123] = is_male\n",
    "    x_i[124] = int(cces_weighted.loc[i,'region'] == 'South')\n",
    "    x_i[125] = int(cces_weighted.loc[i,'region'] == 'North Central')\n",
    "    x_i[126] = int(cces_weighted.loc[i,'region'] == 'West')\n",
    "    x_i[127] = cces_weighted.loc[i,'repvote']\n",
    "    \n",
    "    x_weighted.append(x_i)\n",
    "    y_weighted.append(cces_weighted.loc[i,'abortion'])\n",
    "\n",
    "x_weighted = np.array(x_weighted, dtype=np.float32)\n",
    "y_weighted = np.array(y_weighted, dtype=np.float32)"
   ]
  },
  {
   "cell_type": "code",
   "execution_count": null,
   "metadata": {
    "id": "Wk1ZLoK7lZNX"
   },
   "outputs": [],
   "source": []
  },
  {
   "cell_type": "code",
   "execution_count": null,
   "metadata": {
    "id": "Ye0GIzrHlZNY"
   },
   "outputs": [],
   "source": []
  },
  {
   "cell_type": "code",
   "execution_count": null,
   "metadata": {
    "id": "mdsqYqEklZNY"
   },
   "outputs": [],
   "source": []
  },
  {
   "cell_type": "code",
   "execution_count": null,
   "metadata": {
    "id": "lt3895MAlZNY"
   },
   "outputs": [],
   "source": []
  },
  {
   "cell_type": "code",
   "execution_count": null,
   "metadata": {
    "id": "cyL2wikUlZNY"
   },
   "outputs": [],
   "source": []
  },
  {
   "cell_type": "code",
   "execution_count": null,
   "metadata": {
    "id": "H4EqDBa6lZNY"
   },
   "outputs": [],
   "source": []
  },
  {
   "cell_type": "code",
   "execution_count": null,
   "metadata": {
    "id": "cz_Oi6QSlZNY"
   },
   "outputs": [],
   "source": []
  },
  {
   "cell_type": "code",
   "execution_count": null,
   "metadata": {
    "id": "XXllZH1flZNY"
   },
   "outputs": [],
   "source": []
  },
  {
   "cell_type": "code",
   "execution_count": null,
   "metadata": {
    "id": "lWp9bldolZNY",
    "outputId": "ddb1fb0e-cb3e-4990-f712-9673148aff63"
   },
   "outputs": [],
   "source": [
    "tf.nn.sigmoid_cross_entropy_with_logits(logits=[[1.,9.],[1.,9.]], labels=[[0.,1.],[1.,0.]])"
   ]
  },
  {
   "cell_type": "markdown",
   "metadata": {
    "id": "PiwjZ0FdlZNY"
   },
   "source": [
    "\n",
    "Define a variational distribution q(alpha; phi) \\\n",
    "Define probabilistic model p(y|alpha; x, theta) \\\n",
    "Define prior p(alpha; theta) \\\n",
    "phi and theta are trainable by gradient methods \\\n",
    "\\\n",
    "for batch_x in x: \n",
    "   * sample alpha from q \n",
    "   * compute logpx_z = log p(y|alpha; batch_x, theta) \n",
    "   * compute logpz = log p(z; theta) \n",
    "   * compute logqz_x = log q(alpha; phi) \n",
    "   * elbo = logpx_z + logpz - logqz_x \n",
    "   * input -elbo as the objective into the autodiff. function\n",
    "    \n",
    "How to define q(alpha; phi):\n",
    "* Gaussian with diagonal covariance\n",
    "* In a separate implementation, q can also be a flow-based dist.\n",
    "\n",
    "How to define p(alpha; theta):\n",
    "* A number of Gaussian, same as in the document\n",
    "\n",
    "How to define p(y|alpha; x, theta):\n",
    "* The goal is that p(y|...) = inv_logit(alpha_1 + ... + alpha_m)\n",
    "* Note that we do not want to loop over x, and decide which \n",
    "  alpha (like which state/education level) does that x_i belong to\n",
    "* Map x to a multi-hot vector v, which is sparse, and element-wise \n",
    "  multiply v with alpha (like turning on and off which alpha_i is \n",
    "  relevant)\n"
   ]
  },
  {
   "cell_type": "markdown",
   "metadata": {
    "id": "8Z1FxTJOlZNZ"
   },
   "source": [
    "Define a variational distribution q(alpha; phi) \\\n",
    "Define probabilistic model p(y|alpha; x, theta) \\\n",
    "Define prior p(alpha; theta) \\\n",
    "Define HMC target p(alpha|y; theta) or p(eps|y; theta) \\\n",
    "phi and theta are trainable by gradient methods\n",
    "\n",
    "for batch_x in x:\n",
    "\n",
    "How to define p(alpha|y; theta):\n",
    "* p(alpha|y; theta) is proportional to p(alpha; theta) p(y|alpha; x, theta)"
   ]
  },
  {
   "cell_type": "code",
   "execution_count": null,
   "metadata": {
    "id": "Mf1Kb8aalZNZ"
   },
   "outputs": [],
   "source": [
    "import pickle\n",
    "import pandas as pd"
   ]
  },
  {
   "cell_type": "code",
   "execution_count": null,
   "metadata": {
    "id": "SIHxUYvIlZNZ"
   },
   "outputs": [],
   "source": [
    "a = np.reshape(np.array(list(range(24))), (2,3,4))\n",
    "\n",
    "with open('abc.pickle', 'wb') as handle:\n",
    "    pickle.dump(a, handle, protocol=pickle.HIGHEST_PROTOCOL)\n",
    "    \n",
    "pd.read_pickle('abc.pickle')\n"
   ]
  },
  {
   "cell_type": "code",
   "execution_count": null,
   "metadata": {
    "id": "yPq5e3YXlZNZ"
   },
   "outputs": [],
   "source": [
    "def autocor(x, t):\n",
    "    n = x.shape[0]\n",
    "    mu = np.mean(x)\n",
    "    sigma2 = np.var(x)\n",
    "    numer = np.sum((x[:(n-t),:]-mu) * (x[t:,:]-mu))\n",
    "    return numer/((n-t)*sigma2)\n",
    "\n",
    "def neff(x):\n",
    "    n = x.shape[0]\n",
    "    d = x.shape[1]\n",
    "    d_i = 0\n",
    "    autocor_arr = np.zeros((n, d))\n",
    "    for t in range(1, n):\n",
    "        autocor_arr[t-1, :] = autocor(x, t)\n",
    "        if t > 1:\n",
    "            if autocor_arr[t-1, d_i] + autocor_arr[t-2, d_i] < 0:\n",
    "                autocor_arr[t-1, d_i] = 0\n",
    "                autocor_arr[t-2, d_i] = 0\n",
    "                break      \n",
    "    return n/(1+2*np.sum(autocor_arr))\n",
    "\n",
    "space_btw_epochs = 1000\n",
    "num_checkpt = int(hmc_points_warped.shape[0] / space_btw_epochs)\n",
    "num_dim = hmc_points_warped.shape[1]\n",
    "neff_list_orig = np.zeros((num_checkpt, num_dim))\n",
    "\n",
    "for i in range(num_checkpt):\n",
    "    idx = space_btw_epochs * (i+1)\n",
    "    neff_list_orig[i, :] = neff(hmc_points_orig[:idx, :])\n",
    "    print(i, np.mean(neff_list_orig[i,:]/idx))"
   ]
  },
  {
   "cell_type": "code",
   "execution_count": null,
   "metadata": {
    "id": "9axb61YolZNZ"
   },
   "outputs": [],
   "source": []
  },
  {
   "cell_type": "code",
   "execution_count": null,
   "metadata": {
    "id": "6-rUfin9lZNZ"
   },
   "outputs": [],
   "source": []
  }
 ],
 "metadata": {
  "colab": {
   "collapsed_sections": [
    "H9J1R-0zlZNX"
   ],
   "machine_shape": "hm",
   "name": "survey_data.ipynb",
   "provenance": []
  },
  "kernelspec": {
   "display_name": "Python 3",
   "language": "python",
   "name": "python3"
  },
  "language_info": {
   "codemirror_mode": {
    "name": "ipython",
    "version": 3
   },
   "file_extension": ".py",
   "mimetype": "text/x-python",
   "name": "python",
   "nbconvert_exporter": "python",
   "pygments_lexer": "ipython3",
   "version": "3.8.13"
  }
 },
 "nbformat": 4,
 "nbformat_minor": 1
}
